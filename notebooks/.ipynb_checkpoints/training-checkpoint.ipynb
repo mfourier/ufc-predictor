{
 "cells": [
  {
   "cell_type": "markdown",
   "id": "72c1ddc5-bfcd-49f3-8081-58b4fe80d66e",
   "metadata": {},
   "source": [
    "# 🔹UFC Model Training"
   ]
  },
  {
   "cell_type": "markdown",
   "id": "ed2a08a5-6ac5-4f20-8321-87675db3dab3",
   "metadata": {},
   "source": [
    "## 1. Import Libraries and Setup Environment"
   ]
  },
  {
   "cell_type": "code",
   "execution_count": 1,
   "id": "d8f8b9d8",
   "metadata": {},
   "outputs": [],
   "source": [
    "# Import necessary libraries\n",
    "import os\n",
    "import sys\n",
    "import pandas as pd\n",
    "\n",
    "# Get the current working directory\n",
    "current_dir = os.getcwd()\n",
    "\n",
    "# Navigate to the project root\n",
    "project_root = os.path.abspath(os.path.join(current_dir, '..'))\n",
    "\n",
    "# Import from /src\n",
    "sys.path.append(os.path.join(project_root, 'src'))\n",
    "from utils.metrics import *\n",
    "from models.model_factory import *\n",
    "from utils.io_model import *\n",
    "from utils.helpers import *"
   ]
  },
  {
   "cell_type": "markdown",
   "id": "e0a512df",
   "metadata": {},
   "source": [
    "## 2. Load Data"
   ]
  },
  {
   "cell_type": "code",
   "execution_count": 2,
   "id": "efddbda3",
   "metadata": {},
   "outputs": [
    {
     "name": "stdout",
     "output_type": "stream",
     "text": [
      "╔═════════════════════════════════════════════════════════════╗\n",
      "║  Data Training successfully loaded: 5232 rows, 47 columns.  ║\n",
      "╚═════════════════════════════════════════════════════════════╝\n",
      "╔════════════════════════════════════════════════════════════╗\n",
      "║  Data Testing successfully loaded: 1309 rows, 47 columns.  ║\n",
      "╚════════════════════════════════════════════════════════════╝\n"
     ]
    }
   ],
   "source": [
    "# Define the path to the CSV file\n",
    "train_path = os.path.join(project_root, 'data', 'processed', 'ufc_train.csv')\n",
    "test_path = os.path.join(project_root, 'data', 'processed', 'ufc_test.csv')\n",
    "\n",
    "# Load the CSV into a DataFrame\n",
    "ufc_train = pd.read_csv(train_path)\n",
    "ufc_test = pd.read_csv(test_path)\n",
    "\n",
    "print_header(f\"Data Training successfully loaded: {ufc_train.shape[0]} rows, {ufc_train.shape[1]} columns.\")\n",
    "print_header(f\"Data Testing successfully loaded: {ufc_test.shape[0]} rows, {ufc_test.shape[1]} columns.\")"
   ]
  },
  {
   "cell_type": "markdown",
   "id": "ca7322b2",
   "metadata": {},
   "source": [
    "## 3. 🔧 Hyperparameters Tuning 🔧"
   ]
  },
  {
   "cell_type": "code",
   "execution_count": 3,
   "id": "1fc2cbd6",
   "metadata": {},
   "outputs": [],
   "source": [
    "from sklearn.svm import SVC\n",
    "from sklearn.ensemble import RandomForestClassifier, AdaBoostClassifier\n",
    "from sklearn.linear_model import LogisticRegression\n",
    "from sklearn.neighbors import KNeighborsClassifier\n",
    "from sklearn.naive_bayes import GaussianNB\n",
    "from sklearn.model_selection import GridSearchCV\n",
    "from sklearn.metrics import f1_score\n",
    "\n",
    "hyperparameter_tuning = True\n",
    "\n",
    "if hyperparameter_tuning:\n",
    "    model_params = {\n",
    "    \"svm\": (\n",
    "        SVC(probability=True),\n",
    "        {'C': [0.1], 'kernel': ['linear'], 'gamma': ['scale']}\n",
    "    ),\n",
    "    \"random_forest\": (\n",
    "        RandomForestClassifier(),\n",
    "        {'n_estimators': [50, 100, 200], 'max_depth': [5, 10, 20]}\n",
    "    ),\n",
    "    \"logistic_regression\": (\n",
    "        LogisticRegression(),\n",
    "        {'C': [0.001, 0.01, 0.1, 1, 10], 'solver': ['liblinear', 'lbfgs']}\n",
    "    ),\n",
    "    \"knn\": (\n",
    "        KNeighborsClassifier(),\n",
    "        {'n_neighbors': [3, 5, 7, 10], 'weights': ['uniform', 'distance'], 'metric': ['euclidean', 'manhattan']}\n",
    "    ),\n",
    "    \"adaboost\": (\n",
    "        AdaBoostClassifier(),\n",
    "        {'n_estimators': [50, 100, 200], 'learning_rate': [0.01, 0.1, 1.0]}\n",
    "    ),\n",
    "    \"naive_bayes\": (\n",
    "        GaussianNB(),\n",
    "        {'var_smoothing': [1e-9, 1e-8, 1e-7]}\n",
    "    ) }\n",
    "else:\n",
    "    model_params = None # Default Settings"
   ]
  },
  {
   "cell_type": "markdown",
   "id": "443a7063",
   "metadata": {},
   "source": [
    "## 4. 🔹 UFC Machine Learning Training"
   ]
  },
  {
   "cell_type": "markdown",
   "id": "1eaa4135",
   "metadata": {},
   "source": [
    "### 3.2 KNN Model Training"
   ]
  },
  {
   "cell_type": "markdown",
   "id": "e841c166-6b19-4bed-b779-4ed42d23549f",
   "metadata": {},
   "source": [
    "#### 🚀 KNN Training "
   ]
  },
  {
   "cell_type": "code",
   "execution_count": 4,
   "id": "9cbf229d",
   "metadata": {
    "scrolled": true
   },
   "outputs": [
    {
     "name": "stderr",
     "output_type": "stream",
     "text": [
      "INFO:root:[KNN] 🤖 Training...\n"
     ]
    },
    {
     "name": "stdout",
     "output_type": "stream",
     "text": [
      "+---------------------------------------+\n",
      "|  [KNN] 📚 UFC GridSearchCV Training 📚  |\n",
      "+---------------------------------------+\n",
      "Fitting 5 folds for each of 16 candidates, totalling 80 fits\n",
      "[CV 1/5] END metric=euclidean, n_neighbors=3, weights=uniform;, score=0.546 total time=   0.1s\n",
      "[CV 2/5] END metric=euclidean, n_neighbors=3, weights=uniform;, score=0.529 total time=   0.1s\n",
      "[CV 3/5] END metric=euclidean, n_neighbors=3, weights=uniform;, score=0.563 total time=   0.1s\n",
      "[CV 4/5] END metric=euclidean, n_neighbors=3, weights=uniform;, score=0.524 total time=   0.1s\n",
      "[CV 5/5] END metric=euclidean, n_neighbors=3, weights=uniform;, score=0.543 total time=   0.1s\n",
      "[CV 1/5] END metric=euclidean, n_neighbors=3, weights=distance;, score=0.545 total time=   0.0s\n",
      "[CV 2/5] END metric=euclidean, n_neighbors=3, weights=distance;, score=0.528 total time=   0.0s\n",
      "[CV 3/5] END metric=euclidean, n_neighbors=3, weights=distance;, score=0.563 total time=   0.0s\n",
      "[CV 4/5] END metric=euclidean, n_neighbors=3, weights=distance;, score=0.525 total time=   0.0s\n",
      "[CV 5/5] END metric=euclidean, n_neighbors=3, weights=distance;, score=0.542 total time=   0.0s\n",
      "[CV 1/5] END metric=euclidean, n_neighbors=5, weights=uniform;, score=0.558 total time=   0.1s\n",
      "[CV 2/5] END metric=euclidean, n_neighbors=5, weights=uniform;, score=0.535 total time=   0.1s\n",
      "[CV 3/5] END metric=euclidean, n_neighbors=5, weights=uniform;, score=0.572 total time=   0.1s\n",
      "[CV 4/5] END metric=euclidean, n_neighbors=5, weights=uniform;, score=0.546 total time=   0.1s\n",
      "[CV 5/5] END metric=euclidean, n_neighbors=5, weights=uniform;, score=0.557 total time=   0.1s\n",
      "[CV 1/5] END metric=euclidean, n_neighbors=5, weights=distance;, score=0.556 total time=   0.0s\n",
      "[CV 2/5] END metric=euclidean, n_neighbors=5, weights=distance;, score=0.534 total time=   0.0s\n",
      "[CV 3/5] END metric=euclidean, n_neighbors=5, weights=distance;, score=0.573 total time=   0.0s\n",
      "[CV 4/5] END metric=euclidean, n_neighbors=5, weights=distance;, score=0.545 total time=   0.0s\n",
      "[CV 5/5] END metric=euclidean, n_neighbors=5, weights=distance;, score=0.557 total time=   0.0s\n",
      "[CV 1/5] END metric=euclidean, n_neighbors=7, weights=uniform;, score=0.556 total time=   0.1s\n",
      "[CV 2/5] END metric=euclidean, n_neighbors=7, weights=uniform;, score=0.554 total time=   0.1s\n",
      "[CV 3/5] END metric=euclidean, n_neighbors=7, weights=uniform;, score=0.576 total time=   0.1s\n",
      "[CV 4/5] END metric=euclidean, n_neighbors=7, weights=uniform;, score=0.553 total time=   0.1s\n",
      "[CV 5/5] END metric=euclidean, n_neighbors=7, weights=uniform;, score=0.582 total time=   0.1s\n",
      "[CV 1/5] END metric=euclidean, n_neighbors=7, weights=distance;, score=0.556 total time=   0.0s\n",
      "[CV 2/5] END metric=euclidean, n_neighbors=7, weights=distance;, score=0.555 total time=   0.0s\n",
      "[CV 3/5] END metric=euclidean, n_neighbors=7, weights=distance;, score=0.577 total time=   0.0s\n",
      "[CV 4/5] END metric=euclidean, n_neighbors=7, weights=distance;, score=0.554 total time=   0.0s\n",
      "[CV 5/5] END metric=euclidean, n_neighbors=7, weights=distance;, score=0.582 total time=   0.0s\n",
      "[CV 1/5] END metric=euclidean, n_neighbors=10, weights=uniform;, score=0.564 total time=   0.1s\n",
      "[CV 2/5] END metric=euclidean, n_neighbors=10, weights=uniform;, score=0.569 total time=   0.1s\n",
      "[CV 3/5] END metric=euclidean, n_neighbors=10, weights=uniform;, score=0.591 total time=   0.1s\n",
      "[CV 4/5] END metric=euclidean, n_neighbors=10, weights=uniform;, score=0.576 total time=   0.1s\n",
      "[CV 5/5] END metric=euclidean, n_neighbors=10, weights=uniform;, score=0.595 total time=   0.1s\n",
      "[CV 1/5] END metric=euclidean, n_neighbors=10, weights=distance;, score=0.566 total time=   0.0s\n",
      "[CV 2/5] END metric=euclidean, n_neighbors=10, weights=distance;, score=0.563 total time=   0.0s\n",
      "[CV 3/5] END metric=euclidean, n_neighbors=10, weights=distance;, score=0.566 total time=   0.0s\n",
      "[CV 4/5] END metric=euclidean, n_neighbors=10, weights=distance;, score=0.551 total time=   0.0s\n",
      "[CV 5/5] END metric=euclidean, n_neighbors=10, weights=distance;, score=0.586 total time=   0.0s\n",
      "[CV 1/5] END metric=manhattan, n_neighbors=3, weights=uniform;, score=0.527 total time=   0.1s\n",
      "[CV 2/5] END metric=manhattan, n_neighbors=3, weights=uniform;, score=0.521 total time=   0.1s\n",
      "[CV 3/5] END metric=manhattan, n_neighbors=3, weights=uniform;, score=0.562 total time=   0.1s\n",
      "[CV 4/5] END metric=manhattan, n_neighbors=3, weights=uniform;, score=0.546 total time=   0.1s\n",
      "[CV 5/5] END metric=manhattan, n_neighbors=3, weights=uniform;, score=0.515 total time=   0.1s\n",
      "[CV 1/5] END metric=manhattan, n_neighbors=3, weights=distance;, score=0.525 total time=   0.0s\n",
      "[CV 2/5] END metric=manhattan, n_neighbors=3, weights=distance;, score=0.521 total time=   0.0s\n",
      "[CV 3/5] END metric=manhattan, n_neighbors=3, weights=distance;, score=0.565 total time=   0.0s\n",
      "[CV 4/5] END metric=manhattan, n_neighbors=3, weights=distance;, score=0.546 total time=   0.0s\n",
      "[CV 5/5] END metric=manhattan, n_neighbors=3, weights=distance;, score=0.513 total time=   0.0s\n",
      "[CV 1/5] END metric=manhattan, n_neighbors=5, weights=uniform;, score=0.534 total time=   0.1s\n",
      "[CV 2/5] END metric=manhattan, n_neighbors=5, weights=uniform;, score=0.528 total time=   0.1s\n",
      "[CV 3/5] END metric=manhattan, n_neighbors=5, weights=uniform;, score=0.567 total time=   0.1s\n",
      "[CV 4/5] END metric=manhattan, n_neighbors=5, weights=uniform;, score=0.553 total time=   0.1s\n",
      "[CV 5/5] END metric=manhattan, n_neighbors=5, weights=uniform;, score=0.529 total time=   0.1s\n",
      "[CV 1/5] END metric=manhattan, n_neighbors=5, weights=distance;, score=0.535 total time=   0.0s\n",
      "[CV 2/5] END metric=manhattan, n_neighbors=5, weights=distance;, score=0.530 total time=   0.0s\n",
      "[CV 3/5] END metric=manhattan, n_neighbors=5, weights=distance;, score=0.567 total time=   0.0s\n",
      "[CV 4/5] END metric=manhattan, n_neighbors=5, weights=distance;, score=0.554 total time=   0.0s\n",
      "[CV 5/5] END metric=manhattan, n_neighbors=5, weights=distance;, score=0.526 total time=   0.0s\n",
      "[CV 1/5] END metric=manhattan, n_neighbors=7, weights=uniform;, score=0.544 total time=   0.1s\n",
      "[CV 2/5] END metric=manhattan, n_neighbors=7, weights=uniform;, score=0.542 total time=   0.1s\n",
      "[CV 3/5] END metric=manhattan, n_neighbors=7, weights=uniform;, score=0.561 total time=   0.1s\n",
      "[CV 4/5] END metric=manhattan, n_neighbors=7, weights=uniform;, score=0.542 total time=   0.1s\n",
      "[CV 5/5] END metric=manhattan, n_neighbors=7, weights=uniform;, score=0.529 total time=   0.1s\n",
      "[CV 1/5] END metric=manhattan, n_neighbors=7, weights=distance;, score=0.544 total time=   0.0s\n",
      "[CV 2/5] END metric=manhattan, n_neighbors=7, weights=distance;, score=0.543 total time=   0.0s\n",
      "[CV 3/5] END metric=manhattan, n_neighbors=7, weights=distance;, score=0.563 total time=   0.0s\n",
      "[CV 4/5] END metric=manhattan, n_neighbors=7, weights=distance;, score=0.545 total time=   0.0s\n",
      "[CV 5/5] END metric=manhattan, n_neighbors=7, weights=distance;, score=0.527 total time=   0.0s\n",
      "[CV 1/5] END metric=manhattan, n_neighbors=10, weights=uniform;, score=0.574 total time=   0.1s\n",
      "[CV 2/5] END metric=manhattan, n_neighbors=10, weights=uniform;, score=0.573 total time=   0.1s\n",
      "[CV 3/5] END metric=manhattan, n_neighbors=10, weights=uniform;, score=0.559 total time=   0.1s\n",
      "[CV 4/5] END metric=manhattan, n_neighbors=10, weights=uniform;, score=0.563 total time=   0.1s\n",
      "[CV 5/5] END metric=manhattan, n_neighbors=10, weights=uniform;, score=0.553 total time=   0.1s\n",
      "[CV 1/5] END metric=manhattan, n_neighbors=10, weights=distance;, score=0.568 total time=   0.0s\n",
      "[CV 2/5] END metric=manhattan, n_neighbors=10, weights=distance;, score=0.548 total time=   0.0s\n",
      "[CV 3/5] END metric=manhattan, n_neighbors=10, weights=distance;, score=0.556 total time=   0.0s\n",
      "[CV 4/5] END metric=manhattan, n_neighbors=10, weights=distance;, score=0.547 total time=   0.0s\n",
      "[CV 5/5] END metric=manhattan, n_neighbors=10, weights=distance;, score=0.539 total time=   0.0s\n"
     ]
    },
    {
     "name": "stderr",
     "output_type": "stream",
     "text": [
      "INFO:root:[KNN] 🔍 Best Score: 0.5789\n",
      "[KNN] 🔍 Best Params: {'metric': 'euclidean', 'n_neighbors': 10, 'weights': 'uniform'}\n"
     ]
    }
   ],
   "source": [
    "model_name = 'knn'\n",
    "knn_model = model_factory(model_name, ufc_train, model_params)"
   ]
  },
  {
   "cell_type": "markdown",
   "id": "49256938-9b41-494a-8b66-7a4663eb0147",
   "metadata": {},
   "source": [
    "#### KNN Metrics"
   ]
  },
  {
   "cell_type": "code",
   "execution_count": 5,
   "id": "70e199a0-883a-4db8-a0f9-ad93364a3120",
   "metadata": {},
   "outputs": [
    {
     "name": "stdout",
     "output_type": "stream",
     "text": [
      "+------------------------------------------------+\n",
      "|  📊 Starting Evaluation for: Grid Search C V ✅  |\n",
      "+------------------------------------------------+\n",
      "+-------------------------------------------------------------------------------------------------------------+\n",
      "|  🚀 Best Parameters Found with GridSearch: {'metric': 'euclidean', 'n_neighbors': 10, 'weights': 'uniform'}  |\n",
      "+-------------------------------------------------------------------------------------------------------------+\n",
      "+---------------------------------------------------------------------------------------------------+\n",
      "|  🔍 Model Evaluation Metrics:\n",
      "Accuracy: 0.5752\n",
      "Precision: 0.4904\n",
      "Recall: 0.2800\n",
      "F1 score: 0.3565\n",
      "  |\n",
      "+---------------------------------------------------------------------------------------------------+\n",
      "╔════════════════════════╗\n",
      "║  📊 Confusion Matrix:📊  ║\n",
      "╚════════════════════════╝\n"
     ]
    },
    {
     "data": {
      "image/png": "[encoded data removed]",
      "text/plain": [
       "<Figure size 640x480 with 2 Axes>"
      ]
     },
     "metadata": {},
     "output_type": "display_data"
    }
   ],
   "source": [
    "knn_metrics = evaluate_model(knn_model, ufc_test)"
   ]
  },
  {
   "cell_type": "markdown",
   "id": "8a89ba7d",
   "metadata": {},
   "source": [
    "### 3.3 SVM Model "
   ]
  },
  {
   "cell_type": "markdown",
   "id": "90c60acc-9fa6-47dd-9e2f-dfa89dc3a74b",
   "metadata": {},
   "source": [
    "#### 🚀 SVM Training "
   ]
  },
  {
   "cell_type": "code",
   "execution_count": 6,
   "id": "6f3ab386",
   "metadata": {
    "scrolled": true
   },
   "outputs": [
    {
     "name": "stderr",
     "output_type": "stream",
     "text": [
      "INFO:root:[SVM] 🤖 Training...\n"
     ]
    },
    {
     "name": "stdout",
     "output_type": "stream",
     "text": [
      "+---------------------------------------+\n",
      "|  [SVM] 📚 UFC GridSearchCV Training 📚  |\n",
      "+---------------------------------------+\n",
      "Fitting 5 folds for each of 1 candidates, totalling 5 fits\n",
      "[CV 1/5] END .C=0.1, gamma=scale, kernel=linear;, score=0.607 total time=   5.3s\n",
      "[CV 2/5] END .C=0.1, gamma=scale, kernel=linear;, score=0.604 total time=   4.9s\n",
      "[CV 3/5] END .C=0.1, gamma=scale, kernel=linear;, score=0.595 total time=   5.0s\n",
      "[CV 4/5] END .C=0.1, gamma=scale, kernel=linear;, score=0.594 total time=   4.9s\n",
      "[CV 5/5] END .C=0.1, gamma=scale, kernel=linear;, score=0.587 total time=   5.0s\n"
     ]
    },
    {
     "name": "stderr",
     "output_type": "stream",
     "text": [
      "INFO:root:[SVM] 🔍 Best Score: 0.5973\n",
      "[SVM] 🔍 Best Params: {'C': 0.1, 'gamma': 'scale', 'kernel': 'linear'}\n"
     ]
    }
   ],
   "source": [
    "model_name = 'svm'\n",
    "svm_model = model_factory(model_name, ufc_train, model_params)"
   ]
  },
  {
   "cell_type": "markdown",
   "id": "effac092-0e21-4b2b-aa53-9121d942fa2e",
   "metadata": {},
   "source": [
    "#### SVM Metrics"
   ]
  },
  {
   "cell_type": "code",
   "execution_count": 8,
   "id": "5ea4ee92-a5a7-480f-8c25-634fb16827e4",
   "metadata": {
    "scrolled": true
   },
   "outputs": [
    {
     "name": "stdout",
     "output_type": "stream",
     "text": [
      "+------------------------------------------------+\n",
      "|  📊 Starting Evaluation for: Grid Search C V ✅  |\n",
      "+------------------------------------------------+\n",
      "+---------------------------------------------------------------------------------------------+\n",
      "|  🚀 Best Parameters Found with GridSearch: {'C': 0.1, 'gamma': 'scale', 'kernel': 'linear'}  |\n",
      "+---------------------------------------------------------------------------------------------+\n",
      "+---------------------------------------------------------------------------------------------------+\n",
      "|  🔍 Model Evaluation Metrics:\n",
      "Accuracy: 0.6020\n",
      "Precision: 0.6495\n",
      "Recall: 0.1145\n",
      "F1 score: 0.1947\n",
      "  |\n",
      "+---------------------------------------------------------------------------------------------------+\n",
      "╔════════════════════════╗\n",
      "║  📊 Confusion Matrix:📊  ║\n",
      "╚════════════════════════╝\n"
     ]
    },
    {
     "data": {
      "image/png": "[encoded data removed]",
      "text/plain": [
       "<Figure size 640x480 with 2 Axes>"
      ]
     },
     "metadata": {},
     "output_type": "display_data"
    }
   ],
   "source": [
    "svm_metrics = evaluate_model(svm_model, ufc_test)"
   ]
  },
  {
   "cell_type": "markdown",
   "id": "03b7bf14",
   "metadata": {},
   "source": [
    "### 3.4 Logistic Regression Model"
   ]
  },
  {
   "cell_type": "markdown",
   "id": "26c55350-bfcf-4457-8462-a4daf948ff27",
   "metadata": {},
   "source": [
    "#### 🚀 Logistic Regression Training"
   ]
  },
  {
   "cell_type": "code",
   "execution_count": 10,
   "id": "87b0b4ad-caad-4c7e-aad6-a6c5772f30c3",
   "metadata": {},
   "outputs": [
    {
     "name": "stderr",
     "output_type": "stream",
     "text": [
      "INFO:root:[LOGISTIC_REGRESSION] 🤖 Training...\n"
     ]
    },
    {
     "name": "stdout",
     "output_type": "stream",
     "text": [
      "+-------------------------------------------------------+\n",
      "|  [LOGISTIC_REGRESSION] 📚 UFC GridSearchCV Training 📚  |\n",
      "+-------------------------------------------------------+\n",
      "Fitting 5 folds for each of 10 candidates, totalling 50 fits\n",
      "[CV 1/5] END .........C=0.001, solver=liblinear;, score=0.600 total time=   0.0s\n",
      "[CV 2/5] END .........C=0.001, solver=liblinear;, score=0.586 total time=   0.0s\n",
      "[CV 3/5] END .........C=0.001, solver=liblinear;, score=0.619 total time=   0.0s\n",
      "[CV 4/5] END .........C=0.001, solver=liblinear;, score=0.589 total time=   0.0s\n",
      "[CV 5/5] END .........C=0.001, solver=liblinear;, score=0.598 total time=   0.0s\n",
      "[CV 1/5] END .............C=0.001, solver=lbfgs;, score=0.603 total time=   0.0s\n",
      "[CV 2/5] END .............C=0.001, solver=lbfgs;, score=0.589 total time=   0.0s\n",
      "[CV 3/5] END .............C=0.001, solver=lbfgs;, score=0.612 total time=   0.0s\n",
      "[CV 4/5] END .............C=0.001, solver=lbfgs;, score=0.600 total time=   0.0s\n",
      "[CV 5/5] END .............C=0.001, solver=lbfgs;, score=0.597 total time=   0.0s\n",
      "[CV 1/5] END ..........C=0.01, solver=liblinear;, score=0.616 total time=   0.0s\n",
      "[CV 2/5] END ..........C=0.01, solver=liblinear;, score=0.594 total time=   0.0s\n",
      "[CV 3/5] END ..........C=0.01, solver=liblinear;, score=0.614 total time=   0.0s\n",
      "[CV 4/5] END ..........C=0.01, solver=liblinear;, score=0.589 total time=   0.0s\n",
      "[CV 5/5] END ..........C=0.01, solver=liblinear;, score=0.602 total time=   0.0s\n",
      "[CV 1/5] END ..............C=0.01, solver=lbfgs;, score=0.609 total time=   0.0s\n",
      "[CV 2/5] END ..............C=0.01, solver=lbfgs;, score=0.597 total time=   0.0s\n",
      "[CV 3/5] END ..............C=0.01, solver=lbfgs;, score=0.611 total time=   0.0s\n",
      "[CV 4/5] END ..............C=0.01, solver=lbfgs;, score=0.594 total time=   0.0s\n",
      "[CV 5/5] END ..............C=0.01, solver=lbfgs;, score=0.604 total time=   0.0s\n",
      "[CV 1/5] END ...........C=0.1, solver=liblinear;, score=0.618 total time=   0.0s\n",
      "[CV 2/5] END ...........C=0.1, solver=liblinear;, score=0.597 total time=   0.0s\n",
      "[CV 3/5] END ...........C=0.1, solver=liblinear;, score=0.614 total time=   0.0s\n",
      "[CV 4/5] END ...........C=0.1, solver=liblinear;, score=0.597 total time=   0.0s\n",
      "[CV 5/5] END ...........C=0.1, solver=liblinear;, score=0.608 total time=   0.0s\n",
      "[CV 1/5] END ...............C=0.1, solver=lbfgs;, score=0.620 total time=   0.0s\n",
      "[CV 2/5] END ...............C=0.1, solver=lbfgs;, score=0.597 total time=   0.0s\n",
      "[CV 3/5] END ...............C=0.1, solver=lbfgs;, score=0.614 total time=   0.0s\n",
      "[CV 4/5] END ...............C=0.1, solver=lbfgs;, score=0.597 total time=   0.0s\n",
      "[CV 5/5] END ...............C=0.1, solver=lbfgs;, score=0.610 total time=   0.0s\n",
      "[CV 1/5] END .............C=1, solver=liblinear;, score=0.614 total time=   0.1s\n",
      "[CV 2/5] END .............C=1, solver=liblinear;, score=0.599 total time=   0.1s\n",
      "[CV 3/5] END .............C=1, solver=liblinear;, score=0.620 total time=   0.1s\n",
      "[CV 4/5] END .............C=1, solver=liblinear;, score=0.597 total time=   0.1s\n",
      "[CV 5/5] END .............C=1, solver=liblinear;, score=0.616 total time=   0.1s\n",
      "[CV 1/5] END .................C=1, solver=lbfgs;, score=0.613 total time=   0.0s\n",
      "[CV 2/5] END .................C=1, solver=lbfgs;, score=0.599 total time=   0.0s\n",
      "[CV 3/5] END .................C=1, solver=lbfgs;, score=0.620 total time=   0.0s\n",
      "[CV 4/5] END .................C=1, solver=lbfgs;, score=0.597 total time=   0.0s\n",
      "[CV 5/5] END .................C=1, solver=lbfgs;, score=0.616 total time=   0.0s\n",
      "[CV 1/5] END ............C=10, solver=liblinear;, score=0.611 total time=   0.1s\n",
      "[CV 2/5] END ............C=10, solver=liblinear;, score=0.600 total time=   0.1s\n",
      "[CV 3/5] END ............C=10, solver=liblinear;, score=0.616 total time=   0.1s\n",
      "[CV 4/5] END ............C=10, solver=liblinear;, score=0.597 total time=   0.1s\n",
      "[CV 5/5] END ............C=10, solver=liblinear;, score=0.617 total time=   0.1s\n",
      "[CV 1/5] END ................C=10, solver=lbfgs;, score=0.611 total time=   0.0s\n",
      "[CV 2/5] END ................C=10, solver=lbfgs;, score=0.598 total time=   0.0s\n",
      "[CV 3/5] END ................C=10, solver=lbfgs;, score=0.616 total time=   0.0s\n",
      "[CV 4/5] END ................C=10, solver=lbfgs;, score=0.597 total time=   0.0s\n",
      "[CV 5/5] END ................C=10, solver=lbfgs;, score=0.616 total time=   0.0s\n"
     ]
    },
    {
     "name": "stderr",
     "output_type": "stream",
     "text": [
      "INFO:root:[LOGISTIC_REGRESSION] 🔍 Best Score: 0.6089\n",
      "[LOGISTIC_REGRESSION] 🔍 Best Params: {'C': 1, 'solver': 'liblinear'}\n"
     ]
    }
   ],
   "source": [
    "model_name = 'logistic_regression'\n",
    "lr_model = model_factory(model_name, ufc_train, model_params)"
   ]
  },
  {
   "cell_type": "markdown",
   "id": "180bfb98-cc03-450e-8189-acb93b33edbc",
   "metadata": {},
   "source": [
    "#### Logistic Regression Metrics"
   ]
  },
  {
   "cell_type": "code",
   "execution_count": 11,
   "id": "50d31e94-d6b8-4348-91e4-f36888b29f36",
   "metadata": {},
   "outputs": [
    {
     "name": "stdout",
     "output_type": "stream",
     "text": [
      "+------------------------------------------------+\n",
      "|  📊 Starting Evaluation for: Grid Search C V ✅  |\n",
      "+------------------------------------------------+\n",
      "+----------------------------------------------------------------------------+\n",
      "|  🚀 Best Parameters Found with GridSearch: {'C': 1, 'solver': 'liblinear'}  |\n",
      "+----------------------------------------------------------------------------+\n",
      "+---------------------------------------------------------------------------------------------------+\n",
      "|  🔍 Model Evaluation Metrics:\n",
      "Accuracy: 0.6280\n",
      "Precision: 0.6113\n",
      "Recall: 0.3145\n",
      "F1 score: 0.4154\n",
      "  |\n",
      "+---------------------------------------------------------------------------------------------------+\n",
      "╔════════════════════════╗\n",
      "║  📊 Confusion Matrix:📊  ║\n",
      "╚════════════════════════╝\n"
     ]
    },
    {
     "data": {
      "image/png": "[encoded data removed]",
      "text/plain": [
       "<Figure size 640x480 with 2 Axes>"
      ]
     },
     "metadata": {},
     "output_type": "display_data"
    }
   ],
   "source": [
    "lr_metrics = evaluate_model(lr_model, ufc_test)"
   ]
  },
  {
   "cell_type": "markdown",
   "id": "a9e4e2e3",
   "metadata": {},
   "source": [
    "### 3.5 Random Forest Model"
   ]
  },
  {
   "cell_type": "markdown",
   "id": "b3ecd028-62af-4a56-badd-57f299aac14e",
   "metadata": {},
   "source": [
    "#### 🚀 Random Forest Training"
   ]
  },
  {
   "cell_type": "code",
   "execution_count": 12,
   "id": "054947b3",
   "metadata": {},
   "outputs": [
    {
     "name": "stderr",
     "output_type": "stream",
     "text": [
      "INFO:root:[RANDOM_FOREST] 🤖 Training...\n"
     ]
    },
    {
     "name": "stdout",
     "output_type": "stream",
     "text": [
      "+-------------------------------------------------+\n",
      "|  [RANDOM_FOREST] 📚 UFC GridSearchCV Training 📚  |\n",
      "+-------------------------------------------------+\n",
      "Fitting 5 folds for each of 9 candidates, totalling 45 fits\n",
      "[CV 1/5] END ......max_depth=3, n_estimators=10;, score=0.597 total time=   0.0s\n",
      "[CV 2/5] END ......max_depth=3, n_estimators=10;, score=0.590 total time=   0.0s\n",
      "[CV 3/5] END ......max_depth=3, n_estimators=10;, score=0.595 total time=   0.0s\n",
      "[CV 4/5] END ......max_depth=3, n_estimators=10;, score=0.582 total time=   0.0s\n",
      "[CV 5/5] END ......max_depth=3, n_estimators=10;, score=0.588 total time=   0.0s\n",
      "[CV 1/5] END ......max_depth=3, n_estimators=50;, score=0.593 total time=   0.2s\n",
      "[CV 2/5] END ......max_depth=3, n_estimators=50;, score=0.592 total time=   0.2s\n",
      "[CV 3/5] END ......max_depth=3, n_estimators=50;, score=0.587 total time=   0.2s\n",
      "[CV 4/5] END ......max_depth=3, n_estimators=50;, score=0.586 total time=   0.2s\n",
      "[CV 5/5] END ......max_depth=3, n_estimators=50;, score=0.591 total time=   0.2s\n",
      "[CV 1/5] END .....max_depth=3, n_estimators=100;, score=0.586 total time=   0.3s\n",
      "[CV 2/5] END .....max_depth=3, n_estimators=100;, score=0.586 total time=   0.4s\n",
      "[CV 3/5] END .....max_depth=3, n_estimators=100;, score=0.588 total time=   0.3s\n",
      "[CV 4/5] END .....max_depth=3, n_estimators=100;, score=0.579 total time=   0.4s\n",
      "[CV 5/5] END .....max_depth=3, n_estimators=100;, score=0.591 total time=   0.4s\n",
      "[CV 1/5] END ......max_depth=5, n_estimators=10;, score=0.602 total time=   0.1s\n",
      "[CV 2/5] END ......max_depth=5, n_estimators=10;, score=0.595 total time=   0.1s\n",
      "[CV 3/5] END ......max_depth=5, n_estimators=10;, score=0.606 total time=   0.1s\n",
      "[CV 4/5] END ......max_depth=5, n_estimators=10;, score=0.595 total time=   0.1s\n",
      "[CV 5/5] END ......max_depth=5, n_estimators=10;, score=0.586 total time=   0.1s\n",
      "[CV 1/5] END ......max_depth=5, n_estimators=50;, score=0.604 total time=   0.3s\n",
      "[CV 2/5] END ......max_depth=5, n_estimators=50;, score=0.601 total time=   0.2s\n",
      "[CV 3/5] END ......max_depth=5, n_estimators=50;, score=0.609 total time=   0.2s\n",
      "[CV 4/5] END ......max_depth=5, n_estimators=50;, score=0.610 total time=   0.2s\n",
      "[CV 5/5] END ......max_depth=5, n_estimators=50;, score=0.605 total time=   0.3s\n",
      "[CV 1/5] END .....max_depth=5, n_estimators=100;, score=0.600 total time=   0.5s\n",
      "[CV 2/5] END .....max_depth=5, n_estimators=100;, score=0.601 total time=   0.5s\n",
      "[CV 3/5] END .....max_depth=5, n_estimators=100;, score=0.606 total time=   0.5s\n",
      "[CV 4/5] END .....max_depth=5, n_estimators=100;, score=0.598 total time=   0.5s\n",
      "[CV 5/5] END .....max_depth=5, n_estimators=100;, score=0.604 total time=   0.5s\n",
      "[CV 1/5] END .....max_depth=10, n_estimators=10;, score=0.577 total time=   0.1s\n",
      "[CV 2/5] END .....max_depth=10, n_estimators=10;, score=0.578 total time=   0.1s\n",
      "[CV 3/5] END .....max_depth=10, n_estimators=10;, score=0.601 total time=   0.1s\n",
      "[CV 4/5] END .....max_depth=10, n_estimators=10;, score=0.564 total time=   0.1s\n",
      "[CV 5/5] END .....max_depth=10, n_estimators=10;, score=0.594 total time=   0.1s\n",
      "[CV 1/5] END .....max_depth=10, n_estimators=50;, score=0.604 total time=   0.4s\n",
      "[CV 2/5] END .....max_depth=10, n_estimators=50;, score=0.601 total time=   0.4s\n",
      "[CV 3/5] END .....max_depth=10, n_estimators=50;, score=0.605 total time=   0.4s\n",
      "[CV 4/5] END .....max_depth=10, n_estimators=50;, score=0.604 total time=   0.4s\n",
      "[CV 5/5] END .....max_depth=10, n_estimators=50;, score=0.609 total time=   0.4s\n",
      "[CV 1/5] END ....max_depth=10, n_estimators=100;, score=0.594 total time=   0.9s\n",
      "[CV 2/5] END ....max_depth=10, n_estimators=100;, score=0.594 total time=   0.8s\n",
      "[CV 3/5] END ....max_depth=10, n_estimators=100;, score=0.610 total time=   0.8s\n",
      "[CV 4/5] END ....max_depth=10, n_estimators=100;, score=0.604 total time=   0.8s\n",
      "[CV 5/5] END ....max_depth=10, n_estimators=100;, score=0.605 total time=   0.9s\n"
     ]
    },
    {
     "name": "stderr",
     "output_type": "stream",
     "text": [
      "INFO:root:[RANDOM_FOREST] 🔍 Best Score: 0.6057\n",
      "[RANDOM_FOREST] 🔍 Best Params: {'max_depth': 5, 'n_estimators': 50}\n"
     ]
    }
   ],
   "source": [
    "model_name = 'random_forest'\n",
    "rf_model = model_factory(model_name, ufc_train)"
   ]
  },
  {
   "cell_type": "markdown",
   "id": "653e37f0-da84-4b55-82b7-5d4c4920587d",
   "metadata": {},
   "source": [
    "#### Random Forest Metrics"
   ]
  },
  {
   "cell_type": "code",
   "execution_count": 13,
   "id": "5e0783b7-2a4c-4bc8-a275-04ffb42752c4",
   "metadata": {},
   "outputs": [
    {
     "name": "stdout",
     "output_type": "stream",
     "text": [
      "+------------------------------------------------+\n",
      "|  📊 Starting Evaluation for: Grid Search C V ✅  |\n",
      "+------------------------------------------------+\n",
      "+---------------------------------------------------------------------------------+\n",
      "|  🚀 Best Parameters Found with GridSearch: {'max_depth': 5, 'n_estimators': 50}  |\n",
      "+---------------------------------------------------------------------------------+\n",
      "+---------------------------------------------------------------------------------------------------+\n",
      "|  🔍 Model Evaluation Metrics:\n",
      "Accuracy: 0.5966\n",
      "Precision: 0.6122\n",
      "Recall: 0.1091\n",
      "F1 score: 0.1852\n",
      "  |\n",
      "+---------------------------------------------------------------------------------------------------+\n",
      "╔════════════════════════╗\n",
      "║  📊 Confusion Matrix:📊  ║\n",
      "╚════════════════════════╝\n"
     ]
    },
    {
     "data": {
      "image/png": "[encoded data removed]",
      "text/plain": [
       "<Figure size 640x480 with 2 Axes>"
      ]
     },
     "metadata": {},
     "output_type": "display_data"
    }
   ],
   "source": [
    "rf_metrics = evaluate_model(rf_model, ufc_test)"
   ]
  },
  {
   "cell_type": "markdown",
   "id": "c64482a9",
   "metadata": {},
   "source": [
    "### 3.6 AdaBoost Model"
   ]
  },
  {
   "cell_type": "markdown",
   "id": "1d5f617e-560d-4847-bc2a-8661f8e9fa67",
   "metadata": {},
   "source": [
    "#### 🚀 AdaBoost Training"
   ]
  },
  {
   "cell_type": "code",
   "execution_count": 14,
   "id": "44a936b9",
   "metadata": {},
   "outputs": [
    {
     "name": "stderr",
     "output_type": "stream",
     "text": [
      "INFO:root:[ADABOOST] 🤖 Training...\n"
     ]
    },
    {
     "name": "stdout",
     "output_type": "stream",
     "text": [
      "+--------------------------------------------+\n",
      "|  [ADABOOST] 📚 UFC GridSearchCV Training 📚  |\n",
      "+--------------------------------------------+\n",
      "Fitting 5 folds for each of 9 candidates, totalling 45 fits\n",
      "[CV 1/5] END learning_rate=0.01, n_estimators=10;, score=0.580 total time=   0.1s\n",
      "[CV 2/5] END learning_rate=0.01, n_estimators=10;, score=0.581 total time=   0.1s\n",
      "[CV 3/5] END learning_rate=0.01, n_estimators=10;, score=0.580 total time=   0.1s\n",
      "[CV 4/5] END learning_rate=0.01, n_estimators=10;, score=0.580 total time=   0.1s\n",
      "[CV 5/5] END learning_rate=0.01, n_estimators=10;, score=0.580 total time=   0.1s\n",
      "[CV 1/5] END learning_rate=0.01, n_estimators=50;, score=0.580 total time=   0.5s\n",
      "[CV 2/5] END learning_rate=0.01, n_estimators=50;, score=0.581 total time=   0.5s\n",
      "[CV 3/5] END learning_rate=0.01, n_estimators=50;, score=0.580 total time=   0.5s\n",
      "[CV 4/5] END learning_rate=0.01, n_estimators=50;, score=0.580 total time=   0.5s\n",
      "[CV 5/5] END learning_rate=0.01, n_estimators=50;, score=0.580 total time=   0.5s\n",
      "[CV 1/5] END learning_rate=0.01, n_estimators=100;, score=0.580 total time=   0.9s\n",
      "[CV 2/5] END learning_rate=0.01, n_estimators=100;, score=0.581 total time=   0.9s\n",
      "[CV 3/5] END learning_rate=0.01, n_estimators=100;, score=0.580 total time=   0.9s\n",
      "[CV 4/5] END learning_rate=0.01, n_estimators=100;, score=0.580 total time=   0.9s\n",
      "[CV 5/5] END learning_rate=0.01, n_estimators=100;, score=0.580 total time=   0.9s\n",
      "[CV 1/5] END learning_rate=1.0, n_estimators=10;, score=0.587 total time=   0.1s\n",
      "[CV 2/5] END learning_rate=1.0, n_estimators=10;, score=0.576 total time=   0.1s\n",
      "[CV 3/5] END learning_rate=1.0, n_estimators=10;, score=0.605 total time=   0.1s\n",
      "[CV 4/5] END learning_rate=1.0, n_estimators=10;, score=0.576 total time=   0.1s\n",
      "[CV 5/5] END learning_rate=1.0, n_estimators=10;, score=0.580 total time=   0.1s\n",
      "[CV 1/5] END learning_rate=1.0, n_estimators=50;, score=0.592 total time=   0.5s\n",
      "[CV 2/5] END learning_rate=1.0, n_estimators=50;, score=0.574 total time=   0.5s\n",
      "[CV 3/5] END learning_rate=1.0, n_estimators=50;, score=0.618 total time=   0.5s\n",
      "[CV 4/5] END learning_rate=1.0, n_estimators=50;, score=0.580 total time=   0.5s\n",
      "[CV 5/5] END learning_rate=1.0, n_estimators=50;, score=0.586 total time=   0.5s\n",
      "[CV 1/5] END learning_rate=1.0, n_estimators=100;, score=0.595 total time=   0.9s\n",
      "[CV 2/5] END learning_rate=1.0, n_estimators=100;, score=0.592 total time=   0.9s\n",
      "[CV 3/5] END learning_rate=1.0, n_estimators=100;, score=0.609 total time=   0.9s\n",
      "[CV 4/5] END learning_rate=1.0, n_estimators=100;, score=0.594 total time=   0.9s\n",
      "[CV 5/5] END learning_rate=1.0, n_estimators=100;, score=0.604 total time=   0.9s\n",
      "[CV 1/5] END learning_rate=10.0, n_estimators=10;, score=0.420 total time=   0.1s\n",
      "[CV 2/5] END learning_rate=10.0, n_estimators=10;, score=0.420 total time=   0.1s\n",
      "[CV 3/5] END learning_rate=10.0, n_estimators=10;, score=0.420 total time=   0.1s\n",
      "[CV 4/5] END learning_rate=10.0, n_estimators=10;, score=0.419 total time=   0.1s\n",
      "[CV 5/5] END learning_rate=10.0, n_estimators=10;, score=0.423 total time=   0.1s\n",
      "[CV 1/5] END learning_rate=10.0, n_estimators=50;, score=0.581 total time=   0.5s\n",
      "[CV 2/5] END learning_rate=10.0, n_estimators=50;, score=0.581 total time=   0.5s\n",
      "[CV 3/5] END learning_rate=10.0, n_estimators=50;, score=0.583 total time=   0.5s\n",
      "[CV 4/5] END learning_rate=10.0, n_estimators=50;, score=0.581 total time=   0.5s\n",
      "[CV 5/5] END learning_rate=10.0, n_estimators=50;, score=0.580 total time=   0.5s\n",
      "[CV 1/5] END learning_rate=10.0, n_estimators=100;, score=0.581 total time=   0.9s\n",
      "[CV 2/5] END learning_rate=10.0, n_estimators=100;, score=0.581 total time=   0.9s\n",
      "[CV 3/5] END learning_rate=10.0, n_estimators=100;, score=0.583 total time=   0.9s\n",
      "[CV 4/5] END learning_rate=10.0, n_estimators=100;, score=0.581 total time=   0.9s\n",
      "[CV 5/5] END learning_rate=10.0, n_estimators=100;, score=0.580 total time=   0.9s\n"
     ]
    },
    {
     "name": "stderr",
     "output_type": "stream",
     "text": [
      "INFO:root:[ADABOOST] 🔍 Best Score: 0.5988\n",
      "[ADABOOST] 🔍 Best Params: {'learning_rate': 1.0, 'n_estimators': 100}\n"
     ]
    }
   ],
   "source": [
    "model_name = 'adaboost'\n",
    "adaboost_model = model_factory(model_name, ufc_train)"
   ]
  },
  {
   "cell_type": "markdown",
   "id": "81d48c7a-6d82-4b28-91ec-7f8b61c1bdc8",
   "metadata": {},
   "source": [
    "#### AdaBoost Metrics"
   ]
  },
  {
   "cell_type": "code",
   "execution_count": 16,
   "id": "f185bc1b-2540-4cc6-abaf-e2f711c494ad",
   "metadata": {},
   "outputs": [
    {
     "name": "stdout",
     "output_type": "stream",
     "text": [
      "+------------------------------------------------+\n",
      "|  📊 Starting Evaluation for: Grid Search C V ✅  |\n",
      "+------------------------------------------------+\n",
      "+----------------------------------------------------------------------------------------+\n",
      "|  🚀 Best Parameters Found with GridSearch: {'learning_rate': 1.0, 'n_estimators': 100}  |\n",
      "+----------------------------------------------------------------------------------------+\n",
      "+---------------------------------------------------------------------------------------------------+\n",
      "|  🔍 Model Evaluation Metrics:\n",
      "Accuracy: 0.6073\n",
      "Precision: 0.5559\n",
      "Recall: 0.3255\n",
      "F1 score: 0.4106\n",
      "  |\n",
      "+---------------------------------------------------------------------------------------------------+\n",
      "╔════════════════════════╗\n",
      "║  📊 Confusion Matrix:📊  ║\n",
      "╚════════════════════════╝\n"
     ]
    },
    {
     "data": {
      "image/png": "[encoded data removed]",
      "text/plain": [
       "<Figure size 640x480 with 2 Axes>"
      ]
     },
     "metadata": {},
     "output_type": "display_data"
    }
   ],
   "source": [
    "adaboost_metrics = evaluate_model(adaboost_model, ufc_test)"
   ]
  },
  {
   "cell_type": "markdown",
   "id": "0f506d2e",
   "metadata": {},
   "source": [
    "### 3.7 Naive Bayes Model"
   ]
  },
  {
   "cell_type": "markdown",
   "id": "05b60712-0ef6-4ce5-b64d-7039ac1240bc",
   "metadata": {},
   "source": [
    "#### 🚀 Naive Bayes Training"
   ]
  },
  {
   "cell_type": "code",
   "execution_count": 17,
   "id": "309d3291",
   "metadata": {},
   "outputs": [
    {
     "name": "stderr",
     "output_type": "stream",
     "text": [
      "INFO:root:[NAIVE_BAYES] 🤖 Training...\n"
     ]
    },
    {
     "name": "stdout",
     "output_type": "stream",
     "text": [
      "+-----------------------------------------------+\n",
      "|  [NAIVE_BAYES] 📚 UFC GridSearchCV Training 📚  |\n",
      "+-----------------------------------------------+\n",
      "Fitting 5 folds for each of 4 candidates, totalling 20 fits\n",
      "[CV 1/5] END ...............var_smoothing=1e-08;, score=0.585 total time=   0.0s\n",
      "[CV 2/5] END ...............var_smoothing=1e-08;, score=0.429 total time=   0.0s\n",
      "[CV 3/5] END ...............var_smoothing=1e-08;, score=0.587 total time=   0.0s\n",
      "[CV 4/5] END ...............var_smoothing=1e-08;, score=0.543 total time=   0.0s\n",
      "[CV 5/5] END ...............var_smoothing=1e-08;, score=0.579 total time=   0.0s\n",
      "[CV 1/5] END ...............var_smoothing=1e-07;, score=0.585 total time=   0.0s\n",
      "[CV 2/5] END ...............var_smoothing=1e-07;, score=0.432 total time=   0.0s\n",
      "[CV 3/5] END ...............var_smoothing=1e-07;, score=0.587 total time=   0.0s\n",
      "[CV 4/5] END ...............var_smoothing=1e-07;, score=0.543 total time=   0.0s\n",
      "[CV 5/5] END ...............var_smoothing=1e-07;, score=0.579 total time=   0.0s\n",
      "[CV 1/5] END ...............var_smoothing=1e-06;, score=0.585 total time=   0.0s\n",
      "[CV 2/5] END ...............var_smoothing=1e-06;, score=0.436 total time=   0.0s\n",
      "[CV 3/5] END ...............var_smoothing=1e-06;, score=0.587 total time=   0.0s\n",
      "[CV 4/5] END ...............var_smoothing=1e-06;, score=0.543 total time=   0.0s\n",
      "[CV 5/5] END ...............var_smoothing=1e-06;, score=0.579 total time=   0.0s\n",
      "[CV 1/5] END ...............var_smoothing=1e-05;, score=0.585 total time=   0.0s\n",
      "[CV 2/5] END ...............var_smoothing=1e-05;, score=0.436 total time=   0.0s\n",
      "[CV 3/5] END ...............var_smoothing=1e-05;, score=0.587 total time=   0.0s\n",
      "[CV 4/5] END ...............var_smoothing=1e-05;, score=0.543 total time=   0.0s\n",
      "[CV 5/5] END ...............var_smoothing=1e-05;, score=0.578 total time=   0.0s\n"
     ]
    },
    {
     "name": "stderr",
     "output_type": "stream",
     "text": [
      "INFO:root:[NAIVE_BAYES] 🔍 Best Score: 0.5461\n",
      "[NAIVE_BAYES] 🔍 Best Params: {'var_smoothing': 1e-06}\n"
     ]
    }
   ],
   "source": [
    "model_name = 'naive_bayes'\n",
    "nb_model = model_factory(model_name, ufc_train)"
   ]
  },
  {
   "cell_type": "markdown",
   "id": "ece1e78a-d149-4790-ac78-96eaffdcff69",
   "metadata": {},
   "source": [
    "#### Naive Bayes Metrics"
   ]
  },
  {
   "cell_type": "code",
   "execution_count": 18,
   "id": "df22375c-77c9-4410-b0e0-fb93c6e67f07",
   "metadata": {},
   "outputs": [
    {
     "name": "stdout",
     "output_type": "stream",
     "text": [
      "+------------------------------------------------+\n",
      "|  📊 Starting Evaluation for: Grid Search C V ✅  |\n",
      "+------------------------------------------------+\n",
      "+---------------------------------------------------------------------+\n",
      "|  🚀 Best Parameters Found with GridSearch: {'var_smoothing': 1e-06}  |\n",
      "+---------------------------------------------------------------------+\n",
      "+---------------------------------------------------------------------------------------------------+\n",
      "|  🔍 Model Evaluation Metrics:\n",
      "Accuracy: 0.5982\n",
      "Precision: 0.5276\n",
      "Recall: 0.4164\n",
      "F1 score: 0.4654\n",
      "  |\n",
      "+---------------------------------------------------------------------------------------------------+\n",
      "╔════════════════════════╗\n",
      "║  📊 Confusion Matrix:📊  ║\n",
      "╚════════════════════════╝\n"
     ]
    },
    {
     "data": {
      "image/png": "[encoded data removed]",
      "text/plain": [
       "<Figure size 640x480 with 2 Axes>"
      ]
     },
     "metadata": {},
     "output_type": "display_data"
    }
   ],
   "source": [
    "nb_metrics = evaluate_model(nb_model, ufc_test)"
   ]
  },
  {
   "cell_type": "markdown",
   "id": "6c98cf48-aef2-4c71-8eb4-e322a367701b",
   "metadata": {},
   "source": [
    "## 4. Save"
   ]
  },
  {
   "cell_type": "code",
   "execution_count": 19,
   "id": "45203ea2-9911-4204-b33b-fce3bfac1839",
   "metadata": {},
   "outputs": [
    {
     "name": "stdout",
     "output_type": "stream",
     "text": [
      "✅ Model saved to: /home/mfourier/ufc-predictor/models/knn_best.pkl\n"
     ]
    }
   ],
   "source": [
    "save_model(knn_model, name='knn_best')"
   ]
  },
  {
   "cell_type": "code",
   "execution_count": 20,
   "id": "32cac345-1f0e-40f1-8f84-765535c040e0",
   "metadata": {},
   "outputs": [
    {
     "name": "stdout",
     "output_type": "stream",
     "text": [
      "✅ Model saved to: /home/mfourier/ufc-predictor/models/svm_best.pkl\n"
     ]
    }
   ],
   "source": [
    "save_model(svm_model, name='svm_best')"
   ]
  },
  {
   "cell_type": "code",
   "execution_count": 21,
   "id": "a1ecfa01-1d2e-4c1e-9650-9c55e1af159f",
   "metadata": {},
   "outputs": [
    {
     "name": "stdout",
     "output_type": "stream",
     "text": [
      "✅ Model saved to: /home/mfourier/ufc-predictor/models/lr_best.pkl\n"
     ]
    }
   ],
   "source": [
    "save_model(lr_model, name='lr_best')"
   ]
  },
  {
   "cell_type": "code",
   "execution_count": 22,
   "id": "77cdf2a0-80ca-447a-8696-fbab8ab6edc0",
   "metadata": {},
   "outputs": [
    {
     "name": "stdout",
     "output_type": "stream",
     "text": [
      "✅ Model saved to: /home/mfourier/ufc-predictor/models/rf_best.pkl\n"
     ]
    }
   ],
   "source": [
    "save_model(rf_model, name='rf_best')"
   ]
  },
  {
   "cell_type": "code",
   "execution_count": 23,
   "id": "745a3062-5c89-4b9b-9232-27b78266c2a6",
   "metadata": {},
   "outputs": [
    {
     "name": "stdout",
     "output_type": "stream",
     "text": [
      "✅ Model saved to: /home/mfourier/ufc-predictor/models/adaboost_best.pkl\n"
     ]
    }
   ],
   "source": [
    "save_model(adaboost_model, name='adaboost_best')"
   ]
  },
  {
   "cell_type": "code",
   "execution_count": 24,
   "id": "fb1ff12a-177e-4d17-9c77-11ad70e860b3",
   "metadata": {},
   "outputs": [
    {
     "name": "stdout",
     "output_type": "stream",
     "text": [
      "✅ Model saved to: /home/mfourier/ufc-predictor/models/nb_best.pkl\n"
     ]
    }
   ],
   "source": [
    "save_model(nb_model, name='nb_best')"
   ]
  },
  {
   "cell_type": "code",
   "execution_count": null,
   "id": "b9f9d4c8-9454-4553-9c20-af1b95daad28",
   "metadata": {},
   "outputs": [],
   "source": []
  }
 ],
 "metadata": {
  "kernelspec": {
   "display_name": "Python 3 (ipykernel)",
   "language": "python",
   "name": "python3"
  },
  "language_info": {
   "codemirror_mode": {
    "name": "ipython",
    "version": 3
   },
   "file_extension": ".py",
   "mimetype": "text/x-python",
   "name": "python",
   "nbconvert_exporter": "python",
   "pygments_lexer": "ipython3",
   "version": "3.13.2"
  }
 },
 "nbformat": 4,
 "nbformat_minor": 5
}
