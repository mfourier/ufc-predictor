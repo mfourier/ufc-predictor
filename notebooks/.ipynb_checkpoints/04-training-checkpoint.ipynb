{
 "cells": [
  {
   "cell_type": "markdown",
   "id": "65fb04bd-eb98-4d39-8b05-238dd112f680",
   "metadata": {},
   "source": [
    "# 🔹 UFC Fight Predictor Model Training"
   ]
  },
  {
   "cell_type": "markdown",
   "id": "fb013c25-a31b-41a5-87f3-e1e07720b8de",
   "metadata": {},
   "source": [
    "<div style=\"text-align: center;\">\n",
    "  🔹 <img src=\"../img/ufc_logo.png\" width=\"50\" /> 🔹\n",
    "</div>"
   ]
  },
  {
   "cell_type": "markdown",
   "id": "ed2a08a5-6ac5-4f20-8321-87675db3dab3",
   "metadata": {},
   "source": [
    "## 1. Import Libraries and Setup Environment"
   ]
  },
  {
   "cell_type": "code",
   "execution_count": 1,
   "id": "d8f8b9d8",
   "metadata": {
    "scrolled": true
   },
   "outputs": [],
   "source": [
    "# Import necessary libraries\n",
    "import os\n",
    "import sys\n",
    "import pandas as pd\n",
    "\n",
    "# Get the current working directory\n",
    "current_dir = os.getcwd()\n",
    "\n",
    "# Navigate to the project root\n",
    "project_root = os.path.abspath(os.path.join(current_dir, '..'))\n",
    "\n",
    "# Import from /src\n",
    "sys.path.append(os.path.join(project_root, 'src'))\n",
    "from utils.metrics import *\n",
    "from models.model_factory import *\n",
    "from utils.io_model import *\n",
    "from utils.helpers import *\n",
    "from models.config import *\n",
    "\n",
    "# Define the path to the CSV file\n",
    "train_path = os.path.join(project_root, 'data', 'processed', 'ufc_train.csv')\n",
    "test_path = os.path.join(project_root, 'data', 'processed', 'ufc_test.csv')"
   ]
  },
  {
   "cell_type": "markdown",
   "id": "3f694e6e-61c6-47ae-b474-feb838518e44",
   "metadata": {},
   "source": [
    "<div style=\"text-align: center;\">\n",
    "  🔹 <img src=\"../img/ufc_logo.png\" width=\"50\" /> 🔹\n",
    "</div>"
   ]
  },
  {
   "cell_type": "markdown",
   "id": "e0a512df",
   "metadata": {},
   "source": [
    "## 2. Load Data"
   ]
  },
  {
   "cell_type": "code",
   "execution_count": 2,
   "id": "38b113b5-5994-4df1-8a22-c75d3fe75147",
   "metadata": {},
   "outputs": [
    {
     "name": "stdout",
     "output_type": "stream",
     "text": [
      "\u001b[92m╔═════════════════════════════════════════════════════════════╗\n",
      "║  Data Training successfully loaded: 5232 rows, 47 columns.  ║\n",
      "╚═════════════════════════════════════════════════════════════╝\u001b[0m\n"
     ]
    }
   ],
   "source": [
    "# Load the CSV into a DataFrame\n",
    "try:\n",
    "    ufc_train = pd.read_csv(train_path)\n",
    "    print_header(f\"Data Training successfully loaded: {ufc_train.shape[0]} rows, {ufc_train.shape[1]} columns.\", color='bright_green')\n",
    "except Exception as e:\n",
    "    print_header(f\"Error loading training data: {e}\", color='bright_red')"
   ]
  },
  {
   "cell_type": "code",
   "execution_count": 3,
   "id": "0e69019c-8101-4dce-b860-eb990c93a8f8",
   "metadata": {},
   "outputs": [
    {
     "name": "stdout",
     "output_type": "stream",
     "text": [
      "\u001b[92m╔════════════════════════════════════════════════════════════╗\n",
      "║  Data Testing successfully loaded: 1309 rows, 47 columns.  ║\n",
      "╚════════════════════════════════════════════════════════════╝\u001b[0m\n"
     ]
    }
   ],
   "source": [
    "# Load the CSV into a DataFrame\n",
    "try:\n",
    "    ufc_test = pd.read_csv(test_path)\n",
    "    print_header(f\"Data Testing successfully loaded: {ufc_test.shape[0]} rows, {ufc_test.shape[1]} columns.\", color='bright_green')\n",
    "except Exception as e:\n",
    "    print_header(f\"Error loading testing data: {e}\", color='bright_red')"
   ]
  },
  {
   "cell_type": "markdown",
   "id": "ddee1131-8d30-48c1-9ccd-19cc62db36ad",
   "metadata": {},
   "source": [
    "<div style=\"text-align: center;\">\n",
    "  🔹 <img src=\"../img/ufc_logo.png\" width=\"50\" /> 🔹\n",
    "</div>"
   ]
  },
  {
   "cell_type": "markdown",
   "id": "ca7322b2",
   "metadata": {},
   "source": [
    "## 3. 🔧 Hyperparameters Tuning 🔧"
   ]
  },
  {
   "cell_type": "code",
   "execution_count": 43,
   "id": "1fc2cbd6",
   "metadata": {},
   "outputs": [
    {
     "name": "stdout",
     "output_type": "stream",
     "text": [
      "\u001b[94m╔═══════════════════════════════════════╗\n",
      "║  Hyperparameters Tuning is Activated  ║\n",
      "╚═══════════════════════════════════════╝\u001b[0m\n"
     ]
    }
   ],
   "source": [
    "from sklearn.svm import SVC\n",
    "from sklearn.ensemble import RandomForestClassifier, AdaBoostClassifier\n",
    "from sklearn.linear_model import LogisticRegression\n",
    "from sklearn.neighbors import KNeighborsClassifier\n",
    "from sklearn.naive_bayes import GaussianNB\n",
    "from sklearn.model_selection import GridSearchCV\n",
    "from sklearn.metrics import f1_score\n",
    "\n",
    "hyperparameter_tuning = True\n",
    "\n",
    "if hyperparameter_tuning:\n",
    "    print_header('Hyperparameters Tuning is Activated', color = 'bright_blue')\n",
    "    model_params = {\n",
    "    \"Support Vector Machine\": (\n",
    "        SVC(probability=True),\n",
    "        {'C': [1], 'kernel': ['linear', 'rbf', 'poly'], 'gamma': ['auto']}\n",
    "    ),\n",
    "    \"Random Forest\": (\n",
    "        RandomForestClassifier(),\n",
    "        {'n_estimators': [10, 50, 100], 'max_depth': [3, 5, 10]}\n",
    "    ),\n",
    "    \"Logistic Regression\": (\n",
    "        LogisticRegression(),\n",
    "        {'C': [0.01, 0.1, 1], 'solver': ['liblinear', 'lbfgs']}\n",
    "    ),\n",
    "    \"K-Nearest Neighbors\": (\n",
    "        KNeighborsClassifier(),\n",
    "        {'n_neighbors': [3, 7], 'weights': ['uniform', 'distance'], 'metric': ['euclidean', 'manhattan']}\n",
    "    ),\n",
    "    \"AdaBoost\": (\n",
    "        AdaBoostClassifier(),\n",
    "        {'n_estimators': [10, 50, 100], 'learning_rate': [0.01, 1.0, 10.0]}\n",
    "    ),\n",
    "    \"Naive Bayes\": (\n",
    "        GaussianNB(),\n",
    "        {'var_smoothing': [1e-8, 1e-7, 1e-6, 1e-5]}\n",
    "    ),\n",
    "    \"Gradient Boosting\": (\n",
    "        GradientBoostingClassifier(),\n",
    "        {'n_estimators': [50, 100], 'learning_rate': [0.01, 0.1, 1.0], 'max_depth': [3, 5]}\n",
    "    ),\n",
    "    \"Extra Trees\": (\n",
    "        ExtraTreesClassifier(),\n",
    "        {'n_estimators': [50, 100], 'max_depth': [None, 10, 20]}\n",
    "    ),\n",
    "    \"Quadratic Discriminant Analysis\": (\n",
    "        QuadraticDiscriminantAnalysis(),\n",
    "        {'reg_param': [0.1, 1]}\n",
    "    )\n",
    "}\n",
    "else:\n",
    "    print_header('Hyperparameters Tuning Off', color = 'bright_red')\n",
    "    model_params = None # Default Settings"
   ]
  },
  {
   "cell_type": "markdown",
   "id": "2d98c5ad-4089-41de-9080-7691947cf787",
   "metadata": {},
   "source": [
    "<div style=\"text-align: center;\">\n",
    "  🔹 <img src=\"../img/ufc_logo.png\" width=\"50\" /> 🔹\n",
    "</div>"
   ]
  },
  {
   "cell_type": "markdown",
   "id": "443a7063",
   "metadata": {},
   "source": [
    "## 4. 🔹 UFC Machine Learning Training"
   ]
  },
  {
   "cell_type": "markdown",
   "id": "1eaa4135",
   "metadata": {},
   "source": [
    "### 4.1 KNN Model Training"
   ]
  },
  {
   "cell_type": "markdown",
   "id": "e841c166-6b19-4bed-b779-4ed42d23549f",
   "metadata": {},
   "source": [
    "#### 🚀 KNN Training "
   ]
  },
  {
   "cell_type": "code",
   "execution_count": 5,
   "id": "9cbf229d",
   "metadata": {
    "scrolled": true
   },
   "outputs": [
    {
     "name": "stdout",
     "output_type": "stream",
     "text": [
      "\u001b[95m╔═══════════════════════════════════════════════════╗\n",
      "║  [K-Nearest Neighbors] UFC GridSearchCV Training  ║\n",
      "╚═══════════════════════════════════════════════════╝\u001b[0m\n"
     ]
    },
    {
     "name": "stderr",
     "output_type": "stream",
     "text": [
      "INFO:root:[K-Nearest Neighbors] 🤖 Training...\n"
     ]
    },
    {
     "name": "stdout",
     "output_type": "stream",
     "text": [
      "Fitting 5 folds for each of 8 candidates, totalling 40 fits\n",
      "[CV 1/5] END metric=euclidean, n_neighbors=3, weights=uniform;, score=0.546 total time=   0.1s\n",
      "[CV 2/5] END metric=euclidean, n_neighbors=3, weights=uniform;, score=0.529 total time=   0.1s\n",
      "[CV 3/5] END metric=euclidean, n_neighbors=3, weights=uniform;, score=0.563 total time=   0.1s\n",
      "[CV 4/5] END metric=euclidean, n_neighbors=3, weights=uniform;, score=0.524 total time=   0.1s\n",
      "[CV 5/5] END metric=euclidean, n_neighbors=3, weights=uniform;, score=0.543 total time=   0.1s\n",
      "[CV 1/5] END metric=euclidean, n_neighbors=3, weights=distance;, score=0.545 total time=   0.0s\n",
      "[CV 2/5] END metric=euclidean, n_neighbors=3, weights=distance;, score=0.528 total time=   0.0s\n",
      "[CV 3/5] END metric=euclidean, n_neighbors=3, weights=distance;, score=0.563 total time=   0.0s\n",
      "[CV 4/5] END metric=euclidean, n_neighbors=3, weights=distance;, score=0.525 total time=   0.0s\n",
      "[CV 5/5] END metric=euclidean, n_neighbors=3, weights=distance;, score=0.542 total time=   0.0s\n",
      "[CV 1/5] END metric=euclidean, n_neighbors=7, weights=uniform;, score=0.556 total time=   0.1s\n",
      "[CV 2/5] END metric=euclidean, n_neighbors=7, weights=uniform;, score=0.554 total time=   0.1s\n",
      "[CV 3/5] END metric=euclidean, n_neighbors=7, weights=uniform;, score=0.576 total time=   0.1s\n",
      "[CV 4/5] END metric=euclidean, n_neighbors=7, weights=uniform;, score=0.553 total time=   0.1s\n",
      "[CV 5/5] END metric=euclidean, n_neighbors=7, weights=uniform;, score=0.582 total time=   0.1s\n",
      "[CV 1/5] END metric=euclidean, n_neighbors=7, weights=distance;, score=0.556 total time=   0.0s\n",
      "[CV 2/5] END metric=euclidean, n_neighbors=7, weights=distance;, score=0.555 total time=   0.0s\n",
      "[CV 3/5] END metric=euclidean, n_neighbors=7, weights=distance;, score=0.577 total time=   0.0s\n",
      "[CV 4/5] END metric=euclidean, n_neighbors=7, weights=distance;, score=0.554 total time=   0.0s\n",
      "[CV 5/5] END metric=euclidean, n_neighbors=7, weights=distance;, score=0.582 total time=   0.0s\n",
      "[CV 1/5] END metric=manhattan, n_neighbors=3, weights=uniform;, score=0.527 total time=   0.1s\n",
      "[CV 2/5] END metric=manhattan, n_neighbors=3, weights=uniform;, score=0.521 total time=   0.1s\n",
      "[CV 3/5] END metric=manhattan, n_neighbors=3, weights=uniform;, score=0.562 total time=   0.1s\n",
      "[CV 4/5] END metric=manhattan, n_neighbors=3, weights=uniform;, score=0.546 total time=   0.1s\n",
      "[CV 5/5] END metric=manhattan, n_neighbors=3, weights=uniform;, score=0.515 total time=   0.1s\n",
      "[CV 1/5] END metric=manhattan, n_neighbors=3, weights=distance;, score=0.525 total time=   0.0s\n",
      "[CV 2/5] END metric=manhattan, n_neighbors=3, weights=distance;, score=0.521 total time=   0.0s\n",
      "[CV 3/5] END metric=manhattan, n_neighbors=3, weights=distance;, score=0.565 total time=   0.0s\n",
      "[CV 4/5] END metric=manhattan, n_neighbors=3, weights=distance;, score=0.546 total time=   0.0s\n",
      "[CV 5/5] END metric=manhattan, n_neighbors=3, weights=distance;, score=0.513 total time=   0.0s\n",
      "[CV 1/5] END metric=manhattan, n_neighbors=7, weights=uniform;, score=0.544 total time=   0.1s\n",
      "[CV 2/5] END metric=manhattan, n_neighbors=7, weights=uniform;, score=0.542 total time=   0.1s\n",
      "[CV 3/5] END metric=manhattan, n_neighbors=7, weights=uniform;, score=0.561 total time=   0.1s\n",
      "[CV 4/5] END metric=manhattan, n_neighbors=7, weights=uniform;, score=0.542 total time=   0.1s\n",
      "[CV 5/5] END metric=manhattan, n_neighbors=7, weights=uniform;, score=0.529 total time=   0.1s\n",
      "[CV 1/5] END metric=manhattan, n_neighbors=7, weights=distance;, score=0.544 total time=   0.0s\n",
      "[CV 2/5] END metric=manhattan, n_neighbors=7, weights=distance;, score=0.543 total time=   0.0s\n",
      "[CV 3/5] END metric=manhattan, n_neighbors=7, weights=distance;, score=0.563 total time=   0.0s\n",
      "[CV 4/5] END metric=manhattan, n_neighbors=7, weights=distance;, score=0.545 total time=   0.0s\n",
      "[CV 5/5] END metric=manhattan, n_neighbors=7, weights=distance;, score=0.527 total time=   0.0s\n"
     ]
    },
    {
     "name": "stderr",
     "output_type": "stream",
     "text": [
      "INFO:root:[K-Nearest Neighbors] 🔍 Best Score: 0.5650\n",
      "[K-Nearest Neighbors] 🔍 Best Params: {'metric': 'euclidean', 'n_neighbors': 7, 'weights': 'distance'}\n"
     ]
    }
   ],
   "source": [
    "model_name = 'K-Nearest Neighbors'\n",
    "start = time.time()\n",
    "model = model_factory(model_name, ufc_train, model_params)\n",
    "end = time.time()\n",
    "duration = end - start"
   ]
  },
  {
   "cell_type": "markdown",
   "id": "49256938-9b41-494a-8b66-7a4663eb0147",
   "metadata": {},
   "source": [
    "#### 🔍 KNN Metrics"
   ]
  },
  {
   "cell_type": "code",
   "execution_count": 9,
   "id": "70e199a0-883a-4db8-a0f9-ad93364a3120",
   "metadata": {},
   "outputs": [
    {
     "name": "stdout",
     "output_type": "stream",
     "text": [
      "\u001b[92m╔═════════════════════════════════════════╗\n",
      "║  Evaluation for: [K-Nearest Neighbors]  ║\n",
      "╚═════════════════════════════════════════╝\u001b[0m\n",
      "\u001b[95m╔═════════════════════════════════════════════════════════════════════════════════════╗\n",
      "║  Best Parameters: {'metric': 'euclidean', 'n_neighbors': 7, 'weights': 'distance'}  ║\n",
      "╚═════════════════════════════════════════════════════════════════════════════════════╝\u001b[0m\n",
      "    Accuracy: 0.5462\n",
      "   Precision: 0.4522\n",
      "      Recall: 0.3782\n",
      "    F1 Score: 0.4119\n",
      "     ROC AUC: 0.5515\n",
      " Brier Score: 0.2663\n"
     ]
    }
   ],
   "source": [
    "metrics = evaluate_model(model, ufc_test, plot = False)"
   ]
  },
  {
   "cell_type": "markdown",
   "id": "2a789c68-09ec-4f00-b132-638d6a36bfd6",
   "metadata": {},
   "source": [
    "### 📝 Log Training Results"
   ]
  },
  {
   "cell_type": "code",
   "execution_count": 10,
   "id": "a0f8943a-69d1-4c2d-a800-b1595714f94c",
   "metadata": {},
   "outputs": [
    {
     "name": "stdout",
     "output_type": "stream",
     "text": [
      "✅ Training logged to ../data/results/training_log.csv\n"
     ]
    }
   ],
   "source": [
    "log_training_result(model_name, model.best_params_, metrics, duration)"
   ]
  },
  {
   "cell_type": "markdown",
   "id": "7d3791f2-25ca-4bb9-bd70-0ac212b5c62d",
   "metadata": {},
   "source": [
    "### 💾 Save Model "
   ]
  },
  {
   "cell_type": "code",
   "execution_count": 11,
   "id": "cea30d46-7ffd-417b-a72e-38b24ae71424",
   "metadata": {},
   "outputs": [
    {
     "name": "stdout",
     "output_type": "stream",
     "text": [
      "✅ Model K-Nearest Neighbors saved to: /home/mfourier/ufc-predictor/models/knn_best.pkl\n"
     ]
    }
   ],
   "source": [
    "save_model(model, name=file_model_name[model_name])"
   ]
  },
  {
   "cell_type": "markdown",
   "id": "8a89ba7d",
   "metadata": {},
   "source": [
    "### 4.2 Support Vector Machine Model "
   ]
  },
  {
   "cell_type": "markdown",
   "id": "90c60acc-9fa6-47dd-9e2f-dfa89dc3a74b",
   "metadata": {},
   "source": [
    "#### 🚀 Support Vector Machine Training "
   ]
  },
  {
   "cell_type": "code",
   "execution_count": 12,
   "id": "6f3ab386",
   "metadata": {
    "scrolled": true
   },
   "outputs": [
    {
     "name": "stdout",
     "output_type": "stream",
     "text": [
      "\u001b[95m╔══════════════════════════════════════════════════════╗\n",
      "║  [Support Vector Machine] UFC GridSearchCV Training  ║\n",
      "╚══════════════════════════════════════════════════════╝\u001b[0m\n"
     ]
    },
    {
     "name": "stderr",
     "output_type": "stream",
     "text": [
      "INFO:root:[Support Vector Machine] 🤖 Training...\n"
     ]
    },
    {
     "name": "stdout",
     "output_type": "stream",
     "text": [
      "Fitting 5 folds for each of 3 candidates, totalling 15 fits\n",
      "[CV 1/5] END ....C=1, gamma=auto, kernel=linear;, score=0.602 total time=   9.8s\n",
      "[CV 2/5] END ....C=1, gamma=auto, kernel=linear;, score=0.595 total time=   9.5s\n",
      "[CV 3/5] END ....C=1, gamma=auto, kernel=linear;, score=0.598 total time=   9.6s\n",
      "[CV 4/5] END ....C=1, gamma=auto, kernel=linear;, score=0.596 total time=   9.5s\n",
      "[CV 5/5] END ....C=1, gamma=auto, kernel=linear;, score=0.593 total time=   9.6s\n",
      "[CV 1/5] END .......C=1, gamma=auto, kernel=rbf;, score=0.615 total time=   5.6s\n",
      "[CV 2/5] END .......C=1, gamma=auto, kernel=rbf;, score=0.577 total time=   5.6s\n",
      "[CV 3/5] END .......C=1, gamma=auto, kernel=rbf;, score=0.621 total time=   5.7s\n",
      "[CV 4/5] END .......C=1, gamma=auto, kernel=rbf;, score=0.589 total time=   5.5s\n",
      "[CV 5/5] END .......C=1, gamma=auto, kernel=rbf;, score=0.611 total time=   5.6s\n",
      "[CV 1/5] END ......C=1, gamma=auto, kernel=poly;, score=0.595 total time=   5.1s\n",
      "[CV 2/5] END ......C=1, gamma=auto, kernel=poly;, score=0.593 total time=   5.1s\n",
      "[CV 3/5] END ......C=1, gamma=auto, kernel=poly;, score=0.599 total time=   5.1s\n",
      "[CV 4/5] END ......C=1, gamma=auto, kernel=poly;, score=0.591 total time=   5.0s\n",
      "[CV 5/5] END ......C=1, gamma=auto, kernel=poly;, score=0.588 total time=   5.1s\n"
     ]
    },
    {
     "name": "stderr",
     "output_type": "stream",
     "text": [
      "INFO:root:[Support Vector Machine] 🔍 Best Score: 0.6026\n",
      "[Support Vector Machine] 🔍 Best Params: {'C': 1, 'gamma': 'auto', 'kernel': 'rbf'}\n"
     ]
    }
   ],
   "source": [
    "model_name = 'Support Vector Machine'\n",
    "start = time.time()\n",
    "model = model_factory(model_name, ufc_train, model_params)\n",
    "end = time.time()\n",
    "duration = end - start"
   ]
  },
  {
   "cell_type": "markdown",
   "id": "effac092-0e21-4b2b-aa53-9121d942fa2e",
   "metadata": {},
   "source": [
    "#### 🔍 Support Vector Machine Metrics"
   ]
  },
  {
   "cell_type": "code",
   "execution_count": 13,
   "id": "5ea4ee92-a5a7-480f-8c25-634fb16827e4",
   "metadata": {
    "scrolled": true
   },
   "outputs": [
    {
     "name": "stdout",
     "output_type": "stream",
     "text": [
      "\u001b[92m╔════════════════════════════════════════════╗\n",
      "║  Evaluation for: [Support Vector Machine]  ║\n",
      "╚════════════════════════════════════════════╝\u001b[0m\n",
      "\u001b[95m╔═══════════════════════════════════════════════════════════════╗\n",
      "║  Best Parameters: {'C': 1, 'gamma': 'auto', 'kernel': 'rbf'}  ║\n",
      "╚═══════════════════════════════════════════════════════════════╝\u001b[0m\n",
      "    Accuracy: 0.6104\n",
      "   Precision: 0.5962\n",
      "      Recall: 0.2255\n",
      "    F1 Score: 0.3272\n",
      "     ROC AUC: 0.6249\n",
      " Brier Score: 0.2319\n"
     ]
    }
   ],
   "source": [
    "metrics = evaluate_model(model, ufc_test, plot = False)"
   ]
  },
  {
   "cell_type": "markdown",
   "id": "e241458a-f474-4973-92eb-79ed69228789",
   "metadata": {},
   "source": [
    "### 📝 Log Training Results"
   ]
  },
  {
   "cell_type": "code",
   "execution_count": 14,
   "id": "3de0e1f1-51f9-4368-8d54-b2626bfe80f6",
   "metadata": {},
   "outputs": [
    {
     "name": "stdout",
     "output_type": "stream",
     "text": [
      "✅ Training logged to ../data/results/training_log.csv\n"
     ]
    }
   ],
   "source": [
    "log_training_result(model_name, model.best_params_, metrics, duration)"
   ]
  },
  {
   "cell_type": "markdown",
   "id": "b4000bf8-356d-42c2-bf01-b5fd8188b867",
   "metadata": {},
   "source": [
    "### 💾 Save Model "
   ]
  },
  {
   "cell_type": "code",
   "execution_count": 15,
   "id": "4d98e71c-17a1-4cb8-be05-a6184dbfb46b",
   "metadata": {},
   "outputs": [
    {
     "name": "stdout",
     "output_type": "stream",
     "text": [
      "✅ Model Support Vector Machine saved to: /home/mfourier/ufc-predictor/models/svm_best.pkl\n"
     ]
    }
   ],
   "source": [
    "save_model(model, name=file_model_name[model_name])"
   ]
  },
  {
   "cell_type": "markdown",
   "id": "03b7bf14",
   "metadata": {},
   "source": [
    "### 4.3 Logistic Regression Model"
   ]
  },
  {
   "cell_type": "markdown",
   "id": "26c55350-bfcf-4457-8462-a4daf948ff27",
   "metadata": {},
   "source": [
    "#### 🚀 Logistic Regression Training"
   ]
  },
  {
   "cell_type": "code",
   "execution_count": 16,
   "id": "87b0b4ad-caad-4c7e-aad6-a6c5772f30c3",
   "metadata": {
    "scrolled": true
   },
   "outputs": [
    {
     "name": "stdout",
     "output_type": "stream",
     "text": [
      "\u001b[95m╔═══════════════════════════════════════════════════╗\n",
      "║  [Logistic Regression] UFC GridSearchCV Training  ║\n",
      "╚═══════════════════════════════════════════════════╝\u001b[0m\n"
     ]
    },
    {
     "name": "stderr",
     "output_type": "stream",
     "text": [
      "INFO:root:[Logistic Regression] 🤖 Training...\n"
     ]
    },
    {
     "name": "stdout",
     "output_type": "stream",
     "text": [
      "Fitting 5 folds for each of 6 candidates, totalling 30 fits\n",
      "[CV 1/5] END ..........C=0.01, solver=liblinear;, score=0.616 total time=   0.0s\n",
      "[CV 2/5] END ..........C=0.01, solver=liblinear;, score=0.594 total time=   0.0s\n",
      "[CV 3/5] END ..........C=0.01, solver=liblinear;, score=0.614 total time=   0.0s\n",
      "[CV 4/5] END ..........C=0.01, solver=liblinear;, score=0.589 total time=   0.0s\n",
      "[CV 5/5] END ..........C=0.01, solver=liblinear;, score=0.602 total time=   0.0s\n",
      "[CV 1/5] END ..............C=0.01, solver=lbfgs;, score=0.609 total time=   0.0s\n",
      "[CV 2/5] END ..............C=0.01, solver=lbfgs;, score=0.597 total time=   0.0s\n",
      "[CV 3/5] END ..............C=0.01, solver=lbfgs;, score=0.611 total time=   0.0s\n",
      "[CV 4/5] END ..............C=0.01, solver=lbfgs;, score=0.594 total time=   0.0s\n",
      "[CV 5/5] END ..............C=0.01, solver=lbfgs;, score=0.604 total time=   0.0s\n",
      "[CV 1/5] END ...........C=0.1, solver=liblinear;, score=0.618 total time=   0.0s\n",
      "[CV 2/5] END ...........C=0.1, solver=liblinear;, score=0.597 total time=   0.0s\n",
      "[CV 3/5] END ...........C=0.1, solver=liblinear;, score=0.614 total time=   0.0s\n",
      "[CV 4/5] END ...........C=0.1, solver=liblinear;, score=0.597 total time=   0.0s\n",
      "[CV 5/5] END ...........C=0.1, solver=liblinear;, score=0.608 total time=   0.0s\n",
      "[CV 1/5] END ...............C=0.1, solver=lbfgs;, score=0.620 total time=   0.0s\n",
      "[CV 2/5] END ...............C=0.1, solver=lbfgs;, score=0.597 total time=   0.0s\n",
      "[CV 3/5] END ...............C=0.1, solver=lbfgs;, score=0.614 total time=   0.0s\n",
      "[CV 4/5] END ...............C=0.1, solver=lbfgs;, score=0.597 total time=   0.0s\n",
      "[CV 5/5] END ...............C=0.1, solver=lbfgs;, score=0.610 total time=   0.0s\n",
      "[CV 1/5] END .............C=1, solver=liblinear;, score=0.614 total time=   0.1s\n",
      "[CV 2/5] END .............C=1, solver=liblinear;, score=0.599 total time=   0.1s\n",
      "[CV 3/5] END .............C=1, solver=liblinear;, score=0.620 total time=   0.1s\n",
      "[CV 4/5] END .............C=1, solver=liblinear;, score=0.597 total time=   0.1s\n",
      "[CV 5/5] END .............C=1, solver=liblinear;, score=0.616 total time=   0.1s\n",
      "[CV 1/5] END .................C=1, solver=lbfgs;, score=0.613 total time=   0.0s\n",
      "[CV 2/5] END .................C=1, solver=lbfgs;, score=0.599 total time=   0.0s\n",
      "[CV 3/5] END .................C=1, solver=lbfgs;, score=0.620 total time=   0.0s\n",
      "[CV 4/5] END .................C=1, solver=lbfgs;, score=0.597 total time=   0.0s\n",
      "[CV 5/5] END .................C=1, solver=lbfgs;, score=0.616 total time=   0.0s\n"
     ]
    },
    {
     "name": "stderr",
     "output_type": "stream",
     "text": [
      "INFO:root:[Logistic Regression] 🔍 Best Score: 0.6089\n",
      "[Logistic Regression] 🔍 Best Params: {'C': 1, 'solver': 'liblinear'}\n"
     ]
    }
   ],
   "source": [
    "model_name = 'Logistic Regression'\n",
    "start = time.time()\n",
    "model = model_factory(model_name, ufc_train, model_params)\n",
    "end = time.time()\n",
    "duration = end - start"
   ]
  },
  {
   "cell_type": "markdown",
   "id": "180bfb98-cc03-450e-8189-acb93b33edbc",
   "metadata": {},
   "source": [
    "#### 🔍 Logistic Regression Metrics"
   ]
  },
  {
   "cell_type": "code",
   "execution_count": 17,
   "id": "50d31e94-d6b8-4348-91e4-f36888b29f36",
   "metadata": {},
   "outputs": [
    {
     "name": "stdout",
     "output_type": "stream",
     "text": [
      "\u001b[92m╔═════════════════════════════════════════╗\n",
      "║  Evaluation for: [Logistic Regression]  ║\n",
      "╚═════════════════════════════════════════╝\u001b[0m\n",
      "\u001b[95m╔════════════════════════════════════════════════════╗\n",
      "║  Best Parameters: {'C': 1, 'solver': 'liblinear'}  ║\n",
      "╚════════════════════════════════════════════════════╝\u001b[0m\n",
      "    Accuracy: 0.6280\n",
      "   Precision: 0.6113\n",
      "      Recall: 0.3145\n",
      "    F1 Score: 0.4154\n",
      "     ROC AUC: 0.6670\n",
      " Brier Score: 0.2231\n"
     ]
    }
   ],
   "source": [
    "metrics = evaluate_model(model, ufc_test, plot = False)"
   ]
  },
  {
   "cell_type": "markdown",
   "id": "d1e2a10d-1b61-4b05-aa18-ef98cd6a3e60",
   "metadata": {},
   "source": [
    "### 📝 Log Training Results"
   ]
  },
  {
   "cell_type": "code",
   "execution_count": 18,
   "id": "f2a55f73-8f04-4f22-8511-f34e17aa1c4a",
   "metadata": {},
   "outputs": [
    {
     "name": "stdout",
     "output_type": "stream",
     "text": [
      "✅ Training logged to ../data/results/training_log.csv\n"
     ]
    }
   ],
   "source": [
    "log_training_result(model_name, model.best_params_, metrics, duration)"
   ]
  },
  {
   "cell_type": "markdown",
   "id": "8494b4b1-e6c4-4edd-aee9-ffdaab0db646",
   "metadata": {},
   "source": [
    "### 💾 Save Model "
   ]
  },
  {
   "cell_type": "code",
   "execution_count": 19,
   "id": "89314b8f-a5c8-446a-b8e1-d9e60751de0a",
   "metadata": {},
   "outputs": [
    {
     "name": "stdout",
     "output_type": "stream",
     "text": [
      "✅ Model Logistic Regression saved to: /home/mfourier/ufc-predictor/models/lr_best.pkl\n"
     ]
    }
   ],
   "source": [
    "save_model(model, name=file_model_name[model_name])"
   ]
  },
  {
   "cell_type": "markdown",
   "id": "a9e4e2e3",
   "metadata": {},
   "source": [
    "### 4.4 Random Forest Model"
   ]
  },
  {
   "cell_type": "markdown",
   "id": "b3ecd028-62af-4a56-badd-57f299aac14e",
   "metadata": {},
   "source": [
    "#### 🚀 Random Forest Training"
   ]
  },
  {
   "cell_type": "code",
   "execution_count": 20,
   "id": "054947b3",
   "metadata": {
    "scrolled": true
   },
   "outputs": [
    {
     "name": "stdout",
     "output_type": "stream",
     "text": [
      "\u001b[95m╔═════════════════════════════════════════════╗\n",
      "║  [Random Forest] UFC GridSearchCV Training  ║\n",
      "╚═════════════════════════════════════════════╝\u001b[0m\n"
     ]
    },
    {
     "name": "stderr",
     "output_type": "stream",
     "text": [
      "INFO:root:[Random Forest] 🤖 Training...\n"
     ]
    },
    {
     "name": "stdout",
     "output_type": "stream",
     "text": [
      "Fitting 5 folds for each of 9 candidates, totalling 45 fits\n",
      "[CV 1/5] END ......max_depth=3, n_estimators=10;, score=0.588 total time=   0.0s\n",
      "[CV 2/5] END ......max_depth=3, n_estimators=10;, score=0.584 total time=   0.0s\n",
      "[CV 3/5] END ......max_depth=3, n_estimators=10;, score=0.591 total time=   0.0s\n",
      "[CV 4/5] END ......max_depth=3, n_estimators=10;, score=0.584 total time=   0.0s\n",
      "[CV 5/5] END ......max_depth=3, n_estimators=10;, score=0.594 total time=   0.0s\n",
      "[CV 1/5] END ......max_depth=3, n_estimators=50;, score=0.599 total time=   0.2s\n",
      "[CV 2/5] END ......max_depth=3, n_estimators=50;, score=0.589 total time=   0.2s\n",
      "[CV 3/5] END ......max_depth=3, n_estimators=50;, score=0.592 total time=   0.2s\n",
      "[CV 4/5] END ......max_depth=3, n_estimators=50;, score=0.586 total time=   0.2s\n",
      "[CV 5/5] END ......max_depth=3, n_estimators=50;, score=0.585 total time=   0.2s\n",
      "[CV 1/5] END .....max_depth=3, n_estimators=100;, score=0.589 total time=   0.3s\n",
      "[CV 2/5] END .....max_depth=3, n_estimators=100;, score=0.590 total time=   0.3s\n",
      "[CV 3/5] END .....max_depth=3, n_estimators=100;, score=0.586 total time=   0.3s\n",
      "[CV 4/5] END .....max_depth=3, n_estimators=100;, score=0.582 total time=   0.3s\n",
      "[CV 5/5] END .....max_depth=3, n_estimators=100;, score=0.589 total time=   0.3s\n",
      "[CV 1/5] END ......max_depth=5, n_estimators=10;, score=0.588 total time=   0.1s\n",
      "[CV 2/5] END ......max_depth=5, n_estimators=10;, score=0.590 total time=   0.1s\n",
      "[CV 3/5] END ......max_depth=5, n_estimators=10;, score=0.593 total time=   0.1s\n",
      "[CV 4/5] END ......max_depth=5, n_estimators=10;, score=0.593 total time=   0.1s\n",
      "[CV 5/5] END ......max_depth=5, n_estimators=10;, score=0.582 total time=   0.1s\n",
      "[CV 1/5] END ......max_depth=5, n_estimators=50;, score=0.599 total time=   0.2s\n",
      "[CV 2/5] END ......max_depth=5, n_estimators=50;, score=0.599 total time=   0.2s\n",
      "[CV 3/5] END ......max_depth=5, n_estimators=50;, score=0.606 total time=   0.2s\n",
      "[CV 4/5] END ......max_depth=5, n_estimators=50;, score=0.604 total time=   0.2s\n",
      "[CV 5/5] END ......max_depth=5, n_estimators=50;, score=0.605 total time=   0.2s\n",
      "[CV 1/5] END .....max_depth=5, n_estimators=100;, score=0.597 total time=   0.5s\n",
      "[CV 2/5] END .....max_depth=5, n_estimators=100;, score=0.598 total time=   0.5s\n",
      "[CV 3/5] END .....max_depth=5, n_estimators=100;, score=0.602 total time=   0.5s\n",
      "[CV 4/5] END .....max_depth=5, n_estimators=100;, score=0.602 total time=   0.5s\n",
      "[CV 5/5] END .....max_depth=5, n_estimators=100;, score=0.599 total time=   0.5s\n",
      "[CV 1/5] END .....max_depth=10, n_estimators=10;, score=0.585 total time=   0.1s\n",
      "[CV 2/5] END .....max_depth=10, n_estimators=10;, score=0.566 total time=   0.1s\n",
      "[CV 3/5] END .....max_depth=10, n_estimators=10;, score=0.622 total time=   0.1s\n",
      "[CV 4/5] END .....max_depth=10, n_estimators=10;, score=0.590 total time=   0.1s\n",
      "[CV 5/5] END .....max_depth=10, n_estimators=10;, score=0.597 total time=   0.1s\n",
      "[CV 1/5] END .....max_depth=10, n_estimators=50;, score=0.609 total time=   0.4s\n",
      "[CV 2/5] END .....max_depth=10, n_estimators=50;, score=0.583 total time=   0.4s\n",
      "[CV 3/5] END .....max_depth=10, n_estimators=50;, score=0.609 total time=   0.4s\n",
      "[CV 4/5] END .....max_depth=10, n_estimators=50;, score=0.606 total time=   0.4s\n",
      "[CV 5/5] END .....max_depth=10, n_estimators=50;, score=0.601 total time=   0.4s\n",
      "[CV 1/5] END ....max_depth=10, n_estimators=100;, score=0.600 total time=   0.8s\n",
      "[CV 2/5] END ....max_depth=10, n_estimators=100;, score=0.591 total time=   0.8s\n",
      "[CV 3/5] END ....max_depth=10, n_estimators=100;, score=0.622 total time=   0.8s\n",
      "[CV 4/5] END ....max_depth=10, n_estimators=100;, score=0.609 total time=   0.8s\n",
      "[CV 5/5] END ....max_depth=10, n_estimators=100;, score=0.610 total time=   0.8s\n"
     ]
    },
    {
     "name": "stderr",
     "output_type": "stream",
     "text": [
      "INFO:root:[Random Forest] 🔍 Best Score: 0.6065\n",
      "[Random Forest] 🔍 Best Params: {'max_depth': 10, 'n_estimators': 100}\n"
     ]
    }
   ],
   "source": [
    "model_name = 'Random Forest'\n",
    "start = time.time()\n",
    "model = model_factory(model_name, ufc_train, model_params)\n",
    "end = time.time()\n",
    "duration = end - start"
   ]
  },
  {
   "cell_type": "markdown",
   "id": "653e37f0-da84-4b55-82b7-5d4c4920587d",
   "metadata": {},
   "source": [
    "#### 🔍 Random Forest Metrics"
   ]
  },
  {
   "cell_type": "code",
   "execution_count": 21,
   "id": "5e0783b7-2a4c-4bc8-a275-04ffb42752c4",
   "metadata": {},
   "outputs": [
    {
     "name": "stdout",
     "output_type": "stream",
     "text": [
      "\u001b[92m╔═══════════════════════════════════╗\n",
      "║  Evaluation for: [Random Forest]  ║\n",
      "╚═══════════════════════════════════╝\u001b[0m\n",
      "\u001b[95m╔═══════════════════════════════════════════════════════════╗\n",
      "║  Best Parameters: {'max_depth': 10, 'n_estimators': 100}  ║\n",
      "╚═══════════════════════════════════════════════════════════╝\u001b[0m\n",
      "    Accuracy: 0.6134\n",
      "   Precision: 0.6038\n",
      "      Recall: 0.2327\n",
      "    F1 Score: 0.3360\n",
      "     ROC AUC: 0.6316\n",
      " Brier Score: 0.2311\n"
     ]
    }
   ],
   "source": [
    "metrics = evaluate_model(model, ufc_test, plot = False)"
   ]
  },
  {
   "cell_type": "markdown",
   "id": "c324c8fb-0329-4552-8763-9f18a3c36724",
   "metadata": {},
   "source": [
    "### 📝 Log Training Results"
   ]
  },
  {
   "cell_type": "code",
   "execution_count": 22,
   "id": "16e111ee-7960-4cf8-9301-1a0d676ef0df",
   "metadata": {},
   "outputs": [
    {
     "name": "stdout",
     "output_type": "stream",
     "text": [
      "✅ Training logged to ../data/results/training_log.csv\n"
     ]
    }
   ],
   "source": [
    "log_training_result(model_name, model.best_params_, metrics, duration)"
   ]
  },
  {
   "cell_type": "markdown",
   "id": "d3bbee38-fc3a-4391-9bbb-347e18e048da",
   "metadata": {},
   "source": [
    "### 💾 Save Model "
   ]
  },
  {
   "cell_type": "code",
   "execution_count": 23,
   "id": "12bdd9f2-366a-42b4-9422-80771cbe5b43",
   "metadata": {},
   "outputs": [
    {
     "name": "stdout",
     "output_type": "stream",
     "text": [
      "✅ Model Random Forest saved to: /home/mfourier/ufc-predictor/models/rf_best.pkl\n"
     ]
    }
   ],
   "source": [
    "save_model(model, name=file_model_name[model_name])"
   ]
  },
  {
   "cell_type": "markdown",
   "id": "c64482a9",
   "metadata": {},
   "source": [
    "### 4.5 AdaBoost Model"
   ]
  },
  {
   "cell_type": "markdown",
   "id": "1d5f617e-560d-4847-bc2a-8661f8e9fa67",
   "metadata": {},
   "source": [
    "#### 🚀 AdaBoost Training"
   ]
  },
  {
   "cell_type": "code",
   "execution_count": 24,
   "id": "44a936b9",
   "metadata": {},
   "outputs": [
    {
     "name": "stdout",
     "output_type": "stream",
     "text": [
      "\u001b[95m╔════════════════════════════════════════╗\n",
      "║  [AdaBoost] UFC GridSearchCV Training  ║\n",
      "╚════════════════════════════════════════╝\u001b[0m\n"
     ]
    },
    {
     "name": "stderr",
     "output_type": "stream",
     "text": [
      "INFO:root:[AdaBoost] 🤖 Training...\n"
     ]
    },
    {
     "name": "stdout",
     "output_type": "stream",
     "text": [
      "Fitting 5 folds for each of 9 candidates, totalling 45 fits\n",
      "[CV 1/5] END learning_rate=0.01, n_estimators=10;, score=0.580 total time=   0.1s\n",
      "[CV 2/5] END learning_rate=0.01, n_estimators=10;, score=0.581 total time=   0.1s\n",
      "[CV 3/5] END learning_rate=0.01, n_estimators=10;, score=0.580 total time=   0.1s\n",
      "[CV 4/5] END learning_rate=0.01, n_estimators=10;, score=0.580 total time=   0.1s\n",
      "[CV 5/5] END learning_rate=0.01, n_estimators=10;, score=0.580 total time=   0.1s\n",
      "[CV 1/5] END learning_rate=0.01, n_estimators=50;, score=0.580 total time=   0.5s\n",
      "[CV 2/5] END learning_rate=0.01, n_estimators=50;, score=0.581 total time=   0.5s\n",
      "[CV 3/5] END learning_rate=0.01, n_estimators=50;, score=0.580 total time=   0.5s\n",
      "[CV 4/5] END learning_rate=0.01, n_estimators=50;, score=0.580 total time=   0.5s\n",
      "[CV 5/5] END learning_rate=0.01, n_estimators=50;, score=0.580 total time=   0.5s\n",
      "[CV 1/5] END learning_rate=0.01, n_estimators=100;, score=0.580 total time=   0.9s\n",
      "[CV 2/5] END learning_rate=0.01, n_estimators=100;, score=0.581 total time=   0.9s\n",
      "[CV 3/5] END learning_rate=0.01, n_estimators=100;, score=0.580 total time=   0.9s\n",
      "[CV 4/5] END learning_rate=0.01, n_estimators=100;, score=0.580 total time=   0.9s\n",
      "[CV 5/5] END learning_rate=0.01, n_estimators=100;, score=0.580 total time=   0.9s\n",
      "[CV 1/5] END learning_rate=1.0, n_estimators=10;, score=0.587 total time=   0.1s\n",
      "[CV 2/5] END learning_rate=1.0, n_estimators=10;, score=0.576 total time=   0.1s\n",
      "[CV 3/5] END learning_rate=1.0, n_estimators=10;, score=0.605 total time=   0.1s\n",
      "[CV 4/5] END learning_rate=1.0, n_estimators=10;, score=0.576 total time=   0.1s\n",
      "[CV 5/5] END learning_rate=1.0, n_estimators=10;, score=0.580 total time=   0.1s\n",
      "[CV 1/5] END learning_rate=1.0, n_estimators=50;, score=0.592 total time=   0.4s\n",
      "[CV 2/5] END learning_rate=1.0, n_estimators=50;, score=0.574 total time=   0.4s\n",
      "[CV 3/5] END learning_rate=1.0, n_estimators=50;, score=0.618 total time=   0.4s\n",
      "[CV 4/5] END learning_rate=1.0, n_estimators=50;, score=0.580 total time=   0.5s\n",
      "[CV 5/5] END learning_rate=1.0, n_estimators=50;, score=0.586 total time=   0.4s\n",
      "[CV 1/5] END learning_rate=1.0, n_estimators=100;, score=0.595 total time=   0.9s\n",
      "[CV 2/5] END learning_rate=1.0, n_estimators=100;, score=0.592 total time=   0.9s\n",
      "[CV 3/5] END learning_rate=1.0, n_estimators=100;, score=0.609 total time=   0.9s\n",
      "[CV 4/5] END learning_rate=1.0, n_estimators=100;, score=0.594 total time=   0.9s\n",
      "[CV 5/5] END learning_rate=1.0, n_estimators=100;, score=0.604 total time=   0.9s\n",
      "[CV 1/5] END learning_rate=10.0, n_estimators=10;, score=0.420 total time=   0.1s\n",
      "[CV 2/5] END learning_rate=10.0, n_estimators=10;, score=0.420 total time=   0.1s\n",
      "[CV 3/5] END learning_rate=10.0, n_estimators=10;, score=0.420 total time=   0.1s\n",
      "[CV 4/5] END learning_rate=10.0, n_estimators=10;, score=0.419 total time=   0.1s\n",
      "[CV 5/5] END learning_rate=10.0, n_estimators=10;, score=0.423 total time=   0.1s\n",
      "[CV 1/5] END learning_rate=10.0, n_estimators=50;, score=0.581 total time=   0.4s\n",
      "[CV 2/5] END learning_rate=10.0, n_estimators=50;, score=0.581 total time=   0.4s\n",
      "[CV 3/5] END learning_rate=10.0, n_estimators=50;, score=0.583 total time=   0.4s\n",
      "[CV 4/5] END learning_rate=10.0, n_estimators=50;, score=0.581 total time=   0.5s\n",
      "[CV 5/5] END learning_rate=10.0, n_estimators=50;, score=0.580 total time=   0.4s\n",
      "[CV 1/5] END learning_rate=10.0, n_estimators=100;, score=0.581 total time=   0.9s\n",
      "[CV 2/5] END learning_rate=10.0, n_estimators=100;, score=0.581 total time=   0.9s\n",
      "[CV 3/5] END learning_rate=10.0, n_estimators=100;, score=0.583 total time=   0.9s\n",
      "[CV 4/5] END learning_rate=10.0, n_estimators=100;, score=0.581 total time=   0.9s\n",
      "[CV 5/5] END learning_rate=10.0, n_estimators=100;, score=0.580 total time=   0.9s\n"
     ]
    },
    {
     "name": "stderr",
     "output_type": "stream",
     "text": [
      "INFO:root:[AdaBoost] 🔍 Best Score: 0.5988\n",
      "[AdaBoost] 🔍 Best Params: {'learning_rate': 1.0, 'n_estimators': 100}\n"
     ]
    }
   ],
   "source": [
    "model_name = 'AdaBoost'\n",
    "start = time.time()\n",
    "model = model_factory(model_name, ufc_train, model_params)\n",
    "end = time.time()\n",
    "duration = end - start"
   ]
  },
  {
   "cell_type": "markdown",
   "id": "81d48c7a-6d82-4b28-91ec-7f8b61c1bdc8",
   "metadata": {},
   "source": [
    "#### 🔍 AdaBoost Metrics"
   ]
  },
  {
   "cell_type": "code",
   "execution_count": 25,
   "id": "f185bc1b-2540-4cc6-abaf-e2f711c494ad",
   "metadata": {
    "scrolled": true
   },
   "outputs": [
    {
     "name": "stdout",
     "output_type": "stream",
     "text": [
      "\u001b[92m╔══════════════════════════════╗\n",
      "║  Evaluation for: [AdaBoost]  ║\n",
      "╚══════════════════════════════╝\u001b[0m\n",
      "\u001b[95m╔════════════════════════════════════════════════════════════════╗\n",
      "║  Best Parameters: {'learning_rate': 1.0, 'n_estimators': 100}  ║\n",
      "╚════════════════════════════════════════════════════════════════╝\u001b[0m\n",
      "    Accuracy: 0.6073\n",
      "   Precision: 0.5559\n",
      "      Recall: 0.3255\n",
      "    F1 Score: 0.4106\n",
      "     ROC AUC: 0.6327\n",
      " Brier Score: 0.2344\n"
     ]
    }
   ],
   "source": [
    "metrics = evaluate_model(model, ufc_test, plot = False)"
   ]
  },
  {
   "cell_type": "markdown",
   "id": "4cd74370-c5fe-4476-bfd4-a70074efac8b",
   "metadata": {},
   "source": [
    "### 📝 Log Training Results"
   ]
  },
  {
   "cell_type": "code",
   "execution_count": 26,
   "id": "99a7657b-758e-474a-8cae-f46beb4ede7b",
   "metadata": {},
   "outputs": [
    {
     "name": "stdout",
     "output_type": "stream",
     "text": [
      "✅ Training logged to ../data/results/training_log.csv\n"
     ]
    }
   ],
   "source": [
    "log_training_result(model_name, model.best_params_, metrics, duration)"
   ]
  },
  {
   "cell_type": "markdown",
   "id": "60ab855a-02f1-4045-82fb-efde83f6cfa5",
   "metadata": {},
   "source": [
    "### 💾 Save Model "
   ]
  },
  {
   "cell_type": "code",
   "execution_count": 27,
   "id": "2756ab9e-5a9f-4483-81c1-4567b043069f",
   "metadata": {},
   "outputs": [
    {
     "name": "stdout",
     "output_type": "stream",
     "text": [
      "✅ Model AdaBoost saved to: /home/mfourier/ufc-predictor/models/ab_best.pkl\n"
     ]
    }
   ],
   "source": [
    "save_model(model, name=file_model_name[model_name])"
   ]
  },
  {
   "cell_type": "markdown",
   "id": "0f506d2e",
   "metadata": {},
   "source": [
    "### 4.6 Naive Bayes Model"
   ]
  },
  {
   "cell_type": "markdown",
   "id": "05b60712-0ef6-4ce5-b64d-7039ac1240bc",
   "metadata": {},
   "source": [
    "#### 🚀 Naive Bayes Training"
   ]
  },
  {
   "cell_type": "code",
   "execution_count": 28,
   "id": "309d3291",
   "metadata": {},
   "outputs": [
    {
     "name": "stdout",
     "output_type": "stream",
     "text": [
      "\u001b[95m╔═══════════════════════════════════════════╗\n",
      "║  [Naive Bayes] UFC GridSearchCV Training  ║\n",
      "╚═══════════════════════════════════════════╝\u001b[0m\n"
     ]
    },
    {
     "name": "stderr",
     "output_type": "stream",
     "text": [
      "INFO:root:[Naive Bayes] 🤖 Training...\n"
     ]
    },
    {
     "name": "stdout",
     "output_type": "stream",
     "text": [
      "Fitting 5 folds for each of 4 candidates, totalling 20 fits\n",
      "[CV 1/5] END ...............var_smoothing=1e-08;, score=0.585 total time=   0.0s\n",
      "[CV 2/5] END ...............var_smoothing=1e-08;, score=0.429 total time=   0.0s\n",
      "[CV 3/5] END ...............var_smoothing=1e-08;, score=0.587 total time=   0.0s\n",
      "[CV 4/5] END ...............var_smoothing=1e-08;, score=0.543 total time=   0.0s\n",
      "[CV 5/5] END ...............var_smoothing=1e-08;, score=0.579 total time=   0.0s\n",
      "[CV 1/5] END ...............var_smoothing=1e-07;, score=0.585 total time=   0.0s\n",
      "[CV 2/5] END ...............var_smoothing=1e-07;, score=0.432 total time=   0.0s\n",
      "[CV 3/5] END ...............var_smoothing=1e-07;, score=0.587 total time=   0.0s\n",
      "[CV 4/5] END ...............var_smoothing=1e-07;, score=0.543 total time=   0.0s\n",
      "[CV 5/5] END ...............var_smoothing=1e-07;, score=0.579 total time=   0.0s\n",
      "[CV 1/5] END ...............var_smoothing=1e-06;, score=0.585 total time=   0.0s\n",
      "[CV 2/5] END ...............var_smoothing=1e-06;, score=0.436 total time=   0.0s\n",
      "[CV 3/5] END ...............var_smoothing=1e-06;, score=0.587 total time=   0.0s\n",
      "[CV 4/5] END ...............var_smoothing=1e-06;, score=0.543 total time=   0.0s\n",
      "[CV 5/5] END ...............var_smoothing=1e-06;, score=0.579 total time=   0.0s\n",
      "[CV 1/5] END ...............var_smoothing=1e-05;, score=0.585 total time=   0.0s\n",
      "[CV 2/5] END ...............var_smoothing=1e-05;, score=0.436 total time=   0.0s\n",
      "[CV 3/5] END ...............var_smoothing=1e-05;, score=0.587 total time=   0.0s\n",
      "[CV 4/5] END ...............var_smoothing=1e-05;, score=0.543 total time=   0.0s\n",
      "[CV 5/5] END ...............var_smoothing=1e-05;, score=0.578 total time=   0.0s\n"
     ]
    },
    {
     "name": "stderr",
     "output_type": "stream",
     "text": [
      "INFO:root:[Naive Bayes] 🔍 Best Score: 0.5461\n",
      "[Naive Bayes] 🔍 Best Params: {'var_smoothing': 1e-06}\n"
     ]
    }
   ],
   "source": [
    "model_name = 'Naive Bayes'\n",
    "start = time.time()\n",
    "model = model_factory(model_name, ufc_train, model_params)\n",
    "end = time.time()\n",
    "duration = end - start"
   ]
  },
  {
   "cell_type": "markdown",
   "id": "ece1e78a-d149-4790-ac78-96eaffdcff69",
   "metadata": {},
   "source": [
    "#### 🔍 Naive Bayes Metrics"
   ]
  },
  {
   "cell_type": "code",
   "execution_count": 29,
   "id": "df22375c-77c9-4410-b0e0-fb93c6e67f07",
   "metadata": {
    "scrolled": true
   },
   "outputs": [
    {
     "name": "stdout",
     "output_type": "stream",
     "text": [
      "\u001b[92m╔═════════════════════════════════╗\n",
      "║  Evaluation for: [Naive Bayes]  ║\n",
      "╚═════════════════════════════════╝\u001b[0m\n",
      "\u001b[95m╔═════════════════════════════════════════════╗\n",
      "║  Best Parameters: {'var_smoothing': 1e-06}  ║\n",
      "╚═════════════════════════════════════════════╝\u001b[0m\n",
      "    Accuracy: 0.5982\n",
      "   Precision: 0.5276\n",
      "      Recall: 0.4164\n",
      "    F1 Score: 0.4654\n",
      "     ROC AUC: 0.5829\n",
      " Brier Score: 0.2743\n"
     ]
    }
   ],
   "source": [
    "metrics = evaluate_model(model, ufc_test, plot = False)"
   ]
  },
  {
   "cell_type": "markdown",
   "id": "cefcb965-9b00-4107-8401-5e6e4d4b62dd",
   "metadata": {},
   "source": [
    "### 📝 Log Training Results"
   ]
  },
  {
   "cell_type": "code",
   "execution_count": 30,
   "id": "ea3388a5-2661-4903-997b-3d489887c416",
   "metadata": {},
   "outputs": [
    {
     "name": "stdout",
     "output_type": "stream",
     "text": [
      "✅ Training logged to ../data/results/training_log.csv\n"
     ]
    }
   ],
   "source": [
    "log_training_result(model_name, model.best_params_, metrics, duration)"
   ]
  },
  {
   "cell_type": "markdown",
   "id": "8f709031-454d-4f8d-99bf-bf9dedcd83c8",
   "metadata": {},
   "source": [
    "### 💾 Save Model "
   ]
  },
  {
   "cell_type": "code",
   "execution_count": 31,
   "id": "e303de9f-7ac6-45c3-8ea7-20f4c37bb67c",
   "metadata": {},
   "outputs": [
    {
     "name": "stdout",
     "output_type": "stream",
     "text": [
      "✅ Model Naive Bayes saved to: /home/mfourier/ufc-predictor/models/nb_best.pkl\n"
     ]
    }
   ],
   "source": [
    "save_model(model, name=file_model_name[model_name])"
   ]
  },
  {
   "cell_type": "markdown",
   "id": "ee77f580-059a-4da4-be89-96c1aec97a92",
   "metadata": {},
   "source": [
    "### 4.7 Gradient Boosting Model"
   ]
  },
  {
   "cell_type": "markdown",
   "id": "2c14d4ef-8dc3-49b1-baa0-f9f17a36de74",
   "metadata": {},
   "source": [
    "#### 🚀 Gradient Boosting Training"
   ]
  },
  {
   "cell_type": "code",
   "execution_count": 32,
   "id": "15d4266e-a34b-4621-afcc-719601c66aa8",
   "metadata": {
    "scrolled": true
   },
   "outputs": [
    {
     "name": "stdout",
     "output_type": "stream",
     "text": [
      "\u001b[95m╔═════════════════════════════════════════════════╗\n",
      "║  [Gradient Boosting] UFC GridSearchCV Training  ║\n",
      "╚═════════════════════════════════════════════════╝\u001b[0m\n"
     ]
    },
    {
     "name": "stderr",
     "output_type": "stream",
     "text": [
      "INFO:root:[Gradient Boosting] 🤖 Training...\n"
     ]
    },
    {
     "name": "stdout",
     "output_type": "stream",
     "text": [
      "Fitting 5 folds for each of 12 candidates, totalling 60 fits\n",
      "[CV 1/5] END learning_rate=0.01, max_depth=3, n_estimators=50;, score=0.578 total time=   1.1s\n",
      "[CV 2/5] END learning_rate=0.01, max_depth=3, n_estimators=50;, score=0.585 total time=   1.1s\n",
      "[CV 3/5] END learning_rate=0.01, max_depth=3, n_estimators=50;, score=0.588 total time=   1.0s\n",
      "[CV 4/5] END learning_rate=0.01, max_depth=3, n_estimators=50;, score=0.582 total time=   1.1s\n",
      "[CV 5/5] END learning_rate=0.01, max_depth=3, n_estimators=50;, score=0.581 total time=   1.1s\n",
      "[CV 1/5] END learning_rate=0.01, max_depth=3, n_estimators=100;, score=0.594 total time=   2.1s\n",
      "[CV 2/5] END learning_rate=0.01, max_depth=3, n_estimators=100;, score=0.587 total time=   2.1s\n",
      "[CV 3/5] END learning_rate=0.01, max_depth=3, n_estimators=100;, score=0.592 total time=   2.1s\n",
      "[CV 4/5] END learning_rate=0.01, max_depth=3, n_estimators=100;, score=0.587 total time=   2.1s\n",
      "[CV 5/5] END learning_rate=0.01, max_depth=3, n_estimators=100;, score=0.596 total time=   2.1s\n",
      "[CV 1/5] END learning_rate=0.01, max_depth=5, n_estimators=50;, score=0.591 total time=   1.8s\n",
      "[CV 2/5] END learning_rate=0.01, max_depth=5, n_estimators=50;, score=0.585 total time=   1.8s\n",
      "[CV 3/5] END learning_rate=0.01, max_depth=5, n_estimators=50;, score=0.593 total time=   1.8s\n",
      "[CV 4/5] END learning_rate=0.01, max_depth=5, n_estimators=50;, score=0.584 total time=   1.8s\n",
      "[CV 5/5] END learning_rate=0.01, max_depth=5, n_estimators=50;, score=0.587 total time=   1.8s\n",
      "[CV 1/5] END learning_rate=0.01, max_depth=5, n_estimators=100;, score=0.610 total time=   3.6s\n",
      "[CV 2/5] END learning_rate=0.01, max_depth=5, n_estimators=100;, score=0.605 total time=   3.6s\n",
      "[CV 3/5] END learning_rate=0.01, max_depth=5, n_estimators=100;, score=0.592 total time=   3.6s\n",
      "[CV 4/5] END learning_rate=0.01, max_depth=5, n_estimators=100;, score=0.573 total time=   3.6s\n",
      "[CV 5/5] END learning_rate=0.01, max_depth=5, n_estimators=100;, score=0.599 total time=   3.6s\n",
      "[CV 1/5] END learning_rate=0.1, max_depth=3, n_estimators=50;, score=0.606 total time=   1.0s\n",
      "[CV 2/5] END learning_rate=0.1, max_depth=3, n_estimators=50;, score=0.606 total time=   1.0s\n",
      "[CV 3/5] END learning_rate=0.1, max_depth=3, n_estimators=50;, score=0.608 total time=   1.0s\n",
      "[CV 4/5] END learning_rate=0.1, max_depth=3, n_estimators=50;, score=0.599 total time=   1.0s\n",
      "[CV 5/5] END learning_rate=0.1, max_depth=3, n_estimators=50;, score=0.606 total time=   1.0s\n",
      "[CV 1/5] END learning_rate=0.1, max_depth=3, n_estimators=100;, score=0.618 total time=   2.0s\n",
      "[CV 2/5] END learning_rate=0.1, max_depth=3, n_estimators=100;, score=0.596 total time=   2.0s\n",
      "[CV 3/5] END learning_rate=0.1, max_depth=3, n_estimators=100;, score=0.609 total time=   2.0s\n",
      "[CV 4/5] END learning_rate=0.1, max_depth=3, n_estimators=100;, score=0.589 total time=   2.1s\n",
      "[CV 5/5] END learning_rate=0.1, max_depth=3, n_estimators=100;, score=0.598 total time=   2.1s\n",
      "[CV 1/5] END learning_rate=0.1, max_depth=5, n_estimators=50;, score=0.608 total time=   1.8s\n",
      "[CV 2/5] END learning_rate=0.1, max_depth=5, n_estimators=50;, score=0.592 total time=   1.8s\n",
      "[CV 3/5] END learning_rate=0.1, max_depth=5, n_estimators=50;, score=0.605 total time=   1.8s\n",
      "[CV 4/5] END learning_rate=0.1, max_depth=5, n_estimators=50;, score=0.586 total time=   1.8s\n",
      "[CV 5/5] END learning_rate=0.1, max_depth=5, n_estimators=50;, score=0.607 total time=   1.8s\n",
      "[CV 1/5] END learning_rate=0.1, max_depth=5, n_estimators=100;, score=0.605 total time=   3.5s\n",
      "[CV 2/5] END learning_rate=0.1, max_depth=5, n_estimators=100;, score=0.569 total time=   3.5s\n",
      "[CV 3/5] END learning_rate=0.1, max_depth=5, n_estimators=100;, score=0.600 total time=   3.5s\n",
      "[CV 4/5] END learning_rate=0.1, max_depth=5, n_estimators=100;, score=0.586 total time=   3.5s\n",
      "[CV 5/5] END learning_rate=0.1, max_depth=5, n_estimators=100;, score=0.612 total time=   3.5s\n",
      "[CV 1/5] END learning_rate=1.0, max_depth=3, n_estimators=50;, score=0.571 total time=   1.0s\n",
      "[CV 2/5] END learning_rate=1.0, max_depth=3, n_estimators=50;, score=0.556 total time=   1.0s\n",
      "[CV 3/5] END learning_rate=1.0, max_depth=3, n_estimators=50;, score=0.565 total time=   1.1s\n",
      "[CV 4/5] END learning_rate=1.0, max_depth=3, n_estimators=50;, score=0.554 total time=   1.0s\n",
      "[CV 5/5] END learning_rate=1.0, max_depth=3, n_estimators=50;, score=0.580 total time=   1.0s\n",
      "[CV 1/5] END learning_rate=1.0, max_depth=3, n_estimators=100;, score=0.571 total time=   2.1s\n",
      "[CV 2/5] END learning_rate=1.0, max_depth=3, n_estimators=100;, score=0.548 total time=   2.1s\n",
      "[CV 3/5] END learning_rate=1.0, max_depth=3, n_estimators=100;, score=0.539 total time=   2.1s\n",
      "[CV 4/5] END learning_rate=1.0, max_depth=3, n_estimators=100;, score=0.567 total time=   2.1s\n",
      "[CV 5/5] END learning_rate=1.0, max_depth=3, n_estimators=100;, score=0.565 total time=   2.1s\n",
      "[CV 1/5] END learning_rate=1.0, max_depth=5, n_estimators=50;, score=0.572 total time=   1.8s\n",
      "[CV 2/5] END learning_rate=1.0, max_depth=5, n_estimators=50;, score=0.563 total time=   1.8s\n",
      "[CV 3/5] END learning_rate=1.0, max_depth=5, n_estimators=50;, score=0.567 total time=   1.8s\n",
      "[CV 4/5] END learning_rate=1.0, max_depth=5, n_estimators=50;, score=0.554 total time=   1.8s\n",
      "[CV 5/5] END learning_rate=1.0, max_depth=5, n_estimators=50;, score=0.557 total time=   1.8s\n",
      "[CV 1/5] END learning_rate=1.0, max_depth=5, n_estimators=100;, score=0.580 total time=   3.5s\n",
      "[CV 2/5] END learning_rate=1.0, max_depth=5, n_estimators=100;, score=0.563 total time=   3.5s\n",
      "[CV 3/5] END learning_rate=1.0, max_depth=5, n_estimators=100;, score=0.581 total time=   3.5s\n",
      "[CV 4/5] END learning_rate=1.0, max_depth=5, n_estimators=100;, score=0.575 total time=   3.5s\n",
      "[CV 5/5] END learning_rate=1.0, max_depth=5, n_estimators=100;, score=0.559 total time=   3.5s\n"
     ]
    },
    {
     "name": "stderr",
     "output_type": "stream",
     "text": [
      "INFO:root:[Gradient Boosting] 🔍 Best Score: 0.6049\n",
      "[Gradient Boosting] 🔍 Best Params: {'learning_rate': 0.1, 'max_depth': 3, 'n_estimators': 50}\n"
     ]
    }
   ],
   "source": [
    "model_name = \"Gradient Boosting\"\n",
    "start = time.time()\n",
    "model = model_factory(model_name, ufc_train, model_params)\n",
    "end = time.time()\n",
    "duration = end - start"
   ]
  },
  {
   "cell_type": "markdown",
   "id": "63bc6138-31da-4653-be7b-939d5103f88f",
   "metadata": {},
   "source": [
    "#### 🔍 Gradient Boosting Metrics"
   ]
  },
  {
   "cell_type": "code",
   "execution_count": 33,
   "id": "155f383b-5da4-4b93-9259-7f34ca850a4a",
   "metadata": {},
   "outputs": [
    {
     "name": "stdout",
     "output_type": "stream",
     "text": [
      "\u001b[92m╔═══════════════════════════════════════╗\n",
      "║  Evaluation for: [Gradient Boosting]  ║\n",
      "╚═══════════════════════════════════════╝\u001b[0m\n",
      "\u001b[95m╔═══════════════════════════════════════════════════════════════════════════════╗\n",
      "║  Best Parameters: {'learning_rate': 0.1, 'max_depth': 3, 'n_estimators': 50}  ║\n",
      "╚═══════════════════════════════════════════════════════════════════════════════╝\u001b[0m\n",
      "    Accuracy: 0.6173\n",
      "   Precision: 0.6140\n",
      "      Recall: 0.2400\n",
      "    F1 Score: 0.3451\n",
      "     ROC AUC: 0.6319\n",
      " Brier Score: 0.2311\n"
     ]
    }
   ],
   "source": [
    "metrics = evaluate_model(model, ufc_test, plot = False)"
   ]
  },
  {
   "cell_type": "markdown",
   "id": "26032cd4-36a5-44df-a9a2-375df9fe7fe6",
   "metadata": {},
   "source": [
    "### 📝 Log Training Results"
   ]
  },
  {
   "cell_type": "code",
   "execution_count": 34,
   "id": "cc93c820-dcf9-45ac-a951-788562380f83",
   "metadata": {},
   "outputs": [
    {
     "name": "stdout",
     "output_type": "stream",
     "text": [
      "✅ Training logged to ../data/results/training_log.csv\n"
     ]
    }
   ],
   "source": [
    "log_training_result(model_name, model.best_params_, metrics, duration)"
   ]
  },
  {
   "cell_type": "markdown",
   "id": "64a416fa-f784-40f9-99b3-a664796abee6",
   "metadata": {},
   "source": [
    "### 💾 Save Model "
   ]
  },
  {
   "cell_type": "code",
   "execution_count": 35,
   "id": "c9d4cc3d-65bd-404f-bb8a-798183ec4648",
   "metadata": {},
   "outputs": [
    {
     "name": "stdout",
     "output_type": "stream",
     "text": [
      "✅ Model Gradient Boosting saved to: /home/mfourier/ufc-predictor/models/gb_best.pkl\n"
     ]
    }
   ],
   "source": [
    "save_model(model, name=file_model_name[model_name])"
   ]
  },
  {
   "cell_type": "markdown",
   "id": "1eb7a141-fc4e-4adb-81b1-d558cca39595",
   "metadata": {},
   "source": [
    "### 4.8 Extra Trees Model"
   ]
  },
  {
   "cell_type": "markdown",
   "id": "0ed5125b-a022-4637-b32c-67ec4c0ac082",
   "metadata": {},
   "source": [
    "#### 🚀 Extra Trees Training"
   ]
  },
  {
   "cell_type": "code",
   "execution_count": 36,
   "id": "d7006e4a-e8d6-4480-a5a1-6815843e9f8a",
   "metadata": {},
   "outputs": [
    {
     "name": "stdout",
     "output_type": "stream",
     "text": [
      "\u001b[95m╔═══════════════════════════════════════════╗\n",
      "║  [Extra Trees] UFC GridSearchCV Training  ║\n",
      "╚═══════════════════════════════════════════╝\u001b[0m\n"
     ]
    },
    {
     "name": "stderr",
     "output_type": "stream",
     "text": [
      "INFO:root:[Extra Trees] 🤖 Training...\n"
     ]
    },
    {
     "name": "stdout",
     "output_type": "stream",
     "text": [
      "Fitting 5 folds for each of 6 candidates, totalling 30 fits\n",
      "[CV 1/5] END ...max_depth=None, n_estimators=50;, score=0.596 total time=   0.4s\n",
      "[CV 2/5] END ...max_depth=None, n_estimators=50;, score=0.566 total time=   0.4s\n",
      "[CV 3/5] END ...max_depth=None, n_estimators=50;, score=0.606 total time=   0.4s\n",
      "[CV 4/5] END ...max_depth=None, n_estimators=50;, score=0.568 total time=   0.4s\n",
      "[CV 5/5] END ...max_depth=None, n_estimators=50;, score=0.576 total time=   0.4s\n",
      "[CV 1/5] END ..max_depth=None, n_estimators=100;, score=0.623 total time=   0.7s\n",
      "[CV 2/5] END ..max_depth=None, n_estimators=100;, score=0.590 total time=   0.7s\n",
      "[CV 3/5] END ..max_depth=None, n_estimators=100;, score=0.580 total time=   0.7s\n",
      "[CV 4/5] END ..max_depth=None, n_estimators=100;, score=0.582 total time=   0.7s\n",
      "[CV 5/5] END ..max_depth=None, n_estimators=100;, score=0.576 total time=   0.7s\n",
      "[CV 1/5] END .....max_depth=10, n_estimators=50;, score=0.591 total time=   0.1s\n",
      "[CV 2/5] END .....max_depth=10, n_estimators=50;, score=0.592 total time=   0.1s\n",
      "[CV 3/5] END .....max_depth=10, n_estimators=50;, score=0.591 total time=   0.1s\n",
      "[CV 4/5] END .....max_depth=10, n_estimators=50;, score=0.591 total time=   0.1s\n",
      "[CV 5/5] END .....max_depth=10, n_estimators=50;, score=0.586 total time=   0.1s\n",
      "[CV 1/5] END ....max_depth=10, n_estimators=100;, score=0.600 total time=   0.3s\n",
      "[CV 2/5] END ....max_depth=10, n_estimators=100;, score=0.588 total time=   0.3s\n",
      "[CV 3/5] END ....max_depth=10, n_estimators=100;, score=0.590 total time=   0.3s\n",
      "[CV 4/5] END ....max_depth=10, n_estimators=100;, score=0.577 total time=   0.3s\n",
      "[CV 5/5] END ....max_depth=10, n_estimators=100;, score=0.593 total time=   0.3s\n",
      "[CV 1/5] END .....max_depth=20, n_estimators=50;, score=0.601 total time=   0.3s\n",
      "[CV 2/5] END .....max_depth=20, n_estimators=50;, score=0.580 total time=   0.3s\n",
      "[CV 3/5] END .....max_depth=20, n_estimators=50;, score=0.590 total time=   0.3s\n",
      "[CV 4/5] END .....max_depth=20, n_estimators=50;, score=0.576 total time=   0.3s\n",
      "[CV 5/5] END .....max_depth=20, n_estimators=50;, score=0.583 total time=   0.3s\n",
      "[CV 1/5] END ....max_depth=20, n_estimators=100;, score=0.603 total time=   0.5s\n",
      "[CV 2/5] END ....max_depth=20, n_estimators=100;, score=0.593 total time=   0.5s\n",
      "[CV 3/5] END ....max_depth=20, n_estimators=100;, score=0.617 total time=   0.5s\n",
      "[CV 4/5] END ....max_depth=20, n_estimators=100;, score=0.597 total time=   0.5s\n",
      "[CV 5/5] END ....max_depth=20, n_estimators=100;, score=0.576 total time=   0.5s\n"
     ]
    },
    {
     "name": "stderr",
     "output_type": "stream",
     "text": [
      "INFO:root:[Extra Trees] 🔍 Best Score: 0.5969\n",
      "[Extra Trees] 🔍 Best Params: {'max_depth': 20, 'n_estimators': 100}\n"
     ]
    }
   ],
   "source": [
    "model_name = \"Extra Trees\"\n",
    "start = time.time()\n",
    "model = model_factory(model_name, ufc_train, model_params)\n",
    "end = time.time()\n",
    "duration = end - start"
   ]
  },
  {
   "cell_type": "markdown",
   "id": "79069ec4-aa2f-4478-9548-d0cd986f9f8b",
   "metadata": {},
   "source": [
    "#### 🔍 Extra Trees Metrics"
   ]
  },
  {
   "cell_type": "code",
   "execution_count": 37,
   "id": "251bfa29-3cd4-4fa6-b607-b77af743b82d",
   "metadata": {
    "scrolled": true
   },
   "outputs": [
    {
     "name": "stdout",
     "output_type": "stream",
     "text": [
      "\u001b[92m╔═════════════════════════════════╗\n",
      "║  Evaluation for: [Extra Trees]  ║\n",
      "╚═════════════════════════════════╝\u001b[0m\n",
      "\u001b[95m╔═══════════════════════════════════════════════════════════╗\n",
      "║  Best Parameters: {'max_depth': 20, 'n_estimators': 100}  ║\n",
      "╚═══════════════════════════════════════════════════════════╝\u001b[0m\n",
      "    Accuracy: 0.5943\n",
      "   Precision: 0.5487\n",
      "      Recall: 0.1945\n",
      "    F1 Score: 0.2872\n",
      "     ROC AUC: 0.6009\n",
      " Brier Score: 0.2350\n"
     ]
    }
   ],
   "source": [
    "metrics = evaluate_model(model, ufc_test, plot = False)"
   ]
  },
  {
   "cell_type": "markdown",
   "id": "2d5c5af6-fa40-4045-860e-857a42ee4b36",
   "metadata": {},
   "source": [
    "### 📝 Log Training Results"
   ]
  },
  {
   "cell_type": "code",
   "execution_count": 38,
   "id": "b6f8529c-0f47-4b61-ba0b-2e2e24217cc3",
   "metadata": {},
   "outputs": [
    {
     "name": "stdout",
     "output_type": "stream",
     "text": [
      "✅ Training logged to ../data/results/training_log.csv\n"
     ]
    }
   ],
   "source": [
    "log_training_result(model_name, model.best_params_, metrics, duration)"
   ]
  },
  {
   "cell_type": "markdown",
   "id": "e069cd30-61fc-491c-8597-bc1364a0374a",
   "metadata": {},
   "source": [
    "### 💾 Save Model "
   ]
  },
  {
   "cell_type": "code",
   "execution_count": 39,
   "id": "48f1da0a-d00c-4552-bf63-c580be0b887b",
   "metadata": {},
   "outputs": [
    {
     "name": "stdout",
     "output_type": "stream",
     "text": [
      "✅ Model Extra Trees saved to: /home/mfourier/ufc-predictor/models/et_best.pkl\n"
     ]
    }
   ],
   "source": [
    "save_model(model, name=file_model_name[model_name])"
   ]
  },
  {
   "cell_type": "markdown",
   "id": "000580fc-a31d-4618-84eb-b39b61a67298",
   "metadata": {},
   "source": [
    "### 4.9 Quadratic Discriminant Analysis Model"
   ]
  },
  {
   "cell_type": "markdown",
   "id": "32160a21-6a4e-4f86-8dd5-52648ce7bde9",
   "metadata": {},
   "source": [
    "#### 🚀 Quadratic Discriminant Analysis Training"
   ]
  },
  {
   "cell_type": "code",
   "execution_count": 44,
   "id": "48111ce5-7f61-4594-b23f-c0952ba18c36",
   "metadata": {},
   "outputs": [
    {
     "name": "stdout",
     "output_type": "stream",
     "text": [
      "\u001b[95m╔═══════════════════════════════════════════════════════════════╗\n",
      "║  [Quadratic Discriminant Analysis] UFC GridSearchCV Training  ║\n",
      "╚═══════════════════════════════════════════════════════════════╝\u001b[0m\n"
     ]
    },
    {
     "name": "stderr",
     "output_type": "stream",
     "text": [
      "INFO:root:[Quadratic Discriminant Analysis] 🤖 Training...\n"
     ]
    },
    {
     "name": "stdout",
     "output_type": "stream",
     "text": [
      "Fitting 5 folds for each of 2 candidates, totalling 10 fits\n",
      "[CV 1/5] END .....................reg_param=0.1;, score=0.600 total time=   0.0s\n",
      "[CV 2/5] END .....................reg_param=0.1;, score=0.472 total time=   0.0s\n",
      "[CV 3/5] END .....................reg_param=0.1;, score=0.588 total time=   0.0s\n",
      "[CV 4/5] END .....................reg_param=0.1;, score=0.534 total time=   0.0s\n",
      "[CV 5/5] END .....................reg_param=0.1;, score=0.533 total time=   0.0s\n",
      "[CV 1/5] END .......................reg_param=1;, score=0.596 total time=   0.0s\n",
      "[CV 2/5] END .......................reg_param=1;, score=0.577 total time=   0.0s\n",
      "[CV 3/5] END .......................reg_param=1;, score=0.604 total time=   0.0s\n",
      "[CV 4/5] END .......................reg_param=1;, score=0.575 total time=   0.0s\n",
      "[CV 5/5] END .......................reg_param=1;, score=0.576 total time=   0.0s\n"
     ]
    },
    {
     "name": "stderr",
     "output_type": "stream",
     "text": [
      "INFO:root:[Quadratic Discriminant Analysis] 🔍 Best Score: 0.5856\n",
      "[Quadratic Discriminant Analysis] 🔍 Best Params: {'reg_param': 1}\n"
     ]
    }
   ],
   "source": [
    "model_name = \"Quadratic Discriminant Analysis\"\n",
    "start = time.time()\n",
    "model = model_factory(model_name, ufc_train, model_params)\n",
    "end = time.time()\n",
    "duration = end - start"
   ]
  },
  {
   "cell_type": "markdown",
   "id": "63191dd2-b62e-4009-92f7-5a0061af7023",
   "metadata": {},
   "source": [
    "#### 🔍 Quadratic Discriminant Analysis Metrics"
   ]
  },
  {
   "cell_type": "code",
   "execution_count": 45,
   "id": "03aaf3a3-e0a9-439a-ad4a-f954eaec7702",
   "metadata": {},
   "outputs": [
    {
     "name": "stdout",
     "output_type": "stream",
     "text": [
      "\u001b[92m╔═════════════════════════════════════════════════════╗\n",
      "║  Evaluation for: [Quadratic Discriminant Analysis]  ║\n",
      "╚═════════════════════════════════════════════════════╝\u001b[0m\n",
      "\u001b[95m╔═════════════════════════════════════╗\n",
      "║  Best Parameters: {'reg_param': 1}  ║\n",
      "╚═════════════════════════════════════╝\u001b[0m\n",
      "    Accuracy: 0.5913\n",
      "   Precision: 0.5170\n",
      "      Recall: 0.4145\n",
      "    F1 Score: 0.4601\n",
      "     ROC AUC: 0.6070\n",
      " Brier Score: 0.2453\n"
     ]
    }
   ],
   "source": [
    "metrics = evaluate_model(model, ufc_test, plot = False)"
   ]
  },
  {
   "cell_type": "markdown",
   "id": "7558b6ba-c6e4-432b-a0a9-ae8bd2400ef9",
   "metadata": {},
   "source": [
    "### 📝 Log Training Results"
   ]
  },
  {
   "cell_type": "code",
   "execution_count": 46,
   "id": "7085f3f2-0c75-40b6-a811-860ae074297e",
   "metadata": {},
   "outputs": [
    {
     "name": "stdout",
     "output_type": "stream",
     "text": [
      "✅ Training logged to ../data/results/training_log.csv\n"
     ]
    }
   ],
   "source": [
    "log_training_result(model_name, model.best_params_, metrics, duration)"
   ]
  },
  {
   "cell_type": "markdown",
   "id": "c3c994ae-f489-43d2-a7a4-f74d590971fe",
   "metadata": {},
   "source": [
    "### 💾 Save Model "
   ]
  },
  {
   "cell_type": "code",
   "execution_count": 47,
   "id": "6e9a168d-5b4d-499d-b79f-abb9c31381db",
   "metadata": {},
   "outputs": [
    {
     "name": "stdout",
     "output_type": "stream",
     "text": [
      "✅ Model Quadratic Discriminant Analysis saved to: /home/mfourier/ufc-predictor/models/qda_best.pkl\n"
     ]
    }
   ],
   "source": [
    "save_model(model, name=file_model_name[model_name])"
   ]
  },
  {
   "cell_type": "markdown",
   "id": "880a4e9d-4811-4f9e-86ff-3f336c326106",
   "metadata": {},
   "source": []
  },
  {
   "cell_type": "markdown",
   "id": "3dc3c810-8201-4345-8ca1-7acae4b0dfb1",
   "metadata": {},
   "source": [
    "<div style=\"text-align: center;\">\n",
    "     <img src=\"../img/ufc_logo.png\" width=\"800\" /> \n",
    "</div>"
   ]
  },
  {
   "cell_type": "code",
   "execution_count": null,
   "id": "089a845e-5c0f-4cd6-9b68-80be37b95f51",
   "metadata": {},
   "outputs": [],
   "source": []
  },
  {
   "cell_type": "code",
   "execution_count": null,
   "id": "22976fd1-1b03-4f46-b804-faf5775696df",
   "metadata": {},
   "outputs": [],
   "source": []
  }
 ],
 "metadata": {
  "kernelspec": {
   "display_name": "Python 3 (ipykernel)",
   "language": "python",
   "name": "python3"
  },
  "language_info": {
   "codemirror_mode": {
    "name": "ipython",
    "version": 3
   },
   "file_extension": ".py",
   "mimetype": "text/x-python",
   "name": "python",
   "nbconvert_exporter": "python",
   "pygments_lexer": "ipython3",
   "version": "3.13.2"
  }
 },
 "nbformat": 4,
 "nbformat_minor": 5
}
