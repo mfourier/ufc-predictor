{
 "cells": [
  {
   "cell_type": "markdown",
   "id": "f09612b6-fe0c-4377-9380-b987af855909",
   "metadata": {},
   "source": [
    "# 🔹 UFC Model Experiments"
   ]
  },
  {
   "cell_type": "markdown",
   "id": "f2131b10-46b5-4bfe-8e39-5970545f57eb",
   "metadata": {},
   "source": [
    "<div style=\"text-align: center;\">\n",
    "  🔹 <img src=\"../img/ufc_logo.png\" width=\"50\" /> 🔹\n",
    "</div>"
   ]
  },
  {
   "cell_type": "markdown",
   "id": "31623b35-b326-4446-b9d8-cebe5a2e9291",
   "metadata": {},
   "source": [
    "## 1. Import Libraries and Setup Environment"
   ]
  },
  {
   "cell_type": "code",
   "execution_count": 1,
   "id": "9d507bd6-e395-4e0f-b5e9-edfce56d629d",
   "metadata": {},
   "outputs": [],
   "source": [
    "# Import necessary libraries\n",
    "import os\n",
    "import sys\n",
    "import pandas as pd\n",
    "import numpy as np\n",
    "\n",
    "# Get the current working directory\n",
    "current_dir = os.getcwd()\n",
    "\n",
    "# Navigate to the project root\n",
    "project_root = os.path.abspath(os.path.join(current_dir, '..'))\n",
    "\n",
    "# Import from /src\n",
    "sys.path.append(os.path.join(project_root, 'src'))\n",
    "from utils.metrics import *\n",
    "from models.model_factory import *\n",
    "from models.config import *\n",
    "from utils.io_model import *\n",
    "from utils.helpers import *\n",
    "\n",
    "# Define the path to the CSV file\n",
    "train_path = os.path.join(project_root, 'data', 'processed', 'ufc_train.csv')\n",
    "test_path = os.path.join(project_root, 'data', 'processed', 'ufc_test.csv')"
   ]
  },
  {
   "cell_type": "markdown",
   "id": "48ccb9c6-63ca-4f86-8df7-14dc8d904b8e",
   "metadata": {},
   "source": [
    "<div style=\"text-align: center;\">\n",
    "  🔹 <img src=\"../img/ufc_logo.png\" width=\"50\" /> 🔹\n",
    "</div>"
   ]
  },
  {
   "cell_type": "markdown",
   "id": "a652d2c8-5d08-471b-ac6c-19ceeeb65e6d",
   "metadata": {},
   "source": [
    "## 2. Load Data"
   ]
  },
  {
   "cell_type": "code",
   "execution_count": 2,
   "id": "5b91ed0e-8432-4e84-a009-92d03f3f58b3",
   "metadata": {},
   "outputs": [
    {
     "name": "stdout",
     "output_type": "stream",
     "text": [
      "\u001b[92m╔═════════════════════════════════════════════════════════════╗\n",
      "║  Data Training successfully loaded: 5232 rows, 47 columns.  ║\n",
      "╚═════════════════════════════════════════════════════════════╝\u001b[0m\n"
     ]
    }
   ],
   "source": [
    "# Load the CSV into a DataFrame\n",
    "try:\n",
    "    ufc_train = pd.read_csv(train_path)\n",
    "    print_header(f\"Data Training successfully loaded: {ufc_train.shape[0]} rows, {ufc_train.shape[1]} columns.\", color='bright_green')\n",
    "except Exception as e:\n",
    "    print_header(f\"Error loading training data: {e}\", color='bright_red')"
   ]
  },
  {
   "cell_type": "code",
   "execution_count": 3,
   "id": "9272f1f4-ebc4-41d4-a2ca-cc5de0f166a0",
   "metadata": {},
   "outputs": [
    {
     "name": "stdout",
     "output_type": "stream",
     "text": [
      "\u001b[92m╔════════════════════════════════════════════════════════════╗\n",
      "║  Data Testing successfully loaded: 1309 rows, 47 columns.  ║\n",
      "╚════════════════════════════════════════════════════════════╝\u001b[0m\n"
     ]
    }
   ],
   "source": [
    "try:\n",
    "    ufc_test = pd.read_csv(test_path)\n",
    "    print_header(f\"Data Testing successfully loaded: {ufc_test.shape[0]} rows, {ufc_test.shape[1]} columns.\", color='bright_green')\n",
    "except Exception as e:\n",
    "    print_header(f\"Error loading testing data: {e}\", color='bright_red')"
   ]
  },
  {
   "cell_type": "markdown",
   "id": "de9f5dad-9493-45af-be4c-1e99a66247b7",
   "metadata": {},
   "source": [
    "<div style=\"text-align: center;\">\n",
    "  🔹 <img src=\"../img/ufc_logo.png\" width=\"50\" /> 🔹\n",
    "</div>"
   ]
  },
  {
   "cell_type": "markdown",
   "id": "0a9f90d7-9e24-4ac1-933c-0265aca44e38",
   "metadata": {},
   "source": [
    "## 3. Load Models"
   ]
  },
  {
   "cell_type": "code",
   "execution_count": 4,
   "id": "3348f1c8-09a3-4d23-98b0-f778068a5225",
   "metadata": {},
   "outputs": [
    {
     "name": "stdout",
     "output_type": "stream",
     "text": [
      "📦 Model Logistic Regression loaded from: /home/mfourier/ufc-predictor/models/lr_best.pkl\n",
      "📦 Model Random Forest loaded from: /home/mfourier/ufc-predictor/models/rf_best.pkl\n",
      "📦 Model Support Vector Machine loaded from: /home/mfourier/ufc-predictor/models/svm_best.pkl\n",
      "📦 Model K-Nearest Neighbors loaded from: /home/mfourier/ufc-predictor/models/knn_best.pkl\n",
      "📦 Model AdaBoost loaded from: /home/mfourier/ufc-predictor/models/ab_best.pkl\n",
      "📦 Model Naive Bayes loaded from: /home/mfourier/ufc-predictor/models/nb_best.pkl\n",
      "📦 Model Extra Trees loaded from: /home/mfourier/ufc-predictor/models/et_best.pkl\n",
      "📦 Model Gradient Boosting loaded from: /home/mfourier/ufc-predictor/models/gb_best.pkl\n",
      "📦 Model Quadratic Discriminant Analysis loaded from: /home/mfourier/ufc-predictor/models/qda_best.pkl\n"
     ]
    }
   ],
   "source": [
    "models_dict = {pretty_model_names[name]: load_model(name) for name in list(pretty_model_names.keys())}"
   ]
  },
  {
   "cell_type": "markdown",
   "id": "bea2d1cc-516e-4934-ac57-dbd7e42db341",
   "metadata": {},
   "source": [
    "<div style=\"text-align: center;\">\n",
    "  🔹 <img src=\"../img/ufc_logo.png\" width=\"50\" /> 🔹\n",
    "</div>"
   ]
  },
  {
   "cell_type": "markdown",
   "id": "df4c1712-e5f2-46c2-b41d-130f39b0fef4",
   "metadata": {},
   "source": [
    "## 4. Evaluate Models"
   ]
  },
  {
   "cell_type": "markdown",
   "id": "9ff0afb5-9821-41bd-9a08-b2e23fbede7f",
   "metadata": {},
   "source": [
    "### Best Parameters Dictionary"
   ]
  },
  {
   "cell_type": "code",
   "execution_count": 6,
   "id": "f31073e0-3eb2-4852-aeef-2f1822e11b13",
   "metadata": {},
   "outputs": [],
   "source": [
    "parameters = parameters_dict(models_dict)"
   ]
  },
  {
   "cell_type": "code",
   "execution_count": 7,
   "id": "54bc6852-12aa-4eb8-833d-a604edb3c803",
   "metadata": {},
   "outputs": [
    {
     "data": {
      "text/plain": [
       "{'Logistic Regression': {'C': 1, 'solver': 'liblinear'},\n",
       " 'Random Forest': {'max_depth': 10, 'n_estimators': 100},\n",
       " 'Support Vector Machine': {'C': 1, 'gamma': 'auto', 'kernel': 'rbf'},\n",
       " 'K-Nearest Neighbors': {'metric': 'euclidean',\n",
       "  'n_neighbors': 7,\n",
       "  'weights': 'distance'},\n",
       " 'AdaBoost': {'learning_rate': 1.0, 'n_estimators': 100},\n",
       " 'Naive Bayes': {'var_smoothing': 1e-06},\n",
       " 'Extra Trees': {'max_depth': 10, 'n_estimators': 100},\n",
       " 'Gradient Boosting': {'learning_rate': 0.1,\n",
       "  'max_depth': 3,\n",
       "  'n_estimators': 50},\n",
       " 'Quadratic Discriminant Analysis': {'reg_param': 1}}"
      ]
     },
     "execution_count": 7,
     "metadata": {},
     "output_type": "execute_result"
    }
   ],
   "source": [
    "parameters"
   ]
  },
  {
   "cell_type": "markdown",
   "id": "9324291c-bb0b-4008-bdc7-62c2fa42278f",
   "metadata": {},
   "source": [
    "### Metrics Comparison"
   ]
  },
  {
   "cell_type": "code",
   "execution_count": 8,
   "id": "70f0fa52-2f28-4397-a1b5-98c994ddcfe7",
   "metadata": {
    "scrolled": true
   },
   "outputs": [
    {
     "name": "stdout",
     "output_type": "stream",
     "text": [
      "\u001b[92m╔══════════════════════════════════════╗\n",
      "║  Model Performance Metrics Computed  ║\n",
      "╚══════════════════════════════════════╝\u001b[0m\n"
     ]
    }
   ],
   "source": [
    "model_metrics = compare_metrics(models_dict, ufc_test)"
   ]
  },
  {
   "cell_type": "code",
   "execution_count": 9,
   "id": "792060a8-9034-400c-a5d3-a771b8e52c62",
   "metadata": {},
   "outputs": [
    {
     "data": {
      "text/html": [
       "<div>\n",
       "<style scoped>\n",
       "    .dataframe tbody tr th:only-of-type {\n",
       "        vertical-align: middle;\n",
       "    }\n",
       "\n",
       "    .dataframe tbody tr th {\n",
       "        vertical-align: top;\n",
       "    }\n",
       "\n",
       "    .dataframe thead th {\n",
       "        text-align: right;\n",
       "    }\n",
       "</style>\n",
       "<table border=\"1\" class=\"dataframe\">\n",
       "  <thead>\n",
       "    <tr style=\"text-align: right;\">\n",
       "      <th></th>\n",
       "      <th>Accuracy</th>\n",
       "      <th>Precision</th>\n",
       "      <th>Recall</th>\n",
       "      <th>F1 Score</th>\n",
       "    </tr>\n",
       "    <tr>\n",
       "      <th>Model</th>\n",
       "      <th></th>\n",
       "      <th></th>\n",
       "      <th></th>\n",
       "      <th></th>\n",
       "    </tr>\n",
       "  </thead>\n",
       "  <tbody>\n",
       "    <tr>\n",
       "      <th>Logistic Regression</th>\n",
       "      <td>0.627960</td>\n",
       "      <td>0.611307</td>\n",
       "      <td>0.314545</td>\n",
       "      <td>0.415366</td>\n",
       "    </tr>\n",
       "    <tr>\n",
       "      <th>Random Forest</th>\n",
       "      <td>0.608862</td>\n",
       "      <td>0.589623</td>\n",
       "      <td>0.227273</td>\n",
       "      <td>0.328084</td>\n",
       "    </tr>\n",
       "    <tr>\n",
       "      <th>Support Vector Machine</th>\n",
       "      <td>0.610390</td>\n",
       "      <td>0.596154</td>\n",
       "      <td>0.225455</td>\n",
       "      <td>0.327177</td>\n",
       "    </tr>\n",
       "    <tr>\n",
       "      <th>K-Nearest Neighbors</th>\n",
       "      <td>0.546218</td>\n",
       "      <td>0.452174</td>\n",
       "      <td>0.378182</td>\n",
       "      <td>0.411881</td>\n",
       "    </tr>\n",
       "    <tr>\n",
       "      <th>AdaBoost</th>\n",
       "      <td>0.607334</td>\n",
       "      <td>0.555901</td>\n",
       "      <td>0.325455</td>\n",
       "      <td>0.410550</td>\n",
       "    </tr>\n",
       "    <tr>\n",
       "      <th>Naive Bayes</th>\n",
       "      <td>0.598167</td>\n",
       "      <td>0.527650</td>\n",
       "      <td>0.416364</td>\n",
       "      <td>0.465447</td>\n",
       "    </tr>\n",
       "    <tr>\n",
       "      <th>Extra Trees</th>\n",
       "      <td>0.595111</td>\n",
       "      <td>0.635135</td>\n",
       "      <td>0.085455</td>\n",
       "      <td>0.150641</td>\n",
       "    </tr>\n",
       "    <tr>\n",
       "      <th>Gradient Boosting</th>\n",
       "      <td>0.617265</td>\n",
       "      <td>0.613953</td>\n",
       "      <td>0.240000</td>\n",
       "      <td>0.345098</td>\n",
       "    </tr>\n",
       "    <tr>\n",
       "      <th>Quadratic Discriminant Analysis</th>\n",
       "      <td>0.591291</td>\n",
       "      <td>0.517007</td>\n",
       "      <td>0.414545</td>\n",
       "      <td>0.460141</td>\n",
       "    </tr>\n",
       "  </tbody>\n",
       "</table>\n",
       "</div>"
      ],
      "text/plain": [
       "                                 Accuracy  Precision    Recall  F1 Score\n",
       "Model                                                                   \n",
       "Logistic Regression              0.627960   0.611307  0.314545  0.415366\n",
       "Random Forest                    0.608862   0.589623  0.227273  0.328084\n",
       "Support Vector Machine           0.610390   0.596154  0.225455  0.327177\n",
       "K-Nearest Neighbors              0.546218   0.452174  0.378182  0.411881\n",
       "AdaBoost                         0.607334   0.555901  0.325455  0.410550\n",
       "Naive Bayes                      0.598167   0.527650  0.416364  0.465447\n",
       "Extra Trees                      0.595111   0.635135  0.085455  0.150641\n",
       "Gradient Boosting                0.617265   0.613953  0.240000  0.345098\n",
       "Quadratic Discriminant Analysis  0.591291   0.517007  0.414545  0.460141"
      ]
     },
     "execution_count": 9,
     "metadata": {},
     "output_type": "execute_result"
    }
   ],
   "source": [
    "model_metrics"
   ]
  },
  {
   "cell_type": "markdown",
   "id": "2b8c505e-fc40-4873-9867-1efaa94f9df3",
   "metadata": {},
   "source": [
    "### Best Model per Metric"
   ]
  },
  {
   "cell_type": "code",
   "execution_count": 10,
   "id": "75cc161c-5b9f-4c1f-b57d-42770870f973",
   "metadata": {},
   "outputs": [],
   "source": [
    "best_models_by_metric = best_model_per_metric(model_metrics)"
   ]
  },
  {
   "cell_type": "code",
   "execution_count": 22,
   "id": "25d00d59-993d-4019-b867-0a8b106162a7",
   "metadata": {},
   "outputs": [
    {
     "data": {
      "text/html": [
       "<div>\n",
       "<style scoped>\n",
       "    .dataframe tbody tr th:only-of-type {\n",
       "        vertical-align: middle;\n",
       "    }\n",
       "\n",
       "    .dataframe tbody tr th {\n",
       "        vertical-align: top;\n",
       "    }\n",
       "\n",
       "    .dataframe thead th {\n",
       "        text-align: right;\n",
       "    }\n",
       "</style>\n",
       "<table border=\"1\" class=\"dataframe\">\n",
       "  <thead>\n",
       "    <tr style=\"text-align: right;\">\n",
       "      <th></th>\n",
       "      <th>Metric</th>\n",
       "      <th>Best Model</th>\n",
       "    </tr>\n",
       "  </thead>\n",
       "  <tbody>\n",
       "    <tr>\n",
       "      <th>1</th>\n",
       "      <td>Accuracy</td>\n",
       "      <td>Logistic Regression</td>\n",
       "    </tr>\n",
       "    <tr>\n",
       "      <th>2</th>\n",
       "      <td>Precision</td>\n",
       "      <td>Extra Trees</td>\n",
       "    </tr>\n",
       "    <tr>\n",
       "      <th>3</th>\n",
       "      <td>Recall</td>\n",
       "      <td>Naive Bayes</td>\n",
       "    </tr>\n",
       "    <tr>\n",
       "      <th>4</th>\n",
       "      <td>F1 Score</td>\n",
       "      <td>Naive Bayes</td>\n",
       "    </tr>\n",
       "  </tbody>\n",
       "</table>\n",
       "</div>"
      ],
      "text/plain": [
       "      Metric           Best Model\n",
       "1   Accuracy  Logistic Regression\n",
       "2  Precision          Extra Trees\n",
       "3     Recall          Naive Bayes\n",
       "4   F1 Score          Naive Bayes"
      ]
     },
     "execution_count": 22,
     "metadata": {},
     "output_type": "execute_result"
    }
   ],
   "source": [
    "best_models_df = pd.DataFrame(list(best_models_by_metric.items()), columns=['Metric', 'Best Model'], index= [1,2,3,4])\n",
    "best_models_df"
   ]
  },
  {
   "cell_type": "markdown",
   "id": "e249a0b9-6004-418b-ba46-815be01232cc",
   "metadata": {},
   "source": []
  },
  {
   "cell_type": "markdown",
   "id": "8284d607-56a8-4661-bb53-cd417308f6cc",
   "metadata": {},
   "source": [
    "<div style=\"text-align: center;\">\n",
    "     <img src=\"../img/ufc_logo.png\" width=\"800\" /> \n",
    "</div>"
   ]
  },
  {
   "cell_type": "code",
   "execution_count": null,
   "id": "e611f507-faad-4279-aed3-025b79e17f8c",
   "metadata": {},
   "outputs": [],
   "source": []
  }
 ],
 "metadata": {
  "kernelspec": {
   "display_name": "Python 3 (ipykernel)",
   "language": "python",
   "name": "python3"
  },
  "language_info": {
   "codemirror_mode": {
    "name": "ipython",
    "version": 3
   },
   "file_extension": ".py",
   "mimetype": "text/x-python",
   "name": "python",
   "nbconvert_exporter": "python",
   "pygments_lexer": "ipython3",
   "version": "3.13.2"
  }
 },
 "nbformat": 4,
 "nbformat_minor": 5
}
