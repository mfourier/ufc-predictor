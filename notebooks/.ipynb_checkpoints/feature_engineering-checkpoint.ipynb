{
 "cells": [
  {
   "cell_type": "markdown",
   "id": "12d664c2-e116-4152-8c17-0d57d0fa4a59",
   "metadata": {},
   "source": [
    "# 🔹UFC Feature Engineering"
   ]
  },
  {
   "cell_type": "markdown",
   "id": "b4951719",
   "metadata": {},
   "source": [
    "## 1. Import Libraries and Setup Environment"
   ]
  },
  {
   "cell_type": "code",
   "execution_count": null,
   "id": "ad176599-6b5f-47f6-aee0-86243f1f5085",
   "metadata": {},
   "outputs": [],
   "source": [
    "import os\n",
    "import sys\n",
    "import pandas as pd\n",
    "import numpy as np\n",
    "import matplotlib.pyplot as plt\n",
    "import seaborn as sns\n",
    "\n",
    "# Get the current working directory\n",
    "current_dir = os.getcwd()\n",
    "\n",
    "# Navigate to the project root\n",
    "project_root = os.path.abspath(os.path.join(current_dir, '..'))\n",
    "\n",
    "# Import from /src\n",
    "sys.path.append(os.path.join(project_root, 'src'))\n",
    "from utils.helpers import get_predictions"
   ]
  },
  {
   "cell_type": "markdown",
   "id": "9bbeecbe",
   "metadata": {},
   "source": [
    "## 2. Load Data"
   ]
  },
  {
   "cell_type": "code",
   "execution_count": null,
   "id": "63616235",
   "metadata": {},
   "outputs": [],
   "source": [
    "# Define the path to the CSV file\n",
    "file_path = os.path.join(project_root, 'data', 'processed', 'ufc_etl.csv')\n",
    "\n",
    "# Load the CSV into a DataFrame\n",
    "ufc_data = pd.read_csv(file_path)\n",
    "print(f\"Data successfully loaded: {df.shape[0]} rows, {df.shape[1]} columns.\")"
   ]
  },
  {
   "cell_type": "code",
   "execution_count": null,
   "id": "da5e0b7b-87a1-422a-afbc-0ad571bc57e2",
   "metadata": {},
   "outputs": [],
   "source": [
    "df['label'] = df['winner'].apply(lambda x: 1 if x == 'Blue' else 0)\n",
    "\n",
    "ufc_raw = pd.get_dummies(ufc_raw, columns=['TitleBout', 'Gender'], drop_first=True)\n",
    "\n",
    "ufc_raw= ufc_raw.rename(columns={'Winner_Red': 'label'})"
   ]
  },
  {
   "cell_type": "code",
   "execution_count": null,
   "id": "28a27934-5d46-43b3-afdc-32ee9d908475",
   "metadata": {
    "jupyter": {
     "source_hidden": true
    },
    "tags": []
   },
   "outputs": [],
   "source": [
    "categorical_cols = ['RedFighter', 'BlueFighter', 'WeightClass', 'BetterRank']\n",
    "binary_cols = ['TitleBout_True', 'Gender_MALE', 'label']\n",
    "\n",
    "for col in categorical_cols:\n",
    "    ufc_raw[col] = ufc_raw[col].astype('category')\n",
    "\n",
    "for col in binary_cols:\n",
    "    ufc_raw[col] = ufc_raw[col].astype(int)  # asegúrate de que son 0/1"
   ]
  },
  {
   "cell_type": "code",
   "execution_count": null,
   "id": "7bfe03c2-47d8-4527-b563-bb331d653950",
   "metadata": {},
   "outputs": [],
   "source": [
    "# Preview the first few records\n",
    "display(ufc_raw.head())\n",
    "display(ufc_raw.columns)\n",
    "# Para ver los tipos de dato de cada columna:\n",
    "display(ufc_raw.dtypes)"
   ]
  }
 ],
 "metadata": {
  "kernelspec": {
   "display_name": "Python 3 (ipykernel)",
   "language": "python",
   "name": "python3"
  },
  "language_info": {
   "codemirror_mode": {
    "name": "ipython",
    "version": 3
   },
   "file_extension": ".py",
   "mimetype": "text/x-python",
   "name": "python",
   "nbconvert_exporter": "python",
   "pygments_lexer": "ipython3",
   "version": "3.9.19"
  }
 },
 "nbformat": 4,
 "nbformat_minor": 5
}
