{
 "cells": [
  {
   "cell_type": "markdown",
   "id": "45b26eee-5f0f-4d8c-a95a-90d838027fb4",
   "metadata": {},
   "source": [
    "# 🔹UFC ETL"
   ]
  },
  {
   "cell_type": "markdown",
   "id": "68005cb1-c60c-41d8-9f42-9f46a0fece92",
   "metadata": {},
   "source": [
    "## 1. Import Libraries and Setup Environment"
   ]
  },
  {
   "cell_type": "code",
   "execution_count": 109,
   "id": "723578d5-67d1-45b9-abcf-4720534ad8aa",
   "metadata": {},
   "outputs": [],
   "source": [
    "import os\n",
    "import sys\n",
    "import pandas as pd\n",
    "import numpy as np\n",
    "import matplotlib.pyplot as plt\n",
    "import seaborn as sns\n",
    "\n",
    "# Get the current working directory\n",
    "current_dir = os.getcwd()\n",
    "\n",
    "# Navigate to the project root\n",
    "project_root = os.path.abspath(os.path.join(current_dir, '..'))"
   ]
  },
  {
   "cell_type": "markdown",
   "id": "87fd5690-06da-4641-a9f1-e0ee12cfd4aa",
   "metadata": {},
   "source": [
    "## 2. Load Data"
   ]
  },
  {
   "cell_type": "code",
   "execution_count": 110,
   "id": "f4149694-6a7f-4d41-bdae-c40686fae91f",
   "metadata": {},
   "outputs": [
    {
     "name": "stdout",
     "output_type": "stream",
     "text": [
      "Data loaded: 6541 rows and 118 columns.\n"
     ]
    }
   ],
   "source": [
    "# Define the path to the CSV file\n",
    "file_path = os.path.join(project_root, 'data', 'raw', 'ufc_raw.csv')\n",
    "\n",
    "ufc_raw = pd.read_csv(file_path)\n",
    "print(f\"Data loaded: {ufc_raw.shape[0]} rows and {ufc_raw.shape[1]} columns.\")"
   ]
  },
  {
   "cell_type": "markdown",
   "id": "0ec6b52d-bfcd-4b18-b959-91d88ee7756b",
   "metadata": {},
   "source": [
    "## 3. Preview"
   ]
  },
  {
   "cell_type": "code",
   "execution_count": 111,
   "id": "2080cd31-a22f-4f31-9a26-ae6acde6a6ca",
   "metadata": {},
   "outputs": [
    {
     "data": {
      "text/html": [
       "<div>\n",
       "<style scoped>\n",
       "    .dataframe tbody tr th:only-of-type {\n",
       "        vertical-align: middle;\n",
       "    }\n",
       "\n",
       "    .dataframe tbody tr th {\n",
       "        vertical-align: top;\n",
       "    }\n",
       "\n",
       "    .dataframe thead th {\n",
       "        text-align: right;\n",
       "    }\n",
       "</style>\n",
       "<table border=\"1\" class=\"dataframe\">\n",
       "  <thead>\n",
       "    <tr style=\"text-align: right;\">\n",
       "      <th></th>\n",
       "      <th>RedFighter</th>\n",
       "      <th>BlueFighter</th>\n",
       "      <th>RedOdds</th>\n",
       "      <th>BlueOdds</th>\n",
       "      <th>RedExpectedValue</th>\n",
       "      <th>BlueExpectedValue</th>\n",
       "      <th>Date</th>\n",
       "      <th>Location</th>\n",
       "      <th>Country</th>\n",
       "      <th>Winner</th>\n",
       "      <th>...</th>\n",
       "      <th>FinishDetails</th>\n",
       "      <th>FinishRound</th>\n",
       "      <th>FinishRoundTime</th>\n",
       "      <th>TotalFightTimeSecs</th>\n",
       "      <th>RedDecOdds</th>\n",
       "      <th>BlueDecOdds</th>\n",
       "      <th>RSubOdds</th>\n",
       "      <th>BSubOdds</th>\n",
       "      <th>RKOOdds</th>\n",
       "      <th>BKOOdds</th>\n",
       "    </tr>\n",
       "  </thead>\n",
       "  <tbody>\n",
       "    <tr>\n",
       "      <th>0</th>\n",
       "      <td>Colby Covington</td>\n",
       "      <td>Joaquin Buckley</td>\n",
       "      <td>205.0</td>\n",
       "      <td>-250.0</td>\n",
       "      <td>205.0000</td>\n",
       "      <td>40.0000</td>\n",
       "      <td>2024-12-14</td>\n",
       "      <td>Tampa, Florida, USA</td>\n",
       "      <td>USA</td>\n",
       "      <td>Blue</td>\n",
       "      <td>...</td>\n",
       "      <td>NaN</td>\n",
       "      <td>3.0</td>\n",
       "      <td>4:42</td>\n",
       "      <td>882.0</td>\n",
       "      <td>300.0</td>\n",
       "      <td>175.0</td>\n",
       "      <td>1800.0</td>\n",
       "      <td>2000.0</td>\n",
       "      <td>1100.0</td>\n",
       "      <td>150.0</td>\n",
       "    </tr>\n",
       "    <tr>\n",
       "      <th>1</th>\n",
       "      <td>Cub Swanson</td>\n",
       "      <td>Billy Quarantillo</td>\n",
       "      <td>124.0</td>\n",
       "      <td>-148.0</td>\n",
       "      <td>124.0000</td>\n",
       "      <td>67.5676</td>\n",
       "      <td>2024-12-14</td>\n",
       "      <td>Tampa, Florida, USA</td>\n",
       "      <td>USA</td>\n",
       "      <td>Red</td>\n",
       "      <td>...</td>\n",
       "      <td>Punch</td>\n",
       "      <td>3.0</td>\n",
       "      <td>1:36</td>\n",
       "      <td>696.0</td>\n",
       "      <td>250.0</td>\n",
       "      <td>NaN</td>\n",
       "      <td>1800.0</td>\n",
       "      <td>NaN</td>\n",
       "      <td>450.0</td>\n",
       "      <td>NaN</td>\n",
       "    </tr>\n",
       "    <tr>\n",
       "      <th>2</th>\n",
       "      <td>Manel Kape</td>\n",
       "      <td>Bruno Silva</td>\n",
       "      <td>-395.0</td>\n",
       "      <td>310.0</td>\n",
       "      <td>25.3165</td>\n",
       "      <td>310.0000</td>\n",
       "      <td>2024-12-14</td>\n",
       "      <td>Tampa, Florida, USA</td>\n",
       "      <td>USA</td>\n",
       "      <td>Red</td>\n",
       "      <td>...</td>\n",
       "      <td>Punches</td>\n",
       "      <td>3.0</td>\n",
       "      <td>1:57</td>\n",
       "      <td>717.0</td>\n",
       "      <td>-105.0</td>\n",
       "      <td>550.0</td>\n",
       "      <td>900.0</td>\n",
       "      <td>1800.0</td>\n",
       "      <td>225.0</td>\n",
       "      <td>1100.0</td>\n",
       "    </tr>\n",
       "    <tr>\n",
       "      <th>3</th>\n",
       "      <td>Vitor Petrino</td>\n",
       "      <td>Dustin Jacoby</td>\n",
       "      <td>-340.0</td>\n",
       "      <td>270.0</td>\n",
       "      <td>29.4118</td>\n",
       "      <td>270.0000</td>\n",
       "      <td>2024-12-14</td>\n",
       "      <td>Tampa, Florida, USA</td>\n",
       "      <td>USA</td>\n",
       "      <td>Blue</td>\n",
       "      <td>...</td>\n",
       "      <td>Punch</td>\n",
       "      <td>3.0</td>\n",
       "      <td>3:44</td>\n",
       "      <td>824.0</td>\n",
       "      <td>240.0</td>\n",
       "      <td>500.0</td>\n",
       "      <td>550.0</td>\n",
       "      <td>3000.0</td>\n",
       "      <td>110.0</td>\n",
       "      <td>800.0</td>\n",
       "    </tr>\n",
       "    <tr>\n",
       "      <th>4</th>\n",
       "      <td>Adrian Yanez</td>\n",
       "      <td>Daniel Marcos</td>\n",
       "      <td>185.0</td>\n",
       "      <td>-225.0</td>\n",
       "      <td>185.0000</td>\n",
       "      <td>44.4444</td>\n",
       "      <td>2024-12-14</td>\n",
       "      <td>Tampa, Florida, USA</td>\n",
       "      <td>USA</td>\n",
       "      <td>Blue</td>\n",
       "      <td>...</td>\n",
       "      <td>NaN</td>\n",
       "      <td>3.0</td>\n",
       "      <td>5:00</td>\n",
       "      <td>900.0</td>\n",
       "      <td>450.0</td>\n",
       "      <td>150.0</td>\n",
       "      <td>2200.0</td>\n",
       "      <td>2200.0</td>\n",
       "      <td>450.0</td>\n",
       "      <td>200.0</td>\n",
       "    </tr>\n",
       "  </tbody>\n",
       "</table>\n",
       "<p>5 rows × 118 columns</p>\n",
       "</div>"
      ],
      "text/plain": [
       "        RedFighter        BlueFighter  RedOdds  BlueOdds  RedExpectedValue  \\\n",
       "0  Colby Covington    Joaquin Buckley    205.0    -250.0          205.0000   \n",
       "1      Cub Swanson  Billy Quarantillo    124.0    -148.0          124.0000   \n",
       "2       Manel Kape        Bruno Silva   -395.0     310.0           25.3165   \n",
       "3    Vitor Petrino      Dustin Jacoby   -340.0     270.0           29.4118   \n",
       "4     Adrian Yanez      Daniel Marcos    185.0    -225.0          185.0000   \n",
       "\n",
       "   BlueExpectedValue        Date             Location Country Winner  ...  \\\n",
       "0            40.0000  2024-12-14  Tampa, Florida, USA     USA   Blue  ...   \n",
       "1            67.5676  2024-12-14  Tampa, Florida, USA     USA    Red  ...   \n",
       "2           310.0000  2024-12-14  Tampa, Florida, USA     USA    Red  ...   \n",
       "3           270.0000  2024-12-14  Tampa, Florida, USA     USA   Blue  ...   \n",
       "4            44.4444  2024-12-14  Tampa, Florida, USA     USA   Blue  ...   \n",
       "\n",
       "   FinishDetails FinishRound FinishRoundTime  TotalFightTimeSecs  RedDecOdds  \\\n",
       "0            NaN         3.0            4:42               882.0       300.0   \n",
       "1          Punch         3.0            1:36               696.0       250.0   \n",
       "2        Punches         3.0            1:57               717.0      -105.0   \n",
       "3          Punch         3.0            3:44               824.0       240.0   \n",
       "4            NaN         3.0            5:00               900.0       450.0   \n",
       "\n",
       "   BlueDecOdds  RSubOdds  BSubOdds  RKOOdds  BKOOdds  \n",
       "0        175.0    1800.0    2000.0   1100.0    150.0  \n",
       "1          NaN    1800.0       NaN    450.0      NaN  \n",
       "2        550.0     900.0    1800.0    225.0   1100.0  \n",
       "3        500.0     550.0    3000.0    110.0    800.0  \n",
       "4        150.0    2200.0    2200.0    450.0    200.0  \n",
       "\n",
       "[5 rows x 118 columns]"
      ]
     },
     "metadata": {},
     "output_type": "display_data"
    },
    {
     "name": "stdout",
     "output_type": "stream",
     "text": [
      "<class 'pandas.core.frame.DataFrame'>\n",
      "RangeIndex: 6541 entries, 0 to 6540\n",
      "Columns: 118 entries, RedFighter to BKOOdds\n",
      "dtypes: bool(1), float64(60), int64(43), object(14)\n",
      "memory usage: 5.8+ MB\n"
     ]
    }
   ],
   "source": [
    "# Preview the first few records\n",
    "display(ufc_raw.head())\n",
    "\n",
    "# General dataset information\n",
    "ufc_raw.info()"
   ]
  },
  {
   "cell_type": "code",
   "execution_count": 112,
   "id": "f78c623b-ac3e-4dc6-bcda-cb5604acd1df",
   "metadata": {},
   "outputs": [],
   "source": [
    "ufc_raw = ufc_raw.drop(['RedFighter','BlueFighter','RedOdds','BlueOdds','RedExpectedValue',\n",
    "                        'BlueExpectedValue','Date','Location','Country','EmptyArena',\n",
    "                       'Finish','FinishDetails','FinishRound','FinishRoundTime','RedDecOdds',\n",
    "                        'BlueDecOdds' , 'RSubOdds','BSubOdds','RKOOdds','BKOOdds','WeightClass'],axis=1)"
   ]
  },
  {
   "cell_type": "markdown",
   "id": "a7507bca-d8ba-491d-a9e2-1a6b2a9585af",
   "metadata": {},
   "source": [
    "## 4. Check "
   ]
  },
  {
   "cell_type": "code",
   "execution_count": 113,
   "id": "788a4ad5-25c0-4239-a326-c06be5c18e38",
   "metadata": {},
   "outputs": [
    {
     "name": "stdout",
     "output_type": "stream",
     "text": [
      "\n",
      "Null values per column:\n",
      " BlueAvgSigStrLanded       930\n",
      "BlueAvgSigStrPct          765\n",
      "BlueAvgSubAtt             832\n",
      "BlueAvgTDLanded           833\n",
      "BlueAvgTDPct              842\n",
      "BlueStance                  3\n",
      "RedAvgSigStrLanded        455\n",
      "RedAvgSigStrPct           357\n",
      "RedAvgSubAtt              357\n",
      "RedAvgTDLanded            357\n",
      "RedAvgTDPct               367\n",
      "BMatchWCRank             5339\n",
      "RMatchWCRank             4760\n",
      "RWFlyweightRank          6445\n",
      "RWFeatherweightRank      6532\n",
      "RWStrawweightRank        6395\n",
      "RWBantamweightRank       6387\n",
      "RHeavyweightRank         6355\n",
      "RLightHeavyweightRank    6357\n",
      "RMiddleweightRank        6359\n",
      "RWelterweightRank        6349\n",
      "RLightweightRank         6357\n",
      "RFeatherweightRank       6364\n",
      "RBantamweightRank        6360\n",
      "RFlyweightRank           6352\n",
      "RPFPRank                 6288\n",
      "BWFlyweightRank          6468\n",
      "BWFeatherweightRank      6540\n",
      "BWStrawweightRank        6441\n",
      "BWBantamweightRank       6434\n",
      "BHeavyweightRank         6393\n",
      "BLightHeavyweightRank    6421\n",
      "BMiddleweightRank        6404\n",
      "BWelterweightRank        6421\n",
      "BLightweightRank         6421\n",
      "BFeatherweightRank       6417\n",
      "BBantamweightRank        6422\n",
      "BFlyweightRank           6410\n",
      "BPFPRank                 6474\n",
      "TotalFightTimeSecs        622\n",
      "dtype: int64\n",
      "\n",
      "Duplicate rows: 0\n"
     ]
    }
   ],
   "source": [
    "# Null values check\n",
    "nulls = ufc_raw.isnull().sum()\n",
    "print(\"\\nNull values per column:\\n\", nulls[nulls > 0])\n",
    "\n",
    "# Duplicate analysis\n",
    "duplicates = ufc_raw.duplicated().sum()\n",
    "print(f\"\\nDuplicate rows: {duplicates}\")"
   ]
  },
  {
   "cell_type": "markdown",
   "id": "519fd7ba-dba6-427c-8cee-5d6697db7df1",
   "metadata": {},
   "source": [
    "## 5. Data Cleaning"
   ]
  },
  {
   "cell_type": "markdown",
   "id": "7f6f93ef-fbac-4c24-ab88-50f4c2fc79b3",
   "metadata": {},
   "source": [
    "### Null Values"
   ]
  },
  {
   "cell_type": "code",
   "execution_count": 114,
   "id": "cbba414b-9d4c-48b5-8171-b9da484556f2",
   "metadata": {},
   "outputs": [],
   "source": [
    "# Drop columns with too many null values (threshold: 30%)\n",
    "threshold = 0.4 * len(ufc_raw)\n",
    "cols_to_drop = [col for col in ufc_raw.columns if ufc_raw[col].isnull().sum() > threshold]\n",
    "ufc_raw.drop(columns=cols_to_drop, inplace=True)\n",
    "\n",
    "# Fill remaining null values with mean or mode, depending on the data type\n",
    "for col in ufc_raw.columns:\n",
    "    if ufc_raw[col].dtype == 'object':\n",
    "        mode = ufc_raw[col].mode()[0]\n",
    "        ufc_raw[col] = ufc_raw[col].fillna(mode)\n",
    "    else:\n",
    "        mean = ufc_raw[col].mean()\n",
    "        ufc_raw[col] = ufc_raw[col].fillna(mean)"
   ]
  },
  {
   "cell_type": "code",
   "execution_count": 115,
   "id": "34b4bd2c-490f-4f65-9477-256e42504422",
   "metadata": {},
   "outputs": [
    {
     "name": "stdout",
     "output_type": "stream",
     "text": [
      "\n",
      "Null values per column:\n",
      " Series([], dtype: int64)\n"
     ]
    }
   ],
   "source": [
    "# Null values check\n",
    "nulls = ufc_raw.isnull().sum()\n",
    "print(\"\\nNull values per column:\\n\", nulls[nulls > 0])"
   ]
  },
  {
   "cell_type": "code",
   "execution_count": 116,
   "id": "acf281df-5bf2-45c6-8a34-ea07bf617a58",
   "metadata": {},
   "outputs": [
    {
     "data": {
      "text/plain": [
       "array(['Orthodox', 'Southpaw', 'Switch', 'Open Stance'], dtype=object)"
      ]
     },
     "metadata": {},
     "output_type": "display_data"
    },
    {
     "data": {
      "text/plain": [
       "array(['Southpaw', 'Orthodox', 'Switch', 'Switch ', 'Open Stance'],\n",
       "      dtype=object)"
      ]
     },
     "metadata": {},
     "output_type": "display_data"
    }
   ],
   "source": [
    "#Vemos los valores\n",
    "display(ufc_raw['RedStance'].unique())\n",
    "display(ufc_raw['BlueStance'].unique())\n"
   ]
  },
  {
   "cell_type": "code",
   "execution_count": 117,
   "id": "0c3d31e5-9ed7-4766-b8b4-063b8b4c9e71",
   "metadata": {},
   "outputs": [
    {
     "name": "stderr",
     "output_type": "stream",
     "text": [
      "/var/folders/nz/rtdpw7510rz46ybxm78_3rnc0000gn/T/ipykernel_28598/451420980.py:1: FutureWarning: A value is trying to be set on a copy of a DataFrame or Series through chained assignment using an inplace method.\n",
      "The behavior will change in pandas 3.0. This inplace method will never work because the intermediate object on which we are setting values always behaves as a copy.\n",
      "\n",
      "For example, when doing 'df[col].method(value, inplace=True)', try using 'df.method({col: value}, inplace=True)' or df[col] = df[col].method(value) instead, to perform the operation inplace on the original object.\n",
      "\n",
      "\n",
      "  ufc_raw['BlueStance'].replace('Switch ', 'Switch', inplace=True)\n"
     ]
    }
   ],
   "source": [
    "ufc_raw['BlueStance'].replace('Switch ', 'Switch', inplace=True)"
   ]
  },
  {
   "cell_type": "code",
   "execution_count": 118,
   "id": "59665b8c-2198-46bb-8557-55d32e81bcd1",
   "metadata": {},
   "outputs": [
    {
     "data": {
      "text/plain": [
       "array(['Southpaw', 'Orthodox', 'Switch', 'Open Stance'], dtype=object)"
      ]
     },
     "metadata": {},
     "output_type": "display_data"
    }
   ],
   "source": [
    "display(ufc_raw['BlueStance'].unique())"
   ]
  },
  {
   "cell_type": "markdown",
   "id": "bde27d6e-3f3a-4e7e-ab0b-1b01be71e08f",
   "metadata": {},
   "source": [
    "### Incongruent Data"
   ]
  },
  {
   "cell_type": "code",
   "execution_count": 119,
   "id": "cd27e4bb-4f8e-4be7-b2e1-2cee0dccec5f",
   "metadata": {
    "scrolled": true
   },
   "outputs": [
    {
     "name": "stdout",
     "output_type": "stream",
     "text": [
      "       RedReachCms  BlueReachCms\n",
      "count  6541.000000   6541.000000\n",
      "mean    182.407227    182.155816\n",
      "std      11.136791     11.169171\n",
      "min     147.320000      0.000000\n",
      "25%     175.260000    175.260000\n",
      "50%     182.880000    182.880000\n",
      "75%     190.500000    190.500000\n",
      "max     214.630000    213.360000\n"
     ]
    }
   ],
   "source": [
    "print(ufc_raw[['RedReachCms', 'BlueReachCms']].describe())"
   ]
  },
  {
   "cell_type": "code",
   "execution_count": 120,
   "id": "1f4cd63b-c2d5-4969-8ab2-e6dbe3533cfe",
   "metadata": {},
   "outputs": [],
   "source": [
    "# Reemplazar ceros o nulos en los alcances antes de dividir\n",
    "ufc_raw['RedReachCms'] = ufc_raw['RedReachCms'].replace(0, ufc_raw['RedReachCms'].mean())\n",
    "ufc_raw['BlueReachCms'] = ufc_raw['BlueReachCms'].replace(0, ufc_raw['BlueReachCms'].mean())"
   ]
  },
  {
   "cell_type": "markdown",
   "id": "12a93f76-e987-4aff-bee3-a2526c7a74aa",
   "metadata": {},
   "source": [
    "## 6. Preview Clean Data"
   ]
  },
  {
   "cell_type": "code",
   "execution_count": 121,
   "id": "228671b0-7542-42ba-a3f5-a536affc5786",
   "metadata": {},
   "outputs": [
    {
     "data": {
      "text/html": [
       "<div>\n",
       "<style scoped>\n",
       "    .dataframe tbody tr th:only-of-type {\n",
       "        vertical-align: middle;\n",
       "    }\n",
       "\n",
       "    .dataframe tbody tr th {\n",
       "        vertical-align: top;\n",
       "    }\n",
       "\n",
       "    .dataframe thead th {\n",
       "        text-align: right;\n",
       "    }\n",
       "</style>\n",
       "<table border=\"1\" class=\"dataframe\">\n",
       "  <thead>\n",
       "    <tr style=\"text-align: right;\">\n",
       "      <th></th>\n",
       "      <th>Winner</th>\n",
       "      <th>TitleBout</th>\n",
       "      <th>Gender</th>\n",
       "      <th>NumberOfRounds</th>\n",
       "      <th>BlueCurrentLoseStreak</th>\n",
       "      <th>BlueCurrentWinStreak</th>\n",
       "      <th>BlueDraws</th>\n",
       "      <th>BlueAvgSigStrLanded</th>\n",
       "      <th>BlueAvgSigStrPct</th>\n",
       "      <th>BlueAvgSubAtt</th>\n",
       "      <th>...</th>\n",
       "      <th>KODif</th>\n",
       "      <th>SubDif</th>\n",
       "      <th>HeightDif</th>\n",
       "      <th>ReachDif</th>\n",
       "      <th>AgeDif</th>\n",
       "      <th>SigStrDif</th>\n",
       "      <th>AvgSubAttDif</th>\n",
       "      <th>AvgTDDif</th>\n",
       "      <th>BetterRank</th>\n",
       "      <th>TotalFightTimeSecs</th>\n",
       "    </tr>\n",
       "  </thead>\n",
       "  <tbody>\n",
       "    <tr>\n",
       "      <th>0</th>\n",
       "      <td>Blue</td>\n",
       "      <td>False</td>\n",
       "      <td>MALE</td>\n",
       "      <td>5</td>\n",
       "      <td>0</td>\n",
       "      <td>5</td>\n",
       "      <td>0</td>\n",
       "      <td>4.13</td>\n",
       "      <td>0.36</td>\n",
       "      <td>0.0</td>\n",
       "      <td>...</td>\n",
       "      <td>4</td>\n",
       "      <td>-2</td>\n",
       "      <td>-2.54</td>\n",
       "      <td>10.16</td>\n",
       "      <td>-6</td>\n",
       "      <td>0.25</td>\n",
       "      <td>-0.2</td>\n",
       "      <td>-1.83</td>\n",
       "      <td>Red</td>\n",
       "      <td>882.0</td>\n",
       "    </tr>\n",
       "    <tr>\n",
       "      <th>1</th>\n",
       "      <td>Red</td>\n",
       "      <td>False</td>\n",
       "      <td>MALE</td>\n",
       "      <td>3</td>\n",
       "      <td>1</td>\n",
       "      <td>0</td>\n",
       "      <td>0</td>\n",
       "      <td>7.36</td>\n",
       "      <td>0.56</td>\n",
       "      <td>1.1</td>\n",
       "      <td>...</td>\n",
       "      <td>-2</td>\n",
       "      <td>-1</td>\n",
       "      <td>5.08</td>\n",
       "      <td>0.00</td>\n",
       "      <td>-5</td>\n",
       "      <td>2.69</td>\n",
       "      <td>0.7</td>\n",
       "      <td>0.20</td>\n",
       "      <td>neither</td>\n",
       "      <td>696.0</td>\n",
       "    </tr>\n",
       "    <tr>\n",
       "      <th>2</th>\n",
       "      <td>Red</td>\n",
       "      <td>False</td>\n",
       "      <td>MALE</td>\n",
       "      <td>3</td>\n",
       "      <td>0</td>\n",
       "      <td>4</td>\n",
       "      <td>0</td>\n",
       "      <td>3.32</td>\n",
       "      <td>0.48</td>\n",
       "      <td>0.2</td>\n",
       "      <td>...</td>\n",
       "      <td>1</td>\n",
       "      <td>1</td>\n",
       "      <td>-2.54</td>\n",
       "      <td>-7.62</td>\n",
       "      <td>3</td>\n",
       "      <td>-1.12</td>\n",
       "      <td>-0.2</td>\n",
       "      <td>1.72</td>\n",
       "      <td>Red</td>\n",
       "      <td>717.0</td>\n",
       "    </tr>\n",
       "    <tr>\n",
       "      <th>3</th>\n",
       "      <td>Blue</td>\n",
       "      <td>False</td>\n",
       "      <td>MALE</td>\n",
       "      <td>3</td>\n",
       "      <td>2</td>\n",
       "      <td>0</td>\n",
       "      <td>1</td>\n",
       "      <td>5.50</td>\n",
       "      <td>0.47</td>\n",
       "      <td>0.0</td>\n",
       "      <td>...</td>\n",
       "      <td>2</td>\n",
       "      <td>-1</td>\n",
       "      <td>2.54</td>\n",
       "      <td>-2.54</td>\n",
       "      <td>9</td>\n",
       "      <td>2.68</td>\n",
       "      <td>-0.8</td>\n",
       "      <td>-3.62</td>\n",
       "      <td>neither</td>\n",
       "      <td>824.0</td>\n",
       "    </tr>\n",
       "    <tr>\n",
       "      <th>4</th>\n",
       "      <td>Blue</td>\n",
       "      <td>False</td>\n",
       "      <td>MALE</td>\n",
       "      <td>3</td>\n",
       "      <td>0</td>\n",
       "      <td>4</td>\n",
       "      <td>0</td>\n",
       "      <td>5.94</td>\n",
       "      <td>0.52</td>\n",
       "      <td>0.0</td>\n",
       "      <td>...</td>\n",
       "      <td>-5</td>\n",
       "      <td>0</td>\n",
       "      <td>0.00</td>\n",
       "      <td>-2.54</td>\n",
       "      <td>0</td>\n",
       "      <td>-0.57</td>\n",
       "      <td>0.0</td>\n",
       "      <td>0.25</td>\n",
       "      <td>neither</td>\n",
       "      <td>900.0</td>\n",
       "    </tr>\n",
       "  </tbody>\n",
       "</table>\n",
       "<p>5 rows × 69 columns</p>\n",
       "</div>"
      ],
      "text/plain": [
       "  Winner  TitleBout Gender  NumberOfRounds  BlueCurrentLoseStreak  \\\n",
       "0   Blue      False   MALE               5                      0   \n",
       "1    Red      False   MALE               3                      1   \n",
       "2    Red      False   MALE               3                      0   \n",
       "3   Blue      False   MALE               3                      2   \n",
       "4   Blue      False   MALE               3                      0   \n",
       "\n",
       "   BlueCurrentWinStreak  BlueDraws  BlueAvgSigStrLanded  BlueAvgSigStrPct  \\\n",
       "0                     5          0                 4.13              0.36   \n",
       "1                     0          0                 7.36              0.56   \n",
       "2                     4          0                 3.32              0.48   \n",
       "3                     0          1                 5.50              0.47   \n",
       "4                     4          0                 5.94              0.52   \n",
       "\n",
       "   BlueAvgSubAtt  ...  KODif  SubDif  HeightDif  ReachDif  AgeDif  SigStrDif  \\\n",
       "0            0.0  ...      4      -2      -2.54     10.16      -6       0.25   \n",
       "1            1.1  ...     -2      -1       5.08      0.00      -5       2.69   \n",
       "2            0.2  ...      1       1      -2.54     -7.62       3      -1.12   \n",
       "3            0.0  ...      2      -1       2.54     -2.54       9       2.68   \n",
       "4            0.0  ...     -5       0       0.00     -2.54       0      -0.57   \n",
       "\n",
       "   AvgSubAttDif  AvgTDDif  BetterRank  TotalFightTimeSecs  \n",
       "0          -0.2     -1.83         Red               882.0  \n",
       "1           0.7      0.20     neither               696.0  \n",
       "2          -0.2      1.72         Red               717.0  \n",
       "3          -0.8     -3.62     neither               824.0  \n",
       "4           0.0      0.25     neither               900.0  \n",
       "\n",
       "[5 rows x 69 columns]"
      ]
     },
     "metadata": {},
     "output_type": "display_data"
    },
    {
     "name": "stdout",
     "output_type": "stream",
     "text": [
      "<class 'pandas.core.frame.DataFrame'>\n",
      "RangeIndex: 6541 entries, 0 to 6540\n",
      "Data columns (total 69 columns):\n",
      " #   Column                       Non-Null Count  Dtype  \n",
      "---  ------                       --------------  -----  \n",
      " 0   Winner                       6541 non-null   object \n",
      " 1   TitleBout                    6541 non-null   bool   \n",
      " 2   Gender                       6541 non-null   object \n",
      " 3   NumberOfRounds               6541 non-null   int64  \n",
      " 4   BlueCurrentLoseStreak        6541 non-null   int64  \n",
      " 5   BlueCurrentWinStreak         6541 non-null   int64  \n",
      " 6   BlueDraws                    6541 non-null   int64  \n",
      " 7   BlueAvgSigStrLanded          6541 non-null   float64\n",
      " 8   BlueAvgSigStrPct             6541 non-null   float64\n",
      " 9   BlueAvgSubAtt                6541 non-null   float64\n",
      " 10  BlueAvgTDLanded              6541 non-null   float64\n",
      " 11  BlueAvgTDPct                 6541 non-null   float64\n",
      " 12  BlueLongestWinStreak         6541 non-null   int64  \n",
      " 13  BlueLosses                   6541 non-null   int64  \n",
      " 14  BlueTotalRoundsFought        6541 non-null   int64  \n",
      " 15  BlueTotalTitleBouts          6541 non-null   int64  \n",
      " 16  BlueWinsByDecisionMajority   6541 non-null   int64  \n",
      " 17  BlueWinsByDecisionSplit      6541 non-null   int64  \n",
      " 18  BlueWinsByDecisionUnanimous  6541 non-null   int64  \n",
      " 19  BlueWinsByKO                 6541 non-null   int64  \n",
      " 20  BlueWinsBySubmission         6541 non-null   int64  \n",
      " 21  BlueWinsByTKODoctorStoppage  6541 non-null   int64  \n",
      " 22  BlueWins                     6541 non-null   int64  \n",
      " 23  BlueStance                   6541 non-null   object \n",
      " 24  BlueHeightCms                6541 non-null   float64\n",
      " 25  BlueReachCms                 6541 non-null   float64\n",
      " 26  BlueWeightLbs                6541 non-null   int64  \n",
      " 27  RedCurrentLoseStreak         6541 non-null   int64  \n",
      " 28  RedCurrentWinStreak          6541 non-null   int64  \n",
      " 29  RedDraws                     6541 non-null   int64  \n",
      " 30  RedAvgSigStrLanded           6541 non-null   float64\n",
      " 31  RedAvgSigStrPct              6541 non-null   float64\n",
      " 32  RedAvgSubAtt                 6541 non-null   float64\n",
      " 33  RedAvgTDLanded               6541 non-null   float64\n",
      " 34  RedAvgTDPct                  6541 non-null   float64\n",
      " 35  RedLongestWinStreak          6541 non-null   int64  \n",
      " 36  RedLosses                    6541 non-null   int64  \n",
      " 37  RedTotalRoundsFought         6541 non-null   int64  \n",
      " 38  RedTotalTitleBouts           6541 non-null   int64  \n",
      " 39  RedWinsByDecisionMajority    6541 non-null   int64  \n",
      " 40  RedWinsByDecisionSplit       6541 non-null   int64  \n",
      " 41  RedWinsByDecisionUnanimous   6541 non-null   int64  \n",
      " 42  RedWinsByKO                  6541 non-null   int64  \n",
      " 43  RedWinsBySubmission          6541 non-null   int64  \n",
      " 44  RedWinsByTKODoctorStoppage   6541 non-null   int64  \n",
      " 45  RedWins                      6541 non-null   int64  \n",
      " 46  RedStance                    6541 non-null   object \n",
      " 47  RedHeightCms                 6541 non-null   float64\n",
      " 48  RedReachCms                  6541 non-null   float64\n",
      " 49  RedWeightLbs                 6541 non-null   int64  \n",
      " 50  RedAge                       6541 non-null   int64  \n",
      " 51  BlueAge                      6541 non-null   int64  \n",
      " 52  LoseStreakDif                6541 non-null   int64  \n",
      " 53  WinStreakDif                 6541 non-null   int64  \n",
      " 54  LongestWinStreakDif          6541 non-null   int64  \n",
      " 55  WinDif                       6541 non-null   int64  \n",
      " 56  LossDif                      6541 non-null   int64  \n",
      " 57  TotalRoundDif                6541 non-null   int64  \n",
      " 58  TotalTitleBoutDif            6541 non-null   int64  \n",
      " 59  KODif                        6541 non-null   int64  \n",
      " 60  SubDif                       6541 non-null   int64  \n",
      " 61  HeightDif                    6541 non-null   float64\n",
      " 62  ReachDif                     6541 non-null   float64\n",
      " 63  AgeDif                       6541 non-null   int64  \n",
      " 64  SigStrDif                    6541 non-null   float64\n",
      " 65  AvgSubAttDif                 6541 non-null   float64\n",
      " 66  AvgTDDif                     6541 non-null   float64\n",
      " 67  BetterRank                   6541 non-null   object \n",
      " 68  TotalFightTimeSecs           6541 non-null   float64\n",
      "dtypes: bool(1), float64(20), int64(43), object(5)\n",
      "memory usage: 3.4+ MB\n"
     ]
    }
   ],
   "source": [
    "# Preview the first few records\n",
    "display(ufc_raw.head())\n",
    "\n",
    "# General dataset information\n",
    "ufc_raw.info()\n",
    "\n"
   ]
  },
  {
   "cell_type": "code",
   "execution_count": 122,
   "id": "5ac15941-fb79-4d5e-b108-be632c27d479",
   "metadata": {},
   "outputs": [
    {
     "data": {
      "image/png": "[encoded data removed]",
      "text/plain": [
       "<Figure size 800x400 with 1 Axes>"
      ]
     },
     "metadata": {},
     "output_type": "display_data"
    },
    {
     "data": {
      "image/png": "[encoded data removed]",
      "text/plain": [
       "<Figure size 800x400 with 1 Axes>"
      ]
     },
     "metadata": {},
     "output_type": "display_data"
    },
    {
     "data": {
      "image/png": "[encoded data removed]",
      "text/plain": [
       "<Figure size 800x400 with 1 Axes>"
      ]
     },
     "metadata": {},
     "output_type": "display_data"
    },
    {
     "data": {
      "image/png": "[encoded data removed]",
      "text/plain": [
       "<Figure size 800x400 with 1 Axes>"
      ]
     },
     "metadata": {},
     "output_type": "display_data"
    }
   ],
   "source": [
    "cols = ['RedAge', 'BlueAge', 'RedHeightCms', 'BlueHeightCms']\n",
    "\n",
    "import seaborn as sns\n",
    "import matplotlib.pyplot as plt\n",
    "\n",
    "for col in cols:\n",
    "    plt.figure(figsize=(8, 4))\n",
    "    sns.boxplot(x=ufc_raw[col])\n",
    "    plt.title(f'{col} - Boxplot')\n",
    "    plt.show()"
   ]
  },
  {
   "cell_type": "markdown",
   "id": "20079d49-14de-43f1-8ea3-e0100c84b641",
   "metadata": {},
   "source": [
    "## 7. Check Clean Data"
   ]
  },
  {
   "cell_type": "code",
   "execution_count": 123,
   "id": "5158e2e2-53f6-41e7-aa80-93ab31021d81",
   "metadata": {},
   "outputs": [
    {
     "name": "stdout",
     "output_type": "stream",
     "text": [
      "\n",
      "Null values per column:\n",
      " Series([], dtype: int64)\n",
      "\n",
      "Duplicate rows: 0\n"
     ]
    }
   ],
   "source": [
    "# Null values check\n",
    "nulls = ufc_raw.isnull().sum()\n",
    "print(\"\\nNull values per column:\\n\", nulls[nulls > 0])\n",
    "\n",
    "# Duplicate analysis\n",
    "duplicates = ufc_raw.duplicated().sum()\n",
    "print(f\"\\nDuplicate rows: {duplicates}\")"
   ]
  },
  {
   "cell_type": "code",
   "execution_count": 124,
   "id": "6dbf9252-bbd5-40a7-9789-3ca15bbab161",
   "metadata": {},
   "outputs": [
    {
     "data": {
      "text/html": [
       "<div>\n",
       "<style scoped>\n",
       "    .dataframe tbody tr th:only-of-type {\n",
       "        vertical-align: middle;\n",
       "    }\n",
       "\n",
       "    .dataframe tbody tr th {\n",
       "        vertical-align: top;\n",
       "    }\n",
       "\n",
       "    .dataframe thead th {\n",
       "        text-align: right;\n",
       "    }\n",
       "</style>\n",
       "<table border=\"1\" class=\"dataframe\">\n",
       "  <thead>\n",
       "    <tr style=\"text-align: right;\">\n",
       "      <th></th>\n",
       "      <th>Winner</th>\n",
       "      <th>TitleBout</th>\n",
       "      <th>Gender</th>\n",
       "      <th>NumberOfRounds</th>\n",
       "      <th>BlueCurrentLoseStreak</th>\n",
       "      <th>BlueCurrentWinStreak</th>\n",
       "      <th>BlueDraws</th>\n",
       "      <th>BlueAvgSigStrLanded</th>\n",
       "      <th>BlueAvgSigStrPct</th>\n",
       "      <th>BlueAvgSubAtt</th>\n",
       "      <th>...</th>\n",
       "      <th>KODif</th>\n",
       "      <th>SubDif</th>\n",
       "      <th>HeightDif</th>\n",
       "      <th>ReachDif</th>\n",
       "      <th>AgeDif</th>\n",
       "      <th>SigStrDif</th>\n",
       "      <th>AvgSubAttDif</th>\n",
       "      <th>AvgTDDif</th>\n",
       "      <th>BetterRank</th>\n",
       "      <th>TotalFightTimeSecs</th>\n",
       "    </tr>\n",
       "  </thead>\n",
       "  <tbody>\n",
       "    <tr>\n",
       "      <th>0</th>\n",
       "      <td>Blue</td>\n",
       "      <td>False</td>\n",
       "      <td>MALE</td>\n",
       "      <td>5</td>\n",
       "      <td>0</td>\n",
       "      <td>5</td>\n",
       "      <td>0</td>\n",
       "      <td>4.13</td>\n",
       "      <td>0.36</td>\n",
       "      <td>0.0</td>\n",
       "      <td>...</td>\n",
       "      <td>4</td>\n",
       "      <td>-2</td>\n",
       "      <td>-2.54</td>\n",
       "      <td>10.16</td>\n",
       "      <td>-6</td>\n",
       "      <td>0.25</td>\n",
       "      <td>-0.2</td>\n",
       "      <td>-1.83</td>\n",
       "      <td>Red</td>\n",
       "      <td>882.0</td>\n",
       "    </tr>\n",
       "    <tr>\n",
       "      <th>1</th>\n",
       "      <td>Red</td>\n",
       "      <td>False</td>\n",
       "      <td>MALE</td>\n",
       "      <td>3</td>\n",
       "      <td>1</td>\n",
       "      <td>0</td>\n",
       "      <td>0</td>\n",
       "      <td>7.36</td>\n",
       "      <td>0.56</td>\n",
       "      <td>1.1</td>\n",
       "      <td>...</td>\n",
       "      <td>-2</td>\n",
       "      <td>-1</td>\n",
       "      <td>5.08</td>\n",
       "      <td>0.00</td>\n",
       "      <td>-5</td>\n",
       "      <td>2.69</td>\n",
       "      <td>0.7</td>\n",
       "      <td>0.20</td>\n",
       "      <td>neither</td>\n",
       "      <td>696.0</td>\n",
       "    </tr>\n",
       "    <tr>\n",
       "      <th>2</th>\n",
       "      <td>Red</td>\n",
       "      <td>False</td>\n",
       "      <td>MALE</td>\n",
       "      <td>3</td>\n",
       "      <td>0</td>\n",
       "      <td>4</td>\n",
       "      <td>0</td>\n",
       "      <td>3.32</td>\n",
       "      <td>0.48</td>\n",
       "      <td>0.2</td>\n",
       "      <td>...</td>\n",
       "      <td>1</td>\n",
       "      <td>1</td>\n",
       "      <td>-2.54</td>\n",
       "      <td>-7.62</td>\n",
       "      <td>3</td>\n",
       "      <td>-1.12</td>\n",
       "      <td>-0.2</td>\n",
       "      <td>1.72</td>\n",
       "      <td>Red</td>\n",
       "      <td>717.0</td>\n",
       "    </tr>\n",
       "    <tr>\n",
       "      <th>3</th>\n",
       "      <td>Blue</td>\n",
       "      <td>False</td>\n",
       "      <td>MALE</td>\n",
       "      <td>3</td>\n",
       "      <td>2</td>\n",
       "      <td>0</td>\n",
       "      <td>1</td>\n",
       "      <td>5.50</td>\n",
       "      <td>0.47</td>\n",
       "      <td>0.0</td>\n",
       "      <td>...</td>\n",
       "      <td>2</td>\n",
       "      <td>-1</td>\n",
       "      <td>2.54</td>\n",
       "      <td>-2.54</td>\n",
       "      <td>9</td>\n",
       "      <td>2.68</td>\n",
       "      <td>-0.8</td>\n",
       "      <td>-3.62</td>\n",
       "      <td>neither</td>\n",
       "      <td>824.0</td>\n",
       "    </tr>\n",
       "    <tr>\n",
       "      <th>4</th>\n",
       "      <td>Blue</td>\n",
       "      <td>False</td>\n",
       "      <td>MALE</td>\n",
       "      <td>3</td>\n",
       "      <td>0</td>\n",
       "      <td>4</td>\n",
       "      <td>0</td>\n",
       "      <td>5.94</td>\n",
       "      <td>0.52</td>\n",
       "      <td>0.0</td>\n",
       "      <td>...</td>\n",
       "      <td>-5</td>\n",
       "      <td>0</td>\n",
       "      <td>0.00</td>\n",
       "      <td>-2.54</td>\n",
       "      <td>0</td>\n",
       "      <td>-0.57</td>\n",
       "      <td>0.0</td>\n",
       "      <td>0.25</td>\n",
       "      <td>neither</td>\n",
       "      <td>900.0</td>\n",
       "    </tr>\n",
       "  </tbody>\n",
       "</table>\n",
       "<p>5 rows × 69 columns</p>\n",
       "</div>"
      ],
      "text/plain": [
       "  Winner  TitleBout Gender  NumberOfRounds  BlueCurrentLoseStreak  \\\n",
       "0   Blue      False   MALE               5                      0   \n",
       "1    Red      False   MALE               3                      1   \n",
       "2    Red      False   MALE               3                      0   \n",
       "3   Blue      False   MALE               3                      2   \n",
       "4   Blue      False   MALE               3                      0   \n",
       "\n",
       "   BlueCurrentWinStreak  BlueDraws  BlueAvgSigStrLanded  BlueAvgSigStrPct  \\\n",
       "0                     5          0                 4.13              0.36   \n",
       "1                     0          0                 7.36              0.56   \n",
       "2                     4          0                 3.32              0.48   \n",
       "3                     0          1                 5.50              0.47   \n",
       "4                     4          0                 5.94              0.52   \n",
       "\n",
       "   BlueAvgSubAtt  ...  KODif  SubDif  HeightDif  ReachDif  AgeDif  SigStrDif  \\\n",
       "0            0.0  ...      4      -2      -2.54     10.16      -6       0.25   \n",
       "1            1.1  ...     -2      -1       5.08      0.00      -5       2.69   \n",
       "2            0.2  ...      1       1      -2.54     -7.62       3      -1.12   \n",
       "3            0.0  ...      2      -1       2.54     -2.54       9       2.68   \n",
       "4            0.0  ...     -5       0       0.00     -2.54       0      -0.57   \n",
       "\n",
       "   AvgSubAttDif  AvgTDDif  BetterRank  TotalFightTimeSecs  \n",
       "0          -0.2     -1.83         Red               882.0  \n",
       "1           0.7      0.20     neither               696.0  \n",
       "2          -0.2      1.72         Red               717.0  \n",
       "3          -0.8     -3.62     neither               824.0  \n",
       "4           0.0      0.25     neither               900.0  \n",
       "\n",
       "[5 rows x 69 columns]"
      ]
     },
     "metadata": {},
     "output_type": "display_data"
    },
    {
     "data": {
      "text/plain": [
       "Index(['Winner', 'TitleBout', 'Gender', 'NumberOfRounds',\n",
       "       'BlueCurrentLoseStreak', 'BlueCurrentWinStreak', 'BlueDraws',\n",
       "       'BlueAvgSigStrLanded', 'BlueAvgSigStrPct', 'BlueAvgSubAtt',\n",
       "       'BlueAvgTDLanded', 'BlueAvgTDPct', 'BlueLongestWinStreak', 'BlueLosses',\n",
       "       'BlueTotalRoundsFought', 'BlueTotalTitleBouts',\n",
       "       'BlueWinsByDecisionMajority', 'BlueWinsByDecisionSplit',\n",
       "       'BlueWinsByDecisionUnanimous', 'BlueWinsByKO', 'BlueWinsBySubmission',\n",
       "       'BlueWinsByTKODoctorStoppage', 'BlueWins', 'BlueStance',\n",
       "       'BlueHeightCms', 'BlueReachCms', 'BlueWeightLbs',\n",
       "       'RedCurrentLoseStreak', 'RedCurrentWinStreak', 'RedDraws',\n",
       "       'RedAvgSigStrLanded', 'RedAvgSigStrPct', 'RedAvgSubAtt',\n",
       "       'RedAvgTDLanded', 'RedAvgTDPct', 'RedLongestWinStreak', 'RedLosses',\n",
       "       'RedTotalRoundsFought', 'RedTotalTitleBouts',\n",
       "       'RedWinsByDecisionMajority', 'RedWinsByDecisionSplit',\n",
       "       'RedWinsByDecisionUnanimous', 'RedWinsByKO', 'RedWinsBySubmission',\n",
       "       'RedWinsByTKODoctorStoppage', 'RedWins', 'RedStance', 'RedHeightCms',\n",
       "       'RedReachCms', 'RedWeightLbs', 'RedAge', 'BlueAge', 'LoseStreakDif',\n",
       "       'WinStreakDif', 'LongestWinStreakDif', 'WinDif', 'LossDif',\n",
       "       'TotalRoundDif', 'TotalTitleBoutDif', 'KODif', 'SubDif', 'HeightDif',\n",
       "       'ReachDif', 'AgeDif', 'SigStrDif', 'AvgSubAttDif', 'AvgTDDif',\n",
       "       'BetterRank', 'TotalFightTimeSecs'],\n",
       "      dtype='object')"
      ]
     },
     "metadata": {},
     "output_type": "display_data"
    },
    {
     "data": {
      "text/plain": [
       "Winner                    object\n",
       "TitleBout                   bool\n",
       "Gender                    object\n",
       "NumberOfRounds             int64\n",
       "BlueCurrentLoseStreak      int64\n",
       "                          ...   \n",
       "SigStrDif                float64\n",
       "AvgSubAttDif             float64\n",
       "AvgTDDif                 float64\n",
       "BetterRank                object\n",
       "TotalFightTimeSecs       float64\n",
       "Length: 69, dtype: object"
      ]
     },
     "metadata": {},
     "output_type": "display_data"
    }
   ],
   "source": [
    "# Preview the first few records\n",
    "display(ufc_raw.head())\n",
    "display(ufc_raw.columns)\n",
    "# Para ver los tipos de dato de cada columna:\n",
    "display(ufc_raw.dtypes)\n"
   ]
  },
  {
   "cell_type": "markdown",
   "id": "9dd4fe0b-661e-482b-abd1-a05d82f3ead8",
   "metadata": {},
   "source": [
    "## 6. Save"
   ]
  },
  {
   "cell_type": "code",
   "execution_count": 125,
   "id": "5c48b56a-dc41-4d01-b273-c429fdac3cc1",
   "metadata": {},
   "outputs": [
    {
     "name": "stdout",
     "output_type": "stream",
     "text": [
      "\n",
      "ETL file saved as 'ufc_etl.csv'.\n"
     ]
    }
   ],
   "source": [
    "# Save the cleaned file\n",
    "ufc_raw.to_csv(f'{project_root}/data/processed/ufc_etl.csv', index=False)\n",
    "print(\"\\nETL file saved as 'ufc_etl.csv'.\")"
   ]
  },
  {
   "cell_type": "code",
   "execution_count": null,
   "id": "7388f143-139d-418f-817a-b5ec4350731b",
   "metadata": {},
   "outputs": [],
   "source": []
  }
 ],
 "metadata": {
  "kernelspec": {
   "display_name": "Python 3 (ipykernel)",
   "language": "python",
   "name": "python3"
  },
  "language_info": {
   "codemirror_mode": {
    "name": "ipython",
    "version": 3
   },
   "file_extension": ".py",
   "mimetype": "text/x-python",
   "name": "python",
   "nbconvert_exporter": "python",
   "pygments_lexer": "ipython3",
   "version": "3.10.16"
  }
 },
 "nbformat": 4,
 "nbformat_minor": 5
}
