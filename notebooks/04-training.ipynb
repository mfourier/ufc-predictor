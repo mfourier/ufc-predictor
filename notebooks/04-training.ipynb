{
 "cells": [
  {
   "cell_type": "markdown",
   "id": "65fb04bd-eb98-4d39-8b05-238dd112f680",
   "metadata": {},
   "source": [
    "# 🔹 UFC Fight Predictor Model Training"
   ]
  },
  {
   "cell_type": "markdown",
   "id": "fb013c25-a31b-41a5-87f3-e1e07720b8de",
   "metadata": {},
   "source": [
    "<div style=\"text-align: center;\">\n",
    "  🔹 <img src=\"../img/ufc_logo.png\" width=\"50\" /> 🔹\n",
    "</div>"
   ]
  },
  {
   "cell_type": "markdown",
   "id": "ed2a08a5-6ac5-4f20-8321-87675db3dab3",
   "metadata": {},
   "source": [
    "## 1. Import Libraries and Setup Environment"
   ]
  },
  {
   "cell_type": "code",
   "execution_count": 1,
   "id": "d8f8b9d8",
   "metadata": {
    "scrolled": true
   },
   "outputs": [],
   "source": [
    "# Import necessary libraries\n",
    "import os\n",
    "import sys\n",
    "import pandas as pd\n",
    "\n",
    "pd.set_option('display.max_colwidth', 200) \n",
    "\n",
    "# Get the current working directory\n",
    "current_dir = os.getcwd()\n",
    "\n",
    "# Navigate to the project root\n",
    "project_root = os.path.abspath(os.path.join(current_dir, '..'))\n",
    "\n",
    "# Import from /src\n",
    "sys.path.append(os.path.join(project_root, 'src'))\n",
    "from metrics import *\n",
    "from model_factory import *\n",
    "from io_model import *\n",
    "from helpers import *\n",
    "from config import *"
   ]
  },
  {
   "cell_type": "markdown",
   "id": "3f694e6e-61c6-47ae-b474-feb838518e44",
   "metadata": {},
   "source": [
    "<div style=\"text-align: center;\">\n",
    "  🔹 <img src=\"../img/ufc_logo.png\" width=\"50\" /> 🔹\n",
    "</div>"
   ]
  },
  {
   "cell_type": "markdown",
   "id": "e0a512df",
   "metadata": {},
   "source": [
    "## 2. Load Data"
   ]
  },
  {
   "cell_type": "code",
   "execution_count": 2,
   "id": "38b113b5-5994-4df1-8a22-c75d3fe75147",
   "metadata": {},
   "outputs": [
    {
     "name": "stdout",
     "output_type": "stream",
     "text": [
      "/home/mlioi/ufc-predictor/data/processed/ufc_data.pkl\n",
      "📦 UFCData object loaded from: /home/mlioi/ufc-predictor/data/processed/ufc_data.pkl\n"
     ]
    }
   ],
   "source": [
    "# Load UFCData\n",
    "try:\n",
    "    UFCData = load_data()\n",
    "except Exception as e:\n",
    "    print_header(f\"Error loading training data: {e}\", color='bright_red')"
   ]
  },
  {
   "cell_type": "code",
   "execution_count": 3,
   "id": "dc2509e9-97dc-40c0-8d92-61539fe64580",
   "metadata": {},
   "outputs": [
    {
     "data": {
      "text/plain": [
       "📊 UFC Dataset Summary\n",
       "----------------------------------------\n",
       "🧪 Total samples      : 6001\n",
       "🧪 Train/Test split  : 4800 / 1201\n",
       "🧪 Total features     : 18\n",
       "\n",
       "🔢 Numerical features : 16\n",
       "🔠 Categorical features: 2\n",
       "    - Binary          : 1\n",
       "    - Multiclass      : 1\n",
       "\n",
       "🏷 Label distribution (raw):\n",
       "   - Class 0: 3484 (58.1%)\n",
       "   - Class 1: 2517 (41.9%)\n",
       "\n",
       "✅ No missing values detected\n",
       "\n",
       "📈 Feature summary statistics (train set):\n",
       "                           mean      std       min       max\n",
       "LoseStreakDif             0.059    1.012    -6.000     6.000\n",
       "WinStreakDif             -0.162    1.921   -18.000    10.000\n",
       "KODif                    -0.536    2.181   -21.000    14.000\n",
       "SubDif                   -0.334    1.877   -15.000    10.000\n",
       "HeightDif                -0.066    6.843  -187.960    30.480\n",
       "AgeDif                    0.196    5.213   -17.000    17.000\n",
       "SigStrDif                -2.540   19.869  -118.000   128.222\n",
       "AvgSubAttDif             -0.076    0.880    -8.400     7.800\n",
       "AvgTDDif                 -0.159    1.765   -11.000    10.860\n",
       "FinishRateDif            -0.077    0.478    -1.000     1.000\n",
       "WinRatioDif              -0.095    0.359    -1.000     1.000\n",
       "ExpPerAgeDif             -0.169    0.525   -13.176     2.133\n",
       "ReachAdvantageRatioDif    1.000    0.045     0.829     1.172\n",
       "HeightReachRatioDif       0.001    0.035    -0.120     0.124\n",
       "DecisionRateDif          -0.053    0.463    -1.000     1.000\n",
       "OddsDif                 179.755  525.039 -1975.000  3200.000\n",
       "\n",
       "⚙️ Preprocessing status:\n",
       "   - Standardized?    : ✅\n",
       "   - Encoded?         : ✅\n",
       "   - Correlation cached (raw)      : ✅\n",
       "   - Correlation cached (processed): ✅\n",
       "----------------------------------------"
      ]
     },
     "execution_count": 3,
     "metadata": {},
     "output_type": "execute_result"
    }
   ],
   "source": [
    "UFCData"
   ]
  },
  {
   "cell_type": "markdown",
   "id": "ddee1131-8d30-48c1-9ccd-19cc62db36ad",
   "metadata": {},
   "source": [
    "<div style=\"text-align: center;\">\n",
    "  🔹 <img src=\"../img/ufc_logo.png\" width=\"50\" /> 🔹\n",
    "</div>"
   ]
  },
  {
   "cell_type": "markdown",
   "id": "ca7322b2",
   "metadata": {},
   "source": [
    "## 3. 🔧 Hyperparameters Tuning 🔧"
   ]
  },
  {
   "cell_type": "code",
   "execution_count": 4,
   "id": "1fc2cbd6",
   "metadata": {},
   "outputs": [
    {
     "name": "stdout",
     "output_type": "stream",
     "text": [
      "\u001b[94m╔═══════════════════════════════════════╗\n",
      "║  Hyperparameters Tuning is Activated  ║\n",
      "╚═══════════════════════════════════════╝\u001b[0m\n"
     ]
    },
    {
     "data": {
      "text/html": [
       "<div>\n",
       "<style scoped>\n",
       "    .dataframe tbody tr th:only-of-type {\n",
       "        vertical-align: middle;\n",
       "    }\n",
       "\n",
       "    .dataframe tbody tr th {\n",
       "        vertical-align: top;\n",
       "    }\n",
       "\n",
       "    .dataframe thead th {\n",
       "        text-align: right;\n",
       "    }\n",
       "</style>\n",
       "<table border=\"1\" class=\"dataframe\">\n",
       "  <thead>\n",
       "    <tr style=\"text-align: right;\">\n",
       "      <th></th>\n",
       "      <th>Model</th>\n",
       "      <th>Hyperparameters</th>\n",
       "    </tr>\n",
       "  </thead>\n",
       "  <tbody>\n",
       "    <tr>\n",
       "      <th>0</th>\n",
       "      <td>Support Vector Machine</td>\n",
       "      <td>C: [0.01, 0.1, 1, 1.5, 2]; kernel: ['linear']; gamma: ['auto']</td>\n",
       "    </tr>\n",
       "    <tr>\n",
       "      <th>1</th>\n",
       "      <td>Random Forest</td>\n",
       "      <td>n_estimators: [10, 50, 100, 1000]; max_depth: [3, 5, 10, 100]</td>\n",
       "    </tr>\n",
       "    <tr>\n",
       "      <th>2</th>\n",
       "      <td>Logistic Regression</td>\n",
       "      <td>C: [0.001, 0.01, 0.05, 1]; solver: ['liblinear']; penalty: ['l1', 'l2']</td>\n",
       "    </tr>\n",
       "    <tr>\n",
       "      <th>3</th>\n",
       "      <td>K-Nearest Neighbors</td>\n",
       "      <td>n_neighbors: [3, 6, 9, 12, 15]; weights: ['uniform', 'distance']; metric: ['euclidean', 'manhattan']</td>\n",
       "    </tr>\n",
       "    <tr>\n",
       "      <th>4</th>\n",
       "      <td>AdaBoost</td>\n",
       "      <td>n_estimators: [10, 50, 100]; learning_rate: [0.01, 0.1, 1.0]</td>\n",
       "    </tr>\n",
       "    <tr>\n",
       "      <th>5</th>\n",
       "      <td>Naive Bayes</td>\n",
       "      <td>var_smoothing: [1e-08, 1e-07, 1e-06, 1e-05]</td>\n",
       "    </tr>\n",
       "    <tr>\n",
       "      <th>6</th>\n",
       "      <td>Gradient Boosting</td>\n",
       "      <td>n_estimators: [50, 100]; learning_rate: [0.01, 0.1, 1.0]; max_depth: [3, 5, 7]</td>\n",
       "    </tr>\n",
       "    <tr>\n",
       "      <th>7</th>\n",
       "      <td>Extra Trees</td>\n",
       "      <td>n_estimators: [50, 100]; max_depth: [None, 10, 20]</td>\n",
       "    </tr>\n",
       "    <tr>\n",
       "      <th>8</th>\n",
       "      <td>Quadratic Discriminant Analysis</td>\n",
       "      <td>reg_param: [0.1, 1]</td>\n",
       "    </tr>\n",
       "    <tr>\n",
       "      <th>9</th>\n",
       "      <td>Neural Network</td>\n",
       "      <td>hidden_layer_sizes: [(200,), (50, 50)]; activation: ['relu', 'logistic']; solver: ['adam', 'sgd']; alpha: [0.001, 0.01]; learning_rate: ['adaptive']; learning_rate_init: [0.01]; early_stopping: [T...</td>\n",
       "    </tr>\n",
       "    <tr>\n",
       "      <th>10</th>\n",
       "      <td>XGBoost</td>\n",
       "      <td>n_estimators: [50, 150]; learning_rate: [0.01, 0.1]; max_depth: [3, 5, 7]; subsample: [0.8, 1.0]; colsample_bytree: [0.8, 1.0]</td>\n",
       "    </tr>\n",
       "  </tbody>\n",
       "</table>\n",
       "</div>"
      ],
      "text/plain": [
       "                              Model  \\\n",
       "0            Support Vector Machine   \n",
       "1                     Random Forest   \n",
       "2               Logistic Regression   \n",
       "3               K-Nearest Neighbors   \n",
       "4                          AdaBoost   \n",
       "5                       Naive Bayes   \n",
       "6                 Gradient Boosting   \n",
       "7                       Extra Trees   \n",
       "8   Quadratic Discriminant Analysis   \n",
       "9                    Neural Network   \n",
       "10                          XGBoost   \n",
       "\n",
       "                                                                                                                                                                                            Hyperparameters  \n",
       "0                                                                                                                                            C: [0.01, 0.1, 1, 1.5, 2]; kernel: ['linear']; gamma: ['auto']  \n",
       "1                                                                                                                                             n_estimators: [10, 50, 100, 1000]; max_depth: [3, 5, 10, 100]  \n",
       "2                                                                                                                                   C: [0.001, 0.01, 0.05, 1]; solver: ['liblinear']; penalty: ['l1', 'l2']  \n",
       "3                                                                                                      n_neighbors: [3, 6, 9, 12, 15]; weights: ['uniform', 'distance']; metric: ['euclidean', 'manhattan']  \n",
       "4                                                                                                                                              n_estimators: [10, 50, 100]; learning_rate: [0.01, 0.1, 1.0]  \n",
       "5                                                                                                                                                               var_smoothing: [1e-08, 1e-07, 1e-06, 1e-05]  \n",
       "6                                                                                                                            n_estimators: [50, 100]; learning_rate: [0.01, 0.1, 1.0]; max_depth: [3, 5, 7]  \n",
       "7                                                                                                                                                        n_estimators: [50, 100]; max_depth: [None, 10, 20]  \n",
       "8                                                                                                                                                                                       reg_param: [0.1, 1]  \n",
       "9   hidden_layer_sizes: [(200,), (50, 50)]; activation: ['relu', 'logistic']; solver: ['adam', 'sgd']; alpha: [0.001, 0.01]; learning_rate: ['adaptive']; learning_rate_init: [0.01]; early_stopping: [T...  \n",
       "10                                                                           n_estimators: [50, 150]; learning_rate: [0.01, 0.1]; max_depth: [3, 5, 7]; subsample: [0.8, 1.0]; colsample_bytree: [0.8, 1.0]  "
      ]
     },
     "metadata": {},
     "output_type": "display_data"
    }
   ],
   "source": [
    "from xgboost import XGBClassifier\n",
    "from sklearn.svm import SVC\n",
    "from sklearn.ensemble import RandomForestClassifier, AdaBoostClassifier\n",
    "from sklearn.linear_model import LogisticRegression\n",
    "from sklearn.neighbors import KNeighborsClassifier\n",
    "from sklearn.naive_bayes import GaussianNB\n",
    "from sklearn.model_selection import GridSearchCV\n",
    "from sklearn.metrics import f1_score\n",
    "\n",
    "hyperparameter_tuning = True\n",
    "\n",
    "if hyperparameter_tuning:\n",
    "    print_header('Hyperparameters Tuning is Activated', color = 'bright_blue')\n",
    "    model_params = {\n",
    "    \"Support Vector Machine\": (\n",
    "        SVC(probability=True),\n",
    "        {'C': [0.01, 0.1, 1, 1.5, 2], 'kernel': ['linear'], 'gamma': ['auto']}\n",
    "    ),\n",
    "    \"Random Forest\": (\n",
    "        RandomForestClassifier(),\n",
    "        {'n_estimators': [10, 50, 100, 1000], 'max_depth': [3, 5, 10, 100]}\n",
    "    ),\n",
    "    \"Logistic Regression\": (\n",
    "        LogisticRegression(),\n",
    "        {'C': [0.001, 0.01, 0.05, 1], 'solver': ['liblinear'], 'penalty': ['l1','l2']}\n",
    "    ),\n",
    "    \"K-Nearest Neighbors\": (\n",
    "        KNeighborsClassifier(),\n",
    "        {'n_neighbors': [3, 6, 9, 12, 15], 'weights': ['uniform', 'distance'], 'metric': ['euclidean', 'manhattan']}\n",
    "    ),\n",
    "    \"AdaBoost\": (\n",
    "        AdaBoostClassifier(),\n",
    "        {'n_estimators': [10, 50, 100], 'learning_rate': [0.01, 0.1, 1.0]}\n",
    "    ),\n",
    "    \"Naive Bayes\": (\n",
    "        GaussianNB(),\n",
    "        {'var_smoothing': [1e-8, 1e-7, 1e-6, 1e-5]}\n",
    "    ),\n",
    "    \"Gradient Boosting\": (\n",
    "        GradientBoostingClassifier(),\n",
    "        {'n_estimators': [50, 100], 'learning_rate': [0.01, 0.1, 1.0], 'max_depth': [3, 5, 7]}\n",
    "    ),\n",
    "    \"Extra Trees\": (\n",
    "        ExtraTreesClassifier(),\n",
    "        {'n_estimators': [50, 100], 'max_depth': [None, 10, 20]}\n",
    "    ),\n",
    "    \"Quadratic Discriminant Analysis\": (\n",
    "        QuadraticDiscriminantAnalysis(),\n",
    "        {'reg_param': [0.1, 1]}\n",
    "    ),\n",
    "    \"Neural Network\": (\n",
    "        MLPClassifier(max_iter=200, random_state=42),\n",
    "        {\n",
    "        # Architecture: number and size of hidden layers\n",
    "        'hidden_layer_sizes': [\n",
    "            (200,), (50, 50),\n",
    "        ],\n",
    "        # Activation function for hidden layers\n",
    "        'activation': ['relu', 'logistic'],\n",
    "        # Optimizer for gradient descent\n",
    "        'solver': ['adam', 'sgd'],\n",
    "        # L2 regularization strength (higher alpha reduces overfitting but can cause underfitting)\n",
    "        'alpha': [0.001, 0.01],\n",
    "        # Learning rate schedule\n",
    "        'learning_rate': ['adaptive'],\n",
    "        # Initial learning rate (for adam and sgd solvers)\n",
    "        'learning_rate_init': [0.01],\n",
    "        # Early stopping based on validation performance to prevent overfitting\n",
    "        'early_stopping': [True],\n",
    "        # Mini-batch size for training with adam/sgd\n",
    "        'batch_size': [32, 64],\n",
    "        # Momentum for SGD (controls contribution of previous updates)\n",
    "        'momentum': [0.8],\n",
    "        # Proportion of training set used as validation for early stopping\n",
    "        'validation_fraction': [0.2]\n",
    "        }\n",
    "    ),\n",
    "    \"XGBoost\": (\n",
    "            XGBClassifier(eval_metric='logloss'),\n",
    "            {\n",
    "                'n_estimators': [50, 150],\n",
    "                'learning_rate': [0.01, 0.1],\n",
    "                'max_depth': [3, 5, 7],\n",
    "                'subsample': [0.8, 1.0],\n",
    "                'colsample_bytree': [0.8, 1.0]\n",
    "            }\n",
    "        )\n",
    "}\n",
    "    display_model_params_table(model_params)\n",
    "else:\n",
    "    print_header('Hyperparameters Tuning Off', color = 'bright_red')\n",
    "    model_params = None # Default Settings"
   ]
  },
  {
   "cell_type": "markdown",
   "id": "60f8efd0-53e2-47a1-8203-36fa6c7695a7",
   "metadata": {},
   "source": [
    "## Notes\n",
    "- For SVM, kernel='linear' has better performance.\n",
    "- For Logistic Regression, performs well for lower values of c"
   ]
  },
  {
   "cell_type": "markdown",
   "id": "2d98c5ad-4089-41de-9080-7691947cf787",
   "metadata": {},
   "source": [
    "<div style=\"text-align: center;\">\n",
    "  🔹 <img src=\"../img/ufc_logo.png\" width=\"50\" /> 🔹\n",
    "</div>"
   ]
  },
  {
   "cell_type": "markdown",
   "id": "443a7063",
   "metadata": {},
   "source": [
    "## 4. 🔹 UFC Machine Learning Training"
   ]
  },
  {
   "cell_type": "markdown",
   "id": "1eaa4135",
   "metadata": {},
   "source": [
    "### 4.1 KNN Model Training"
   ]
  },
  {
   "cell_type": "markdown",
   "id": "e841c166-6b19-4bed-b779-4ed42d23549f",
   "metadata": {},
   "source": [
    "#### 🚀 KNN Training "
   ]
  },
  {
   "cell_type": "code",
   "execution_count": 5,
   "id": "9cbf229d",
   "metadata": {
    "scrolled": true
   },
   "outputs": [
    {
     "name": "stdout",
     "output_type": "stream",
     "text": [
      "\u001b[95m╔══════════════════════════════════════════════════════════════╗\n",
      "║  [K-Nearest Neighbors] UFC GridSearchCV Training (Accuracy)  ║\n",
      "╚══════════════════════════════════════════════════════════════╝\u001b[0m\n"
     ]
    },
    {
     "name": "stderr",
     "output_type": "stream",
     "text": [
      "INFO:root:[K-Nearest Neighbors] 🤖 Training...\n"
     ]
    },
    {
     "name": "stdout",
     "output_type": "stream",
     "text": [
      "Fitting 5 folds for each of 20 candidates, totalling 100 fits\n",
      "[CV 1/5] END metric=euclidean, n_neighbors=3, weights=uniform;, score=0.573 total time=   0.1s\n",
      "[CV 2/5] END metric=euclidean, n_neighbors=3, weights=uniform;, score=0.594 total time=   0.1s\n",
      "[CV 3/5] END metric=euclidean, n_neighbors=3, weights=uniform;, score=0.622 total time=   0.1s\n",
      "[CV 4/5] END metric=euclidean, n_neighbors=3, weights=uniform;, score=0.594 total time=   0.1s\n",
      "[CV 5/5] END metric=euclidean, n_neighbors=3, weights=uniform;, score=0.601 total time=   0.1s\n",
      "[CV 1/5] END metric=euclidean, n_neighbors=3, weights=distance;, score=0.573 total time=   0.0s\n",
      "[CV 2/5] END metric=euclidean, n_neighbors=3, weights=distance;, score=0.597 total time=   0.0s\n",
      "[CV 3/5] END metric=euclidean, n_neighbors=3, weights=distance;, score=0.623 total time=   0.0s\n",
      "[CV 4/5] END metric=euclidean, n_neighbors=3, weights=distance;, score=0.594 total time=   0.0s\n",
      "[CV 5/5] END metric=euclidean, n_neighbors=3, weights=distance;, score=0.602 total time=   0.0s\n",
      "[CV 1/5] END metric=euclidean, n_neighbors=6, weights=uniform;, score=0.596 total time=   0.1s\n",
      "[CV 2/5] END metric=euclidean, n_neighbors=6, weights=uniform;, score=0.600 total time=   0.1s\n",
      "[CV 3/5] END metric=euclidean, n_neighbors=6, weights=uniform;, score=0.643 total time=   0.1s\n",
      "[CV 4/5] END metric=euclidean, n_neighbors=6, weights=uniform;, score=0.606 total time=   0.1s\n",
      "[CV 5/5] END metric=euclidean, n_neighbors=6, weights=uniform;, score=0.624 total time=   0.1s\n",
      "[CV 1/5] END metric=euclidean, n_neighbors=6, weights=distance;, score=0.586 total time=   0.0s\n",
      "[CV 2/5] END metric=euclidean, n_neighbors=6, weights=distance;, score=0.618 total time=   0.0s\n",
      "[CV 3/5] END metric=euclidean, n_neighbors=6, weights=distance;, score=0.633 total time=   0.0s\n",
      "[CV 4/5] END metric=euclidean, n_neighbors=6, weights=distance;, score=0.607 total time=   0.0s\n",
      "[CV 5/5] END metric=euclidean, n_neighbors=6, weights=distance;, score=0.601 total time=   0.0s\n",
      "[CV 1/5] END metric=euclidean, n_neighbors=9, weights=uniform;, score=0.591 total time=   0.1s\n",
      "[CV 2/5] END metric=euclidean, n_neighbors=9, weights=uniform;, score=0.607 total time=   0.1s\n",
      "[CV 3/5] END metric=euclidean, n_neighbors=9, weights=uniform;, score=0.635 total time=   0.1s\n",
      "[CV 4/5] END metric=euclidean, n_neighbors=9, weights=uniform;, score=0.597 total time=   0.1s\n",
      "[CV 5/5] END metric=euclidean, n_neighbors=9, weights=uniform;, score=0.608 total time=   0.1s\n",
      "[CV 1/5] END metric=euclidean, n_neighbors=9, weights=distance;, score=0.591 total time=   0.0s\n",
      "[CV 2/5] END metric=euclidean, n_neighbors=9, weights=distance;, score=0.608 total time=   0.0s\n",
      "[CV 3/5] END metric=euclidean, n_neighbors=9, weights=distance;, score=0.635 total time=   0.0s\n",
      "[CV 4/5] END metric=euclidean, n_neighbors=9, weights=distance;, score=0.598 total time=   0.0s\n",
      "[CV 5/5] END metric=euclidean, n_neighbors=9, weights=distance;, score=0.609 total time=   0.0s\n",
      "[CV 1/5] END metric=euclidean, n_neighbors=12, weights=uniform;, score=0.604 total time=   0.1s\n",
      "[CV 2/5] END metric=euclidean, n_neighbors=12, weights=uniform;, score=0.611 total time=   0.1s\n",
      "[CV 3/5] END metric=euclidean, n_neighbors=12, weights=uniform;, score=0.645 total time=   0.1s\n",
      "[CV 4/5] END metric=euclidean, n_neighbors=12, weights=uniform;, score=0.620 total time=   0.1s\n",
      "[CV 5/5] END metric=euclidean, n_neighbors=12, weights=uniform;, score=0.622 total time=   0.1s\n",
      "[CV 1/5] END metric=euclidean, n_neighbors=12, weights=distance;, score=0.608 total time=   0.0s\n",
      "[CV 2/5] END metric=euclidean, n_neighbors=12, weights=distance;, score=0.611 total time=   0.0s\n",
      "[CV 3/5] END metric=euclidean, n_neighbors=12, weights=distance;, score=0.641 total time=   0.0s\n",
      "[CV 4/5] END metric=euclidean, n_neighbors=12, weights=distance;, score=0.608 total time=   0.0s\n",
      "[CV 5/5] END metric=euclidean, n_neighbors=12, weights=distance;, score=0.616 total time=   0.0s\n",
      "[CV 1/5] END metric=euclidean, n_neighbors=15, weights=uniform;, score=0.617 total time=   0.1s\n",
      "[CV 2/5] END metric=euclidean, n_neighbors=15, weights=uniform;, score=0.621 total time=   0.1s\n",
      "[CV 3/5] END metric=euclidean, n_neighbors=15, weights=uniform;, score=0.639 total time=   0.1s\n",
      "[CV 4/5] END metric=euclidean, n_neighbors=15, weights=uniform;, score=0.618 total time=   0.1s\n",
      "[CV 5/5] END metric=euclidean, n_neighbors=15, weights=uniform;, score=0.634 total time=   0.1s\n",
      "[CV 1/5] END metric=euclidean, n_neighbors=15, weights=distance;, score=0.619 total time=   0.0s\n",
      "[CV 2/5] END metric=euclidean, n_neighbors=15, weights=distance;, score=0.626 total time=   0.0s\n",
      "[CV 3/5] END metric=euclidean, n_neighbors=15, weights=distance;, score=0.639 total time=   0.0s\n",
      "[CV 4/5] END metric=euclidean, n_neighbors=15, weights=distance;, score=0.621 total time=   0.0s\n",
      "[CV 5/5] END metric=euclidean, n_neighbors=15, weights=distance;, score=0.632 total time=   0.0s\n",
      "[CV 1/5] END metric=manhattan, n_neighbors=3, weights=uniform;, score=0.586 total time=   0.1s\n",
      "[CV 2/5] END metric=manhattan, n_neighbors=3, weights=uniform;, score=0.602 total time=   0.1s\n",
      "[CV 3/5] END metric=manhattan, n_neighbors=3, weights=uniform;, score=0.598 total time=   0.1s\n",
      "[CV 4/5] END metric=manhattan, n_neighbors=3, weights=uniform;, score=0.594 total time=   0.1s\n",
      "[CV 5/5] END metric=manhattan, n_neighbors=3, weights=uniform;, score=0.591 total time=   0.1s\n",
      "[CV 1/5] END metric=manhattan, n_neighbors=3, weights=distance;, score=0.586 total time=   0.0s\n",
      "[CV 2/5] END metric=manhattan, n_neighbors=3, weights=distance;, score=0.603 total time=   0.0s\n",
      "[CV 3/5] END metric=manhattan, n_neighbors=3, weights=distance;, score=0.599 total time=   0.0s\n",
      "[CV 4/5] END metric=manhattan, n_neighbors=3, weights=distance;, score=0.592 total time=   0.0s\n",
      "[CV 5/5] END metric=manhattan, n_neighbors=3, weights=distance;, score=0.593 total time=   0.0s\n",
      "[CV 1/5] END metric=manhattan, n_neighbors=6, weights=uniform;, score=0.593 total time=   0.1s\n",
      "[CV 2/5] END metric=manhattan, n_neighbors=6, weights=uniform;, score=0.593 total time=   0.1s\n",
      "[CV 3/5] END metric=manhattan, n_neighbors=6, weights=uniform;, score=0.621 total time=   0.1s\n",
      "[CV 4/5] END metric=manhattan, n_neighbors=6, weights=uniform;, score=0.603 total time=   0.1s\n",
      "[CV 5/5] END metric=manhattan, n_neighbors=6, weights=uniform;, score=0.613 total time=   0.1s\n",
      "[CV 1/5] END metric=manhattan, n_neighbors=6, weights=distance;, score=0.598 total time=   0.0s\n",
      "[CV 2/5] END metric=manhattan, n_neighbors=6, weights=distance;, score=0.601 total time=   0.0s\n",
      "[CV 3/5] END metric=manhattan, n_neighbors=6, weights=distance;, score=0.617 total time=   0.0s\n",
      "[CV 4/5] END metric=manhattan, n_neighbors=6, weights=distance;, score=0.599 total time=   0.0s\n",
      "[CV 5/5] END metric=manhattan, n_neighbors=6, weights=distance;, score=0.596 total time=   0.0s\n",
      "[CV 1/5] END metric=manhattan, n_neighbors=9, weights=uniform;, score=0.597 total time=   0.1s\n",
      "[CV 2/5] END metric=manhattan, n_neighbors=9, weights=uniform;, score=0.577 total time=   0.1s\n",
      "[CV 3/5] END metric=manhattan, n_neighbors=9, weights=uniform;, score=0.616 total time=   0.1s\n",
      "[CV 4/5] END metric=manhattan, n_neighbors=9, weights=uniform;, score=0.593 total time=   0.1s\n",
      "[CV 5/5] END metric=manhattan, n_neighbors=9, weights=uniform;, score=0.604 total time=   0.1s\n",
      "[CV 1/5] END metric=manhattan, n_neighbors=9, weights=distance;, score=0.599 total time=   0.0s\n",
      "[CV 2/5] END metric=manhattan, n_neighbors=9, weights=distance;, score=0.579 total time=   0.0s\n",
      "[CV 3/5] END metric=manhattan, n_neighbors=9, weights=distance;, score=0.618 total time=   0.0s\n",
      "[CV 4/5] END metric=manhattan, n_neighbors=9, weights=distance;, score=0.596 total time=   0.0s\n",
      "[CV 5/5] END metric=manhattan, n_neighbors=9, weights=distance;, score=0.605 total time=   0.0s\n",
      "[CV 1/5] END metric=manhattan, n_neighbors=12, weights=uniform;, score=0.599 total time=   0.1s\n",
      "[CV 2/5] END metric=manhattan, n_neighbors=12, weights=uniform;, score=0.600 total time=   0.1s\n",
      "[CV 3/5] END metric=manhattan, n_neighbors=12, weights=uniform;, score=0.632 total time=   0.1s\n",
      "[CV 4/5] END metric=manhattan, n_neighbors=12, weights=uniform;, score=0.603 total time=   0.1s\n",
      "[CV 5/5] END metric=manhattan, n_neighbors=12, weights=uniform;, score=0.608 total time=   0.1s\n",
      "[CV 1/5] END metric=manhattan, n_neighbors=12, weights=distance;, score=0.599 total time=   0.0s\n",
      "[CV 2/5] END metric=manhattan, n_neighbors=12, weights=distance;, score=0.595 total time=   0.0s\n",
      "[CV 3/5] END metric=manhattan, n_neighbors=12, weights=distance;, score=0.639 total time=   0.0s\n",
      "[CV 4/5] END metric=manhattan, n_neighbors=12, weights=distance;, score=0.613 total time=   0.0s\n",
      "[CV 5/5] END metric=manhattan, n_neighbors=12, weights=distance;, score=0.608 total time=   0.0s\n",
      "[CV 1/5] END metric=manhattan, n_neighbors=15, weights=uniform;, score=0.604 total time=   0.1s\n",
      "[CV 2/5] END metric=manhattan, n_neighbors=15, weights=uniform;, score=0.610 total time=   0.1s\n",
      "[CV 3/5] END metric=manhattan, n_neighbors=15, weights=uniform;, score=0.631 total time=   0.1s\n",
      "[CV 4/5] END metric=manhattan, n_neighbors=15, weights=uniform;, score=0.618 total time=   0.1s\n",
      "[CV 5/5] END metric=manhattan, n_neighbors=15, weights=uniform;, score=0.600 total time=   0.1s\n",
      "[CV 1/5] END metric=manhattan, n_neighbors=15, weights=distance;, score=0.606 total time=   0.0s\n",
      "[CV 2/5] END metric=manhattan, n_neighbors=15, weights=distance;, score=0.609 total time=   0.0s\n",
      "[CV 3/5] END metric=manhattan, n_neighbors=15, weights=distance;, score=0.633 total time=   0.0s\n",
      "[CV 4/5] END metric=manhattan, n_neighbors=15, weights=distance;, score=0.622 total time=   0.0s\n",
      "[CV 5/5] END metric=manhattan, n_neighbors=15, weights=distance;, score=0.602 total time=   0.0s\n"
     ]
    },
    {
     "name": "stderr",
     "output_type": "stream",
     "text": [
      "INFO:root:[K-Nearest Neighbors] 🔍 Best Accuracy: 0.6273\n",
      "[K-Nearest Neighbors] 🔍 Best Params: {'metric': 'euclidean', 'n_neighbors': 15, 'weights': 'distance'}\n"
     ]
    }
   ],
   "source": [
    "model_name = 'K-Nearest Neighbors'\n",
    "start = time.time()\n",
    "model = model_factory(model_name, UFCData, model_params, scoring = 'accuracy')\n",
    "end = time.time()\n",
    "duration = end - start"
   ]
  },
  {
   "cell_type": "markdown",
   "id": "49256938-9b41-494a-8b66-7a4663eb0147",
   "metadata": {},
   "source": [
    "#### 🔍 KNN Metrics"
   ]
  },
  {
   "cell_type": "code",
   "execution_count": 6,
   "id": "70e199a0-883a-4db8-a0f9-ad93364a3120",
   "metadata": {},
   "outputs": [],
   "source": [
    "metrics = evaluate_metrics(model, UFCData)"
   ]
  },
  {
   "cell_type": "markdown",
   "id": "2a789c68-09ec-4f00-b132-638d6a36bfd6",
   "metadata": {},
   "source": [
    "### 📝 Log Training Results"
   ]
  },
  {
   "cell_type": "code",
   "execution_count": 7,
   "id": "a0f8943a-69d1-4c2d-a800-b1595714f94c",
   "metadata": {},
   "outputs": [
    {
     "name": "stdout",
     "output_type": "stream",
     "text": [
      "✅ Training logged to ../data/results/training_log.csv\n"
     ]
    }
   ],
   "source": [
    "log_training_result(model_name, model.best_params_, metrics, duration)"
   ]
  },
  {
   "cell_type": "markdown",
   "id": "7d3791f2-25ca-4bb9-bd70-0ac212b5c62d",
   "metadata": {},
   "source": [
    "### 💾 Save Model "
   ]
  },
  {
   "cell_type": "code",
   "execution_count": 8,
   "id": "cea30d46-7ffd-417b-a72e-38b24ae71424",
   "metadata": {},
   "outputs": [
    {
     "name": "stdout",
     "output_type": "stream",
     "text": [
      "✅ Model K-Nearest Neighbors saved to: /home/mlioi/ufc-predictor/models/knn_best.pkl\n"
     ]
    }
   ],
   "source": [
    "save_model(model, name=file_model_name[model_name])"
   ]
  },
  {
   "cell_type": "markdown",
   "id": "8a89ba7d",
   "metadata": {},
   "source": [
    "### 4.2 Support Vector Machine Model "
   ]
  },
  {
   "cell_type": "markdown",
   "id": "90c60acc-9fa6-47dd-9e2f-dfa89dc3a74b",
   "metadata": {},
   "source": [
    "#### 🚀 Support Vector Machine Training "
   ]
  },
  {
   "cell_type": "code",
   "execution_count": 9,
   "id": "6f3ab386",
   "metadata": {},
   "outputs": [
    {
     "name": "stdout",
     "output_type": "stream",
     "text": [
      "\u001b[95m╔═════════════════════════════════════════════════════════════════╗\n",
      "║  [Support Vector Machine] UFC GridSearchCV Training (Accuracy)  ║\n",
      "╚═════════════════════════════════════════════════════════════════╝\u001b[0m\n"
     ]
    },
    {
     "name": "stderr",
     "output_type": "stream",
     "text": [
      "INFO:root:[Support Vector Machine] 🤖 Training...\n"
     ]
    },
    {
     "name": "stdout",
     "output_type": "stream",
     "text": [
      "Fitting 5 folds for each of 5 candidates, totalling 25 fits\n",
      "[CV 1/5] END .C=0.01, gamma=auto, kernel=linear;, score=0.651 total time=   2.7s\n",
      "[CV 2/5] END .C=0.01, gamma=auto, kernel=linear;, score=0.640 total time=   2.7s\n",
      "[CV 3/5] END .C=0.01, gamma=auto, kernel=linear;, score=0.692 total time=   2.7s\n",
      "[CV 4/5] END .C=0.01, gamma=auto, kernel=linear;, score=0.662 total time=   2.7s\n",
      "[CV 5/5] END .C=0.01, gamma=auto, kernel=linear;, score=0.659 total time=   2.7s\n",
      "[CV 1/5] END ..C=0.1, gamma=auto, kernel=linear;, score=0.653 total time=   3.0s\n",
      "[CV 2/5] END ..C=0.1, gamma=auto, kernel=linear;, score=0.636 total time=   2.9s\n",
      "[CV 3/5] END ..C=0.1, gamma=auto, kernel=linear;, score=0.689 total time=   3.0s\n",
      "[CV 4/5] END ..C=0.1, gamma=auto, kernel=linear;, score=0.662 total time=   2.9s\n",
      "[CV 5/5] END ..C=0.1, gamma=auto, kernel=linear;, score=0.661 total time=   3.1s\n",
      "[CV 1/5] END ....C=1, gamma=auto, kernel=linear;, score=0.652 total time=   5.2s\n",
      "[CV 2/5] END ....C=1, gamma=auto, kernel=linear;, score=0.636 total time=   5.3s\n",
      "[CV 3/5] END ....C=1, gamma=auto, kernel=linear;, score=0.688 total time=   5.3s\n",
      "[CV 4/5] END ....C=1, gamma=auto, kernel=linear;, score=0.662 total time=   5.2s\n",
      "[CV 5/5] END ....C=1, gamma=auto, kernel=linear;, score=0.662 total time=   5.2s\n",
      "[CV 1/5] END ..C=1.5, gamma=auto, kernel=linear;, score=0.652 total time=   6.1s\n",
      "[CV 2/5] END ..C=1.5, gamma=auto, kernel=linear;, score=0.636 total time=   6.2s\n",
      "[CV 3/5] END ..C=1.5, gamma=auto, kernel=linear;, score=0.688 total time=   6.1s\n",
      "[CV 4/5] END ..C=1.5, gamma=auto, kernel=linear;, score=0.662 total time=   6.0s\n",
      "[CV 5/5] END ..C=1.5, gamma=auto, kernel=linear;, score=0.662 total time=   6.1s\n",
      "[CV 1/5] END ....C=2, gamma=auto, kernel=linear;, score=0.652 total time=   6.8s\n",
      "[CV 2/5] END ....C=2, gamma=auto, kernel=linear;, score=0.636 total time=   7.1s\n",
      "[CV 3/5] END ....C=2, gamma=auto, kernel=linear;, score=0.688 total time=   6.8s\n",
      "[CV 4/5] END ....C=2, gamma=auto, kernel=linear;, score=0.662 total time=   6.8s\n",
      "[CV 5/5] END ....C=2, gamma=auto, kernel=linear;, score=0.662 total time=   6.8s\n"
     ]
    },
    {
     "name": "stderr",
     "output_type": "stream",
     "text": [
      "INFO:root:[Support Vector Machine] 🔍 Best Accuracy: 0.6608\n",
      "[Support Vector Machine] 🔍 Best Params: {'C': 0.01, 'gamma': 'auto', 'kernel': 'linear'}\n"
     ]
    }
   ],
   "source": [
    "model_name = 'Support Vector Machine'\n",
    "start = time.time()\n",
    "model = model_factory(model_name, UFCData, model_params)\n",
    "end = time.time()\n",
    "duration = end - start"
   ]
  },
  {
   "cell_type": "markdown",
   "id": "effac092-0e21-4b2b-aa53-9121d942fa2e",
   "metadata": {},
   "source": [
    "#### 🔍 Support Vector Machine Metrics"
   ]
  },
  {
   "cell_type": "code",
   "execution_count": 10,
   "id": "5ea4ee92-a5a7-480f-8c25-634fb16827e4",
   "metadata": {
    "scrolled": true
   },
   "outputs": [],
   "source": [
    "metrics = evaluate_metrics(model, UFCData)"
   ]
  },
  {
   "cell_type": "markdown",
   "id": "e241458a-f474-4973-92eb-79ed69228789",
   "metadata": {},
   "source": [
    "### 📝 Log Training Results"
   ]
  },
  {
   "cell_type": "code",
   "execution_count": 11,
   "id": "3de0e1f1-51f9-4368-8d54-b2626bfe80f6",
   "metadata": {},
   "outputs": [
    {
     "name": "stdout",
     "output_type": "stream",
     "text": [
      "✅ Training logged to ../data/results/training_log.csv\n"
     ]
    }
   ],
   "source": [
    "log_training_result(model_name, model.best_params_, metrics, duration)"
   ]
  },
  {
   "cell_type": "markdown",
   "id": "b4000bf8-356d-42c2-bf01-b5fd8188b867",
   "metadata": {},
   "source": [
    "### 💾 Save Model "
   ]
  },
  {
   "cell_type": "code",
   "execution_count": 12,
   "id": "4d98e71c-17a1-4cb8-be05-a6184dbfb46b",
   "metadata": {},
   "outputs": [
    {
     "name": "stdout",
     "output_type": "stream",
     "text": [
      "✅ Model Support Vector Machine saved to: /home/mlioi/ufc-predictor/models/svm_best.pkl\n"
     ]
    }
   ],
   "source": [
    "save_model(model, name=file_model_name[model_name])"
   ]
  },
  {
   "cell_type": "markdown",
   "id": "03b7bf14",
   "metadata": {},
   "source": [
    "### 4.3 Logistic Regression Model"
   ]
  },
  {
   "cell_type": "markdown",
   "id": "26c55350-bfcf-4457-8462-a4daf948ff27",
   "metadata": {},
   "source": [
    "#### 🚀 Logistic Regression Training"
   ]
  },
  {
   "cell_type": "code",
   "execution_count": 13,
   "id": "87b0b4ad-caad-4c7e-aad6-a6c5772f30c3",
   "metadata": {
    "scrolled": true
   },
   "outputs": [
    {
     "name": "stdout",
     "output_type": "stream",
     "text": [
      "\u001b[95m╔══════════════════════════════════════════════════════════════╗\n",
      "║  [Logistic Regression] UFC GridSearchCV Training (Accuracy)  ║\n",
      "╚══════════════════════════════════════════════════════════════╝\u001b[0m\n"
     ]
    },
    {
     "name": "stderr",
     "output_type": "stream",
     "text": [
      "INFO:root:[Logistic Regression] 🤖 Training...\n"
     ]
    },
    {
     "name": "stdout",
     "output_type": "stream",
     "text": [
      "Fitting 5 folds for each of 8 candidates, totalling 40 fits\n",
      "[CV 1/5] END C=0.001, penalty=l1, solver=liblinear;, score=0.581 total time=   0.0s\n",
      "[CV 2/5] END C=0.001, penalty=l1, solver=liblinear;, score=0.581 total time=   0.0s\n",
      "[CV 3/5] END C=0.001, penalty=l1, solver=liblinear;, score=0.580 total time=   0.0s\n",
      "[CV 4/5] END C=0.001, penalty=l1, solver=liblinear;, score=0.580 total time=   0.0s\n",
      "[CV 5/5] END C=0.001, penalty=l1, solver=liblinear;, score=0.580 total time=   0.0s\n",
      "[CV 1/5] END C=0.001, penalty=l2, solver=liblinear;, score=0.657 total time=   0.0s\n",
      "[CV 2/5] END C=0.001, penalty=l2, solver=liblinear;, score=0.636 total time=   0.0s\n",
      "[CV 3/5] END C=0.001, penalty=l2, solver=liblinear;, score=0.683 total time=   0.0s\n",
      "[CV 4/5] END C=0.001, penalty=l2, solver=liblinear;, score=0.657 total time=   0.0s\n",
      "[CV 5/5] END C=0.001, penalty=l2, solver=liblinear;, score=0.670 total time=   0.0s\n",
      "[CV 1/5] END C=0.01, penalty=l1, solver=liblinear;, score=0.657 total time=   0.0s\n",
      "[CV 2/5] END C=0.01, penalty=l1, solver=liblinear;, score=0.641 total time=   0.0s\n",
      "[CV 3/5] END C=0.01, penalty=l1, solver=liblinear;, score=0.693 total time=   0.0s\n",
      "[CV 4/5] END C=0.01, penalty=l1, solver=liblinear;, score=0.672 total time=   0.0s\n",
      "[CV 5/5] END C=0.01, penalty=l1, solver=liblinear;, score=0.656 total time=   0.0s\n",
      "[CV 1/5] END C=0.01, penalty=l2, solver=liblinear;, score=0.651 total time=   0.0s\n",
      "[CV 2/5] END C=0.01, penalty=l2, solver=liblinear;, score=0.644 total time=   0.0s\n",
      "[CV 3/5] END C=0.01, penalty=l2, solver=liblinear;, score=0.688 total time=   0.0s\n",
      "[CV 4/5] END C=0.01, penalty=l2, solver=liblinear;, score=0.659 total time=   0.0s\n",
      "[CV 5/5] END C=0.01, penalty=l2, solver=liblinear;, score=0.661 total time=   0.0s\n",
      "[CV 1/5] END C=0.05, penalty=l1, solver=liblinear;, score=0.651 total time=   0.0s\n",
      "[CV 2/5] END C=0.05, penalty=l1, solver=liblinear;, score=0.641 total time=   0.0s\n",
      "[CV 3/5] END C=0.05, penalty=l1, solver=liblinear;, score=0.689 total time=   0.0s\n",
      "[CV 4/5] END C=0.05, penalty=l1, solver=liblinear;, score=0.668 total time=   0.0s\n",
      "[CV 5/5] END C=0.05, penalty=l1, solver=liblinear;, score=0.657 total time=   0.0s\n",
      "[CV 1/5] END C=0.05, penalty=l2, solver=liblinear;, score=0.653 total time=   0.0s\n",
      "[CV 2/5] END C=0.05, penalty=l2, solver=liblinear;, score=0.643 total time=   0.0s\n",
      "[CV 3/5] END C=0.05, penalty=l2, solver=liblinear;, score=0.685 total time=   0.0s\n",
      "[CV 4/5] END C=0.05, penalty=l2, solver=liblinear;, score=0.657 total time=   0.0s\n",
      "[CV 5/5] END C=0.05, penalty=l2, solver=liblinear;, score=0.659 total time=   0.0s\n",
      "[CV 1/5] END .C=1, penalty=l1, solver=liblinear;, score=0.655 total time=   0.0s\n",
      "[CV 2/5] END .C=1, penalty=l1, solver=liblinear;, score=0.640 total time=   0.0s\n",
      "[CV 3/5] END .C=1, penalty=l1, solver=liblinear;, score=0.685 total time=   0.0s\n",
      "[CV 4/5] END .C=1, penalty=l1, solver=liblinear;, score=0.659 total time=   0.0s\n",
      "[CV 5/5] END .C=1, penalty=l1, solver=liblinear;, score=0.660 total time=   0.0s\n",
      "[CV 1/5] END .C=1, penalty=l2, solver=liblinear;, score=0.654 total time=   0.0s\n",
      "[CV 2/5] END .C=1, penalty=l2, solver=liblinear;, score=0.642 total time=   0.0s\n",
      "[CV 3/5] END .C=1, penalty=l2, solver=liblinear;, score=0.684 total time=   0.0s\n",
      "[CV 4/5] END .C=1, penalty=l2, solver=liblinear;, score=0.658 total time=   0.0s\n",
      "[CV 5/5] END .C=1, penalty=l2, solver=liblinear;, score=0.659 total time=   0.0s\n"
     ]
    },
    {
     "name": "stderr",
     "output_type": "stream",
     "text": [
      "INFO:root:[Logistic Regression] 🔍 Best Accuracy: 0.6638\n",
      "[Logistic Regression] 🔍 Best Params: {'C': 0.01, 'penalty': 'l1', 'solver': 'liblinear'}\n"
     ]
    }
   ],
   "source": [
    "model_name = 'Logistic Regression'\n",
    "start = time.time()\n",
    "model = model_factory(model_name, UFCData, model_params)\n",
    "end = time.time()\n",
    "duration = end - start"
   ]
  },
  {
   "cell_type": "markdown",
   "id": "180bfb98-cc03-450e-8189-acb93b33edbc",
   "metadata": {},
   "source": [
    "#### 🔍 Logistic Regression Metrics"
   ]
  },
  {
   "cell_type": "code",
   "execution_count": 14,
   "id": "50d31e94-d6b8-4348-91e4-f36888b29f36",
   "metadata": {},
   "outputs": [],
   "source": [
    "metrics = evaluate_metrics(model, UFCData)"
   ]
  },
  {
   "cell_type": "markdown",
   "id": "d1e2a10d-1b61-4b05-aa18-ef98cd6a3e60",
   "metadata": {},
   "source": [
    "### 📝 Log Training Results"
   ]
  },
  {
   "cell_type": "code",
   "execution_count": 15,
   "id": "f2a55f73-8f04-4f22-8511-f34e17aa1c4a",
   "metadata": {},
   "outputs": [
    {
     "name": "stdout",
     "output_type": "stream",
     "text": [
      "✅ Training logged to ../data/results/training_log.csv\n"
     ]
    }
   ],
   "source": [
    "log_training_result(model_name, model.best_params_, metrics, duration)"
   ]
  },
  {
   "cell_type": "markdown",
   "id": "8494b4b1-e6c4-4edd-aee9-ffdaab0db646",
   "metadata": {},
   "source": [
    "### 💾 Save Model "
   ]
  },
  {
   "cell_type": "code",
   "execution_count": 16,
   "id": "89314b8f-a5c8-446a-b8e1-d9e60751de0a",
   "metadata": {},
   "outputs": [
    {
     "name": "stdout",
     "output_type": "stream",
     "text": [
      "✅ Model Logistic Regression saved to: /home/mlioi/ufc-predictor/models/lr_best.pkl\n"
     ]
    }
   ],
   "source": [
    "save_model(model, name=file_model_name[model_name])"
   ]
  },
  {
   "cell_type": "markdown",
   "id": "a9e4e2e3",
   "metadata": {},
   "source": [
    "### 4.4 Random Forest Model"
   ]
  },
  {
   "cell_type": "markdown",
   "id": "b3ecd028-62af-4a56-badd-57f299aac14e",
   "metadata": {},
   "source": [
    "#### 🚀 Random Forest Training"
   ]
  },
  {
   "cell_type": "code",
   "execution_count": 17,
   "id": "054947b3",
   "metadata": {
    "scrolled": true
   },
   "outputs": [
    {
     "name": "stdout",
     "output_type": "stream",
     "text": [
      "\u001b[95m╔════════════════════════════════════════════════════════╗\n",
      "║  [Random Forest] UFC GridSearchCV Training (Accuracy)  ║\n",
      "╚════════════════════════════════════════════════════════╝\u001b[0m\n"
     ]
    },
    {
     "name": "stderr",
     "output_type": "stream",
     "text": [
      "INFO:root:[Random Forest] 🤖 Training...\n"
     ]
    },
    {
     "name": "stdout",
     "output_type": "stream",
     "text": [
      "Fitting 5 folds for each of 16 candidates, totalling 80 fits\n",
      "[CV 1/5] END ......max_depth=3, n_estimators=10;, score=0.623 total time=   0.0s\n",
      "[CV 2/5] END ......max_depth=3, n_estimators=10;, score=0.634 total time=   0.0s\n",
      "[CV 3/5] END ......max_depth=3, n_estimators=10;, score=0.622 total time=   0.0s\n",
      "[CV 4/5] END ......max_depth=3, n_estimators=10;, score=0.639 total time=   0.0s\n",
      "[CV 5/5] END ......max_depth=3, n_estimators=10;, score=0.643 total time=   0.0s\n",
      "[CV 1/5] END ......max_depth=3, n_estimators=50;, score=0.647 total time=   0.2s\n",
      "[CV 2/5] END ......max_depth=3, n_estimators=50;, score=0.639 total time=   0.2s\n",
      "[CV 3/5] END ......max_depth=3, n_estimators=50;, score=0.661 total time=   0.2s\n",
      "[CV 4/5] END ......max_depth=3, n_estimators=50;, score=0.657 total time=   0.2s\n",
      "[CV 5/5] END ......max_depth=3, n_estimators=50;, score=0.647 total time=   0.2s\n",
      "[CV 1/5] END .....max_depth=3, n_estimators=100;, score=0.633 total time=   0.3s\n",
      "[CV 2/5] END .....max_depth=3, n_estimators=100;, score=0.633 total time=   0.3s\n",
      "[CV 3/5] END .....max_depth=3, n_estimators=100;, score=0.664 total time=   0.3s\n",
      "[CV 4/5] END .....max_depth=3, n_estimators=100;, score=0.650 total time=   0.3s\n",
      "[CV 5/5] END .....max_depth=3, n_estimators=100;, score=0.649 total time=   0.3s\n",
      "[CV 1/5] END ....max_depth=3, n_estimators=1000;, score=0.636 total time=   2.9s\n",
      "[CV 2/5] END ....max_depth=3, n_estimators=1000;, score=0.624 total time=   2.9s\n",
      "[CV 3/5] END ....max_depth=3, n_estimators=1000;, score=0.671 total time=   3.1s\n",
      "[CV 4/5] END ....max_depth=3, n_estimators=1000;, score=0.648 total time=   3.0s\n",
      "[CV 5/5] END ....max_depth=3, n_estimators=1000;, score=0.639 total time=   2.9s\n",
      "[CV 1/5] END ......max_depth=5, n_estimators=10;, score=0.641 total time=   0.0s\n",
      "[CV 2/5] END ......max_depth=5, n_estimators=10;, score=0.648 total time=   0.0s\n",
      "[CV 3/5] END ......max_depth=5, n_estimators=10;, score=0.682 total time=   0.0s\n",
      "[CV 4/5] END ......max_depth=5, n_estimators=10;, score=0.662 total time=   0.0s\n",
      "[CV 5/5] END ......max_depth=5, n_estimators=10;, score=0.650 total time=   0.0s\n",
      "[CV 1/5] END ......max_depth=5, n_estimators=50;, score=0.649 total time=   0.2s\n",
      "[CV 2/5] END ......max_depth=5, n_estimators=50;, score=0.640 total time=   0.2s\n",
      "[CV 3/5] END ......max_depth=5, n_estimators=50;, score=0.689 total time=   0.2s\n",
      "[CV 4/5] END ......max_depth=5, n_estimators=50;, score=0.657 total time=   0.2s\n",
      "[CV 5/5] END ......max_depth=5, n_estimators=50;, score=0.655 total time=   0.2s\n",
      "[CV 1/5] END .....max_depth=5, n_estimators=100;, score=0.651 total time=   0.4s\n",
      "[CV 2/5] END .....max_depth=5, n_estimators=100;, score=0.639 total time=   0.4s\n",
      "[CV 3/5] END .....max_depth=5, n_estimators=100;, score=0.680 total time=   0.4s\n",
      "[CV 4/5] END .....max_depth=5, n_estimators=100;, score=0.657 total time=   0.4s\n",
      "[CV 5/5] END .....max_depth=5, n_estimators=100;, score=0.667 total time=   0.4s\n",
      "[CV 1/5] END ....max_depth=5, n_estimators=1000;, score=0.652 total time=   3.8s\n",
      "[CV 2/5] END ....max_depth=5, n_estimators=1000;, score=0.645 total time=   3.8s\n",
      "[CV 3/5] END ....max_depth=5, n_estimators=1000;, score=0.691 total time=   4.0s\n",
      "[CV 4/5] END ....max_depth=5, n_estimators=1000;, score=0.659 total time=   4.0s\n",
      "[CV 5/5] END ....max_depth=5, n_estimators=1000;, score=0.661 total time=   3.8s\n",
      "[CV 1/5] END .....max_depth=10, n_estimators=10;, score=0.639 total time=   0.1s\n",
      "[CV 2/5] END .....max_depth=10, n_estimators=10;, score=0.631 total time=   0.1s\n",
      "[CV 3/5] END .....max_depth=10, n_estimators=10;, score=0.642 total time=   0.1s\n",
      "[CV 4/5] END .....max_depth=10, n_estimators=10;, score=0.643 total time=   0.1s\n",
      "[CV 5/5] END .....max_depth=10, n_estimators=10;, score=0.628 total time=   0.1s\n",
      "[CV 1/5] END .....max_depth=10, n_estimators=50;, score=0.646 total time=   0.3s\n",
      "[CV 2/5] END .....max_depth=10, n_estimators=50;, score=0.632 total time=   0.3s\n",
      "[CV 3/5] END .....max_depth=10, n_estimators=50;, score=0.676 total time=   0.3s\n",
      "[CV 4/5] END .....max_depth=10, n_estimators=50;, score=0.642 total time=   0.3s\n",
      "[CV 5/5] END .....max_depth=10, n_estimators=50;, score=0.654 total time=   0.3s\n",
      "[CV 1/5] END ....max_depth=10, n_estimators=100;, score=0.642 total time=   0.6s\n",
      "[CV 2/5] END ....max_depth=10, n_estimators=100;, score=0.646 total time=   0.6s\n",
      "[CV 3/5] END ....max_depth=10, n_estimators=100;, score=0.680 total time=   0.7s\n",
      "[CV 4/5] END ....max_depth=10, n_estimators=100;, score=0.649 total time=   0.7s\n",
      "[CV 5/5] END ....max_depth=10, n_estimators=100;, score=0.662 total time=   0.6s\n",
      "[CV 1/5] END ...max_depth=10, n_estimators=1000;, score=0.654 total time=   6.4s\n",
      "[CV 2/5] END ...max_depth=10, n_estimators=1000;, score=0.648 total time=   6.3s\n",
      "[CV 3/5] END ...max_depth=10, n_estimators=1000;, score=0.694 total time=   6.5s\n",
      "[CV 4/5] END ...max_depth=10, n_estimators=1000;, score=0.650 total time=   6.5s\n",
      "[CV 5/5] END ...max_depth=10, n_estimators=1000;, score=0.655 total time=   6.3s\n",
      "[CV 1/5] END ....max_depth=100, n_estimators=10;, score=0.630 total time=   0.1s\n",
      "[CV 2/5] END ....max_depth=100, n_estimators=10;, score=0.618 total time=   0.1s\n",
      "[CV 3/5] END ....max_depth=100, n_estimators=10;, score=0.627 total time=   0.1s\n",
      "[CV 4/5] END ....max_depth=100, n_estimators=10;, score=0.635 total time=   0.1s\n",
      "[CV 5/5] END ....max_depth=100, n_estimators=10;, score=0.636 total time=   0.1s\n",
      "[CV 1/5] END ....max_depth=100, n_estimators=50;, score=0.636 total time=   0.5s\n",
      "[CV 2/5] END ....max_depth=100, n_estimators=50;, score=0.624 total time=   0.5s\n",
      "[CV 3/5] END ....max_depth=100, n_estimators=50;, score=0.667 total time=   0.5s\n",
      "[CV 4/5] END ....max_depth=100, n_estimators=50;, score=0.644 total time=   0.5s\n",
      "[CV 5/5] END ....max_depth=100, n_estimators=50;, score=0.642 total time=   0.5s\n",
      "[CV 1/5] END ...max_depth=100, n_estimators=100;, score=0.623 total time=   0.9s\n",
      "[CV 2/5] END ...max_depth=100, n_estimators=100;, score=0.645 total time=   0.9s\n",
      "[CV 3/5] END ...max_depth=100, n_estimators=100;, score=0.686 total time=   0.9s\n",
      "[CV 4/5] END ...max_depth=100, n_estimators=100;, score=0.634 total time=   0.9s\n",
      "[CV 5/5] END ...max_depth=100, n_estimators=100;, score=0.642 total time=   0.9s\n",
      "[CV 1/5] END ..max_depth=100, n_estimators=1000;, score=0.647 total time=   9.1s\n",
      "[CV 2/5] END ..max_depth=100, n_estimators=1000;, score=0.646 total time=   9.1s\n",
      "[CV 3/5] END ..max_depth=100, n_estimators=1000;, score=0.690 total time=   9.2s\n",
      "[CV 4/5] END ..max_depth=100, n_estimators=1000;, score=0.640 total time=   9.1s\n",
      "[CV 5/5] END ..max_depth=100, n_estimators=1000;, score=0.647 total time=   9.3s\n"
     ]
    },
    {
     "name": "stderr",
     "output_type": "stream",
     "text": [
      "INFO:root:[Random Forest] 🔍 Best Accuracy: 0.6617\n",
      "[Random Forest] 🔍 Best Params: {'max_depth': 5, 'n_estimators': 1000}\n"
     ]
    }
   ],
   "source": [
    "model_name = 'Random Forest'\n",
    "start = time.time()\n",
    "model = model_factory(model_name, UFCData, model_params)\n",
    "end = time.time()\n",
    "duration = end - start"
   ]
  },
  {
   "cell_type": "markdown",
   "id": "653e37f0-da84-4b55-82b7-5d4c4920587d",
   "metadata": {},
   "source": [
    "#### 🔍 Random Forest Metrics"
   ]
  },
  {
   "cell_type": "code",
   "execution_count": 18,
   "id": "5e0783b7-2a4c-4bc8-a275-04ffb42752c4",
   "metadata": {},
   "outputs": [],
   "source": [
    "metrics = evaluate_metrics(model, UFCData)"
   ]
  },
  {
   "cell_type": "markdown",
   "id": "c324c8fb-0329-4552-8763-9f18a3c36724",
   "metadata": {},
   "source": [
    "### 📝 Log Training Results"
   ]
  },
  {
   "cell_type": "code",
   "execution_count": 19,
   "id": "16e111ee-7960-4cf8-9301-1a0d676ef0df",
   "metadata": {},
   "outputs": [
    {
     "name": "stdout",
     "output_type": "stream",
     "text": [
      "✅ Training logged to ../data/results/training_log.csv\n"
     ]
    }
   ],
   "source": [
    "log_training_result(model_name, model.best_params_, metrics, duration)"
   ]
  },
  {
   "cell_type": "markdown",
   "id": "d3bbee38-fc3a-4391-9bbb-347e18e048da",
   "metadata": {},
   "source": [
    "### 💾 Save Model "
   ]
  },
  {
   "cell_type": "code",
   "execution_count": 20,
   "id": "12bdd9f2-366a-42b4-9422-80771cbe5b43",
   "metadata": {},
   "outputs": [
    {
     "name": "stdout",
     "output_type": "stream",
     "text": [
      "✅ Model Random Forest saved to: /home/mlioi/ufc-predictor/models/rf_best.pkl\n"
     ]
    }
   ],
   "source": [
    "save_model(model, name=file_model_name[model_name])"
   ]
  },
  {
   "cell_type": "markdown",
   "id": "c64482a9",
   "metadata": {},
   "source": [
    "### 4.5 AdaBoost Model"
   ]
  },
  {
   "cell_type": "markdown",
   "id": "1d5f617e-560d-4847-bc2a-8661f8e9fa67",
   "metadata": {},
   "source": [
    "#### 🚀 AdaBoost Training"
   ]
  },
  {
   "cell_type": "code",
   "execution_count": 21,
   "id": "44a936b9",
   "metadata": {},
   "outputs": [
    {
     "name": "stdout",
     "output_type": "stream",
     "text": [
      "\u001b[95m╔═══════════════════════════════════════════════════╗\n",
      "║  [AdaBoost] UFC GridSearchCV Training (Accuracy)  ║\n",
      "╚═══════════════════════════════════════════════════╝\u001b[0m\n"
     ]
    },
    {
     "name": "stderr",
     "output_type": "stream",
     "text": [
      "INFO:root:[AdaBoost] 🤖 Training...\n"
     ]
    },
    {
     "name": "stdout",
     "output_type": "stream",
     "text": [
      "Fitting 5 folds for each of 9 candidates, totalling 45 fits\n",
      "[CV 1/5] END learning_rate=0.01, n_estimators=10;, score=0.650 total time=   0.1s\n",
      "[CV 2/5] END learning_rate=0.01, n_estimators=10;, score=0.640 total time=   0.1s\n",
      "[CV 3/5] END learning_rate=0.01, n_estimators=10;, score=0.648 total time=   0.1s\n",
      "[CV 4/5] END learning_rate=0.01, n_estimators=10;, score=0.647 total time=   0.1s\n",
      "[CV 5/5] END learning_rate=0.01, n_estimators=10;, score=0.610 total time=   0.1s\n",
      "[CV 1/5] END learning_rate=0.01, n_estimators=50;, score=0.650 total time=   0.3s\n",
      "[CV 2/5] END learning_rate=0.01, n_estimators=50;, score=0.640 total time=   0.3s\n",
      "[CV 3/5] END learning_rate=0.01, n_estimators=50;, score=0.648 total time=   0.3s\n",
      "[CV 4/5] END learning_rate=0.01, n_estimators=50;, score=0.647 total time=   0.3s\n",
      "[CV 5/5] END learning_rate=0.01, n_estimators=50;, score=0.610 total time=   0.3s\n",
      "[CV 1/5] END learning_rate=0.01, n_estimators=100;, score=0.650 total time=   0.6s\n",
      "[CV 2/5] END learning_rate=0.01, n_estimators=100;, score=0.640 total time=   0.6s\n",
      "[CV 3/5] END learning_rate=0.01, n_estimators=100;, score=0.684 total time=   0.6s\n",
      "[CV 4/5] END learning_rate=0.01, n_estimators=100;, score=0.647 total time=   0.6s\n",
      "[CV 5/5] END learning_rate=0.01, n_estimators=100;, score=0.658 total time=   0.6s\n",
      "[CV 1/5] END learning_rate=0.1, n_estimators=10;, score=0.650 total time=   0.1s\n",
      "[CV 2/5] END learning_rate=0.1, n_estimators=10;, score=0.633 total time=   0.1s\n",
      "[CV 3/5] END learning_rate=0.1, n_estimators=10;, score=0.684 total time=   0.1s\n",
      "[CV 4/5] END learning_rate=0.1, n_estimators=10;, score=0.647 total time=   0.1s\n",
      "[CV 5/5] END learning_rate=0.1, n_estimators=10;, score=0.658 total time=   0.1s\n",
      "[CV 1/5] END learning_rate=0.1, n_estimators=50;, score=0.645 total time=   0.3s\n",
      "[CV 2/5] END learning_rate=0.1, n_estimators=50;, score=0.640 total time=   0.3s\n",
      "[CV 3/5] END learning_rate=0.1, n_estimators=50;, score=0.696 total time=   0.3s\n",
      "[CV 4/5] END learning_rate=0.1, n_estimators=50;, score=0.677 total time=   0.3s\n",
      "[CV 5/5] END learning_rate=0.1, n_estimators=50;, score=0.658 total time=   0.3s\n",
      "[CV 1/5] END learning_rate=0.1, n_estimators=100;, score=0.645 total time=   0.6s\n",
      "[CV 2/5] END learning_rate=0.1, n_estimators=100;, score=0.655 total time=   0.6s\n",
      "[CV 3/5] END learning_rate=0.1, n_estimators=100;, score=0.696 total time=   0.6s\n",
      "[CV 4/5] END learning_rate=0.1, n_estimators=100;, score=0.677 total time=   0.6s\n",
      "[CV 5/5] END learning_rate=0.1, n_estimators=100;, score=0.658 total time=   0.6s\n",
      "[CV 1/5] END learning_rate=1.0, n_estimators=10;, score=0.650 total time=   0.1s\n",
      "[CV 2/5] END learning_rate=1.0, n_estimators=10;, score=0.633 total time=   0.1s\n",
      "[CV 3/5] END learning_rate=1.0, n_estimators=10;, score=0.676 total time=   0.1s\n",
      "[CV 4/5] END learning_rate=1.0, n_estimators=10;, score=0.647 total time=   0.1s\n",
      "[CV 5/5] END learning_rate=1.0, n_estimators=10;, score=0.647 total time=   0.1s\n",
      "[CV 1/5] END learning_rate=1.0, n_estimators=50;, score=0.650 total time=   0.3s\n",
      "[CV 2/5] END learning_rate=1.0, n_estimators=50;, score=0.630 total time=   0.3s\n",
      "[CV 3/5] END learning_rate=1.0, n_estimators=50;, score=0.684 total time=   0.3s\n",
      "[CV 4/5] END learning_rate=1.0, n_estimators=50;, score=0.653 total time=   0.3s\n",
      "[CV 5/5] END learning_rate=1.0, n_estimators=50;, score=0.648 total time=   0.3s\n",
      "[CV 1/5] END learning_rate=1.0, n_estimators=100;, score=0.649 total time=   0.6s\n",
      "[CV 2/5] END learning_rate=1.0, n_estimators=100;, score=0.630 total time=   0.6s\n",
      "[CV 3/5] END learning_rate=1.0, n_estimators=100;, score=0.688 total time=   0.6s\n",
      "[CV 4/5] END learning_rate=1.0, n_estimators=100;, score=0.658 total time=   0.6s\n",
      "[CV 5/5] END learning_rate=1.0, n_estimators=100;, score=0.643 total time=   0.6s\n"
     ]
    },
    {
     "name": "stderr",
     "output_type": "stream",
     "text": [
      "INFO:root:[AdaBoost] 🔍 Best Accuracy: 0.6663\n",
      "[AdaBoost] 🔍 Best Params: {'learning_rate': 0.1, 'n_estimators': 100}\n"
     ]
    }
   ],
   "source": [
    "model_name = 'AdaBoost'\n",
    "start = time.time()\n",
    "model = model_factory(model_name, UFCData, model_params)\n",
    "end = time.time()\n",
    "duration = end - start"
   ]
  },
  {
   "cell_type": "markdown",
   "id": "81d48c7a-6d82-4b28-91ec-7f8b61c1bdc8",
   "metadata": {},
   "source": [
    "#### 🔍 AdaBoost Metrics"
   ]
  },
  {
   "cell_type": "code",
   "execution_count": 22,
   "id": "f185bc1b-2540-4cc6-abaf-e2f711c494ad",
   "metadata": {
    "scrolled": true
   },
   "outputs": [],
   "source": [
    "metrics = evaluate_metrics(model, UFCData)"
   ]
  },
  {
   "cell_type": "markdown",
   "id": "4cd74370-c5fe-4476-bfd4-a70074efac8b",
   "metadata": {},
   "source": [
    "### 📝 Log Training Results"
   ]
  },
  {
   "cell_type": "code",
   "execution_count": 23,
   "id": "99a7657b-758e-474a-8cae-f46beb4ede7b",
   "metadata": {},
   "outputs": [
    {
     "name": "stdout",
     "output_type": "stream",
     "text": [
      "✅ Training logged to ../data/results/training_log.csv\n"
     ]
    }
   ],
   "source": [
    "log_training_result(model_name, model.best_params_, metrics, duration)"
   ]
  },
  {
   "cell_type": "markdown",
   "id": "60ab855a-02f1-4045-82fb-efde83f6cfa5",
   "metadata": {},
   "source": [
    "### 💾 Save Model "
   ]
  },
  {
   "cell_type": "code",
   "execution_count": 24,
   "id": "2756ab9e-5a9f-4483-81c1-4567b043069f",
   "metadata": {},
   "outputs": [
    {
     "name": "stdout",
     "output_type": "stream",
     "text": [
      "✅ Model AdaBoost saved to: /home/mlioi/ufc-predictor/models/ab_best.pkl\n"
     ]
    }
   ],
   "source": [
    "save_model(model, name=file_model_name[model_name])"
   ]
  },
  {
   "cell_type": "markdown",
   "id": "0f506d2e",
   "metadata": {},
   "source": [
    "### 4.6 Naive Bayes Model"
   ]
  },
  {
   "cell_type": "markdown",
   "id": "05b60712-0ef6-4ce5-b64d-7039ac1240bc",
   "metadata": {},
   "source": [
    "#### 🚀 Naive Bayes Training"
   ]
  },
  {
   "cell_type": "code",
   "execution_count": 25,
   "id": "309d3291",
   "metadata": {},
   "outputs": [
    {
     "name": "stdout",
     "output_type": "stream",
     "text": [
      "\u001b[95m╔══════════════════════════════════════════════════════╗\n",
      "║  [Naive Bayes] UFC GridSearchCV Training (Accuracy)  ║\n",
      "╚══════════════════════════════════════════════════════╝\u001b[0m\n"
     ]
    },
    {
     "name": "stderr",
     "output_type": "stream",
     "text": [
      "INFO:root:[Naive Bayes] 🤖 Training...\n"
     ]
    },
    {
     "name": "stdout",
     "output_type": "stream",
     "text": [
      "Fitting 5 folds for each of 4 candidates, totalling 20 fits\n",
      "[CV 1/5] END ...............var_smoothing=1e-08;, score=0.643 total time=   0.0s\n",
      "[CV 2/5] END ...............var_smoothing=1e-08;, score=0.623 total time=   0.0s\n",
      "[CV 3/5] END ...............var_smoothing=1e-08;, score=0.662 total time=   0.0s\n",
      "[CV 4/5] END ...............var_smoothing=1e-08;, score=0.628 total time=   0.0s\n",
      "[CV 5/5] END ...............var_smoothing=1e-08;, score=0.652 total time=   0.0s\n",
      "[CV 1/5] END ...............var_smoothing=1e-07;, score=0.643 total time=   0.0s\n",
      "[CV 2/5] END ...............var_smoothing=1e-07;, score=0.623 total time=   0.0s\n",
      "[CV 3/5] END ...............var_smoothing=1e-07;, score=0.662 total time=   0.0s\n",
      "[CV 4/5] END ...............var_smoothing=1e-07;, score=0.628 total time=   0.0s\n",
      "[CV 5/5] END ...............var_smoothing=1e-07;, score=0.652 total time=   0.0s\n",
      "[CV 1/5] END ...............var_smoothing=1e-06;, score=0.643 total time=   0.0s\n",
      "[CV 2/5] END ...............var_smoothing=1e-06;, score=0.623 total time=   0.0s\n",
      "[CV 3/5] END ...............var_smoothing=1e-06;, score=0.662 total time=   0.0s\n",
      "[CV 4/5] END ...............var_smoothing=1e-06;, score=0.628 total time=   0.0s\n",
      "[CV 5/5] END ...............var_smoothing=1e-06;, score=0.652 total time=   0.0s\n",
      "[CV 1/5] END ...............var_smoothing=1e-05;, score=0.643 total time=   0.0s\n",
      "[CV 2/5] END ...............var_smoothing=1e-05;, score=0.623 total time=   0.0s\n",
      "[CV 3/5] END ...............var_smoothing=1e-05;, score=0.662 total time=   0.0s\n",
      "[CV 4/5] END ...............var_smoothing=1e-05;, score=0.628 total time=   0.0s\n",
      "[CV 5/5] END ...............var_smoothing=1e-05;, score=0.652 total time=   0.0s\n"
     ]
    },
    {
     "name": "stderr",
     "output_type": "stream",
     "text": [
      "INFO:root:[Naive Bayes] 🔍 Best Accuracy: 0.6417\n",
      "[Naive Bayes] 🔍 Best Params: {'var_smoothing': 1e-08}\n"
     ]
    }
   ],
   "source": [
    "model_name = 'Naive Bayes'\n",
    "start = time.time()\n",
    "model = model_factory(model_name, UFCData, model_params)\n",
    "end = time.time()\n",
    "duration = end - start"
   ]
  },
  {
   "cell_type": "markdown",
   "id": "ece1e78a-d149-4790-ac78-96eaffdcff69",
   "metadata": {},
   "source": [
    "#### 🔍 Naive Bayes Metrics"
   ]
  },
  {
   "cell_type": "code",
   "execution_count": 26,
   "id": "df22375c-77c9-4410-b0e0-fb93c6e67f07",
   "metadata": {
    "scrolled": true
   },
   "outputs": [],
   "source": [
    "metrics = evaluate_metrics(model, UFCData)"
   ]
  },
  {
   "cell_type": "markdown",
   "id": "cefcb965-9b00-4107-8401-5e6e4d4b62dd",
   "metadata": {},
   "source": [
    "### 📝 Log Training Results"
   ]
  },
  {
   "cell_type": "code",
   "execution_count": 27,
   "id": "ea3388a5-2661-4903-997b-3d489887c416",
   "metadata": {},
   "outputs": [
    {
     "name": "stdout",
     "output_type": "stream",
     "text": [
      "✅ Training logged to ../data/results/training_log.csv\n"
     ]
    }
   ],
   "source": [
    "log_training_result(model_name, model.best_params_, metrics, duration)"
   ]
  },
  {
   "cell_type": "markdown",
   "id": "8f709031-454d-4f8d-99bf-bf9dedcd83c8",
   "metadata": {},
   "source": [
    "### 💾 Save Model "
   ]
  },
  {
   "cell_type": "code",
   "execution_count": 28,
   "id": "e303de9f-7ac6-45c3-8ea7-20f4c37bb67c",
   "metadata": {},
   "outputs": [
    {
     "name": "stdout",
     "output_type": "stream",
     "text": [
      "✅ Model Naive Bayes saved to: /home/mlioi/ufc-predictor/models/nb_best.pkl\n"
     ]
    }
   ],
   "source": [
    "save_model(model, name=file_model_name[model_name])"
   ]
  },
  {
   "cell_type": "markdown",
   "id": "ee77f580-059a-4da4-be89-96c1aec97a92",
   "metadata": {},
   "source": [
    "### 4.7 Gradient Boosting Model"
   ]
  },
  {
   "cell_type": "markdown",
   "id": "2c14d4ef-8dc3-49b1-baa0-f9f17a36de74",
   "metadata": {},
   "source": [
    "#### 🚀 Gradient Boosting Training"
   ]
  },
  {
   "cell_type": "code",
   "execution_count": 5,
   "id": "15d4266e-a34b-4621-afcc-719601c66aa8",
   "metadata": {
    "scrolled": true
   },
   "outputs": [
    {
     "name": "stdout",
     "output_type": "stream",
     "text": [
      "\u001b[95m╔════════════════════════════════════════════════════════════╗\n",
      "║  [Gradient Boosting] UFC GridSearchCV Training (Accuracy)  ║\n",
      "╚════════════════════════════════════════════════════════════╝\u001b[0m\n"
     ]
    },
    {
     "name": "stderr",
     "output_type": "stream",
     "text": [
      "INFO:root:[Gradient Boosting] 🤖 Training...\n"
     ]
    },
    {
     "name": "stdout",
     "output_type": "stream",
     "text": [
      "Fitting 5 folds for each of 18 candidates, totalling 90 fits\n",
      "[CV 1/5] END learning_rate=0.01, max_depth=3, n_estimators=50;, score=0.637 total time=   0.6s\n",
      "[CV 2/5] END learning_rate=0.01, max_depth=3, n_estimators=50;, score=0.642 total time=   0.6s\n",
      "[CV 3/5] END learning_rate=0.01, max_depth=3, n_estimators=50;, score=0.681 total time=   0.6s\n",
      "[CV 4/5] END learning_rate=0.01, max_depth=3, n_estimators=50;, score=0.650 total time=   0.6s\n",
      "[CV 5/5] END learning_rate=0.01, max_depth=3, n_estimators=50;, score=0.644 total time=   0.6s\n",
      "[CV 1/5] END learning_rate=0.01, max_depth=3, n_estimators=100;, score=0.642 total time=   1.1s\n",
      "[CV 2/5] END learning_rate=0.01, max_depth=3, n_estimators=100;, score=0.639 total time=   1.1s\n",
      "[CV 3/5] END learning_rate=0.01, max_depth=3, n_estimators=100;, score=0.699 total time=   1.1s\n",
      "[CV 4/5] END learning_rate=0.01, max_depth=3, n_estimators=100;, score=0.666 total time=   1.1s\n",
      "[CV 5/5] END learning_rate=0.01, max_depth=3, n_estimators=100;, score=0.652 total time=   1.1s\n",
      "[CV 1/5] END learning_rate=0.01, max_depth=5, n_estimators=50;, score=0.640 total time=   1.0s\n",
      "[CV 2/5] END learning_rate=0.01, max_depth=5, n_estimators=50;, score=0.632 total time=   1.0s\n",
      "[CV 3/5] END learning_rate=0.01, max_depth=5, n_estimators=50;, score=0.647 total time=   1.0s\n",
      "[CV 4/5] END learning_rate=0.01, max_depth=5, n_estimators=50;, score=0.649 total time=   1.0s\n",
      "[CV 5/5] END learning_rate=0.01, max_depth=5, n_estimators=50;, score=0.648 total time=   1.0s\n",
      "[CV 1/5] END learning_rate=0.01, max_depth=5, n_estimators=100;, score=0.646 total time=   1.9s\n",
      "[CV 2/5] END learning_rate=0.01, max_depth=5, n_estimators=100;, score=0.632 total time=   1.9s\n",
      "[CV 3/5] END learning_rate=0.01, max_depth=5, n_estimators=100;, score=0.679 total time=   1.9s\n",
      "[CV 4/5] END learning_rate=0.01, max_depth=5, n_estimators=100;, score=0.666 total time=   1.9s\n",
      "[CV 5/5] END learning_rate=0.01, max_depth=5, n_estimators=100;, score=0.652 total time=   1.9s\n",
      "[CV 1/5] END learning_rate=0.01, max_depth=7, n_estimators=50;, score=0.636 total time=   1.5s\n",
      "[CV 2/5] END learning_rate=0.01, max_depth=7, n_estimators=50;, score=0.622 total time=   1.5s\n",
      "[CV 3/5] END learning_rate=0.01, max_depth=7, n_estimators=50;, score=0.653 total time=   1.5s\n",
      "[CV 4/5] END learning_rate=0.01, max_depth=7, n_estimators=50;, score=0.632 total time=   1.5s\n",
      "[CV 5/5] END learning_rate=0.01, max_depth=7, n_estimators=50;, score=0.639 total time=   1.5s\n",
      "[CV 1/5] END learning_rate=0.01, max_depth=7, n_estimators=100;, score=0.654 total time=   3.0s\n",
      "[CV 2/5] END learning_rate=0.01, max_depth=7, n_estimators=100;, score=0.640 total time=   2.9s\n",
      "[CV 3/5] END learning_rate=0.01, max_depth=7, n_estimators=100;, score=0.669 total time=   3.0s\n",
      "[CV 4/5] END learning_rate=0.01, max_depth=7, n_estimators=100;, score=0.653 total time=   3.0s\n",
      "[CV 5/5] END learning_rate=0.01, max_depth=7, n_estimators=100;, score=0.639 total time=   2.9s\n",
      "[CV 1/5] END learning_rate=0.1, max_depth=3, n_estimators=50;, score=0.643 total time=   0.6s\n",
      "[CV 2/5] END learning_rate=0.1, max_depth=3, n_estimators=50;, score=0.651 total time=   0.6s\n",
      "[CV 3/5] END learning_rate=0.1, max_depth=3, n_estimators=50;, score=0.707 total time=   0.6s\n",
      "[CV 4/5] END learning_rate=0.1, max_depth=3, n_estimators=50;, score=0.660 total time=   0.6s\n",
      "[CV 5/5] END learning_rate=0.1, max_depth=3, n_estimators=50;, score=0.645 total time=   0.6s\n",
      "[CV 1/5] END learning_rate=0.1, max_depth=3, n_estimators=100;, score=0.643 total time=   1.1s\n",
      "[CV 2/5] END learning_rate=0.1, max_depth=3, n_estimators=100;, score=0.651 total time=   1.1s\n",
      "[CV 3/5] END learning_rate=0.1, max_depth=3, n_estimators=100;, score=0.699 total time=   1.1s\n",
      "[CV 4/5] END learning_rate=0.1, max_depth=3, n_estimators=100;, score=0.659 total time=   1.1s\n",
      "[CV 5/5] END learning_rate=0.1, max_depth=3, n_estimators=100;, score=0.653 total time=   1.1s\n",
      "[CV 1/5] END learning_rate=0.1, max_depth=5, n_estimators=50;, score=0.647 total time=   0.9s\n",
      "[CV 2/5] END learning_rate=0.1, max_depth=5, n_estimators=50;, score=0.650 total time=   0.9s\n",
      "[CV 3/5] END learning_rate=0.1, max_depth=5, n_estimators=50;, score=0.701 total time=   0.9s\n",
      "[CV 4/5] END learning_rate=0.1, max_depth=5, n_estimators=50;, score=0.652 total time=   0.9s\n",
      "[CV 5/5] END learning_rate=0.1, max_depth=5, n_estimators=50;, score=0.654 total time=   0.9s\n",
      "[CV 1/5] END learning_rate=0.1, max_depth=5, n_estimators=100;, score=0.637 total time=   1.8s\n",
      "[CV 2/5] END learning_rate=0.1, max_depth=5, n_estimators=100;, score=0.643 total time=   1.9s\n",
      "[CV 3/5] END learning_rate=0.1, max_depth=5, n_estimators=100;, score=0.661 total time=   1.9s\n",
      "[CV 4/5] END learning_rate=0.1, max_depth=5, n_estimators=100;, score=0.635 total time=   1.8s\n",
      "[CV 5/5] END learning_rate=0.1, max_depth=5, n_estimators=100;, score=0.637 total time=   1.9s\n",
      "[CV 1/5] END learning_rate=0.1, max_depth=7, n_estimators=50;, score=0.645 total time=   1.4s\n",
      "[CV 2/5] END learning_rate=0.1, max_depth=7, n_estimators=50;, score=0.634 total time=   1.4s\n",
      "[CV 3/5] END learning_rate=0.1, max_depth=7, n_estimators=50;, score=0.665 total time=   1.4s\n",
      "[CV 4/5] END learning_rate=0.1, max_depth=7, n_estimators=50;, score=0.627 total time=   1.4s\n",
      "[CV 5/5] END learning_rate=0.1, max_depth=7, n_estimators=50;, score=0.626 total time=   1.4s\n",
      "[CV 1/5] END learning_rate=0.1, max_depth=7, n_estimators=100;, score=0.623 total time=   2.7s\n",
      "[CV 2/5] END learning_rate=0.1, max_depth=7, n_estimators=100;, score=0.630 total time=   2.8s\n",
      "[CV 3/5] END learning_rate=0.1, max_depth=7, n_estimators=100;, score=0.658 total time=   2.8s\n",
      "[CV 4/5] END learning_rate=0.1, max_depth=7, n_estimators=100;, score=0.619 total time=   2.8s\n",
      "[CV 5/5] END learning_rate=0.1, max_depth=7, n_estimators=100;, score=0.629 total time=   2.8s\n",
      "[CV 1/5] END learning_rate=1.0, max_depth=3, n_estimators=50;, score=0.610 total time=   0.6s\n",
      "[CV 2/5] END learning_rate=1.0, max_depth=3, n_estimators=50;, score=0.591 total time=   0.5s\n",
      "[CV 3/5] END learning_rate=1.0, max_depth=3, n_estimators=50;, score=0.633 total time=   0.6s\n",
      "[CV 4/5] END learning_rate=1.0, max_depth=3, n_estimators=50;, score=0.622 total time=   0.6s\n",
      "[CV 5/5] END learning_rate=1.0, max_depth=3, n_estimators=50;, score=0.598 total time=   0.6s\n",
      "[CV 1/5] END learning_rate=1.0, max_depth=3, n_estimators=100;, score=0.573 total time=   1.1s\n",
      "[CV 2/5] END learning_rate=1.0, max_depth=3, n_estimators=100;, score=0.588 total time=   1.1s\n",
      "[CV 3/5] END learning_rate=1.0, max_depth=3, n_estimators=100;, score=0.605 total time=   1.1s\n",
      "[CV 4/5] END learning_rate=1.0, max_depth=3, n_estimators=100;, score=0.596 total time=   1.1s\n",
      "[CV 5/5] END learning_rate=1.0, max_depth=3, n_estimators=100;, score=0.591 total time=   1.1s\n",
      "[CV 1/5] END learning_rate=1.0, max_depth=5, n_estimators=50;, score=0.583 total time=   0.9s\n",
      "[CV 2/5] END learning_rate=1.0, max_depth=5, n_estimators=50;, score=0.604 total time=   0.9s\n",
      "[CV 3/5] END learning_rate=1.0, max_depth=5, n_estimators=50;, score=0.618 total time=   0.9s\n",
      "[CV 4/5] END learning_rate=1.0, max_depth=5, n_estimators=50;, score=0.584 total time=   0.9s\n",
      "[CV 5/5] END learning_rate=1.0, max_depth=5, n_estimators=50;, score=0.561 total time=   0.9s\n",
      "[CV 1/5] END learning_rate=1.0, max_depth=5, n_estimators=100;, score=0.592 total time=   1.9s\n",
      "[CV 2/5] END learning_rate=1.0, max_depth=5, n_estimators=100;, score=0.615 total time=   1.9s\n",
      "[CV 3/5] END learning_rate=1.0, max_depth=5, n_estimators=100;, score=0.609 total time=   1.9s\n",
      "[CV 4/5] END learning_rate=1.0, max_depth=5, n_estimators=100;, score=0.609 total time=   1.9s\n",
      "[CV 5/5] END learning_rate=1.0, max_depth=5, n_estimators=100;, score=0.573 total time=   1.9s\n",
      "[CV 1/5] END learning_rate=1.0, max_depth=7, n_estimators=50;, score=0.602 total time=   1.4s\n",
      "[CV 2/5] END learning_rate=1.0, max_depth=7, n_estimators=50;, score=0.611 total time=   1.4s\n",
      "[CV 3/5] END learning_rate=1.0, max_depth=7, n_estimators=50;, score=0.627 total time=   1.4s\n",
      "[CV 4/5] END learning_rate=1.0, max_depth=7, n_estimators=50;, score=0.616 total time=   1.4s\n",
      "[CV 5/5] END learning_rate=1.0, max_depth=7, n_estimators=50;, score=0.581 total time=   1.4s\n",
      "[CV 1/5] END learning_rate=1.0, max_depth=7, n_estimators=100;, score=0.611 total time=   2.8s\n",
      "[CV 2/5] END learning_rate=1.0, max_depth=7, n_estimators=100;, score=0.606 total time=   2.8s\n",
      "[CV 3/5] END learning_rate=1.0, max_depth=7, n_estimators=100;, score=0.631 total time=   2.8s\n",
      "[CV 4/5] END learning_rate=1.0, max_depth=7, n_estimators=100;, score=0.615 total time=   2.8s\n",
      "[CV 5/5] END learning_rate=1.0, max_depth=7, n_estimators=100;, score=0.566 total time=   2.8s\n"
     ]
    },
    {
     "name": "stderr",
     "output_type": "stream",
     "text": [
      "INFO:root:[Gradient Boosting] 🔍 Best Accuracy: 0.6612\n",
      "[Gradient Boosting] 🔍 Best Params: {'learning_rate': 0.1, 'max_depth': 3, 'n_estimators': 50}\n"
     ]
    }
   ],
   "source": [
    "model_name = \"Gradient Boosting\"\n",
    "start = time.time()\n",
    "model = model_factory(model_name, UFCData, model_params)\n",
    "end = time.time()\n",
    "duration = end - start"
   ]
  },
  {
   "cell_type": "markdown",
   "id": "63bc6138-31da-4653-be7b-939d5103f88f",
   "metadata": {},
   "source": [
    "#### 🔍 Gradient Boosting Metrics"
   ]
  },
  {
   "cell_type": "code",
   "execution_count": 6,
   "id": "155f383b-5da4-4b93-9259-7f34ca850a4a",
   "metadata": {},
   "outputs": [],
   "source": [
    "metrics = evaluate_metrics(model, UFCData)"
   ]
  },
  {
   "cell_type": "markdown",
   "id": "26032cd4-36a5-44df-a9a2-375df9fe7fe6",
   "metadata": {},
   "source": [
    "### 📝 Log Training Results"
   ]
  },
  {
   "cell_type": "code",
   "execution_count": 7,
   "id": "cc93c820-dcf9-45ac-a951-788562380f83",
   "metadata": {},
   "outputs": [
    {
     "name": "stdout",
     "output_type": "stream",
     "text": [
      "✅ Training logged to ../data/results/training_log.csv\n"
     ]
    }
   ],
   "source": [
    "log_training_result(model_name, model.best_params_, metrics, duration)"
   ]
  },
  {
   "cell_type": "markdown",
   "id": "64a416fa-f784-40f9-99b3-a664796abee6",
   "metadata": {},
   "source": [
    "### 💾 Save Model "
   ]
  },
  {
   "cell_type": "code",
   "execution_count": 8,
   "id": "c9d4cc3d-65bd-404f-bb8a-798183ec4648",
   "metadata": {},
   "outputs": [
    {
     "name": "stdout",
     "output_type": "stream",
     "text": [
      "✅ Model Gradient Boosting saved to: /home/mlioi/ufc-predictor/models/gb_best.pkl\n"
     ]
    }
   ],
   "source": [
    "save_model(model, name=file_model_name[model_name])"
   ]
  },
  {
   "cell_type": "markdown",
   "id": "1eb7a141-fc4e-4adb-81b1-d558cca39595",
   "metadata": {},
   "source": [
    "### 4.8 Extra Trees Model"
   ]
  },
  {
   "cell_type": "markdown",
   "id": "0ed5125b-a022-4637-b32c-67ec4c0ac082",
   "metadata": {},
   "source": [
    "#### 🚀 Extra Trees Training"
   ]
  },
  {
   "cell_type": "code",
   "execution_count": 9,
   "id": "d7006e4a-e8d6-4480-a5a1-6815843e9f8a",
   "metadata": {},
   "outputs": [
    {
     "name": "stdout",
     "output_type": "stream",
     "text": [
      "\u001b[95m╔══════════════════════════════════════════════════════╗\n",
      "║  [Extra Trees] UFC GridSearchCV Training (Accuracy)  ║\n",
      "╚══════════════════════════════════════════════════════╝\u001b[0m\n"
     ]
    },
    {
     "name": "stderr",
     "output_type": "stream",
     "text": [
      "INFO:root:[Extra Trees] 🤖 Training...\n"
     ]
    },
    {
     "name": "stdout",
     "output_type": "stream",
     "text": [
      "Fitting 5 folds for each of 6 candidates, totalling 30 fits\n",
      "[CV 1/5] END ...max_depth=None, n_estimators=50;, score=0.621 total time=   0.3s\n",
      "[CV 2/5] END ...max_depth=None, n_estimators=50;, score=0.633 total time=   0.3s\n",
      "[CV 3/5] END ...max_depth=None, n_estimators=50;, score=0.673 total time=   0.3s\n",
      "[CV 4/5] END ...max_depth=None, n_estimators=50;, score=0.635 total time=   0.3s\n",
      "[CV 5/5] END ...max_depth=None, n_estimators=50;, score=0.636 total time=   0.3s\n",
      "[CV 1/5] END ..max_depth=None, n_estimators=100;, score=0.646 total time=   0.5s\n",
      "[CV 2/5] END ..max_depth=None, n_estimators=100;, score=0.641 total time=   0.5s\n",
      "[CV 3/5] END ..max_depth=None, n_estimators=100;, score=0.674 total time=   0.5s\n",
      "[CV 4/5] END ..max_depth=None, n_estimators=100;, score=0.633 total time=   0.5s\n",
      "[CV 5/5] END ..max_depth=None, n_estimators=100;, score=0.649 total time=   0.5s\n",
      "[CV 1/5] END .....max_depth=10, n_estimators=50;, score=0.631 total time=   0.1s\n",
      "[CV 2/5] END .....max_depth=10, n_estimators=50;, score=0.625 total time=   0.1s\n",
      "[CV 3/5] END .....max_depth=10, n_estimators=50;, score=0.683 total time=   0.1s\n",
      "[CV 4/5] END .....max_depth=10, n_estimators=50;, score=0.653 total time=   0.1s\n",
      "[CV 5/5] END .....max_depth=10, n_estimators=50;, score=0.628 total time=   0.1s\n",
      "[CV 1/5] END ....max_depth=10, n_estimators=100;, score=0.636 total time=   0.2s\n",
      "[CV 2/5] END ....max_depth=10, n_estimators=100;, score=0.624 total time=   0.2s\n",
      "[CV 3/5] END ....max_depth=10, n_estimators=100;, score=0.645 total time=   0.2s\n",
      "[CV 4/5] END ....max_depth=10, n_estimators=100;, score=0.662 total time=   0.2s\n",
      "[CV 5/5] END ....max_depth=10, n_estimators=100;, score=0.627 total time=   0.2s\n",
      "[CV 1/5] END .....max_depth=20, n_estimators=50;, score=0.623 total time=   0.2s\n",
      "[CV 2/5] END .....max_depth=20, n_estimators=50;, score=0.624 total time=   0.2s\n",
      "[CV 3/5] END .....max_depth=20, n_estimators=50;, score=0.664 total time=   0.2s\n",
      "[CV 4/5] END .....max_depth=20, n_estimators=50;, score=0.644 total time=   0.2s\n",
      "[CV 5/5] END .....max_depth=20, n_estimators=50;, score=0.636 total time=   0.2s\n",
      "[CV 1/5] END ....max_depth=20, n_estimators=100;, score=0.643 total time=   0.4s\n",
      "[CV 2/5] END ....max_depth=20, n_estimators=100;, score=0.623 total time=   0.4s\n",
      "[CV 3/5] END ....max_depth=20, n_estimators=100;, score=0.675 total time=   0.4s\n",
      "[CV 4/5] END ....max_depth=20, n_estimators=100;, score=0.650 total time=   0.4s\n",
      "[CV 5/5] END ....max_depth=20, n_estimators=100;, score=0.636 total time=   0.4s\n"
     ]
    },
    {
     "name": "stderr",
     "output_type": "stream",
     "text": [
      "INFO:root:[Extra Trees] 🔍 Best Accuracy: 0.6485\n",
      "[Extra Trees] 🔍 Best Params: {'max_depth': None, 'n_estimators': 100}\n"
     ]
    }
   ],
   "source": [
    "model_name = \"Extra Trees\"\n",
    "start = time.time()\n",
    "model = model_factory(model_name, UFCData, model_params)\n",
    "end = time.time()\n",
    "duration = end - start"
   ]
  },
  {
   "cell_type": "markdown",
   "id": "79069ec4-aa2f-4478-9548-d0cd986f9f8b",
   "metadata": {},
   "source": [
    "#### 🔍 Extra Trees Metrics"
   ]
  },
  {
   "cell_type": "code",
   "execution_count": 10,
   "id": "251bfa29-3cd4-4fa6-b607-b77af743b82d",
   "metadata": {
    "scrolled": true
   },
   "outputs": [],
   "source": [
    "metrics = evaluate_metrics(model, UFCData)"
   ]
  },
  {
   "cell_type": "markdown",
   "id": "2d5c5af6-fa40-4045-860e-857a42ee4b36",
   "metadata": {},
   "source": [
    "### 📝 Log Training Results"
   ]
  },
  {
   "cell_type": "code",
   "execution_count": 11,
   "id": "b6f8529c-0f47-4b61-ba0b-2e2e24217cc3",
   "metadata": {},
   "outputs": [
    {
     "name": "stdout",
     "output_type": "stream",
     "text": [
      "✅ Training logged to ../data/results/training_log.csv\n"
     ]
    },
    {
     "name": "stderr",
     "output_type": "stream",
     "text": [
      "/home/mlioi/ufc-predictor/src/helpers.py:136: FutureWarning: The behavior of DataFrame concatenation with empty or all-NA entries is deprecated. In a future version, this will no longer exclude empty or all-NA columns when determining the result dtypes. To retain the old behavior, exclude the relevant entries before the concat operation.\n",
      "  df = pd.concat([df, pd.DataFrame([log_entry])], ignore_index=True)\n"
     ]
    }
   ],
   "source": [
    "log_training_result(model_name, model.best_params_, metrics, duration)"
   ]
  },
  {
   "cell_type": "markdown",
   "id": "e069cd30-61fc-491c-8597-bc1364a0374a",
   "metadata": {},
   "source": [
    "### 💾 Save Model "
   ]
  },
  {
   "cell_type": "code",
   "execution_count": 12,
   "id": "48f1da0a-d00c-4552-bf63-c580be0b887b",
   "metadata": {},
   "outputs": [
    {
     "name": "stdout",
     "output_type": "stream",
     "text": [
      "✅ Model Extra Trees saved to: /home/mlioi/ufc-predictor/models/et_best.pkl\n"
     ]
    }
   ],
   "source": [
    "save_model(model, name=file_model_name[model_name])"
   ]
  },
  {
   "cell_type": "markdown",
   "id": "000580fc-a31d-4618-84eb-b39b61a67298",
   "metadata": {},
   "source": [
    "### 4.9 Quadratic Discriminant Analysis Model"
   ]
  },
  {
   "cell_type": "markdown",
   "id": "32160a21-6a4e-4f86-8dd5-52648ce7bde9",
   "metadata": {},
   "source": [
    "#### 🚀 Quadratic Discriminant Analysis Training"
   ]
  },
  {
   "cell_type": "code",
   "execution_count": 13,
   "id": "48111ce5-7f61-4594-b23f-c0952ba18c36",
   "metadata": {},
   "outputs": [
    {
     "name": "stdout",
     "output_type": "stream",
     "text": [
      "\u001b[95m╔══════════════════════════════════════════════════════════════════════════╗\n",
      "║  [Quadratic Discriminant Analysis] UFC GridSearchCV Training (Accuracy)  ║\n",
      "╚══════════════════════════════════════════════════════════════════════════╝\u001b[0m\n"
     ]
    },
    {
     "name": "stderr",
     "output_type": "stream",
     "text": [
      "INFO:root:[Quadratic Discriminant Analysis] 🤖 Training...\n"
     ]
    },
    {
     "name": "stdout",
     "output_type": "stream",
     "text": [
      "Fitting 5 folds for each of 2 candidates, totalling 10 fits\n",
      "[CV 1/5] END .....................reg_param=0.1;, score=0.628 total time=   0.0s\n",
      "[CV 2/5] END .....................reg_param=0.1;, score=0.630 total time=   0.0s\n",
      "[CV 3/5] END .....................reg_param=0.1;, score=0.665 total time=   0.0s\n",
      "[CV 4/5] END .....................reg_param=0.1;, score=0.618 total time=   0.0s\n",
      "[CV 5/5] END .....................reg_param=0.1;, score=0.628 total time=   0.0s\n",
      "[CV 1/5] END .......................reg_param=1;, score=0.654 total time=   0.0s\n",
      "[CV 2/5] END .......................reg_param=1;, score=0.624 total time=   0.0s\n",
      "[CV 3/5] END .......................reg_param=1;, score=0.651 total time=   0.0s\n",
      "[CV 4/5] END .......................reg_param=1;, score=0.643 total time=   0.0s\n",
      "[CV 5/5] END .......................reg_param=1;, score=0.659 total time=   0.0s\n"
     ]
    },
    {
     "name": "stderr",
     "output_type": "stream",
     "text": [
      "INFO:root:[Quadratic Discriminant Analysis] 🔍 Best Accuracy: 0.6462\n",
      "[Quadratic Discriminant Analysis] 🔍 Best Params: {'reg_param': 1}\n"
     ]
    }
   ],
   "source": [
    "model_name = \"Quadratic Discriminant Analysis\"\n",
    "start = time.time()\n",
    "model = model_factory(model_name, UFCData, model_params)\n",
    "end = time.time()\n",
    "duration = end - start"
   ]
  },
  {
   "cell_type": "markdown",
   "id": "63191dd2-b62e-4009-92f7-5a0061af7023",
   "metadata": {},
   "source": [
    "#### 🔍 Quadratic Discriminant Analysis Metrics"
   ]
  },
  {
   "cell_type": "code",
   "execution_count": 14,
   "id": "03aaf3a3-e0a9-439a-ad4a-f954eaec7702",
   "metadata": {},
   "outputs": [],
   "source": [
    "metrics = evaluate_metrics(model, UFCData)"
   ]
  },
  {
   "cell_type": "markdown",
   "id": "7558b6ba-c6e4-432b-a0a9-ae8bd2400ef9",
   "metadata": {},
   "source": [
    "### 📝 Log Training Results"
   ]
  },
  {
   "cell_type": "code",
   "execution_count": 15,
   "id": "7085f3f2-0c75-40b6-a811-860ae074297e",
   "metadata": {},
   "outputs": [
    {
     "name": "stdout",
     "output_type": "stream",
     "text": [
      "✅ Training logged to ../data/results/training_log.csv\n"
     ]
    }
   ],
   "source": [
    "log_training_result(model_name, model.best_params_, metrics, duration)"
   ]
  },
  {
   "cell_type": "markdown",
   "id": "c3c994ae-f489-43d2-a7a4-f74d590971fe",
   "metadata": {},
   "source": [
    "### 💾 Save Model "
   ]
  },
  {
   "cell_type": "code",
   "execution_count": 16,
   "id": "6e9a168d-5b4d-499d-b79f-abb9c31381db",
   "metadata": {},
   "outputs": [
    {
     "name": "stdout",
     "output_type": "stream",
     "text": [
      "✅ Model Quadratic Discriminant Analysis saved to: /home/mlioi/ufc-predictor/models/qda_best.pkl\n"
     ]
    }
   ],
   "source": [
    "save_model(model, name=file_model_name[model_name])"
   ]
  },
  {
   "cell_type": "markdown",
   "id": "37e09ec6-83e5-49b0-b311-6173db7e0a6f",
   "metadata": {},
   "source": [
    "### 4.10 Neural Network"
   ]
  },
  {
   "cell_type": "markdown",
   "id": "1a1dc2f7-0d5e-4e2b-9a5e-c5d3ffc6b3e3",
   "metadata": {},
   "source": [
    "#### 🚀 Neural Network Training "
   ]
  },
  {
   "cell_type": "code",
   "execution_count": 17,
   "id": "a15b431d-6ba7-4b3e-a2b9-68426f8ea16c",
   "metadata": {
    "scrolled": true
   },
   "outputs": [
    {
     "name": "stdout",
     "output_type": "stream",
     "text": [
      "\u001b[95m╔═════════════════════════════════════════════════════════╗\n",
      "║  [Neural Network] UFC GridSearchCV Training (Accuracy)  ║\n",
      "╚═════════════════════════════════════════════════════════╝\u001b[0m\n"
     ]
    },
    {
     "name": "stderr",
     "output_type": "stream",
     "text": [
      "INFO:root:[Neural Network] 🤖 Training...\n"
     ]
    },
    {
     "name": "stdout",
     "output_type": "stream",
     "text": [
      "Fitting 5 folds for each of 32 candidates, totalling 160 fits\n",
      "[CV 1/5] END activation=relu, alpha=0.001, batch_size=32, early_stopping=True, hidden_layer_sizes=(200,), learning_rate=adaptive, learning_rate_init=0.01, momentum=0.8, solver=adam, validation_fraction=0.2;, score=0.650 total time=   0.7s\n",
      "[CV 2/5] END activation=relu, alpha=0.001, batch_size=32, early_stopping=True, hidden_layer_sizes=(200,), learning_rate=adaptive, learning_rate_init=0.01, momentum=0.8, solver=adam, validation_fraction=0.2;, score=0.639 total time=   0.7s\n",
      "[CV 3/5] END activation=relu, alpha=0.001, batch_size=32, early_stopping=True, hidden_layer_sizes=(200,), learning_rate=adaptive, learning_rate_init=0.01, momentum=0.8, solver=adam, validation_fraction=0.2;, score=0.680 total time=   0.7s\n",
      "[CV 4/5] END activation=relu, alpha=0.001, batch_size=32, early_stopping=True, hidden_layer_sizes=(200,), learning_rate=adaptive, learning_rate_init=0.01, momentum=0.8, solver=adam, validation_fraction=0.2;, score=0.649 total time=   0.8s\n",
      "[CV 5/5] END activation=relu, alpha=0.001, batch_size=32, early_stopping=True, hidden_layer_sizes=(200,), learning_rate=adaptive, learning_rate_init=0.01, momentum=0.8, solver=adam, validation_fraction=0.2;, score=0.659 total time=   0.6s\n",
      "[CV 1/5] END activation=relu, alpha=0.001, batch_size=32, early_stopping=True, hidden_layer_sizes=(200,), learning_rate=adaptive, learning_rate_init=0.01, momentum=0.8, solver=sgd, validation_fraction=0.2;, score=0.657 total time=   3.5s\n",
      "[CV 2/5] END activation=relu, alpha=0.001, batch_size=32, early_stopping=True, hidden_layer_sizes=(200,), learning_rate=adaptive, learning_rate_init=0.01, momentum=0.8, solver=sgd, validation_fraction=0.2;, score=0.643 total time=   3.7s\n",
      "[CV 3/5] END activation=relu, alpha=0.001, batch_size=32, early_stopping=True, hidden_layer_sizes=(200,), learning_rate=adaptive, learning_rate_init=0.01, momentum=0.8, solver=sgd, validation_fraction=0.2;, score=0.677 total time=   3.4s\n",
      "[CV 4/5] END activation=relu, alpha=0.001, batch_size=32, early_stopping=True, hidden_layer_sizes=(200,), learning_rate=adaptive, learning_rate_init=0.01, momentum=0.8, solver=sgd, validation_fraction=0.2;, score=0.649 total time=   3.7s\n",
      "[CV 5/5] END activation=relu, alpha=0.001, batch_size=32, early_stopping=True, hidden_layer_sizes=(200,), learning_rate=adaptive, learning_rate_init=0.01, momentum=0.8, solver=sgd, validation_fraction=0.2;, score=0.662 total time=   3.4s\n",
      "[CV 1/5] END activation=relu, alpha=0.001, batch_size=32, early_stopping=True, hidden_layer_sizes=(50, 50), learning_rate=adaptive, learning_rate_init=0.01, momentum=0.8, solver=adam, validation_fraction=0.2;, score=0.656 total time=   0.6s\n",
      "[CV 2/5] END activation=relu, alpha=0.001, batch_size=32, early_stopping=True, hidden_layer_sizes=(50, 50), learning_rate=adaptive, learning_rate_init=0.01, momentum=0.8, solver=adam, validation_fraction=0.2;, score=0.641 total time=   0.6s\n",
      "[CV 3/5] END activation=relu, alpha=0.001, batch_size=32, early_stopping=True, hidden_layer_sizes=(50, 50), learning_rate=adaptive, learning_rate_init=0.01, momentum=0.8, solver=adam, validation_fraction=0.2;, score=0.661 total time=   0.6s\n",
      "[CV 4/5] END activation=relu, alpha=0.001, batch_size=32, early_stopping=True, hidden_layer_sizes=(50, 50), learning_rate=adaptive, learning_rate_init=0.01, momentum=0.8, solver=adam, validation_fraction=0.2;, score=0.657 total time=   0.7s\n",
      "[CV 5/5] END activation=relu, alpha=0.001, batch_size=32, early_stopping=True, hidden_layer_sizes=(50, 50), learning_rate=adaptive, learning_rate_init=0.01, momentum=0.8, solver=adam, validation_fraction=0.2;, score=0.633 total time=   0.6s\n",
      "[CV 1/5] END activation=relu, alpha=0.001, batch_size=32, early_stopping=True, hidden_layer_sizes=(50, 50), learning_rate=adaptive, learning_rate_init=0.01, momentum=0.8, solver=sgd, validation_fraction=0.2;, score=0.648 total time=   4.0s\n",
      "[CV 2/5] END activation=relu, alpha=0.001, batch_size=32, early_stopping=True, hidden_layer_sizes=(50, 50), learning_rate=adaptive, learning_rate_init=0.01, momentum=0.8, solver=sgd, validation_fraction=0.2;, score=0.648 total time=   3.7s\n",
      "[CV 3/5] END activation=relu, alpha=0.001, batch_size=32, early_stopping=True, hidden_layer_sizes=(50, 50), learning_rate=adaptive, learning_rate_init=0.01, momentum=0.8, solver=sgd, validation_fraction=0.2;, score=0.685 total time=   4.4s\n",
      "[CV 4/5] END activation=relu, alpha=0.001, batch_size=32, early_stopping=True, hidden_layer_sizes=(50, 50), learning_rate=adaptive, learning_rate_init=0.01, momentum=0.8, solver=sgd, validation_fraction=0.2;, score=0.652 total time=   3.4s\n",
      "[CV 5/5] END activation=relu, alpha=0.001, batch_size=32, early_stopping=True, hidden_layer_sizes=(50, 50), learning_rate=adaptive, learning_rate_init=0.01, momentum=0.8, solver=sgd, validation_fraction=0.2;, score=0.653 total time=   3.4s\n",
      "[CV 1/5] END activation=relu, alpha=0.001, batch_size=64, early_stopping=True, hidden_layer_sizes=(200,), learning_rate=adaptive, learning_rate_init=0.01, momentum=0.8, solver=adam, validation_fraction=0.2;, score=0.658 total time=   0.4s\n",
      "[CV 2/5] END activation=relu, alpha=0.001, batch_size=64, early_stopping=True, hidden_layer_sizes=(200,), learning_rate=adaptive, learning_rate_init=0.01, momentum=0.8, solver=adam, validation_fraction=0.2;, score=0.656 total time=   0.6s\n",
      "[CV 3/5] END activation=relu, alpha=0.001, batch_size=64, early_stopping=True, hidden_layer_sizes=(200,), learning_rate=adaptive, learning_rate_init=0.01, momentum=0.8, solver=adam, validation_fraction=0.2;, score=0.690 total time=   0.6s\n",
      "[CV 4/5] END activation=relu, alpha=0.001, batch_size=64, early_stopping=True, hidden_layer_sizes=(200,), learning_rate=adaptive, learning_rate_init=0.01, momentum=0.8, solver=adam, validation_fraction=0.2;, score=0.644 total time=   0.4s\n",
      "[CV 5/5] END activation=relu, alpha=0.001, batch_size=64, early_stopping=True, hidden_layer_sizes=(200,), learning_rate=adaptive, learning_rate_init=0.01, momentum=0.8, solver=adam, validation_fraction=0.2;, score=0.650 total time=   0.4s\n",
      "[CV 1/5] END activation=relu, alpha=0.001, batch_size=64, early_stopping=True, hidden_layer_sizes=(200,), learning_rate=adaptive, learning_rate_init=0.01, momentum=0.8, solver=sgd, validation_fraction=0.2;, score=0.654 total time=   2.3s\n",
      "[CV 2/5] END activation=relu, alpha=0.001, batch_size=64, early_stopping=True, hidden_layer_sizes=(200,), learning_rate=adaptive, learning_rate_init=0.01, momentum=0.8, solver=sgd, validation_fraction=0.2;, score=0.649 total time=   2.6s\n",
      "[CV 3/5] END activation=relu, alpha=0.001, batch_size=64, early_stopping=True, hidden_layer_sizes=(200,), learning_rate=adaptive, learning_rate_init=0.01, momentum=0.8, solver=sgd, validation_fraction=0.2;, score=0.675 total time=   2.1s\n",
      "[CV 4/5] END activation=relu, alpha=0.001, batch_size=64, early_stopping=True, hidden_layer_sizes=(200,), learning_rate=adaptive, learning_rate_init=0.01, momentum=0.8, solver=sgd, validation_fraction=0.2;, score=0.655 total time=   2.2s\n",
      "[CV 5/5] END activation=relu, alpha=0.001, batch_size=64, early_stopping=True, hidden_layer_sizes=(200,), learning_rate=adaptive, learning_rate_init=0.01, momentum=0.8, solver=sgd, validation_fraction=0.2;, score=0.661 total time=   2.2s\n",
      "[CV 1/5] END activation=relu, alpha=0.001, batch_size=64, early_stopping=True, hidden_layer_sizes=(50, 50), learning_rate=adaptive, learning_rate_init=0.01, momentum=0.8, solver=adam, validation_fraction=0.2;, score=0.648 total time=   0.4s\n",
      "[CV 2/5] END activation=relu, alpha=0.001, batch_size=64, early_stopping=True, hidden_layer_sizes=(50, 50), learning_rate=adaptive, learning_rate_init=0.01, momentum=0.8, solver=adam, validation_fraction=0.2;, score=0.646 total time=   0.4s\n",
      "[CV 3/5] END activation=relu, alpha=0.001, batch_size=64, early_stopping=True, hidden_layer_sizes=(50, 50), learning_rate=adaptive, learning_rate_init=0.01, momentum=0.8, solver=adam, validation_fraction=0.2;, score=0.690 total time=   0.5s\n",
      "[CV 4/5] END activation=relu, alpha=0.001, batch_size=64, early_stopping=True, hidden_layer_sizes=(50, 50), learning_rate=adaptive, learning_rate_init=0.01, momentum=0.8, solver=adam, validation_fraction=0.2;, score=0.649 total time=   0.5s\n",
      "[CV 5/5] END activation=relu, alpha=0.001, batch_size=64, early_stopping=True, hidden_layer_sizes=(50, 50), learning_rate=adaptive, learning_rate_init=0.01, momentum=0.8, solver=adam, validation_fraction=0.2;, score=0.656 total time=   0.5s\n",
      "[CV 1/5] END activation=relu, alpha=0.001, batch_size=64, early_stopping=True, hidden_layer_sizes=(50, 50), learning_rate=adaptive, learning_rate_init=0.01, momentum=0.8, solver=sgd, validation_fraction=0.2;, score=0.654 total time=   2.1s\n",
      "[CV 2/5] END activation=relu, alpha=0.001, batch_size=64, early_stopping=True, hidden_layer_sizes=(50, 50), learning_rate=adaptive, learning_rate_init=0.01, momentum=0.8, solver=sgd, validation_fraction=0.2;, score=0.645 total time=   2.4s\n",
      "[CV 3/5] END activation=relu, alpha=0.001, batch_size=64, early_stopping=True, hidden_layer_sizes=(50, 50), learning_rate=adaptive, learning_rate_init=0.01, momentum=0.8, solver=sgd, validation_fraction=0.2;, score=0.682 total time=   2.1s\n",
      "[CV 4/5] END activation=relu, alpha=0.001, batch_size=64, early_stopping=True, hidden_layer_sizes=(50, 50), learning_rate=adaptive, learning_rate_init=0.01, momentum=0.8, solver=sgd, validation_fraction=0.2;, score=0.649 total time=   2.4s\n",
      "[CV 5/5] END activation=relu, alpha=0.001, batch_size=64, early_stopping=True, hidden_layer_sizes=(50, 50), learning_rate=adaptive, learning_rate_init=0.01, momentum=0.8, solver=sgd, validation_fraction=0.2;, score=0.656 total time=   2.1s\n",
      "[CV 1/5] END activation=relu, alpha=0.01, batch_size=32, early_stopping=True, hidden_layer_sizes=(200,), learning_rate=adaptive, learning_rate_init=0.01, momentum=0.8, solver=adam, validation_fraction=0.2;, score=0.648 total time=   0.6s\n",
      "[CV 2/5] END activation=relu, alpha=0.01, batch_size=32, early_stopping=True, hidden_layer_sizes=(200,), learning_rate=adaptive, learning_rate_init=0.01, momentum=0.8, solver=adam, validation_fraction=0.2;, score=0.637 total time=   0.6s\n",
      "[CV 3/5] END activation=relu, alpha=0.01, batch_size=32, early_stopping=True, hidden_layer_sizes=(200,), learning_rate=adaptive, learning_rate_init=0.01, momentum=0.8, solver=adam, validation_fraction=0.2;, score=0.696 total time=   0.9s\n",
      "[CV 4/5] END activation=relu, alpha=0.01, batch_size=32, early_stopping=True, hidden_layer_sizes=(200,), learning_rate=adaptive, learning_rate_init=0.01, momentum=0.8, solver=adam, validation_fraction=0.2;, score=0.623 total time=   0.8s\n",
      "[CV 5/5] END activation=relu, alpha=0.01, batch_size=32, early_stopping=True, hidden_layer_sizes=(200,), learning_rate=adaptive, learning_rate_init=0.01, momentum=0.8, solver=adam, validation_fraction=0.2;, score=0.642 total time=   0.8s\n",
      "[CV 1/5] END activation=relu, alpha=0.01, batch_size=32, early_stopping=True, hidden_layer_sizes=(200,), learning_rate=adaptive, learning_rate_init=0.01, momentum=0.8, solver=sgd, validation_fraction=0.2;, score=0.656 total time=   3.8s\n",
      "[CV 2/5] END activation=relu, alpha=0.01, batch_size=32, early_stopping=True, hidden_layer_sizes=(200,), learning_rate=adaptive, learning_rate_init=0.01, momentum=0.8, solver=sgd, validation_fraction=0.2;, score=0.642 total time=   3.7s\n",
      "[CV 3/5] END activation=relu, alpha=0.01, batch_size=32, early_stopping=True, hidden_layer_sizes=(200,), learning_rate=adaptive, learning_rate_init=0.01, momentum=0.8, solver=sgd, validation_fraction=0.2;, score=0.677 total time=   3.4s\n",
      "[CV 4/5] END activation=relu, alpha=0.01, batch_size=32, early_stopping=True, hidden_layer_sizes=(200,), learning_rate=adaptive, learning_rate_init=0.01, momentum=0.8, solver=sgd, validation_fraction=0.2;, score=0.650 total time=   3.8s\n",
      "[CV 5/5] END activation=relu, alpha=0.01, batch_size=32, early_stopping=True, hidden_layer_sizes=(200,), learning_rate=adaptive, learning_rate_init=0.01, momentum=0.8, solver=sgd, validation_fraction=0.2;, score=0.664 total time=   3.5s\n",
      "[CV 1/5] END activation=relu, alpha=0.01, batch_size=32, early_stopping=True, hidden_layer_sizes=(50, 50), learning_rate=adaptive, learning_rate_init=0.01, momentum=0.8, solver=adam, validation_fraction=0.2;, score=0.652 total time=   0.7s\n",
      "[CV 2/5] END activation=relu, alpha=0.01, batch_size=32, early_stopping=True, hidden_layer_sizes=(50, 50), learning_rate=adaptive, learning_rate_init=0.01, momentum=0.8, solver=adam, validation_fraction=0.2;, score=0.649 total time=   0.8s\n",
      "[CV 3/5] END activation=relu, alpha=0.01, batch_size=32, early_stopping=True, hidden_layer_sizes=(50, 50), learning_rate=adaptive, learning_rate_init=0.01, momentum=0.8, solver=adam, validation_fraction=0.2;, score=0.678 total time=   0.7s\n",
      "[CV 4/5] END activation=relu, alpha=0.01, batch_size=32, early_stopping=True, hidden_layer_sizes=(50, 50), learning_rate=adaptive, learning_rate_init=0.01, momentum=0.8, solver=adam, validation_fraction=0.2;, score=0.649 total time=   0.6s\n",
      "[CV 5/5] END activation=relu, alpha=0.01, batch_size=32, early_stopping=True, hidden_layer_sizes=(50, 50), learning_rate=adaptive, learning_rate_init=0.01, momentum=0.8, solver=adam, validation_fraction=0.2;, score=0.641 total time=   0.7s\n",
      "[CV 1/5] END activation=relu, alpha=0.01, batch_size=32, early_stopping=True, hidden_layer_sizes=(50, 50), learning_rate=adaptive, learning_rate_init=0.01, momentum=0.8, solver=sgd, validation_fraction=0.2;, score=0.647 total time=   4.0s\n",
      "[CV 2/5] END activation=relu, alpha=0.01, batch_size=32, early_stopping=True, hidden_layer_sizes=(50, 50), learning_rate=adaptive, learning_rate_init=0.01, momentum=0.8, solver=sgd, validation_fraction=0.2;, score=0.647 total time=   3.5s\n",
      "[CV 3/5] END activation=relu, alpha=0.01, batch_size=32, early_stopping=True, hidden_layer_sizes=(50, 50), learning_rate=adaptive, learning_rate_init=0.01, momentum=0.8, solver=sgd, validation_fraction=0.2;, score=0.681 total time=   4.0s\n",
      "[CV 4/5] END activation=relu, alpha=0.01, batch_size=32, early_stopping=True, hidden_layer_sizes=(50, 50), learning_rate=adaptive, learning_rate_init=0.01, momentum=0.8, solver=sgd, validation_fraction=0.2;, score=0.652 total time=   3.3s\n",
      "[CV 5/5] END activation=relu, alpha=0.01, batch_size=32, early_stopping=True, hidden_layer_sizes=(50, 50), learning_rate=adaptive, learning_rate_init=0.01, momentum=0.8, solver=sgd, validation_fraction=0.2;, score=0.654 total time=   3.5s\n",
      "[CV 1/5] END activation=relu, alpha=0.01, batch_size=64, early_stopping=True, hidden_layer_sizes=(200,), learning_rate=adaptive, learning_rate_init=0.01, momentum=0.8, solver=adam, validation_fraction=0.2;, score=0.640 total time=   0.5s\n",
      "[CV 2/5] END activation=relu, alpha=0.01, batch_size=64, early_stopping=True, hidden_layer_sizes=(200,), learning_rate=adaptive, learning_rate_init=0.01, momentum=0.8, solver=adam, validation_fraction=0.2;, score=0.636 total time=   0.5s\n",
      "[CV 3/5] END activation=relu, alpha=0.01, batch_size=64, early_stopping=True, hidden_layer_sizes=(200,), learning_rate=adaptive, learning_rate_init=0.01, momentum=0.8, solver=adam, validation_fraction=0.2;, score=0.674 total time=   0.4s\n",
      "[CV 4/5] END activation=relu, alpha=0.01, batch_size=64, early_stopping=True, hidden_layer_sizes=(200,), learning_rate=adaptive, learning_rate_init=0.01, momentum=0.8, solver=adam, validation_fraction=0.2;, score=0.641 total time=   0.5s\n",
      "[CV 5/5] END activation=relu, alpha=0.01, batch_size=64, early_stopping=True, hidden_layer_sizes=(200,), learning_rate=adaptive, learning_rate_init=0.01, momentum=0.8, solver=adam, validation_fraction=0.2;, score=0.655 total time=   0.4s\n",
      "[CV 1/5] END activation=relu, alpha=0.01, batch_size=64, early_stopping=True, hidden_layer_sizes=(200,), learning_rate=adaptive, learning_rate_init=0.01, momentum=0.8, solver=sgd, validation_fraction=0.2;, score=0.654 total time=   2.4s\n",
      "[CV 2/5] END activation=relu, alpha=0.01, batch_size=64, early_stopping=True, hidden_layer_sizes=(200,), learning_rate=adaptive, learning_rate_init=0.01, momentum=0.8, solver=sgd, validation_fraction=0.2;, score=0.649 total time=   2.8s\n",
      "[CV 3/5] END activation=relu, alpha=0.01, batch_size=64, early_stopping=True, hidden_layer_sizes=(200,), learning_rate=adaptive, learning_rate_init=0.01, momentum=0.8, solver=sgd, validation_fraction=0.2;, score=0.675 total time=   2.2s\n",
      "[CV 4/5] END activation=relu, alpha=0.01, batch_size=64, early_stopping=True, hidden_layer_sizes=(200,), learning_rate=adaptive, learning_rate_init=0.01, momentum=0.8, solver=sgd, validation_fraction=0.2;, score=0.655 total time=   2.3s\n",
      "[CV 5/5] END activation=relu, alpha=0.01, batch_size=64, early_stopping=True, hidden_layer_sizes=(200,), learning_rate=adaptive, learning_rate_init=0.01, momentum=0.8, solver=sgd, validation_fraction=0.2;, score=0.661 total time=   2.2s\n",
      "[CV 1/5] END activation=relu, alpha=0.01, batch_size=64, early_stopping=True, hidden_layer_sizes=(50, 50), learning_rate=adaptive, learning_rate_init=0.01, momentum=0.8, solver=adam, validation_fraction=0.2;, score=0.645 total time=   0.4s\n",
      "[CV 2/5] END activation=relu, alpha=0.01, batch_size=64, early_stopping=True, hidden_layer_sizes=(50, 50), learning_rate=adaptive, learning_rate_init=0.01, momentum=0.8, solver=adam, validation_fraction=0.2;, score=0.647 total time=   0.4s\n",
      "[CV 3/5] END activation=relu, alpha=0.01, batch_size=64, early_stopping=True, hidden_layer_sizes=(50, 50), learning_rate=adaptive, learning_rate_init=0.01, momentum=0.8, solver=adam, validation_fraction=0.2;, score=0.683 total time=   0.5s\n",
      "[CV 4/5] END activation=relu, alpha=0.01, batch_size=64, early_stopping=True, hidden_layer_sizes=(50, 50), learning_rate=adaptive, learning_rate_init=0.01, momentum=0.8, solver=adam, validation_fraction=0.2;, score=0.654 total time=   0.5s\n",
      "[CV 5/5] END activation=relu, alpha=0.01, batch_size=64, early_stopping=True, hidden_layer_sizes=(50, 50), learning_rate=adaptive, learning_rate_init=0.01, momentum=0.8, solver=adam, validation_fraction=0.2;, score=0.660 total time=   0.4s\n",
      "[CV 1/5] END activation=relu, alpha=0.01, batch_size=64, early_stopping=True, hidden_layer_sizes=(50, 50), learning_rate=adaptive, learning_rate_init=0.01, momentum=0.8, solver=sgd, validation_fraction=0.2;, score=0.653 total time=   2.1s\n",
      "[CV 2/5] END activation=relu, alpha=0.01, batch_size=64, early_stopping=True, hidden_layer_sizes=(50, 50), learning_rate=adaptive, learning_rate_init=0.01, momentum=0.8, solver=sgd, validation_fraction=0.2;, score=0.644 total time=   2.4s\n",
      "[CV 3/5] END activation=relu, alpha=0.01, batch_size=64, early_stopping=True, hidden_layer_sizes=(50, 50), learning_rate=adaptive, learning_rate_init=0.01, momentum=0.8, solver=sgd, validation_fraction=0.2;, score=0.682 total time=   2.1s\n",
      "[CV 4/5] END activation=relu, alpha=0.01, batch_size=64, early_stopping=True, hidden_layer_sizes=(50, 50), learning_rate=adaptive, learning_rate_init=0.01, momentum=0.8, solver=sgd, validation_fraction=0.2;, score=0.660 total time=   2.2s\n",
      "[CV 5/5] END activation=relu, alpha=0.01, batch_size=64, early_stopping=True, hidden_layer_sizes=(50, 50), learning_rate=adaptive, learning_rate_init=0.01, momentum=0.8, solver=sgd, validation_fraction=0.2;, score=0.656 total time=   2.2s\n",
      "[CV 1/5] END activation=logistic, alpha=0.001, batch_size=32, early_stopping=True, hidden_layer_sizes=(200,), learning_rate=adaptive, learning_rate_init=0.01, momentum=0.8, solver=adam, validation_fraction=0.2;, score=0.654 total time=   1.1s\n",
      "[CV 2/5] END activation=logistic, alpha=0.001, batch_size=32, early_stopping=True, hidden_layer_sizes=(200,), learning_rate=adaptive, learning_rate_init=0.01, momentum=0.8, solver=adam, validation_fraction=0.2;, score=0.645 total time=   1.8s\n",
      "[CV 3/5] END activation=logistic, alpha=0.001, batch_size=32, early_stopping=True, hidden_layer_sizes=(200,), learning_rate=adaptive, learning_rate_init=0.01, momentum=0.8, solver=adam, validation_fraction=0.2;, score=0.698 total time=   1.4s\n",
      "[CV 4/5] END activation=logistic, alpha=0.001, batch_size=32, early_stopping=True, hidden_layer_sizes=(200,), learning_rate=adaptive, learning_rate_init=0.01, momentum=0.8, solver=adam, validation_fraction=0.2;, score=0.662 total time=   1.1s\n",
      "[CV 5/5] END activation=logistic, alpha=0.001, batch_size=32, early_stopping=True, hidden_layer_sizes=(200,), learning_rate=adaptive, learning_rate_init=0.01, momentum=0.8, solver=adam, validation_fraction=0.2;, score=0.659 total time=   1.7s\n",
      "[CV 1/5] END activation=logistic, alpha=0.001, batch_size=32, early_stopping=True, hidden_layer_sizes=(200,), learning_rate=adaptive, learning_rate_init=0.01, momentum=0.8, solver=sgd, validation_fraction=0.2;, score=0.648 total time=   4.1s\n",
      "[CV 2/5] END activation=logistic, alpha=0.001, batch_size=32, early_stopping=True, hidden_layer_sizes=(200,), learning_rate=adaptive, learning_rate_init=0.01, momentum=0.8, solver=sgd, validation_fraction=0.2;, score=0.639 total time=   4.3s\n",
      "[CV 3/5] END activation=logistic, alpha=0.001, batch_size=32, early_stopping=True, hidden_layer_sizes=(200,), learning_rate=adaptive, learning_rate_init=0.01, momentum=0.8, solver=sgd, validation_fraction=0.2;, score=0.694 total time=   4.3s\n",
      "[CV 4/5] END activation=logistic, alpha=0.001, batch_size=32, early_stopping=True, hidden_layer_sizes=(200,), learning_rate=adaptive, learning_rate_init=0.01, momentum=0.8, solver=sgd, validation_fraction=0.2;, score=0.665 total time=   4.0s\n",
      "[CV 5/5] END activation=logistic, alpha=0.001, batch_size=32, early_stopping=True, hidden_layer_sizes=(200,), learning_rate=adaptive, learning_rate_init=0.01, momentum=0.8, solver=sgd, validation_fraction=0.2;, score=0.662 total time=   4.9s\n",
      "[CV 1/5] END activation=logistic, alpha=0.001, batch_size=32, early_stopping=True, hidden_layer_sizes=(50, 50), learning_rate=adaptive, learning_rate_init=0.01, momentum=0.8, solver=adam, validation_fraction=0.2;, score=0.657 total time=   0.9s\n",
      "[CV 2/5] END activation=logistic, alpha=0.001, batch_size=32, early_stopping=True, hidden_layer_sizes=(50, 50), learning_rate=adaptive, learning_rate_init=0.01, momentum=0.8, solver=adam, validation_fraction=0.2;, score=0.651 total time=   2.1s\n",
      "[CV 3/5] END activation=logistic, alpha=0.001, batch_size=32, early_stopping=True, hidden_layer_sizes=(50, 50), learning_rate=adaptive, learning_rate_init=0.01, momentum=0.8, solver=adam, validation_fraction=0.2;, score=0.691 total time=   1.0s\n",
      "[CV 4/5] END activation=logistic, alpha=0.001, batch_size=32, early_stopping=True, hidden_layer_sizes=(50, 50), learning_rate=adaptive, learning_rate_init=0.01, momentum=0.8, solver=adam, validation_fraction=0.2;, score=0.660 total time=   1.1s\n",
      "[CV 5/5] END activation=logistic, alpha=0.001, batch_size=32, early_stopping=True, hidden_layer_sizes=(50, 50), learning_rate=adaptive, learning_rate_init=0.01, momentum=0.8, solver=adam, validation_fraction=0.2;, score=0.668 total time=   1.0s\n",
      "[CV 1/5] END activation=logistic, alpha=0.001, batch_size=32, early_stopping=True, hidden_layer_sizes=(50, 50), learning_rate=adaptive, learning_rate_init=0.01, momentum=0.8, solver=sgd, validation_fraction=0.2;, score=0.581 total time=   3.4s\n",
      "[CV 2/5] END activation=logistic, alpha=0.001, batch_size=32, early_stopping=True, hidden_layer_sizes=(50, 50), learning_rate=adaptive, learning_rate_init=0.01, momentum=0.8, solver=sgd, validation_fraction=0.2;, score=0.581 total time=   3.4s\n",
      "[CV 3/5] END activation=logistic, alpha=0.001, batch_size=32, early_stopping=True, hidden_layer_sizes=(50, 50), learning_rate=adaptive, learning_rate_init=0.01, momentum=0.8, solver=sgd, validation_fraction=0.2;, score=0.580 total time=   3.6s\n",
      "[CV 4/5] END activation=logistic, alpha=0.001, batch_size=32, early_stopping=True, hidden_layer_sizes=(50, 50), learning_rate=adaptive, learning_rate_init=0.01, momentum=0.8, solver=sgd, validation_fraction=0.2;, score=0.580 total time=   3.5s\n",
      "[CV 5/5] END activation=logistic, alpha=0.001, batch_size=32, early_stopping=True, hidden_layer_sizes=(50, 50), learning_rate=adaptive, learning_rate_init=0.01, momentum=0.8, solver=sgd, validation_fraction=0.2;, score=0.580 total time=   3.5s\n",
      "[CV 1/5] END activation=logistic, alpha=0.001, batch_size=64, early_stopping=True, hidden_layer_sizes=(200,), learning_rate=adaptive, learning_rate_init=0.01, momentum=0.8, solver=adam, validation_fraction=0.2;, score=0.660 total time=   0.7s\n",
      "[CV 2/5] END activation=logistic, alpha=0.001, batch_size=64, early_stopping=True, hidden_layer_sizes=(200,), learning_rate=adaptive, learning_rate_init=0.01, momentum=0.8, solver=adam, validation_fraction=0.2;, score=0.640 total time=   0.8s\n",
      "[CV 3/5] END activation=logistic, alpha=0.001, batch_size=64, early_stopping=True, hidden_layer_sizes=(200,), learning_rate=adaptive, learning_rate_init=0.01, momentum=0.8, solver=adam, validation_fraction=0.2;, score=0.684 total time=   0.6s\n",
      "[CV 4/5] END activation=logistic, alpha=0.001, batch_size=64, early_stopping=True, hidden_layer_sizes=(200,), learning_rate=adaptive, learning_rate_init=0.01, momentum=0.8, solver=adam, validation_fraction=0.2;, score=0.666 total time=   0.8s\n",
      "[CV 5/5] END activation=logistic, alpha=0.001, batch_size=64, early_stopping=True, hidden_layer_sizes=(200,), learning_rate=adaptive, learning_rate_init=0.01, momentum=0.8, solver=adam, validation_fraction=0.2;, score=0.660 total time=   0.5s\n",
      "[CV 1/5] END activation=logistic, alpha=0.001, batch_size=64, early_stopping=True, hidden_layer_sizes=(200,), learning_rate=adaptive, learning_rate_init=0.01, momentum=0.8, solver=sgd, validation_fraction=0.2;, score=0.648 total time=   2.9s\n",
      "[CV 2/5] END activation=logistic, alpha=0.001, batch_size=64, early_stopping=True, hidden_layer_sizes=(200,), learning_rate=adaptive, learning_rate_init=0.01, momentum=0.8, solver=sgd, validation_fraction=0.2;, score=0.636 total time=   3.6s\n",
      "[CV 3/5] END activation=logistic, alpha=0.001, batch_size=64, early_stopping=True, hidden_layer_sizes=(200,), learning_rate=adaptive, learning_rate_init=0.01, momentum=0.8, solver=sgd, validation_fraction=0.2;, score=0.679 total time=   3.6s\n",
      "[CV 4/5] END activation=logistic, alpha=0.001, batch_size=64, early_stopping=True, hidden_layer_sizes=(200,), learning_rate=adaptive, learning_rate_init=0.01, momentum=0.8, solver=sgd, validation_fraction=0.2;, score=0.654 total time=   3.1s\n",
      "[CV 5/5] END activation=logistic, alpha=0.001, batch_size=64, early_stopping=True, hidden_layer_sizes=(200,), learning_rate=adaptive, learning_rate_init=0.01, momentum=0.8, solver=sgd, validation_fraction=0.2;, score=0.673 total time=   3.0s\n",
      "[CV 1/5] END activation=logistic, alpha=0.001, batch_size=64, early_stopping=True, hidden_layer_sizes=(50, 50), learning_rate=adaptive, learning_rate_init=0.01, momentum=0.8, solver=adam, validation_fraction=0.2;, score=0.658 total time=   0.8s\n",
      "[CV 2/5] END activation=logistic, alpha=0.001, batch_size=64, early_stopping=True, hidden_layer_sizes=(50, 50), learning_rate=adaptive, learning_rate_init=0.01, momentum=0.8, solver=adam, validation_fraction=0.2;, score=0.654 total time=   1.0s\n",
      "[CV 3/5] END activation=logistic, alpha=0.001, batch_size=64, early_stopping=True, hidden_layer_sizes=(50, 50), learning_rate=adaptive, learning_rate_init=0.01, momentum=0.8, solver=adam, validation_fraction=0.2;, score=0.685 total time=   0.4s\n",
      "[CV 4/5] END activation=logistic, alpha=0.001, batch_size=64, early_stopping=True, hidden_layer_sizes=(50, 50), learning_rate=adaptive, learning_rate_init=0.01, momentum=0.8, solver=adam, validation_fraction=0.2;, score=0.655 total time=   0.6s\n",
      "[CV 5/5] END activation=logistic, alpha=0.001, batch_size=64, early_stopping=True, hidden_layer_sizes=(50, 50), learning_rate=adaptive, learning_rate_init=0.01, momentum=0.8, solver=adam, validation_fraction=0.2;, score=0.660 total time=   0.5s\n",
      "[CV 1/5] END activation=logistic, alpha=0.001, batch_size=64, early_stopping=True, hidden_layer_sizes=(50, 50), learning_rate=adaptive, learning_rate_init=0.01, momentum=0.8, solver=sgd, validation_fraction=0.2;, score=0.581 total time=   2.2s\n",
      "[CV 2/5] END activation=logistic, alpha=0.001, batch_size=64, early_stopping=True, hidden_layer_sizes=(50, 50), learning_rate=adaptive, learning_rate_init=0.01, momentum=0.8, solver=sgd, validation_fraction=0.2;, score=0.581 total time=   2.2s\n",
      "[CV 3/5] END activation=logistic, alpha=0.001, batch_size=64, early_stopping=True, hidden_layer_sizes=(50, 50), learning_rate=adaptive, learning_rate_init=0.01, momentum=0.8, solver=sgd, validation_fraction=0.2;, score=0.580 total time=   2.1s\n",
      "[CV 4/5] END activation=logistic, alpha=0.001, batch_size=64, early_stopping=True, hidden_layer_sizes=(50, 50), learning_rate=adaptive, learning_rate_init=0.01, momentum=0.8, solver=sgd, validation_fraction=0.2;, score=0.580 total time=   2.1s\n",
      "[CV 5/5] END activation=logistic, alpha=0.001, batch_size=64, early_stopping=True, hidden_layer_sizes=(50, 50), learning_rate=adaptive, learning_rate_init=0.01, momentum=0.8, solver=sgd, validation_fraction=0.2;, score=0.580 total time=   2.1s\n",
      "[CV 1/5] END activation=logistic, alpha=0.01, batch_size=32, early_stopping=True, hidden_layer_sizes=(200,), learning_rate=adaptive, learning_rate_init=0.01, momentum=0.8, solver=adam, validation_fraction=0.2;, score=0.658 total time=   1.1s\n",
      "[CV 2/5] END activation=logistic, alpha=0.01, batch_size=32, early_stopping=True, hidden_layer_sizes=(200,), learning_rate=adaptive, learning_rate_init=0.01, momentum=0.8, solver=adam, validation_fraction=0.2;, score=0.646 total time=   1.1s\n",
      "[CV 3/5] END activation=logistic, alpha=0.01, batch_size=32, early_stopping=True, hidden_layer_sizes=(200,), learning_rate=adaptive, learning_rate_init=0.01, momentum=0.8, solver=adam, validation_fraction=0.2;, score=0.688 total time=   1.2s\n",
      "[CV 4/5] END activation=logistic, alpha=0.01, batch_size=32, early_stopping=True, hidden_layer_sizes=(200,), learning_rate=adaptive, learning_rate_init=0.01, momentum=0.8, solver=adam, validation_fraction=0.2;, score=0.656 total time=   1.2s\n",
      "[CV 5/5] END activation=logistic, alpha=0.01, batch_size=32, early_stopping=True, hidden_layer_sizes=(200,), learning_rate=adaptive, learning_rate_init=0.01, momentum=0.8, solver=adam, validation_fraction=0.2;, score=0.664 total time=   1.1s\n",
      "[CV 1/5] END activation=logistic, alpha=0.01, batch_size=32, early_stopping=True, hidden_layer_sizes=(200,), learning_rate=adaptive, learning_rate_init=0.01, momentum=0.8, solver=sgd, validation_fraction=0.2;, score=0.648 total time=   4.1s\n",
      "[CV 2/5] END activation=logistic, alpha=0.01, batch_size=32, early_stopping=True, hidden_layer_sizes=(200,), learning_rate=adaptive, learning_rate_init=0.01, momentum=0.8, solver=sgd, validation_fraction=0.2;, score=0.639 total time=   5.1s\n",
      "[CV 3/5] END activation=logistic, alpha=0.01, batch_size=32, early_stopping=True, hidden_layer_sizes=(200,), learning_rate=adaptive, learning_rate_init=0.01, momentum=0.8, solver=sgd, validation_fraction=0.2;, score=0.694 total time=   4.6s\n",
      "[CV 4/5] END activation=logistic, alpha=0.01, batch_size=32, early_stopping=True, hidden_layer_sizes=(200,), learning_rate=adaptive, learning_rate_init=0.01, momentum=0.8, solver=sgd, validation_fraction=0.2;, score=0.650 total time=   3.7s\n",
      "[CV 5/5] END activation=logistic, alpha=0.01, batch_size=32, early_stopping=True, hidden_layer_sizes=(200,), learning_rate=adaptive, learning_rate_init=0.01, momentum=0.8, solver=sgd, validation_fraction=0.2;, score=0.664 total time=   5.2s\n",
      "[CV 1/5] END activation=logistic, alpha=0.01, batch_size=32, early_stopping=True, hidden_layer_sizes=(50, 50), learning_rate=adaptive, learning_rate_init=0.01, momentum=0.8, solver=adam, validation_fraction=0.2;, score=0.656 total time=   0.7s\n",
      "[CV 2/5] END activation=logistic, alpha=0.01, batch_size=32, early_stopping=True, hidden_layer_sizes=(50, 50), learning_rate=adaptive, learning_rate_init=0.01, momentum=0.8, solver=adam, validation_fraction=0.2;, score=0.651 total time=   1.4s\n",
      "[CV 3/5] END activation=logistic, alpha=0.01, batch_size=32, early_stopping=True, hidden_layer_sizes=(50, 50), learning_rate=adaptive, learning_rate_init=0.01, momentum=0.8, solver=adam, validation_fraction=0.2;, score=0.682 total time=   1.8s\n",
      "[CV 4/5] END activation=logistic, alpha=0.01, batch_size=32, early_stopping=True, hidden_layer_sizes=(50, 50), learning_rate=adaptive, learning_rate_init=0.01, momentum=0.8, solver=adam, validation_fraction=0.2;, score=0.644 total time=   0.9s\n",
      "[CV 5/5] END activation=logistic, alpha=0.01, batch_size=32, early_stopping=True, hidden_layer_sizes=(50, 50), learning_rate=adaptive, learning_rate_init=0.01, momentum=0.8, solver=adam, validation_fraction=0.2;, score=0.653 total time=   0.8s\n",
      "[CV 1/5] END activation=logistic, alpha=0.01, batch_size=32, early_stopping=True, hidden_layer_sizes=(50, 50), learning_rate=adaptive, learning_rate_init=0.01, momentum=0.8, solver=sgd, validation_fraction=0.2;, score=0.581 total time=   4.0s\n",
      "[CV 2/5] END activation=logistic, alpha=0.01, batch_size=32, early_stopping=True, hidden_layer_sizes=(50, 50), learning_rate=adaptive, learning_rate_init=0.01, momentum=0.8, solver=sgd, validation_fraction=0.2;, score=0.581 total time=   3.6s\n",
      "[CV 3/5] END activation=logistic, alpha=0.01, batch_size=32, early_stopping=True, hidden_layer_sizes=(50, 50), learning_rate=adaptive, learning_rate_init=0.01, momentum=0.8, solver=sgd, validation_fraction=0.2;, score=0.580 total time=   3.6s\n",
      "[CV 4/5] END activation=logistic, alpha=0.01, batch_size=32, early_stopping=True, hidden_layer_sizes=(50, 50), learning_rate=adaptive, learning_rate_init=0.01, momentum=0.8, solver=sgd, validation_fraction=0.2;, score=0.580 total time=   3.5s\n",
      "[CV 5/5] END activation=logistic, alpha=0.01, batch_size=32, early_stopping=True, hidden_layer_sizes=(50, 50), learning_rate=adaptive, learning_rate_init=0.01, momentum=0.8, solver=sgd, validation_fraction=0.2;, score=0.580 total time=   3.7s\n",
      "[CV 1/5] END activation=logistic, alpha=0.01, batch_size=64, early_stopping=True, hidden_layer_sizes=(200,), learning_rate=adaptive, learning_rate_init=0.01, momentum=0.8, solver=adam, validation_fraction=0.2;, score=0.665 total time=   0.7s\n",
      "[CV 2/5] END activation=logistic, alpha=0.01, batch_size=64, early_stopping=True, hidden_layer_sizes=(200,), learning_rate=adaptive, learning_rate_init=0.01, momentum=0.8, solver=adam, validation_fraction=0.2;, score=0.642 total time=   0.8s\n",
      "[CV 3/5] END activation=logistic, alpha=0.01, batch_size=64, early_stopping=True, hidden_layer_sizes=(200,), learning_rate=adaptive, learning_rate_init=0.01, momentum=0.8, solver=adam, validation_fraction=0.2;, score=0.689 total time=   0.5s\n",
      "[CV 4/5] END activation=logistic, alpha=0.01, batch_size=64, early_stopping=True, hidden_layer_sizes=(200,), learning_rate=adaptive, learning_rate_init=0.01, momentum=0.8, solver=adam, validation_fraction=0.2;, score=0.668 total time=   0.5s\n",
      "[CV 5/5] END activation=logistic, alpha=0.01, batch_size=64, early_stopping=True, hidden_layer_sizes=(200,), learning_rate=adaptive, learning_rate_init=0.01, momentum=0.8, solver=adam, validation_fraction=0.2;, score=0.666 total time=   0.5s\n",
      "[CV 1/5] END activation=logistic, alpha=0.01, batch_size=64, early_stopping=True, hidden_layer_sizes=(200,), learning_rate=adaptive, learning_rate_init=0.01, momentum=0.8, solver=sgd, validation_fraction=0.2;, score=0.650 total time=   3.3s\n",
      "[CV 2/5] END activation=logistic, alpha=0.01, batch_size=64, early_stopping=True, hidden_layer_sizes=(200,), learning_rate=adaptive, learning_rate_init=0.01, momentum=0.8, solver=sgd, validation_fraction=0.2;, score=0.637 total time=   3.4s\n",
      "[CV 3/5] END activation=logistic, alpha=0.01, batch_size=64, early_stopping=True, hidden_layer_sizes=(200,), learning_rate=adaptive, learning_rate_init=0.01, momentum=0.8, solver=sgd, validation_fraction=0.2;, score=0.679 total time=   3.1s\n",
      "[CV 4/5] END activation=logistic, alpha=0.01, batch_size=64, early_stopping=True, hidden_layer_sizes=(200,), learning_rate=adaptive, learning_rate_init=0.01, momentum=0.8, solver=sgd, validation_fraction=0.2;, score=0.653 total time=   2.7s\n",
      "[CV 5/5] END activation=logistic, alpha=0.01, batch_size=64, early_stopping=True, hidden_layer_sizes=(200,), learning_rate=adaptive, learning_rate_init=0.01, momentum=0.8, solver=sgd, validation_fraction=0.2;, score=0.673 total time=   2.8s\n",
      "[CV 1/5] END activation=logistic, alpha=0.01, batch_size=64, early_stopping=True, hidden_layer_sizes=(50, 50), learning_rate=adaptive, learning_rate_init=0.01, momentum=0.8, solver=adam, validation_fraction=0.2;, score=0.660 total time=   0.7s\n",
      "[CV 2/5] END activation=logistic, alpha=0.01, batch_size=64, early_stopping=True, hidden_layer_sizes=(50, 50), learning_rate=adaptive, learning_rate_init=0.01, momentum=0.8, solver=adam, validation_fraction=0.2;, score=0.655 total time=   0.8s\n",
      "[CV 3/5] END activation=logistic, alpha=0.01, batch_size=64, early_stopping=True, hidden_layer_sizes=(50, 50), learning_rate=adaptive, learning_rate_init=0.01, momentum=0.8, solver=adam, validation_fraction=0.2;, score=0.691 total time=   0.5s\n",
      "[CV 4/5] END activation=logistic, alpha=0.01, batch_size=64, early_stopping=True, hidden_layer_sizes=(50, 50), learning_rate=adaptive, learning_rate_init=0.01, momentum=0.8, solver=adam, validation_fraction=0.2;, score=0.662 total time=   0.5s\n",
      "[CV 5/5] END activation=logistic, alpha=0.01, batch_size=64, early_stopping=True, hidden_layer_sizes=(50, 50), learning_rate=adaptive, learning_rate_init=0.01, momentum=0.8, solver=adam, validation_fraction=0.2;, score=0.662 total time=   0.6s\n",
      "[CV 1/5] END activation=logistic, alpha=0.01, batch_size=64, early_stopping=True, hidden_layer_sizes=(50, 50), learning_rate=adaptive, learning_rate_init=0.01, momentum=0.8, solver=sgd, validation_fraction=0.2;, score=0.581 total time=   2.1s\n",
      "[CV 2/5] END activation=logistic, alpha=0.01, batch_size=64, early_stopping=True, hidden_layer_sizes=(50, 50), learning_rate=adaptive, learning_rate_init=0.01, momentum=0.8, solver=sgd, validation_fraction=0.2;, score=0.581 total time=   2.1s\n",
      "[CV 3/5] END activation=logistic, alpha=0.01, batch_size=64, early_stopping=True, hidden_layer_sizes=(50, 50), learning_rate=adaptive, learning_rate_init=0.01, momentum=0.8, solver=sgd, validation_fraction=0.2;, score=0.580 total time=   2.1s\n",
      "[CV 4/5] END activation=logistic, alpha=0.01, batch_size=64, early_stopping=True, hidden_layer_sizes=(50, 50), learning_rate=adaptive, learning_rate_init=0.01, momentum=0.8, solver=sgd, validation_fraction=0.2;, score=0.580 total time=   2.2s\n",
      "[CV 5/5] END activation=logistic, alpha=0.01, batch_size=64, early_stopping=True, hidden_layer_sizes=(50, 50), learning_rate=adaptive, learning_rate_init=0.01, momentum=0.8, solver=sgd, validation_fraction=0.2;, score=0.580 total time=   2.2s\n"
     ]
    },
    {
     "name": "stderr",
     "output_type": "stream",
     "text": [
      "INFO:root:[Neural Network] 🔍 Best Accuracy: 0.6663\n",
      "[Neural Network] 🔍 Best Params: {'activation': 'logistic', 'alpha': 0.01, 'batch_size': 64, 'early_stopping': True, 'hidden_layer_sizes': (50, 50), 'learning_rate': 'adaptive', 'learning_rate_init': 0.01, 'momentum': 0.8, 'solver': 'adam', 'validation_fraction': 0.2}\n"
     ]
    }
   ],
   "source": [
    "model_name = 'Neural Network'\n",
    "start = time.time()\n",
    "model = model_factory(model_name, UFCData, model_params)\n",
    "end = time.time()\n",
    "duration = end - start"
   ]
  },
  {
   "cell_type": "markdown",
   "id": "ef3b2f84-d266-462a-8c21-325907da4ac0",
   "metadata": {},
   "source": [
    "#### 🔍 Neural Network Metrics"
   ]
  },
  {
   "cell_type": "code",
   "execution_count": 18,
   "id": "470f9c65-5086-4085-a5d3-b0058a77ce3c",
   "metadata": {},
   "outputs": [],
   "source": [
    "metrics = evaluate_metrics(model, UFCData)"
   ]
  },
  {
   "cell_type": "markdown",
   "id": "c3bfb5e0-67b4-4537-9193-873185a63777",
   "metadata": {},
   "source": [
    "### 📝 Log Training Results"
   ]
  },
  {
   "cell_type": "code",
   "execution_count": 19,
   "id": "46b8d13a-6619-408e-8cba-c419fe8d840a",
   "metadata": {},
   "outputs": [
    {
     "name": "stdout",
     "output_type": "stream",
     "text": [
      "✅ Training logged to ../data/results/training_log.csv\n"
     ]
    }
   ],
   "source": [
    "log_training_result(model_name, model.best_params_, metrics, duration)"
   ]
  },
  {
   "cell_type": "markdown",
   "id": "41a13857-6f83-4d54-b238-a9cfa811f3c4",
   "metadata": {},
   "source": [
    "### 💾 Save Model "
   ]
  },
  {
   "cell_type": "code",
   "execution_count": 20,
   "id": "8a860aa1-7c0e-4ee0-bbf4-262d10909242",
   "metadata": {},
   "outputs": [
    {
     "name": "stdout",
     "output_type": "stream",
     "text": [
      "✅ Model Neural Network saved to: /home/mlioi/ufc-predictor/models/nn_best.pkl\n"
     ]
    }
   ],
   "source": [
    "save_model(model, name=file_model_name[model_name])"
   ]
  },
  {
   "cell_type": "markdown",
   "id": "3d22c213-5141-4f2e-9567-b87686558915",
   "metadata": {},
   "source": [
    "### 4.11 XGBoost Model"
   ]
  },
  {
   "cell_type": "markdown",
   "id": "de30905c-746d-4592-bcd8-273abbbb1fd8",
   "metadata": {},
   "source": [
    "#### 🚀 XGBoost Training "
   ]
  },
  {
   "cell_type": "code",
   "execution_count": 21,
   "id": "8a88e90b-05d3-4fe9-8cf7-c50e327f3cde",
   "metadata": {
    "scrolled": true
   },
   "outputs": [
    {
     "name": "stdout",
     "output_type": "stream",
     "text": [
      "\u001b[95m╔══════════════════════════════════════════════════╗\n",
      "║  [XGBoost] UFC GridSearchCV Training (Accuracy)  ║\n",
      "╚══════════════════════════════════════════════════╝\u001b[0m\n"
     ]
    },
    {
     "name": "stderr",
     "output_type": "stream",
     "text": [
      "INFO:root:[XGBoost] 🤖 Training...\n"
     ]
    },
    {
     "name": "stdout",
     "output_type": "stream",
     "text": [
      "Fitting 5 folds for each of 48 candidates, totalling 240 fits\n",
      "[CV 1/5] END colsample_bytree=0.8, learning_rate=0.01, max_depth=3, n_estimators=50, subsample=0.8;, score=0.628 total time=   0.1s\n",
      "[CV 2/5] END colsample_bytree=0.8, learning_rate=0.01, max_depth=3, n_estimators=50, subsample=0.8;, score=0.631 total time=   0.1s\n",
      "[CV 3/5] END colsample_bytree=0.8, learning_rate=0.01, max_depth=3, n_estimators=50, subsample=0.8;, score=0.626 total time=   0.3s\n",
      "[CV 4/5] END colsample_bytree=0.8, learning_rate=0.01, max_depth=3, n_estimators=50, subsample=0.8;, score=0.622 total time=   0.1s\n",
      "[CV 5/5] END colsample_bytree=0.8, learning_rate=0.01, max_depth=3, n_estimators=50, subsample=0.8;, score=0.643 total time=   0.1s\n",
      "[CV 1/5] END colsample_bytree=0.8, learning_rate=0.01, max_depth=3, n_estimators=50, subsample=1.0;, score=0.635 total time=   0.1s\n",
      "[CV 2/5] END colsample_bytree=0.8, learning_rate=0.01, max_depth=3, n_estimators=50, subsample=1.0;, score=0.632 total time=   0.4s\n",
      "[CV 3/5] END colsample_bytree=0.8, learning_rate=0.01, max_depth=3, n_estimators=50, subsample=1.0;, score=0.606 total time=   0.1s\n",
      "[CV 4/5] END colsample_bytree=0.8, learning_rate=0.01, max_depth=3, n_estimators=50, subsample=1.0;, score=0.613 total time=   0.1s\n",
      "[CV 5/5] END colsample_bytree=0.8, learning_rate=0.01, max_depth=3, n_estimators=50, subsample=1.0;, score=0.645 total time=   0.1s\n",
      "[CV 1/5] END colsample_bytree=0.8, learning_rate=0.01, max_depth=3, n_estimators=150, subsample=0.8;, score=0.647 total time=   0.1s\n",
      "[CV 2/5] END colsample_bytree=0.8, learning_rate=0.01, max_depth=3, n_estimators=150, subsample=0.8;, score=0.644 total time=   0.1s\n",
      "[CV 3/5] END colsample_bytree=0.8, learning_rate=0.01, max_depth=3, n_estimators=150, subsample=0.8;, score=0.703 total time=   0.1s\n",
      "[CV 4/5] END colsample_bytree=0.8, learning_rate=0.01, max_depth=3, n_estimators=150, subsample=0.8;, score=0.664 total time=   0.5s\n",
      "[CV 5/5] END colsample_bytree=0.8, learning_rate=0.01, max_depth=3, n_estimators=150, subsample=0.8;, score=0.657 total time=   0.3s\n",
      "[CV 1/5] END colsample_bytree=0.8, learning_rate=0.01, max_depth=3, n_estimators=150, subsample=1.0;, score=0.648 total time=   0.1s\n",
      "[CV 2/5] END colsample_bytree=0.8, learning_rate=0.01, max_depth=3, n_estimators=150, subsample=1.0;, score=0.636 total time=   0.2s\n",
      "[CV 3/5] END colsample_bytree=0.8, learning_rate=0.01, max_depth=3, n_estimators=150, subsample=1.0;, score=0.701 total time=   0.4s\n",
      "[CV 4/5] END colsample_bytree=0.8, learning_rate=0.01, max_depth=3, n_estimators=150, subsample=1.0;, score=0.668 total time=   0.5s\n",
      "[CV 5/5] END colsample_bytree=0.8, learning_rate=0.01, max_depth=3, n_estimators=150, subsample=1.0;, score=0.655 total time=   0.6s\n",
      "[CV 1/5] END colsample_bytree=0.8, learning_rate=0.01, max_depth=5, n_estimators=50, subsample=0.8;, score=0.639 total time=   0.1s\n",
      "[CV 2/5] END colsample_bytree=0.8, learning_rate=0.01, max_depth=5, n_estimators=50, subsample=0.8;, score=0.630 total time=   0.1s\n",
      "[CV 3/5] END colsample_bytree=0.8, learning_rate=0.01, max_depth=5, n_estimators=50, subsample=0.8;, score=0.635 total time=   0.2s\n",
      "[CV 4/5] END colsample_bytree=0.8, learning_rate=0.01, max_depth=5, n_estimators=50, subsample=0.8;, score=0.635 total time=   0.2s\n",
      "[CV 5/5] END colsample_bytree=0.8, learning_rate=0.01, max_depth=5, n_estimators=50, subsample=0.8;, score=0.641 total time=   0.1s\n",
      "[CV 1/5] END colsample_bytree=0.8, learning_rate=0.01, max_depth=5, n_estimators=50, subsample=1.0;, score=0.624 total time=   0.1s\n",
      "[CV 2/5] END colsample_bytree=0.8, learning_rate=0.01, max_depth=5, n_estimators=50, subsample=1.0;, score=0.631 total time=   0.3s\n",
      "[CV 3/5] END colsample_bytree=0.8, learning_rate=0.01, max_depth=5, n_estimators=50, subsample=1.0;, score=0.645 total time=   0.5s\n",
      "[CV 4/5] END colsample_bytree=0.8, learning_rate=0.01, max_depth=5, n_estimators=50, subsample=1.0;, score=0.640 total time=   0.3s\n",
      "[CV 5/5] END colsample_bytree=0.8, learning_rate=0.01, max_depth=5, n_estimators=50, subsample=1.0;, score=0.642 total time=   0.2s\n",
      "[CV 1/5] END colsample_bytree=0.8, learning_rate=0.01, max_depth=5, n_estimators=150, subsample=0.8;, score=0.654 total time=   0.9s\n",
      "[CV 2/5] END colsample_bytree=0.8, learning_rate=0.01, max_depth=5, n_estimators=150, subsample=0.8;, score=0.637 total time=   0.7s\n",
      "[CV 3/5] END colsample_bytree=0.8, learning_rate=0.01, max_depth=5, n_estimators=150, subsample=0.8;, score=0.698 total time=   0.4s\n",
      "[CV 4/5] END colsample_bytree=0.8, learning_rate=0.01, max_depth=5, n_estimators=150, subsample=0.8;, score=0.657 total time=   0.3s\n",
      "[CV 5/5] END colsample_bytree=0.8, learning_rate=0.01, max_depth=5, n_estimators=150, subsample=0.8;, score=0.652 total time=   0.3s\n",
      "[CV 1/5] END colsample_bytree=0.8, learning_rate=0.01, max_depth=5, n_estimators=150, subsample=1.0;, score=0.647 total time=   0.5s\n",
      "[CV 2/5] END colsample_bytree=0.8, learning_rate=0.01, max_depth=5, n_estimators=150, subsample=1.0;, score=0.637 total time=   0.5s\n",
      "[CV 3/5] END colsample_bytree=0.8, learning_rate=0.01, max_depth=5, n_estimators=150, subsample=1.0;, score=0.689 total time=   0.4s\n",
      "[CV 4/5] END colsample_bytree=0.8, learning_rate=0.01, max_depth=5, n_estimators=150, subsample=1.0;, score=0.664 total time=   0.3s\n",
      "[CV 5/5] END colsample_bytree=0.8, learning_rate=0.01, max_depth=5, n_estimators=150, subsample=1.0;, score=0.657 total time=   0.2s\n",
      "[CV 1/5] END colsample_bytree=0.8, learning_rate=0.01, max_depth=7, n_estimators=50, subsample=0.8;, score=0.627 total time=   0.2s\n",
      "[CV 2/5] END colsample_bytree=0.8, learning_rate=0.01, max_depth=7, n_estimators=50, subsample=0.8;, score=0.629 total time=   0.4s\n",
      "[CV 3/5] END colsample_bytree=0.8, learning_rate=0.01, max_depth=7, n_estimators=50, subsample=0.8;, score=0.637 total time=   0.2s\n",
      "[CV 4/5] END colsample_bytree=0.8, learning_rate=0.01, max_depth=7, n_estimators=50, subsample=0.8;, score=0.637 total time=   0.2s\n",
      "[CV 5/5] END colsample_bytree=0.8, learning_rate=0.01, max_depth=7, n_estimators=50, subsample=0.8;, score=0.634 total time=   0.3s\n",
      "[CV 1/5] END colsample_bytree=0.8, learning_rate=0.01, max_depth=7, n_estimators=50, subsample=1.0;, score=0.616 total time=   0.2s\n",
      "[CV 2/5] END colsample_bytree=0.8, learning_rate=0.01, max_depth=7, n_estimators=50, subsample=1.0;, score=0.629 total time=   0.3s\n",
      "[CV 3/5] END colsample_bytree=0.8, learning_rate=0.01, max_depth=7, n_estimators=50, subsample=1.0;, score=0.644 total time=   0.1s\n",
      "[CV 4/5] END colsample_bytree=0.8, learning_rate=0.01, max_depth=7, n_estimators=50, subsample=1.0;, score=0.640 total time=   0.1s\n",
      "[CV 5/5] END colsample_bytree=0.8, learning_rate=0.01, max_depth=7, n_estimators=50, subsample=1.0;, score=0.640 total time=   0.1s\n",
      "[CV 1/5] END colsample_bytree=0.8, learning_rate=0.01, max_depth=7, n_estimators=150, subsample=0.8;, score=0.643 total time=   0.3s\n",
      "[CV 2/5] END colsample_bytree=0.8, learning_rate=0.01, max_depth=7, n_estimators=150, subsample=0.8;, score=0.639 total time=   0.7s\n",
      "[CV 3/5] END colsample_bytree=0.8, learning_rate=0.01, max_depth=7, n_estimators=150, subsample=0.8;, score=0.695 total time=   0.2s\n",
      "[CV 4/5] END colsample_bytree=0.8, learning_rate=0.01, max_depth=7, n_estimators=150, subsample=0.8;, score=0.648 total time=   0.3s\n",
      "[CV 5/5] END colsample_bytree=0.8, learning_rate=0.01, max_depth=7, n_estimators=150, subsample=0.8;, score=0.646 total time=   0.6s\n",
      "[CV 1/5] END colsample_bytree=0.8, learning_rate=0.01, max_depth=7, n_estimators=150, subsample=1.0;, score=0.643 total time=   0.4s\n",
      "[CV 2/5] END colsample_bytree=0.8, learning_rate=0.01, max_depth=7, n_estimators=150, subsample=1.0;, score=0.636 total time=   0.3s\n",
      "[CV 3/5] END colsample_bytree=0.8, learning_rate=0.01, max_depth=7, n_estimators=150, subsample=1.0;, score=0.673 total time=   0.3s\n",
      "[CV 4/5] END colsample_bytree=0.8, learning_rate=0.01, max_depth=7, n_estimators=150, subsample=1.0;, score=0.643 total time=   0.3s\n",
      "[CV 5/5] END colsample_bytree=0.8, learning_rate=0.01, max_depth=7, n_estimators=150, subsample=1.0;, score=0.651 total time=   0.3s\n",
      "[CV 1/5] END colsample_bytree=0.8, learning_rate=0.1, max_depth=3, n_estimators=50, subsample=0.8;, score=0.632 total time=   0.1s\n",
      "[CV 2/5] END colsample_bytree=0.8, learning_rate=0.1, max_depth=3, n_estimators=50, subsample=0.8;, score=0.639 total time=   0.1s\n",
      "[CV 3/5] END colsample_bytree=0.8, learning_rate=0.1, max_depth=3, n_estimators=50, subsample=0.8;, score=0.697 total time=   0.0s\n",
      "[CV 4/5] END colsample_bytree=0.8, learning_rate=0.1, max_depth=3, n_estimators=50, subsample=0.8;, score=0.664 total time=   0.1s\n",
      "[CV 5/5] END colsample_bytree=0.8, learning_rate=0.1, max_depth=3, n_estimators=50, subsample=0.8;, score=0.650 total time=   0.0s\n",
      "[CV 1/5] END colsample_bytree=0.8, learning_rate=0.1, max_depth=3, n_estimators=50, subsample=1.0;, score=0.647 total time=   0.0s\n",
      "[CV 2/5] END colsample_bytree=0.8, learning_rate=0.1, max_depth=3, n_estimators=50, subsample=1.0;, score=0.651 total time=   0.0s\n",
      "[CV 3/5] END colsample_bytree=0.8, learning_rate=0.1, max_depth=3, n_estimators=50, subsample=1.0;, score=0.695 total time=   0.1s\n",
      "[CV 4/5] END colsample_bytree=0.8, learning_rate=0.1, max_depth=3, n_estimators=50, subsample=1.0;, score=0.661 total time=   0.1s\n",
      "[CV 5/5] END colsample_bytree=0.8, learning_rate=0.1, max_depth=3, n_estimators=50, subsample=1.0;, score=0.656 total time=   0.0s\n",
      "[CV 1/5] END colsample_bytree=0.8, learning_rate=0.1, max_depth=3, n_estimators=150, subsample=0.8;, score=0.637 total time=   0.1s\n",
      "[CV 2/5] END colsample_bytree=0.8, learning_rate=0.1, max_depth=3, n_estimators=150, subsample=0.8;, score=0.637 total time=   0.1s\n",
      "[CV 3/5] END colsample_bytree=0.8, learning_rate=0.1, max_depth=3, n_estimators=150, subsample=0.8;, score=0.681 total time=   0.1s\n",
      "[CV 4/5] END colsample_bytree=0.8, learning_rate=0.1, max_depth=3, n_estimators=150, subsample=0.8;, score=0.646 total time=   0.1s\n",
      "[CV 5/5] END colsample_bytree=0.8, learning_rate=0.1, max_depth=3, n_estimators=150, subsample=0.8;, score=0.635 total time=   0.1s\n",
      "[CV 1/5] END colsample_bytree=0.8, learning_rate=0.1, max_depth=3, n_estimators=150, subsample=1.0;, score=0.636 total time=   0.1s\n",
      "[CV 2/5] END colsample_bytree=0.8, learning_rate=0.1, max_depth=3, n_estimators=150, subsample=1.0;, score=0.646 total time=   0.1s\n",
      "[CV 3/5] END colsample_bytree=0.8, learning_rate=0.1, max_depth=3, n_estimators=150, subsample=1.0;, score=0.689 total time=   0.1s\n",
      "[CV 4/5] END colsample_bytree=0.8, learning_rate=0.1, max_depth=3, n_estimators=150, subsample=1.0;, score=0.652 total time=   0.1s\n",
      "[CV 5/5] END colsample_bytree=0.8, learning_rate=0.1, max_depth=3, n_estimators=150, subsample=1.0;, score=0.640 total time=   0.1s\n",
      "[CV 1/5] END colsample_bytree=0.8, learning_rate=0.1, max_depth=5, n_estimators=50, subsample=0.8;, score=0.641 total time=   0.1s\n",
      "[CV 2/5] END colsample_bytree=0.8, learning_rate=0.1, max_depth=5, n_estimators=50, subsample=0.8;, score=0.650 total time=   0.1s\n",
      "[CV 3/5] END colsample_bytree=0.8, learning_rate=0.1, max_depth=5, n_estimators=50, subsample=0.8;, score=0.672 total time=   0.2s\n",
      "[CV 4/5] END colsample_bytree=0.8, learning_rate=0.1, max_depth=5, n_estimators=50, subsample=0.8;, score=0.645 total time=   0.1s\n",
      "[CV 5/5] END colsample_bytree=0.8, learning_rate=0.1, max_depth=5, n_estimators=50, subsample=0.8;, score=0.639 total time=   0.1s\n",
      "[CV 1/5] END colsample_bytree=0.8, learning_rate=0.1, max_depth=5, n_estimators=50, subsample=1.0;, score=0.653 total time=   0.1s\n",
      "[CV 2/5] END colsample_bytree=0.8, learning_rate=0.1, max_depth=5, n_estimators=50, subsample=1.0;, score=0.649 total time=   0.1s\n",
      "[CV 3/5] END colsample_bytree=0.8, learning_rate=0.1, max_depth=5, n_estimators=50, subsample=1.0;, score=0.680 total time=   0.1s\n",
      "[CV 4/5] END colsample_bytree=0.8, learning_rate=0.1, max_depth=5, n_estimators=50, subsample=1.0;, score=0.654 total time=   0.1s\n",
      "[CV 5/5] END colsample_bytree=0.8, learning_rate=0.1, max_depth=5, n_estimators=50, subsample=1.0;, score=0.644 total time=   0.1s\n",
      "[CV 1/5] END colsample_bytree=0.8, learning_rate=0.1, max_depth=5, n_estimators=150, subsample=0.8;, score=0.630 total time=   0.2s\n",
      "[CV 2/5] END colsample_bytree=0.8, learning_rate=0.1, max_depth=5, n_estimators=150, subsample=0.8;, score=0.633 total time=   0.1s\n",
      "[CV 3/5] END colsample_bytree=0.8, learning_rate=0.1, max_depth=5, n_estimators=150, subsample=0.8;, score=0.660 total time=   0.2s\n",
      "[CV 4/5] END colsample_bytree=0.8, learning_rate=0.1, max_depth=5, n_estimators=150, subsample=0.8;, score=0.628 total time=   0.1s\n",
      "[CV 5/5] END colsample_bytree=0.8, learning_rate=0.1, max_depth=5, n_estimators=150, subsample=0.8;, score=0.631 total time=   0.2s\n",
      "[CV 1/5] END colsample_bytree=0.8, learning_rate=0.1, max_depth=5, n_estimators=150, subsample=1.0;, score=0.645 total time=   0.1s\n",
      "[CV 2/5] END colsample_bytree=0.8, learning_rate=0.1, max_depth=5, n_estimators=150, subsample=1.0;, score=0.647 total time=   0.3s\n",
      "[CV 3/5] END colsample_bytree=0.8, learning_rate=0.1, max_depth=5, n_estimators=150, subsample=1.0;, score=0.658 total time=   0.1s\n",
      "[CV 4/5] END colsample_bytree=0.8, learning_rate=0.1, max_depth=5, n_estimators=150, subsample=1.0;, score=0.644 total time=   0.1s\n",
      "[CV 5/5] END colsample_bytree=0.8, learning_rate=0.1, max_depth=5, n_estimators=150, subsample=1.0;, score=0.623 total time=   0.3s\n",
      "[CV 1/5] END colsample_bytree=0.8, learning_rate=0.1, max_depth=7, n_estimators=50, subsample=0.8;, score=0.636 total time=   0.2s\n",
      "[CV 2/5] END colsample_bytree=0.8, learning_rate=0.1, max_depth=7, n_estimators=50, subsample=0.8;, score=0.639 total time=   0.1s\n",
      "[CV 3/5] END colsample_bytree=0.8, learning_rate=0.1, max_depth=7, n_estimators=50, subsample=0.8;, score=0.673 total time=   0.1s\n",
      "[CV 4/5] END colsample_bytree=0.8, learning_rate=0.1, max_depth=7, n_estimators=50, subsample=0.8;, score=0.640 total time=   0.1s\n",
      "[CV 5/5] END colsample_bytree=0.8, learning_rate=0.1, max_depth=7, n_estimators=50, subsample=0.8;, score=0.637 total time=   0.1s\n",
      "[CV 1/5] END colsample_bytree=0.8, learning_rate=0.1, max_depth=7, n_estimators=50, subsample=1.0;, score=0.645 total time=   0.3s\n",
      "[CV 2/5] END colsample_bytree=0.8, learning_rate=0.1, max_depth=7, n_estimators=50, subsample=1.0;, score=0.624 total time=   0.2s\n",
      "[CV 3/5] END colsample_bytree=0.8, learning_rate=0.1, max_depth=7, n_estimators=50, subsample=1.0;, score=0.673 total time=   0.1s\n",
      "[CV 4/5] END colsample_bytree=0.8, learning_rate=0.1, max_depth=7, n_estimators=50, subsample=1.0;, score=0.644 total time=   0.2s\n",
      "[CV 5/5] END colsample_bytree=0.8, learning_rate=0.1, max_depth=7, n_estimators=50, subsample=1.0;, score=0.631 total time=   0.1s\n",
      "[CV 1/5] END colsample_bytree=0.8, learning_rate=0.1, max_depth=7, n_estimators=150, subsample=0.8;, score=0.639 total time=   0.8s\n",
      "[CV 2/5] END colsample_bytree=0.8, learning_rate=0.1, max_depth=7, n_estimators=150, subsample=0.8;, score=0.632 total time=   0.4s\n",
      "[CV 3/5] END colsample_bytree=0.8, learning_rate=0.1, max_depth=7, n_estimators=150, subsample=0.8;, score=0.658 total time=   0.4s\n",
      "[CV 4/5] END colsample_bytree=0.8, learning_rate=0.1, max_depth=7, n_estimators=150, subsample=0.8;, score=0.629 total time=   0.5s\n",
      "[CV 5/5] END colsample_bytree=0.8, learning_rate=0.1, max_depth=7, n_estimators=150, subsample=0.8;, score=0.622 total time=   0.5s\n",
      "[CV 1/5] END colsample_bytree=0.8, learning_rate=0.1, max_depth=7, n_estimators=150, subsample=1.0;, score=0.651 total time=   0.4s\n",
      "[CV 2/5] END colsample_bytree=0.8, learning_rate=0.1, max_depth=7, n_estimators=150, subsample=1.0;, score=0.629 total time=   0.4s\n",
      "[CV 3/5] END colsample_bytree=0.8, learning_rate=0.1, max_depth=7, n_estimators=150, subsample=1.0;, score=0.645 total time=   0.5s\n",
      "[CV 4/5] END colsample_bytree=0.8, learning_rate=0.1, max_depth=7, n_estimators=150, subsample=1.0;, score=0.641 total time=   0.3s\n",
      "[CV 5/5] END colsample_bytree=0.8, learning_rate=0.1, max_depth=7, n_estimators=150, subsample=1.0;, score=0.617 total time=   0.2s\n",
      "[CV 1/5] END colsample_bytree=1.0, learning_rate=0.01, max_depth=3, n_estimators=50, subsample=0.8;, score=0.640 total time=   0.1s\n",
      "[CV 2/5] END colsample_bytree=1.0, learning_rate=0.01, max_depth=3, n_estimators=50, subsample=0.8;, score=0.643 total time=   0.0s\n",
      "[CV 3/5] END colsample_bytree=1.0, learning_rate=0.01, max_depth=3, n_estimators=50, subsample=0.8;, score=0.677 total time=   0.1s\n",
      "[CV 4/5] END colsample_bytree=1.0, learning_rate=0.01, max_depth=3, n_estimators=50, subsample=0.8;, score=0.654 total time=   0.1s\n",
      "[CV 5/5] END colsample_bytree=1.0, learning_rate=0.01, max_depth=3, n_estimators=50, subsample=0.8;, score=0.646 total time=   0.1s\n",
      "[CV 1/5] END colsample_bytree=1.0, learning_rate=0.01, max_depth=3, n_estimators=50, subsample=1.0;, score=0.636 total time=   0.1s\n",
      "[CV 2/5] END colsample_bytree=1.0, learning_rate=0.01, max_depth=3, n_estimators=50, subsample=1.0;, score=0.642 total time=   0.0s\n",
      "[CV 3/5] END colsample_bytree=1.0, learning_rate=0.01, max_depth=3, n_estimators=50, subsample=1.0;, score=0.678 total time=   0.1s\n",
      "[CV 4/5] END colsample_bytree=1.0, learning_rate=0.01, max_depth=3, n_estimators=50, subsample=1.0;, score=0.659 total time=   0.1s\n",
      "[CV 5/5] END colsample_bytree=1.0, learning_rate=0.01, max_depth=3, n_estimators=50, subsample=1.0;, score=0.646 total time=   0.0s\n",
      "[CV 1/5] END colsample_bytree=1.0, learning_rate=0.01, max_depth=3, n_estimators=150, subsample=0.8;, score=0.643 total time=   0.1s\n",
      "[CV 2/5] END colsample_bytree=1.0, learning_rate=0.01, max_depth=3, n_estimators=150, subsample=0.8;, score=0.640 total time=   0.1s\n",
      "[CV 3/5] END colsample_bytree=1.0, learning_rate=0.01, max_depth=3, n_estimators=150, subsample=0.8;, score=0.698 total time=   0.1s\n",
      "[CV 4/5] END colsample_bytree=1.0, learning_rate=0.01, max_depth=3, n_estimators=150, subsample=0.8;, score=0.671 total time=   0.1s\n",
      "[CV 5/5] END colsample_bytree=1.0, learning_rate=0.01, max_depth=3, n_estimators=150, subsample=0.8;, score=0.655 total time=   0.1s\n",
      "[CV 1/5] END colsample_bytree=1.0, learning_rate=0.01, max_depth=3, n_estimators=150, subsample=1.0;, score=0.644 total time=   0.1s\n",
      "[CV 2/5] END colsample_bytree=1.0, learning_rate=0.01, max_depth=3, n_estimators=150, subsample=1.0;, score=0.641 total time=   0.2s\n",
      "[CV 3/5] END colsample_bytree=1.0, learning_rate=0.01, max_depth=3, n_estimators=150, subsample=1.0;, score=0.700 total time=   0.1s\n",
      "[CV 4/5] END colsample_bytree=1.0, learning_rate=0.01, max_depth=3, n_estimators=150, subsample=1.0;, score=0.667 total time=   0.1s\n",
      "[CV 5/5] END colsample_bytree=1.0, learning_rate=0.01, max_depth=3, n_estimators=150, subsample=1.0;, score=0.649 total time=   0.2s\n",
      "[CV 1/5] END colsample_bytree=1.0, learning_rate=0.01, max_depth=5, n_estimators=50, subsample=0.8;, score=0.635 total time=   0.1s\n",
      "[CV 2/5] END colsample_bytree=1.0, learning_rate=0.01, max_depth=5, n_estimators=50, subsample=0.8;, score=0.640 total time=   0.1s\n",
      "[CV 3/5] END colsample_bytree=1.0, learning_rate=0.01, max_depth=5, n_estimators=50, subsample=0.8;, score=0.651 total time=   0.1s\n",
      "[CV 4/5] END colsample_bytree=1.0, learning_rate=0.01, max_depth=5, n_estimators=50, subsample=0.8;, score=0.650 total time=   0.1s\n",
      "[CV 5/5] END colsample_bytree=1.0, learning_rate=0.01, max_depth=5, n_estimators=50, subsample=0.8;, score=0.644 total time=   0.1s\n",
      "[CV 1/5] END colsample_bytree=1.0, learning_rate=0.01, max_depth=5, n_estimators=50, subsample=1.0;, score=0.630 total time=   0.1s\n",
      "[CV 2/5] END colsample_bytree=1.0, learning_rate=0.01, max_depth=5, n_estimators=50, subsample=1.0;, score=0.643 total time=   0.1s\n",
      "[CV 3/5] END colsample_bytree=1.0, learning_rate=0.01, max_depth=5, n_estimators=50, subsample=1.0;, score=0.664 total time=   0.1s\n",
      "[CV 4/5] END colsample_bytree=1.0, learning_rate=0.01, max_depth=5, n_estimators=50, subsample=1.0;, score=0.646 total time=   0.1s\n",
      "[CV 5/5] END colsample_bytree=1.0, learning_rate=0.01, max_depth=5, n_estimators=50, subsample=1.0;, score=0.649 total time=   0.1s\n",
      "[CV 1/5] END colsample_bytree=1.0, learning_rate=0.01, max_depth=5, n_estimators=150, subsample=0.8;, score=0.650 total time=   0.2s\n",
      "[CV 2/5] END colsample_bytree=1.0, learning_rate=0.01, max_depth=5, n_estimators=150, subsample=0.8;, score=0.640 total time=   0.2s\n",
      "[CV 3/5] END colsample_bytree=1.0, learning_rate=0.01, max_depth=5, n_estimators=150, subsample=0.8;, score=0.694 total time=   0.5s\n",
      "[CV 4/5] END colsample_bytree=1.0, learning_rate=0.01, max_depth=5, n_estimators=150, subsample=0.8;, score=0.667 total time=   0.5s\n",
      "[CV 5/5] END colsample_bytree=1.0, learning_rate=0.01, max_depth=5, n_estimators=150, subsample=0.8;, score=0.655 total time=   0.2s\n",
      "[CV 1/5] END colsample_bytree=1.0, learning_rate=0.01, max_depth=5, n_estimators=150, subsample=1.0;, score=0.644 total time=   0.3s\n",
      "[CV 2/5] END colsample_bytree=1.0, learning_rate=0.01, max_depth=5, n_estimators=150, subsample=1.0;, score=0.637 total time=   0.2s\n",
      "[CV 3/5] END colsample_bytree=1.0, learning_rate=0.01, max_depth=5, n_estimators=150, subsample=1.0;, score=0.691 total time=   0.2s\n",
      "[CV 4/5] END colsample_bytree=1.0, learning_rate=0.01, max_depth=5, n_estimators=150, subsample=1.0;, score=0.672 total time=   0.2s\n",
      "[CV 5/5] END colsample_bytree=1.0, learning_rate=0.01, max_depth=5, n_estimators=150, subsample=1.0;, score=0.655 total time=   0.2s\n",
      "[CV 1/5] END colsample_bytree=1.0, learning_rate=0.01, max_depth=7, n_estimators=50, subsample=0.8;, score=0.630 total time=   0.1s\n",
      "[CV 2/5] END colsample_bytree=1.0, learning_rate=0.01, max_depth=7, n_estimators=50, subsample=0.8;, score=0.632 total time=   0.1s\n",
      "[CV 3/5] END colsample_bytree=1.0, learning_rate=0.01, max_depth=7, n_estimators=50, subsample=0.8;, score=0.648 total time=   0.1s\n",
      "[CV 4/5] END colsample_bytree=1.0, learning_rate=0.01, max_depth=7, n_estimators=50, subsample=0.8;, score=0.644 total time=   0.1s\n",
      "[CV 5/5] END colsample_bytree=1.0, learning_rate=0.01, max_depth=7, n_estimators=50, subsample=0.8;, score=0.642 total time=   0.1s\n",
      "[CV 1/5] END colsample_bytree=1.0, learning_rate=0.01, max_depth=7, n_estimators=50, subsample=1.0;, score=0.637 total time=   0.1s\n",
      "[CV 2/5] END colsample_bytree=1.0, learning_rate=0.01, max_depth=7, n_estimators=50, subsample=1.0;, score=0.632 total time=   0.1s\n",
      "[CV 3/5] END colsample_bytree=1.0, learning_rate=0.01, max_depth=7, n_estimators=50, subsample=1.0;, score=0.651 total time=   0.1s\n",
      "[CV 4/5] END colsample_bytree=1.0, learning_rate=0.01, max_depth=7, n_estimators=50, subsample=1.0;, score=0.643 total time=   0.1s\n",
      "[CV 5/5] END colsample_bytree=1.0, learning_rate=0.01, max_depth=7, n_estimators=50, subsample=1.0;, score=0.647 total time=   0.1s\n",
      "[CV 1/5] END colsample_bytree=1.0, learning_rate=0.01, max_depth=7, n_estimators=150, subsample=0.8;, score=0.656 total time=   0.3s\n",
      "[CV 2/5] END colsample_bytree=1.0, learning_rate=0.01, max_depth=7, n_estimators=150, subsample=0.8;, score=0.637 total time=   0.3s\n",
      "[CV 3/5] END colsample_bytree=1.0, learning_rate=0.01, max_depth=7, n_estimators=150, subsample=0.8;, score=0.682 total time=   0.3s\n",
      "[CV 4/5] END colsample_bytree=1.0, learning_rate=0.01, max_depth=7, n_estimators=150, subsample=0.8;, score=0.645 total time=   0.3s\n",
      "[CV 5/5] END colsample_bytree=1.0, learning_rate=0.01, max_depth=7, n_estimators=150, subsample=0.8;, score=0.646 total time=   0.3s\n",
      "[CV 1/5] END colsample_bytree=1.0, learning_rate=0.01, max_depth=7, n_estimators=150, subsample=1.0;, score=0.646 total time=   0.3s\n",
      "[CV 2/5] END colsample_bytree=1.0, learning_rate=0.01, max_depth=7, n_estimators=150, subsample=1.0;, score=0.631 total time=   0.3s\n",
      "[CV 3/5] END colsample_bytree=1.0, learning_rate=0.01, max_depth=7, n_estimators=150, subsample=1.0;, score=0.682 total time=   0.3s\n",
      "[CV 4/5] END colsample_bytree=1.0, learning_rate=0.01, max_depth=7, n_estimators=150, subsample=1.0;, score=0.641 total time=   0.3s\n",
      "[CV 5/5] END colsample_bytree=1.0, learning_rate=0.01, max_depth=7, n_estimators=150, subsample=1.0;, score=0.627 total time=   0.3s\n",
      "[CV 1/5] END colsample_bytree=1.0, learning_rate=0.1, max_depth=3, n_estimators=50, subsample=0.8;, score=0.653 total time=   0.0s\n",
      "[CV 2/5] END colsample_bytree=1.0, learning_rate=0.1, max_depth=3, n_estimators=50, subsample=0.8;, score=0.641 total time=   0.0s\n",
      "[CV 3/5] END colsample_bytree=1.0, learning_rate=0.1, max_depth=3, n_estimators=50, subsample=0.8;, score=0.696 total time=   0.1s\n",
      "[CV 4/5] END colsample_bytree=1.0, learning_rate=0.1, max_depth=3, n_estimators=50, subsample=0.8;, score=0.657 total time=   0.0s\n",
      "[CV 5/5] END colsample_bytree=1.0, learning_rate=0.1, max_depth=3, n_estimators=50, subsample=0.8;, score=0.661 total time=   0.1s\n",
      "[CV 1/5] END colsample_bytree=1.0, learning_rate=0.1, max_depth=3, n_estimators=50, subsample=1.0;, score=0.642 total time=   0.0s\n",
      "[CV 2/5] END colsample_bytree=1.0, learning_rate=0.1, max_depth=3, n_estimators=50, subsample=1.0;, score=0.642 total time=   0.0s\n",
      "[CV 3/5] END colsample_bytree=1.0, learning_rate=0.1, max_depth=3, n_estimators=50, subsample=1.0;, score=0.697 total time=   0.0s\n",
      "[CV 4/5] END colsample_bytree=1.0, learning_rate=0.1, max_depth=3, n_estimators=50, subsample=1.0;, score=0.667 total time=   0.1s\n",
      "[CV 5/5] END colsample_bytree=1.0, learning_rate=0.1, max_depth=3, n_estimators=50, subsample=1.0;, score=0.655 total time=   0.1s\n",
      "[CV 1/5] END colsample_bytree=1.0, learning_rate=0.1, max_depth=3, n_estimators=150, subsample=0.8;, score=0.632 total time=   0.1s\n",
      "[CV 2/5] END colsample_bytree=1.0, learning_rate=0.1, max_depth=3, n_estimators=150, subsample=0.8;, score=0.635 total time=   0.2s\n",
      "[CV 3/5] END colsample_bytree=1.0, learning_rate=0.1, max_depth=3, n_estimators=150, subsample=0.8;, score=0.673 total time=   0.2s\n",
      "[CV 4/5] END colsample_bytree=1.0, learning_rate=0.1, max_depth=3, n_estimators=150, subsample=0.8;, score=0.652 total time=   0.2s\n",
      "[CV 5/5] END colsample_bytree=1.0, learning_rate=0.1, max_depth=3, n_estimators=150, subsample=0.8;, score=0.636 total time=   0.1s\n",
      "[CV 1/5] END colsample_bytree=1.0, learning_rate=0.1, max_depth=3, n_estimators=150, subsample=1.0;, score=0.644 total time=   0.1s\n",
      "[CV 2/5] END colsample_bytree=1.0, learning_rate=0.1, max_depth=3, n_estimators=150, subsample=1.0;, score=0.644 total time=   0.2s\n",
      "[CV 3/5] END colsample_bytree=1.0, learning_rate=0.1, max_depth=3, n_estimators=150, subsample=1.0;, score=0.679 total time=   0.2s\n",
      "[CV 4/5] END colsample_bytree=1.0, learning_rate=0.1, max_depth=3, n_estimators=150, subsample=1.0;, score=0.648 total time=   0.1s\n",
      "[CV 5/5] END colsample_bytree=1.0, learning_rate=0.1, max_depth=3, n_estimators=150, subsample=1.0;, score=0.636 total time=   0.2s\n",
      "[CV 1/5] END colsample_bytree=1.0, learning_rate=0.1, max_depth=5, n_estimators=50, subsample=0.8;, score=0.649 total time=   0.1s\n",
      "[CV 2/5] END colsample_bytree=1.0, learning_rate=0.1, max_depth=5, n_estimators=50, subsample=0.8;, score=0.629 total time=   0.1s\n",
      "[CV 3/5] END colsample_bytree=1.0, learning_rate=0.1, max_depth=5, n_estimators=50, subsample=0.8;, score=0.671 total time=   0.1s\n",
      "[CV 4/5] END colsample_bytree=1.0, learning_rate=0.1, max_depth=5, n_estimators=50, subsample=0.8;, score=0.647 total time=   0.1s\n",
      "[CV 5/5] END colsample_bytree=1.0, learning_rate=0.1, max_depth=5, n_estimators=50, subsample=0.8;, score=0.630 total time=   0.1s\n",
      "[CV 1/5] END colsample_bytree=1.0, learning_rate=0.1, max_depth=5, n_estimators=50, subsample=1.0;, score=0.654 total time=   0.1s\n",
      "[CV 2/5] END colsample_bytree=1.0, learning_rate=0.1, max_depth=5, n_estimators=50, subsample=1.0;, score=0.643 total time=   0.1s\n",
      "[CV 3/5] END colsample_bytree=1.0, learning_rate=0.1, max_depth=5, n_estimators=50, subsample=1.0;, score=0.667 total time=   0.1s\n",
      "[CV 4/5] END colsample_bytree=1.0, learning_rate=0.1, max_depth=5, n_estimators=50, subsample=1.0;, score=0.649 total time=   0.1s\n",
      "[CV 5/5] END colsample_bytree=1.0, learning_rate=0.1, max_depth=5, n_estimators=50, subsample=1.0;, score=0.646 total time=   0.1s\n",
      "[CV 1/5] END colsample_bytree=1.0, learning_rate=0.1, max_depth=5, n_estimators=150, subsample=0.8;, score=0.647 total time=   0.2s\n",
      "[CV 2/5] END colsample_bytree=1.0, learning_rate=0.1, max_depth=5, n_estimators=150, subsample=0.8;, score=0.611 total time=   0.2s\n",
      "[CV 3/5] END colsample_bytree=1.0, learning_rate=0.1, max_depth=5, n_estimators=150, subsample=0.8;, score=0.650 total time=   0.2s\n",
      "[CV 4/5] END colsample_bytree=1.0, learning_rate=0.1, max_depth=5, n_estimators=150, subsample=0.8;, score=0.622 total time=   0.2s\n",
      "[CV 5/5] END colsample_bytree=1.0, learning_rate=0.1, max_depth=5, n_estimators=150, subsample=0.8;, score=0.619 total time=   0.2s\n",
      "[CV 1/5] END colsample_bytree=1.0, learning_rate=0.1, max_depth=5, n_estimators=150, subsample=1.0;, score=0.642 total time=   0.1s\n",
      "[CV 2/5] END colsample_bytree=1.0, learning_rate=0.1, max_depth=5, n_estimators=150, subsample=1.0;, score=0.626 total time=   0.2s\n",
      "[CV 3/5] END colsample_bytree=1.0, learning_rate=0.1, max_depth=5, n_estimators=150, subsample=1.0;, score=0.647 total time=   0.2s\n",
      "[CV 4/5] END colsample_bytree=1.0, learning_rate=0.1, max_depth=5, n_estimators=150, subsample=1.0;, score=0.634 total time=   0.2s\n",
      "[CV 5/5] END colsample_bytree=1.0, learning_rate=0.1, max_depth=5, n_estimators=150, subsample=1.0;, score=0.645 total time=   0.1s\n",
      "[CV 1/5] END colsample_bytree=1.0, learning_rate=0.1, max_depth=7, n_estimators=50, subsample=0.8;, score=0.643 total time=   0.1s\n",
      "[CV 2/5] END colsample_bytree=1.0, learning_rate=0.1, max_depth=7, n_estimators=50, subsample=0.8;, score=0.626 total time=   0.1s\n",
      "[CV 3/5] END colsample_bytree=1.0, learning_rate=0.1, max_depth=7, n_estimators=50, subsample=0.8;, score=0.662 total time=   0.1s\n",
      "[CV 4/5] END colsample_bytree=1.0, learning_rate=0.1, max_depth=7, n_estimators=50, subsample=0.8;, score=0.632 total time=   0.1s\n",
      "[CV 5/5] END colsample_bytree=1.0, learning_rate=0.1, max_depth=7, n_estimators=50, subsample=0.8;, score=0.634 total time=   0.1s\n",
      "[CV 1/5] END colsample_bytree=1.0, learning_rate=0.1, max_depth=7, n_estimators=50, subsample=1.0;, score=0.644 total time=   0.1s\n",
      "[CV 2/5] END colsample_bytree=1.0, learning_rate=0.1, max_depth=7, n_estimators=50, subsample=1.0;, score=0.633 total time=   0.1s\n",
      "[CV 3/5] END colsample_bytree=1.0, learning_rate=0.1, max_depth=7, n_estimators=50, subsample=1.0;, score=0.649 total time=   0.1s\n",
      "[CV 4/5] END colsample_bytree=1.0, learning_rate=0.1, max_depth=7, n_estimators=50, subsample=1.0;, score=0.650 total time=   0.1s\n",
      "[CV 5/5] END colsample_bytree=1.0, learning_rate=0.1, max_depth=7, n_estimators=50, subsample=1.0;, score=0.623 total time=   0.1s\n",
      "[CV 1/5] END colsample_bytree=1.0, learning_rate=0.1, max_depth=7, n_estimators=150, subsample=0.8;, score=0.636 total time=   0.3s\n",
      "[CV 2/5] END colsample_bytree=1.0, learning_rate=0.1, max_depth=7, n_estimators=150, subsample=0.8;, score=0.628 total time=   0.3s\n",
      "[CV 3/5] END colsample_bytree=1.0, learning_rate=0.1, max_depth=7, n_estimators=150, subsample=0.8;, score=0.649 total time=   0.3s\n",
      "[CV 4/5] END colsample_bytree=1.0, learning_rate=0.1, max_depth=7, n_estimators=150, subsample=0.8;, score=0.628 total time=   0.3s\n",
      "[CV 5/5] END colsample_bytree=1.0, learning_rate=0.1, max_depth=7, n_estimators=150, subsample=0.8;, score=0.629 total time=   0.3s\n",
      "[CV 1/5] END colsample_bytree=1.0, learning_rate=0.1, max_depth=7, n_estimators=150, subsample=1.0;, score=0.633 total time=   0.3s\n",
      "[CV 2/5] END colsample_bytree=1.0, learning_rate=0.1, max_depth=7, n_estimators=150, subsample=1.0;, score=0.627 total time=   0.3s\n",
      "[CV 3/5] END colsample_bytree=1.0, learning_rate=0.1, max_depth=7, n_estimators=150, subsample=1.0;, score=0.643 total time=   0.2s\n",
      "[CV 4/5] END colsample_bytree=1.0, learning_rate=0.1, max_depth=7, n_estimators=150, subsample=1.0;, score=0.626 total time=   0.3s\n",
      "[CV 5/5] END colsample_bytree=1.0, learning_rate=0.1, max_depth=7, n_estimators=150, subsample=1.0;, score=0.615 total time=   0.3s\n"
     ]
    },
    {
     "name": "stderr",
     "output_type": "stream",
     "text": [
      "INFO:root:[XGBoost] 🔍 Best Accuracy: 0.6629\n",
      "[XGBoost] 🔍 Best Params: {'colsample_bytree': 0.8, 'learning_rate': 0.01, 'max_depth': 3, 'n_estimators': 150, 'subsample': 0.8}\n"
     ]
    }
   ],
   "source": [
    "model_name = 'XGBoost'\n",
    "start = time.time()\n",
    "model = model_factory(model_name, UFCData, model_params)\n",
    "end = time.time()\n",
    "duration = end - start"
   ]
  },
  {
   "cell_type": "markdown",
   "id": "9c3e0470-8789-43da-bc6c-7100b1a49c82",
   "metadata": {},
   "source": [
    "#### 🔍 XGBoost Metrics"
   ]
  },
  {
   "cell_type": "code",
   "execution_count": 22,
   "id": "c77ee65c-c97f-4745-a6d1-007989dc615a",
   "metadata": {},
   "outputs": [],
   "source": [
    "metrics = evaluate_metrics(model, UFCData)"
   ]
  },
  {
   "cell_type": "markdown",
   "id": "685c7a9b-8788-42c0-9869-5ef38d780d72",
   "metadata": {},
   "source": [
    "### 📝 Log Training Results"
   ]
  },
  {
   "cell_type": "code",
   "execution_count": 23,
   "id": "60673ffa-3ab2-400c-937b-ada0a83606c3",
   "metadata": {},
   "outputs": [
    {
     "name": "stdout",
     "output_type": "stream",
     "text": [
      "✅ Training logged to ../data/results/training_log.csv\n"
     ]
    }
   ],
   "source": [
    "log_training_result(model_name, model.best_params_, metrics, duration)"
   ]
  },
  {
   "cell_type": "markdown",
   "id": "081cd44a-f270-495d-9988-20dc1e7ed785",
   "metadata": {},
   "source": [
    "### 💾 Save Model "
   ]
  },
  {
   "cell_type": "code",
   "execution_count": 24,
   "id": "6f66d09f-c6e2-4ba8-8335-e29fd6aa4438",
   "metadata": {},
   "outputs": [
    {
     "name": "stdout",
     "output_type": "stream",
     "text": [
      "✅ Model XGBoost saved to: /home/mlioi/ufc-predictor/models/xgb_best.pkl\n"
     ]
    }
   ],
   "source": [
    "save_model(model, name=file_model_name[model_name])"
   ]
  },
  {
   "cell_type": "markdown",
   "id": "3dc3c810-8201-4345-8ca1-7acae4b0dfb1",
   "metadata": {},
   "source": [
    "<div style=\"text-align: center;\">\n",
    "     <img src=\"../img/ufc_logo.png\" width=\"800\" /> \n",
    "</div>"
   ]
  }
 ],
 "metadata": {
  "kernelspec": {
   "display_name": "Python 3 (ipykernel)",
   "language": "python",
   "name": "python3"
  },
  "language_info": {
   "codemirror_mode": {
    "name": "ipython",
    "version": 3
   },
   "file_extension": ".py",
   "mimetype": "text/x-python",
   "name": "python",
   "nbconvert_exporter": "python",
   "pygments_lexer": "ipython3",
   "version": "3.13.5"
  }
 },
 "nbformat": 4,
 "nbformat_minor": 5
}
