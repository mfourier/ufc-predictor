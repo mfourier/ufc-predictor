{
 "cells": [
  {
   "cell_type": "markdown",
   "id": "f09612b6-fe0c-4377-9380-b987af855909",
   "metadata": {},
   "source": [
    "# 🔹 UFC Model Experiments"
   ]
  },
  {
   "cell_type": "markdown",
   "id": "f2131b10-46b5-4bfe-8e39-5970545f57eb",
   "metadata": {},
   "source": [
    "<div style=\"text-align: center;\">\n",
    "  🔹 <img src=\"../img/ufc_logo.png\" width=\"50\" /> 🔹\n",
    "</div>"
   ]
  },
  {
   "cell_type": "markdown",
   "id": "31623b35-b326-4446-b9d8-cebe5a2e9291",
   "metadata": {},
   "source": [
    "## 1. Import Libraries and Setup Environment"
   ]
  },
  {
   "cell_type": "code",
   "execution_count": 2,
   "id": "9d507bd6-e395-4e0f-b5e9-edfce56d629d",
   "metadata": {},
   "outputs": [],
   "source": [
    "# Import necessary libraries\n",
    "import os\n",
    "import sys\n",
    "import pandas as pd\n",
    "import numpy as np\n",
    "import matplotlib.pyplot as plt\n",
    "\n",
    "# Get the current working directory\n",
    "current_dir = os.getcwd()\n",
    "\n",
    "# Navigate to the project root\n",
    "project_root = os.path.abspath(os.path.join(current_dir, '..'))\n",
    "\n",
    "# Import from /src\n",
    "\n",
    "sys.path.append(os.path.join(project_root, 'src'))\n",
    "from utils.metrics import *\n",
    "from models.model_factory import model_factory\n",
    "from models.ufc_model import UFCModel\n",
    "from utils.ufc_data import UFCData\n",
    "from models.config import *\n",
    "from utils.io_model import load_data, load_model\n",
    "from utils.helpers import *\n",
    "\n",
    "# Define the path to the CSV file\n",
    "train_path = os.path.join(project_root, 'data', 'processed', 'ufc_train.csv')\n",
    "test_path = os.path.join(project_root, 'data', 'processed', 'ufc_test.csv')"
   ]
  },
  {
   "cell_type": "markdown",
   "id": "48ccb9c6-63ca-4f86-8df7-14dc8d904b8e",
   "metadata": {},
   "source": [
    "<div style=\"text-align: center;\">\n",
    "  🔹 <img src=\"../img/ufc_logo.png\" width=\"50\" /> 🔹\n",
    "</div>"
   ]
  },
  {
   "cell_type": "markdown",
   "id": "a652d2c8-5d08-471b-ac6c-19ceeeb65e6d",
   "metadata": {},
   "source": [
    "## 2. Load Data"
   ]
  },
  {
   "cell_type": "code",
   "execution_count": 2,
   "id": "5b91ed0e-8432-4e84-a009-92d03f3f58b3",
   "metadata": {},
   "outputs": [
    {
     "name": "stdout",
     "output_type": "stream",
     "text": [
      "\u001b[92m╔═════════════════════════════════════════════════════════════╗\n",
      "║  Data Training successfully loaded: 5232 rows, 47 columns.  ║\n",
      "╚═════════════════════════════════════════════════════════════╝\u001b[0m\n"
     ]
    }
   ],
   "source": [
    "# Load the CSV into a DataFrame\n",
    "try:\n",
    "    ufc_train = pd.read_csv(train_path)\n",
    "    print_header(f\"Data Training successfully loaded: {ufc_train.shape[0]} rows, {ufc_train.shape[1]} columns.\", color='bright_green')\n",
    "except Exception as e:\n",
    "    print_header(f\"Error loading training data: {e}\", color='bright_red')"
   ]
  },
  {
   "cell_type": "code",
   "execution_count": 3,
   "id": "9272f1f4-ebc4-41d4-a2ca-cc5de0f166a0",
   "metadata": {},
   "outputs": [
    {
     "name": "stdout",
     "output_type": "stream",
     "text": [
      "\u001b[92m╔════════════════════════════════════════════════════════════╗\n",
      "║  Data Testing successfully loaded: 1309 rows, 47 columns.  ║\n",
      "╚════════════════════════════════════════════════════════════╝\u001b[0m\n"
     ]
    }
   ],
   "source": [
    "try:\n",
    "    ufc_test = pd.read_csv(test_path)\n",
    "    print_header(f\"Data Testing successfully loaded: {ufc_test.shape[0]} rows, {ufc_test.shape[1]} columns.\", color='bright_green')\n",
    "except Exception as e:\n",
    "    print_header(f\"Error loading testing data: {e}\", color='bright_red')"
   ]
  },
  {
   "cell_type": "markdown",
   "id": "de9f5dad-9493-45af-be4c-1e99a66247b7",
   "metadata": {},
   "source": [
    "<div style=\"text-align: center;\">\n",
    "  🔹 <img src=\"../img/ufc_logo.png\" width=\"50\" /> 🔹\n",
    "</div>"
   ]
  },
  {
   "cell_type": "markdown",
   "id": "0a9f90d7-9e24-4ac1-933c-0265aca44e38",
   "metadata": {},
   "source": [
    "## 3. Load Models"
   ]
  },
  {
   "cell_type": "code",
   "execution_count": 4,
   "id": "3348f1c8-09a3-4d23-98b0-f778068a5225",
   "metadata": {},
   "outputs": [
    {
     "name": "stdout",
     "output_type": "stream",
     "text": [
      "📦 Model Logistic Regression loaded from: /home/mfourier/ufc-predictor/models/lr_best.pkl\n",
      "📦 Model Random Forest loaded from: /home/mfourier/ufc-predictor/models/rf_best.pkl\n",
      "📦 Model Support Vector Machine loaded from: /home/mfourier/ufc-predictor/models/svm_best.pkl\n",
      "📦 Model K-Nearest Neighbors loaded from: /home/mfourier/ufc-predictor/models/knn_best.pkl\n",
      "📦 Model AdaBoost loaded from: /home/mfourier/ufc-predictor/models/ab_best.pkl\n",
      "📦 Model Naive Bayes loaded from: /home/mfourier/ufc-predictor/models/nb_best.pkl\n",
      "📦 Model Extra Trees loaded from: /home/mfourier/ufc-predictor/models/et_best.pkl\n",
      "📦 Model Gradient Boosting loaded from: /home/mfourier/ufc-predictor/models/gb_best.pkl\n",
      "📦 Model Quadratic Discriminant Analysis loaded from: /home/mfourier/ufc-predictor/models/qda_best.pkl\n"
     ]
    }
   ],
   "source": [
    "model_list = [UFCModel(model=load_model(name, verbose=True)) for name in pretty_model_name]"
   ]
  },
  {
   "cell_type": "markdown",
   "id": "bea2d1cc-516e-4934-ac57-dbd7e42db341",
   "metadata": {},
   "source": [
    "<div style=\"text-align: center;\">\n",
    "  🔹 <img src=\"../img/ufc_logo.png\" width=\"50\" /> 🔹\n",
    "</div>"
   ]
  },
  {
   "cell_type": "markdown",
   "id": "df4c1712-e5f2-46c2-b41d-130f39b0fef4",
   "metadata": {},
   "source": [
    "## 4. Evaluate Models"
   ]
  },
  {
   "cell_type": "code",
   "execution_count": 5,
   "id": "1b2c513c-2029-4f1c-9a80-7c6e4e3e4161",
   "metadata": {},
   "outputs": [],
   "source": [
    "for model in model_list:\n",
    "    model.metrics = evaluate_metrics(model, ufc_test)\n",
    "    model.cm = evaluate_cm(model, ufc_test)"
   ]
  },
  {
   "cell_type": "markdown",
   "id": "7aabc4e5-2c2d-43ec-acfb-cf3c148a2e6e",
   "metadata": {},
   "source": [
    "## 5. Check Models"
   ]
  },
  {
   "cell_type": "markdown",
   "id": "9324291c-bb0b-4008-bdc7-62c2fa42278f",
   "metadata": {},
   "source": [
    "### Metrics Comparison"
   ]
  },
  {
   "cell_type": "code",
   "execution_count": 6,
   "id": "70f0fa52-2f28-4397-a1b5-98c994ddcfe7",
   "metadata": {
    "scrolled": true
   },
   "outputs": [
    {
     "name": "stderr",
     "output_type": "stream",
     "text": [
      "INFO:utils.metrics:Starting comparison of models...\n",
      "INFO:utils.metrics:Evaluating: Logistic Regression\n",
      "INFO:utils.metrics:Evaluating: Random Forest\n",
      "INFO:utils.metrics:Evaluating: Support Vector Machine\n",
      "INFO:utils.metrics:Evaluating: K-Nearest Neighbors\n",
      "INFO:utils.metrics:Evaluating: AdaBoost\n",
      "INFO:utils.metrics:Evaluating: Naive Bayes\n",
      "INFO:utils.metrics:Evaluating: Extra Trees\n",
      "INFO:utils.metrics:Evaluating: Gradient Boosting\n",
      "INFO:utils.metrics:Evaluating: Quadratic Discriminant Analysis\n"
     ]
    },
    {
     "name": "stdout",
     "output_type": "stream",
     "text": [
      "\u001b[92m╔════════════════════════╗\n",
      "║  Comparison Completed  ║\n",
      "╚════════════════════════╝\u001b[0m\n"
     ]
    }
   ],
   "source": [
    "model_metrics = compare_metrics(model_list)"
   ]
  },
  {
   "cell_type": "code",
   "execution_count": 7,
   "id": "e5d8e111-2f33-40f3-8d05-5b2ed28d84dd",
   "metadata": {},
   "outputs": [
    {
     "data": {
      "text/html": [
       "<div>\n",
       "<style scoped>\n",
       "    .dataframe tbody tr th:only-of-type {\n",
       "        vertical-align: middle;\n",
       "    }\n",
       "\n",
       "    .dataframe tbody tr th {\n",
       "        vertical-align: top;\n",
       "    }\n",
       "\n",
       "    .dataframe thead th {\n",
       "        text-align: right;\n",
       "    }\n",
       "</style>\n",
       "<table border=\"1\" class=\"dataframe\">\n",
       "  <thead>\n",
       "    <tr style=\"text-align: right;\">\n",
       "      <th></th>\n",
       "      <th>Accuracy</th>\n",
       "      <th>Precision</th>\n",
       "      <th>Recall</th>\n",
       "      <th>F1 Score</th>\n",
       "      <th>ROC AUC</th>\n",
       "      <th>Brier Score</th>\n",
       "    </tr>\n",
       "    <tr>\n",
       "      <th>Model</th>\n",
       "      <th></th>\n",
       "      <th></th>\n",
       "      <th></th>\n",
       "      <th></th>\n",
       "      <th></th>\n",
       "      <th></th>\n",
       "    </tr>\n",
       "  </thead>\n",
       "  <tbody>\n",
       "    <tr>\n",
       "      <th>Logistic Regression</th>\n",
       "      <td>0.6280</td>\n",
       "      <td>0.6113</td>\n",
       "      <td>0.3145</td>\n",
       "      <td>0.4154</td>\n",
       "      <td>0.6670</td>\n",
       "      <td>0.2231</td>\n",
       "    </tr>\n",
       "    <tr>\n",
       "      <th>Random Forest</th>\n",
       "      <td>0.6134</td>\n",
       "      <td>0.6038</td>\n",
       "      <td>0.2327</td>\n",
       "      <td>0.3360</td>\n",
       "      <td>0.6316</td>\n",
       "      <td>0.2311</td>\n",
       "    </tr>\n",
       "    <tr>\n",
       "      <th>Support Vector Machine</th>\n",
       "      <td>0.6104</td>\n",
       "      <td>0.5962</td>\n",
       "      <td>0.2255</td>\n",
       "      <td>0.3272</td>\n",
       "      <td>0.6249</td>\n",
       "      <td>0.2319</td>\n",
       "    </tr>\n",
       "    <tr>\n",
       "      <th>K-Nearest Neighbors</th>\n",
       "      <td>0.5462</td>\n",
       "      <td>0.4522</td>\n",
       "      <td>0.3782</td>\n",
       "      <td>0.4119</td>\n",
       "      <td>0.5515</td>\n",
       "      <td>0.2663</td>\n",
       "    </tr>\n",
       "    <tr>\n",
       "      <th>AdaBoost</th>\n",
       "      <td>0.6073</td>\n",
       "      <td>0.5559</td>\n",
       "      <td>0.3255</td>\n",
       "      <td>0.4106</td>\n",
       "      <td>0.6327</td>\n",
       "      <td>0.2344</td>\n",
       "    </tr>\n",
       "    <tr>\n",
       "      <th>Naive Bayes</th>\n",
       "      <td>0.5982</td>\n",
       "      <td>0.5276</td>\n",
       "      <td>0.4164</td>\n",
       "      <td>0.4654</td>\n",
       "      <td>0.5829</td>\n",
       "      <td>0.2743</td>\n",
       "    </tr>\n",
       "    <tr>\n",
       "      <th>Extra Trees</th>\n",
       "      <td>0.5943</td>\n",
       "      <td>0.5487</td>\n",
       "      <td>0.1945</td>\n",
       "      <td>0.2872</td>\n",
       "      <td>0.6009</td>\n",
       "      <td>0.2350</td>\n",
       "    </tr>\n",
       "    <tr>\n",
       "      <th>Gradient Boosting</th>\n",
       "      <td>0.6173</td>\n",
       "      <td>0.6140</td>\n",
       "      <td>0.2400</td>\n",
       "      <td>0.3451</td>\n",
       "      <td>0.6319</td>\n",
       "      <td>0.2311</td>\n",
       "    </tr>\n",
       "    <tr>\n",
       "      <th>Quadratic Discriminant Analysis</th>\n",
       "      <td>0.5913</td>\n",
       "      <td>0.5170</td>\n",
       "      <td>0.4145</td>\n",
       "      <td>0.4601</td>\n",
       "      <td>0.6070</td>\n",
       "      <td>0.2453</td>\n",
       "    </tr>\n",
       "  </tbody>\n",
       "</table>\n",
       "</div>"
      ],
      "text/plain": [
       "                                 Accuracy  Precision  Recall  F1 Score  \\\n",
       "Model                                                                    \n",
       "Logistic Regression                0.6280     0.6113  0.3145    0.4154   \n",
       "Random Forest                      0.6134     0.6038  0.2327    0.3360   \n",
       "Support Vector Machine             0.6104     0.5962  0.2255    0.3272   \n",
       "K-Nearest Neighbors                0.5462     0.4522  0.3782    0.4119   \n",
       "AdaBoost                           0.6073     0.5559  0.3255    0.4106   \n",
       "Naive Bayes                        0.5982     0.5276  0.4164    0.4654   \n",
       "Extra Trees                        0.5943     0.5487  0.1945    0.2872   \n",
       "Gradient Boosting                  0.6173     0.6140  0.2400    0.3451   \n",
       "Quadratic Discriminant Analysis    0.5913     0.5170  0.4145    0.4601   \n",
       "\n",
       "                                 ROC AUC  Brier Score  \n",
       "Model                                                  \n",
       "Logistic Regression               0.6670       0.2231  \n",
       "Random Forest                     0.6316       0.2311  \n",
       "Support Vector Machine            0.6249       0.2319  \n",
       "K-Nearest Neighbors               0.5515       0.2663  \n",
       "AdaBoost                          0.6327       0.2344  \n",
       "Naive Bayes                       0.5829       0.2743  \n",
       "Extra Trees                       0.6009       0.2350  \n",
       "Gradient Boosting                 0.6319       0.2311  \n",
       "Quadratic Discriminant Analysis   0.6070       0.2453  "
      ]
     },
     "metadata": {},
     "output_type": "display_data"
    }
   ],
   "source": [
    "display(model_metrics)"
   ]
  },
  {
   "cell_type": "markdown",
   "id": "2b8c505e-fc40-4873-9867-1efaa94f9df3",
   "metadata": {},
   "source": [
    "### Best Model per Metric"
   ]
  },
  {
   "cell_type": "code",
   "execution_count": 8,
   "id": "75cc161c-5b9f-4c1f-b57d-42770870f973",
   "metadata": {},
   "outputs": [
    {
     "name": "stderr",
     "output_type": "stream",
     "text": [
      "INFO:utils.metrics:Best model for Accuracy: Logistic Regression (0.6280)\n",
      "INFO:utils.metrics:Best model for Precision: Gradient Boosting (0.6140)\n",
      "INFO:utils.metrics:Best model for Recall: Naive Bayes (0.4164)\n",
      "INFO:utils.metrics:Best model for F1 Score: Naive Bayes (0.4654)\n",
      "INFO:utils.metrics:Best model for ROC AUC: Logistic Regression (0.6670)\n",
      "INFO:utils.metrics:Best model for Brier Score: Naive Bayes (0.2743)\n"
     ]
    },
    {
     "data": {
      "text/html": [
       "<div>\n",
       "<style scoped>\n",
       "    .dataframe tbody tr th:only-of-type {\n",
       "        vertical-align: middle;\n",
       "    }\n",
       "\n",
       "    .dataframe tbody tr th {\n",
       "        vertical-align: top;\n",
       "    }\n",
       "\n",
       "    .dataframe thead th {\n",
       "        text-align: right;\n",
       "    }\n",
       "</style>\n",
       "<table border=\"1\" class=\"dataframe\">\n",
       "  <thead>\n",
       "    <tr style=\"text-align: right;\">\n",
       "      <th></th>\n",
       "      <th>Metric</th>\n",
       "      <th>Best Model</th>\n",
       "      <th>Value</th>\n",
       "    </tr>\n",
       "  </thead>\n",
       "  <tbody>\n",
       "    <tr>\n",
       "      <th>0</th>\n",
       "      <td>Accuracy</td>\n",
       "      <td>Logistic Regression</td>\n",
       "      <td>0.6280</td>\n",
       "    </tr>\n",
       "    <tr>\n",
       "      <th>1</th>\n",
       "      <td>Precision</td>\n",
       "      <td>Gradient Boosting</td>\n",
       "      <td>0.6140</td>\n",
       "    </tr>\n",
       "    <tr>\n",
       "      <th>2</th>\n",
       "      <td>Recall</td>\n",
       "      <td>Naive Bayes</td>\n",
       "      <td>0.4164</td>\n",
       "    </tr>\n",
       "    <tr>\n",
       "      <th>3</th>\n",
       "      <td>F1 Score</td>\n",
       "      <td>Naive Bayes</td>\n",
       "      <td>0.4654</td>\n",
       "    </tr>\n",
       "    <tr>\n",
       "      <th>4</th>\n",
       "      <td>ROC AUC</td>\n",
       "      <td>Logistic Regression</td>\n",
       "      <td>0.6670</td>\n",
       "    </tr>\n",
       "    <tr>\n",
       "      <th>5</th>\n",
       "      <td>Brier Score</td>\n",
       "      <td>Naive Bayes</td>\n",
       "      <td>0.2743</td>\n",
       "    </tr>\n",
       "  </tbody>\n",
       "</table>\n",
       "</div>"
      ],
      "text/plain": [
       "        Metric           Best Model   Value\n",
       "0     Accuracy  Logistic Regression  0.6280\n",
       "1    Precision    Gradient Boosting  0.6140\n",
       "2       Recall          Naive Bayes  0.4164\n",
       "3     F1 Score          Naive Bayes  0.4654\n",
       "4      ROC AUC  Logistic Regression  0.6670\n",
       "5  Brier Score          Naive Bayes  0.2743"
      ]
     },
     "metadata": {},
     "output_type": "display_data"
    }
   ],
   "source": [
    "best_models_df = best_model_per_metric(model_metrics)\n",
    "display(best_models_df)"
   ]
  },
  {
   "cell_type": "markdown",
   "id": "46476ea4-0acc-4694-bfca-8fd9a933e6a0",
   "metadata": {},
   "source": [
    "### Model Performance Comparison"
   ]
  },
  {
   "cell_type": "code",
   "execution_count": 13,
   "id": "57a77faf-fd0e-431c-8f25-2068b6593029",
   "metadata": {},
   "outputs": [
    {
     "data": {
      "image/png": "[encoded data removed]",
      "text/plain": [
       "<Figure size 1200x600 with 1 Axes>"
      ]
     },
     "metadata": {},
     "output_type": "display_data"
    }
   ],
   "source": [
    "# Bar-plot per metric\n",
    "model_metrics.plot(kind='bar', figsize=(12,6), title='Model Performance Comparison')\n",
    "plt.ylabel('Score')\n",
    "plt.xticks(rotation=45)\n",
    "plt.grid(True)\n",
    "plt.tight_layout()\n",
    "plt.show()"
   ]
  },
  {
   "cell_type": "markdown",
   "id": "8284d607-56a8-4661-bb53-cd417308f6cc",
   "metadata": {
    "editable": true,
    "slideshow": {
     "slide_type": ""
    },
    "tags": []
   },
   "source": [
    "<div style=\"text-align: center;\">\n",
    "     <img src=\"../img/ufc_logo.png\" width=\"800\" /> \n",
    "</div>"
   ]
  },
  {
   "cell_type": "code",
   "execution_count": null,
   "id": "3fa061b9-000d-42de-bd97-902375d91fd2",
   "metadata": {},
   "outputs": [],
   "source": []
  }
 ],
 "metadata": {
  "kernelspec": {
   "display_name": "Python 3 (ipykernel)",
   "language": "python",
   "name": "python3"
  },
  "language_info": {
   "codemirror_mode": {
    "name": "ipython",
    "version": 3
   },
   "file_extension": ".py",
   "mimetype": "text/x-python",
   "name": "python",
   "nbconvert_exporter": "python",
   "pygments_lexer": "ipython3",
   "version": "3.13.2"
  }
 },
 "nbformat": 4,
 "nbformat_minor": 5
}
