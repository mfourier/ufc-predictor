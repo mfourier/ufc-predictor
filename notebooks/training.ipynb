{
 "cells": [
  {
   "cell_type": "markdown",
   "id": "72c1ddc5-bfcd-49f3-8081-58b4fe80d66e",
   "metadata": {},
   "source": [
    "# 🔹UFC Model Training"
   ]
  },
  {
   "cell_type": "markdown",
   "id": "ed2a08a5-6ac5-4f20-8321-87675db3dab3",
   "metadata": {},
   "source": [
    "## 1. Import Libraries and Setup Environment"
   ]
  },
  {
   "cell_type": "code",
   "execution_count": 1,
   "id": "d8f8b9d8",
   "metadata": {},
   "outputs": [],
   "source": [
    "# Import necessary libraries\n",
    "import os\n",
    "import sys\n",
    "import pandas as pd\n",
    "\n",
    "# Get the current working directory\n",
    "current_dir = os.getcwd()\n",
    "\n",
    "# Navigate to the project root\n",
    "project_root = os.path.abspath(os.path.join(current_dir, '..'))\n",
    "\n",
    "# Import from /src\n",
    "sys.path.append(os.path.join(project_root, 'src'))\n",
    "from utils.metrics import *\n",
    "from models.model_factory import *\n",
    "from utils.io_model import *\n",
    "from utils.helpers import *"
   ]
  },
  {
   "cell_type": "markdown",
   "id": "e0a512df",
   "metadata": {},
   "source": [
    "## 2. Load Data"
   ]
  },
  {
   "cell_type": "code",
   "execution_count": 2,
   "id": "efddbda3",
   "metadata": {},
   "outputs": [
    {
     "ename": "NameError",
     "evalue": "name 'prepare_data' is not defined",
     "output_type": "error",
     "traceback": [
      "\u001b[0;31m---------------------------------------------------------------------------\u001b[0m",
      "\u001b[0;31mNameError\u001b[0m                                 Traceback (most recent call last)",
      "Cell \u001b[0;32mIn[2], line 6\u001b[0m\n\u001b[1;32m      4\u001b[0m \u001b[38;5;66;03m# Load the CSV into a DataFrame\u001b[39;00m\n\u001b[1;32m      5\u001b[0m ufc_data \u001b[38;5;241m=\u001b[39m pd\u001b[38;5;241m.\u001b[39mread_csv(file_path)\n\u001b[0;32m----> 6\u001b[0m X_train, X_test, y_train, y_test \u001b[38;5;241m=\u001b[39m prepare_data(ufc_data)\n\u001b[1;32m      7\u001b[0m \u001b[38;5;28mprint\u001b[39m(\u001b[38;5;124mf\u001b[39m\u001b[38;5;124m\"\u001b[39m\u001b[38;5;124mData successfully loaded: \u001b[39m\u001b[38;5;132;01m{\u001b[39;00mufc_data\u001b[38;5;241m.\u001b[39mshape[\u001b[38;5;241m0\u001b[39m]\u001b[38;5;132;01m}\u001b[39;00m\u001b[38;5;124m rows, \u001b[39m\u001b[38;5;132;01m{\u001b[39;00mufc_data\u001b[38;5;241m.\u001b[39mshape[\u001b[38;5;241m1\u001b[39m]\u001b[38;5;132;01m}\u001b[39;00m\u001b[38;5;124m columns.\u001b[39m\u001b[38;5;124m\"\u001b[39m)\n",
      "\u001b[0;31mNameError\u001b[0m: name 'prepare_data' is not defined"
     ]
    }
   ],
   "source": [
    "# Define the path to the CSV file\n",
    "file_path = os.path.join(project_root, 'data', 'processed', 'ufc_processed.csv')\n",
    "\n",
    "# Load the CSV into a DataFrame\n",
    "ufc_data = pd.read_csv(file_path)\n",
    "\n",
    "pd.concat([X_train_scaled, y_train], axis=1).reset_index(drop=True)\n",
    "\n",
    "print(f\"Data successfully loaded: {ufc_data.shape[0]} rows, {ufc_data.shape[1]} columns.\")"
   ]
  },
  {
   "cell_type": "markdown",
   "id": "ca7322b2",
   "metadata": {},
   "source": [
    "## 3. 🔧 Hyperparameters Tuning 🔧"
   ]
  },
  {
   "cell_type": "code",
   "execution_count": 4,
   "id": "1fc2cbd6",
   "metadata": {},
   "outputs": [],
   "source": [
    "from sklearn.svm import SVC\n",
    "from sklearn.ensemble import RandomForestClassifier, AdaBoostClassifier\n",
    "from sklearn.linear_model import LogisticRegression\n",
    "from sklearn.neighbors import KNeighborsClassifier\n",
    "from sklearn.naive_bayes import GaussianNB\n",
    "from sklearn.model_selection import GridSearchCV\n",
    "from sklearn.metrics import f1_score\n",
    "\n",
    "hyperparameter_tuning = True\n",
    "\n",
    "if hyperparameter_tuning:\n",
    "    model_params = {\n",
    "    \"svm\": (\n",
    "        SVC(probability=True),\n",
    "        {'C': [0.1, 0.01], 'kernel': ['linear', 'rbf'], 'gamma': ['scale']}\n",
    "    ),\n",
    "    \"random_forest\": (\n",
    "        RandomForestClassifier(),\n",
    "        {'n_estimators': [50, 100, 200], 'max_depth': [5, 10, 20]}\n",
    "    ),\n",
    "    \"logistic_regression\": (\n",
    "        LogisticRegression(),\n",
    "        {'C': [0.001, 0.01, 0.1, 1, 10], 'solver': ['liblinear', 'lbfgs']}\n",
    "    ),\n",
    "    \"knn\": (\n",
    "        KNeighborsClassifier(),\n",
    "        {'n_neighbors': [3, 5, 7, 10], 'weights': ['uniform', 'distance'], 'metric': ['euclidean', 'manhattan']}\n",
    "    ),\n",
    "    \"adaboost\": (\n",
    "        AdaBoostClassifier(),\n",
    "        {'n_estimators': [50, 100, 200], 'learning_rate': [0.01, 0.1, 1.0]}\n",
    "    ),\n",
    "    \"naive_bayes\": (\n",
    "        GaussianNB(),\n",
    "        {'var_smoothing': [1e-9, 1e-8, 1e-7]}\n",
    "    ) }\n",
    "else:\n",
    "    model_params = None # Default Settings"
   ]
  },
  {
   "cell_type": "markdown",
   "id": "443a7063",
   "metadata": {},
   "source": [
    "## 4. 🔹 UFC Machine Learning Training"
   ]
  },
  {
   "cell_type": "markdown",
   "id": "1eaa4135",
   "metadata": {},
   "source": [
    "### 3.2 KNN Model Training"
   ]
  },
  {
   "cell_type": "markdown",
   "id": "e841c166-6b19-4bed-b779-4ed42d23549f",
   "metadata": {},
   "source": [
    "#### 🚀 KNN Training "
   ]
  },
  {
   "cell_type": "code",
   "execution_count": 5,
   "id": "9cbf229d",
   "metadata": {
    "scrolled": true
   },
   "outputs": [
    {
     "ename": "NameError",
     "evalue": "name 'data' is not defined",
     "output_type": "error",
     "traceback": [
      "\u001b[0;31m---------------------------------------------------------------------------\u001b[0m",
      "\u001b[0;31mNameError\u001b[0m                                 Traceback (most recent call last)",
      "Cell \u001b[0;32mIn[5], line 2\u001b[0m\n\u001b[1;32m      1\u001b[0m model_name \u001b[38;5;241m=\u001b[39m \u001b[38;5;124m'\u001b[39m\u001b[38;5;124mknn\u001b[39m\u001b[38;5;124m'\u001b[39m\n\u001b[0;32m----> 2\u001b[0m knn_model \u001b[38;5;241m=\u001b[39m model_factory(model_name, ufc_data, model_params)\n",
      "File \u001b[0;32m~/ufc-predictor/src/models/model_factory.py:103\u001b[0m, in \u001b[0;36mmodel_factory\u001b[0;34m(model_name, data_train, model_params)\u001b[0m\n\u001b[1;32m     89\u001b[0m \u001b[38;5;28;01mdef\u001b[39;00m \u001b[38;5;21mmodel_factory\u001b[39m(model_name, data_train, model_params\u001b[38;5;241m=\u001b[39m\u001b[38;5;28;01mNone\u001b[39;00m):\n\u001b[1;32m     90\u001b[0m \u001b[38;5;250m    \u001b[39m\u001b[38;5;124;03m\"\"\"\u001b[39;00m\n\u001b[1;32m     91\u001b[0m \u001b[38;5;124;03m    Selects and builds a model based on the specified model name and training data.\u001b[39;00m\n\u001b[1;32m     92\u001b[0m \u001b[38;5;124;03m    \u001b[39;00m\n\u001b[0;32m   (...)\u001b[0m\n\u001b[1;32m    101\u001b[0m \u001b[38;5;124;03m        ValueError: If the 'label' column is missing from the training data.\u001b[39;00m\n\u001b[1;32m    102\u001b[0m \u001b[38;5;124;03m    \"\"\"\u001b[39;00m\n\u001b[0;32m--> 103\u001b[0m     \u001b[38;5;28;01mif\u001b[39;00m \u001b[38;5;124m'\u001b[39m\u001b[38;5;124mlabel\u001b[39m\u001b[38;5;124m'\u001b[39m \u001b[38;5;129;01mnot\u001b[39;00m \u001b[38;5;129;01min\u001b[39;00m data\u001b[38;5;241m.\u001b[39mcolumns:\n\u001b[1;32m    104\u001b[0m         \u001b[38;5;28;01mraise\u001b[39;00m \u001b[38;5;167;01mValueError\u001b[39;00m(\u001b[38;5;124m\"\u001b[39m\u001b[38;5;124mThe dataframe must contain a \u001b[39m\u001b[38;5;124m'\u001b[39m\u001b[38;5;124mlabel\u001b[39m\u001b[38;5;124m'\u001b[39m\u001b[38;5;124m column.\u001b[39m\u001b[38;5;124m\"\u001b[39m)\n\u001b[1;32m    106\u001b[0m     \u001b[38;5;66;03m# Prepare the pair (X_train, y_train) to train the model 'model_name'\u001b[39;00m\n",
      "\u001b[0;31mNameError\u001b[0m: name 'data' is not defined"
     ]
    }
   ],
   "source": [
    "model_name = 'knn'\n",
    "knn_model = model_factory(model_name, ufc_data, model_params)"
   ]
  },
  {
   "cell_type": "markdown",
   "id": "49256938-9b41-494a-8b66-7a4663eb0147",
   "metadata": {},
   "source": [
    "#### KNN Metrics"
   ]
  },
  {
   "cell_type": "code",
   "execution_count": null,
   "id": "70e199a0-883a-4db8-a0f9-ad93364a3120",
   "metadata": {},
   "outputs": [],
   "source": [
    "knn_metrics = evaluate_model(knn_model, ufc_data)"
   ]
  },
  {
   "cell_type": "markdown",
   "id": "8a89ba7d",
   "metadata": {},
   "source": [
    "### 3.3 SVM Model "
   ]
  },
  {
   "cell_type": "markdown",
   "id": "90c60acc-9fa6-47dd-9e2f-dfa89dc3a74b",
   "metadata": {},
   "source": [
    "#### 🚀 SVM Training "
   ]
  },
  {
   "cell_type": "code",
   "execution_count": null,
   "id": "6f3ab386",
   "metadata": {
    "scrolled": true
   },
   "outputs": [],
   "source": [
    "model_name = 'svm'\n",
    "svm_model = model_factory(model_name, ufc_data, model_params)"
   ]
  },
  {
   "cell_type": "markdown",
   "id": "effac092-0e21-4b2b-aa53-9121d942fa2e",
   "metadata": {},
   "source": [
    "#### SVM Metrics"
   ]
  },
  {
   "cell_type": "code",
   "execution_count": null,
   "id": "5ea4ee92-a5a7-480f-8c25-634fb16827e4",
   "metadata": {
    "scrolled": true
   },
   "outputs": [],
   "source": [
    "svm_metrics = evaluate_model(svm_model, ufc_data)"
   ]
  },
  {
   "cell_type": "markdown",
   "id": "03b7bf14",
   "metadata": {},
   "source": [
    "### 3.4 Logistic Regression Model"
   ]
  },
  {
   "cell_type": "markdown",
   "id": "26c55350-bfcf-4457-8462-a4daf948ff27",
   "metadata": {},
   "source": [
    "#### 🚀 Logistic Regression Training"
   ]
  },
  {
   "cell_type": "code",
   "execution_count": null,
   "id": "87b0b4ad-caad-4c7e-aad6-a6c5772f30c3",
   "metadata": {},
   "outputs": [],
   "source": [
    "model_name = 'logistic_regression'\n",
    "lr_model = model_factory(model_name, ufc_data, model_params)"
   ]
  },
  {
   "cell_type": "markdown",
   "id": "180bfb98-cc03-450e-8189-acb93b33edbc",
   "metadata": {},
   "source": [
    "#### Logistic Regression Metrics"
   ]
  },
  {
   "cell_type": "code",
   "execution_count": null,
   "id": "50d31e94-d6b8-4348-91e4-f36888b29f36",
   "metadata": {},
   "outputs": [],
   "source": [
    "lr_metrics = evaluate_model(lr_model, ufc_data)"
   ]
  },
  {
   "cell_type": "markdown",
   "id": "a9e4e2e3",
   "metadata": {},
   "source": [
    "### 3.5 Random Forest Model"
   ]
  },
  {
   "cell_type": "markdown",
   "id": "b3ecd028-62af-4a56-badd-57f299aac14e",
   "metadata": {},
   "source": [
    "#### 🚀 Random Forest Training"
   ]
  },
  {
   "cell_type": "code",
   "execution_count": null,
   "id": "054947b3",
   "metadata": {},
   "outputs": [],
   "source": [
    "model_name = 'random_forest'\n",
    "rf_model = model_factory(model_name, ufc_data)"
   ]
  },
  {
   "cell_type": "markdown",
   "id": "653e37f0-da84-4b55-82b7-5d4c4920587d",
   "metadata": {},
   "source": [
    "#### View Random Forest Model"
   ]
  },
  {
   "cell_type": "code",
   "execution_count": null,
   "id": "5e0783b7-2a4c-4bc8-a275-04ffb42752c4",
   "metadata": {},
   "outputs": [],
   "source": [
    "rf_metrics = evaluate_model(rf_model, ufc_data)"
   ]
  },
  {
   "cell_type": "markdown",
   "id": "c64482a9",
   "metadata": {},
   "source": [
    "### 3.6 AdaBoost Model"
   ]
  },
  {
   "cell_type": "markdown",
   "id": "1d5f617e-560d-4847-bc2a-8661f8e9fa67",
   "metadata": {},
   "source": [
    "#### 🚀 AdaBoost Training"
   ]
  },
  {
   "cell_type": "code",
   "execution_count": null,
   "id": "44a936b9",
   "metadata": {},
   "outputs": [],
   "source": [
    "model_name = 'adaboost'\n",
    "adaboost_model = model_factory(model_name, ufc_data)"
   ]
  },
  {
   "cell_type": "markdown",
   "id": "81d48c7a-6d82-4b28-91ec-7f8b61c1bdc8",
   "metadata": {},
   "source": [
    "#### AdaBoost Metrics"
   ]
  },
  {
   "cell_type": "code",
   "execution_count": null,
   "id": "f185bc1b-2540-4cc6-abaf-e2f711c494ad",
   "metadata": {},
   "outputs": [],
   "source": [
    "adaboost_metrics = evaluate_model(adaboost_model, ufc_data)"
   ]
  },
  {
   "cell_type": "markdown",
   "id": "0f506d2e",
   "metadata": {},
   "source": [
    "### 3.7 Naive Bayes Model"
   ]
  },
  {
   "cell_type": "markdown",
   "id": "05b60712-0ef6-4ce5-b64d-7039ac1240bc",
   "metadata": {},
   "source": [
    "#### 🚀 Naive Bayes Training"
   ]
  },
  {
   "cell_type": "code",
   "execution_count": null,
   "id": "309d3291",
   "metadata": {},
   "outputs": [],
   "source": [
    "model_name = 'naive_bayes'\n",
    "nb_model = model_factory(model_name, ufc_data)"
   ]
  },
  {
   "cell_type": "markdown",
   "id": "ece1e78a-d149-4790-ac78-96eaffdcff69",
   "metadata": {},
   "source": [
    "#### Naive Bayes Metrics"
   ]
  },
  {
   "cell_type": "code",
   "execution_count": null,
   "id": "df22375c-77c9-4410-b0e0-fb93c6e67f07",
   "metadata": {},
   "outputs": [],
   "source": [
    "nb_metrics = evaluate_model(nb_model, ufc_data)"
   ]
  },
  {
   "cell_type": "markdown",
   "id": "6c98cf48-aef2-4c71-8eb4-e322a367701b",
   "metadata": {},
   "source": [
    "## 4. Save"
   ]
  },
  {
   "cell_type": "code",
   "execution_count": null,
   "id": "45203ea2-9911-4204-b33b-fce3bfac1839",
   "metadata": {},
   "outputs": [],
   "source": [
    "save_model(knn_model, name='knn_best')"
   ]
  },
  {
   "cell_type": "code",
   "execution_count": null,
   "id": "32cac345-1f0e-40f1-8f84-765535c040e0",
   "metadata": {},
   "outputs": [],
   "source": [
    "save_model(svm_model, name='svm_best')"
   ]
  },
  {
   "cell_type": "code",
   "execution_count": null,
   "id": "a1ecfa01-1d2e-4c1e-9650-9c55e1af159f",
   "metadata": {},
   "outputs": [],
   "source": [
    "save_model(lr_model, name='lr_best')"
   ]
  },
  {
   "cell_type": "code",
   "execution_count": null,
   "id": "77cdf2a0-80ca-447a-8696-fbab8ab6edc0",
   "metadata": {},
   "outputs": [],
   "source": [
    "save_model(rf_model, name='rf_best')"
   ]
  },
  {
   "cell_type": "code",
   "execution_count": null,
   "id": "745a3062-5c89-4b9b-9232-27b78266c2a6",
   "metadata": {},
   "outputs": [],
   "source": [
    "save_model(adaboost_model, name='adaboost_best')"
   ]
  },
  {
   "cell_type": "code",
   "execution_count": null,
   "id": "fb1ff12a-177e-4d17-9c77-11ad70e860b3",
   "metadata": {},
   "outputs": [],
   "source": [
    "save_model(nb_model, name='nb_best')"
   ]
  }
 ],
 "metadata": {
  "kernelspec": {
   "display_name": "Python 3 (ipykernel)",
   "language": "python",
   "name": "python3"
  },
  "language_info": {
   "codemirror_mode": {
    "name": "ipython",
    "version": 3
   },
   "file_extension": ".py",
   "mimetype": "text/x-python",
   "name": "python",
   "nbconvert_exporter": "python",
   "pygments_lexer": "ipython3",
   "version": "3.13.2"
  }
 },
 "nbformat": 4,
 "nbformat_minor": 5
}
