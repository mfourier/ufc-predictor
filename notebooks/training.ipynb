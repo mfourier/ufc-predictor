{
 "cells": [
  {
   "cell_type": "markdown",
   "id": "72c1ddc5-bfcd-49f3-8081-58b4fe80d66e",
   "metadata": {},
   "source": [
    "# 🔹UFC Model Training"
   ]
  },
  {
   "cell_type": "markdown",
   "id": "ed2a08a5-6ac5-4f20-8321-87675db3dab3",
   "metadata": {},
   "source": [
    "## 1. Import Libraries and Setup Environment"
   ]
  },
  {
   "cell_type": "code",
   "execution_count": 1,
   "id": "d8f8b9d8",
   "metadata": {
    "scrolled": true
   },
   "outputs": [],
   "source": [
    "# Import necessary libraries\n",
    "import os\n",
    "import sys\n",
    "import pandas as pd\n",
    "\n",
    "# Get the current working directory\n",
    "current_dir = os.getcwd()\n",
    "\n",
    "# Navigate to the project root\n",
    "project_root = os.path.abspath(os.path.join(current_dir, '..'))\n",
    "\n",
    "# Import from /src\n",
    "sys.path.append(os.path.join(project_root, 'src'))\n",
    "from utils.metrics import *\n",
    "from models.model_factory import *\n",
    "from utils.io_model import *\n",
    "from utils.helpers import *\n",
    "\n",
    "# Define the path to the CSV file\n",
    "train_path = os.path.join(project_root, 'data', 'processed', 'ufc_train.csv')\n",
    "test_path = os.path.join(project_root, 'data', 'processed', 'ufc_test.csv')"
   ]
  },
  {
   "cell_type": "markdown",
   "id": "e0a512df",
   "metadata": {},
   "source": [
    "## 2. Load Data"
   ]
  },
  {
   "cell_type": "code",
   "execution_count": 2,
   "id": "38b113b5-5994-4df1-8a22-c75d3fe75147",
   "metadata": {},
   "outputs": [
    {
     "name": "stdout",
     "output_type": "stream",
     "text": [
      "\u001b[92m╔═════════════════════════════════════════════════════════════╗\n",
      "║  Data Training successfully loaded: 5232 rows, 47 columns.  ║\n",
      "╚═════════════════════════════════════════════════════════════╝\u001b[0m\n"
     ]
    }
   ],
   "source": [
    "# Load the CSV into a DataFrame\n",
    "ufc_train = pd.read_csv(train_path)\n",
    "print_header(f\"Data Training successfully loaded: {ufc_train.shape[0]} rows, {ufc_train.shape[1]} columns.\", color = 'bright_green')"
   ]
  },
  {
   "cell_type": "code",
   "execution_count": 3,
   "id": "0e69019c-8101-4dce-b860-eb990c93a8f8",
   "metadata": {},
   "outputs": [
    {
     "name": "stdout",
     "output_type": "stream",
     "text": [
      "\u001b[92m╔════════════════════════════════════════════════════════════╗\n",
      "║  Data Testing successfully loaded: 1309 rows, 47 columns.  ║\n",
      "╚════════════════════════════════════════════════════════════╝\u001b[0m\n"
     ]
    }
   ],
   "source": [
    "ufc_test = pd.read_csv(test_path)\n",
    "print_header(f\"Data Testing successfully loaded: {ufc_test.shape[0]} rows, {ufc_test.shape[1]} columns.\", color = 'bright_green')"
   ]
  },
  {
   "cell_type": "markdown",
   "id": "ca7322b2",
   "metadata": {},
   "source": [
    "## 3. 🔧 Hyperparameters Tuning 🔧"
   ]
  },
  {
   "cell_type": "code",
   "execution_count": 4,
   "id": "1fc2cbd6",
   "metadata": {},
   "outputs": [
    {
     "name": "stdout",
     "output_type": "stream",
     "text": [
      "\u001b[94m╔═══════════════════════════════════════╗\n",
      "║  Hyperparameters Tuning is Activated  ║\n",
      "╚═══════════════════════════════════════╝\u001b[0m\n"
     ]
    }
   ],
   "source": [
    "from sklearn.svm import SVC\n",
    "from sklearn.ensemble import RandomForestClassifier, AdaBoostClassifier\n",
    "from sklearn.linear_model import LogisticRegression\n",
    "from sklearn.neighbors import KNeighborsClassifier\n",
    "from sklearn.naive_bayes import GaussianNB\n",
    "from sklearn.model_selection import GridSearchCV\n",
    "from sklearn.metrics import f1_score\n",
    "\n",
    "hyperparameter_tuning = True\n",
    "\n",
    "if hyperparameter_tuning:\n",
    "    print_header('Hyperparameters Tuning is Activated', color = 'bright_blue')\n",
    "    model_params = {\n",
    "    \"Support Vector Machine\": (\n",
    "        SVC(probability=True),\n",
    "        {'C': [0.1, 1, 10], 'kernel': ['linear', 'rbf', 'poly'], 'gamma': ['scale', 'auto']}\n",
    "    ),\n",
    "    \"Random Forest Classifier\": (\n",
    "        RandomForestClassifier(),\n",
    "        {'n_estimators': [10, 50, 100], 'max_depth': [3, 5, 10]}\n",
    "    ),\n",
    "    \"Logistic Regression\": (\n",
    "        LogisticRegression(),\n",
    "        {'C': [0.01, 0.1, 1], 'solver': ['liblinear', 'lbfgs']}\n",
    "    ),\n",
    "    \"K-Nearest Neighbors\": (\n",
    "        KNeighborsClassifier(),\n",
    "        {'n_neighbors': [3, 7], 'weights': ['uniform', 'distance'], 'metric': ['euclidean', 'manhattan']}\n",
    "    ),\n",
    "    \"AdaBoost Classifier\": (\n",
    "        AdaBoostClassifier(),\n",
    "        {'n_estimators': [10, 50, 100], 'learning_rate': [0.01, 1.0, 10.0]}\n",
    "    ),\n",
    "    \"Naive Bayes\": (\n",
    "        GaussianNB(),\n",
    "        {'var_smoothing': [1e-8, 1e-7, 1e-6, 1e-5]}\n",
    "    ),\n",
    "    \"Gradient Boosting\": (\n",
    "        GradientBoostingClassifier(),\n",
    "        {'n_estimators': [50, 100], 'learning_rate': [0.01, 0.1, 1.0], 'max_depth': [3, 5]}\n",
    "    ),\n",
    "    \"Extra Trees\": (\n",
    "        ExtraTreesClassifier(),\n",
    "        {'n_estimators': [50, 100], 'max_depth': [None, 10, 20]}\n",
    "    ),\n",
    "    \"Quadratic Discriminant Analysis\": (\n",
    "        QuadraticDiscriminantAnalysis(),\n",
    "        {'reg_param': [0.0, 0.01, 0.1]}\n",
    "    )\n",
    "}\n",
    "else:\n",
    "    print_header('Hyperparameters Tuning Off', color = 'bright_red')\n",
    "    model_params = None # Default Settings"
   ]
  },
  {
   "cell_type": "markdown",
   "id": "443a7063",
   "metadata": {},
   "source": [
    "## 4. 🔹 UFC Machine Learning Training"
   ]
  },
  {
   "cell_type": "markdown",
   "id": "1eaa4135",
   "metadata": {},
   "source": [
    "### 3.2 KNN Model Training"
   ]
  },
  {
   "cell_type": "markdown",
   "id": "e841c166-6b19-4bed-b779-4ed42d23549f",
   "metadata": {},
   "source": [
    "#### 🚀 KNN Training "
   ]
  },
  {
   "cell_type": "code",
   "execution_count": 5,
   "id": "9cbf229d",
   "metadata": {
    "scrolled": true
   },
   "outputs": [
    {
     "name": "stdout",
     "output_type": "stream",
     "text": [
      "\u001b[95m╔═══════════════════════════════════════════════════╗\n",
      "║  [K-Nearest Neighbors] UFC GridSearchCV Training  ║\n",
      "╚═══════════════════════════════════════════════════╝\u001b[0m\n"
     ]
    },
    {
     "name": "stderr",
     "output_type": "stream",
     "text": [
      "INFO:root:[K-Nearest Neighbors] 🤖 Training...\n"
     ]
    },
    {
     "name": "stdout",
     "output_type": "stream",
     "text": [
      "Fitting 5 folds for each of 8 candidates, totalling 40 fits\n",
      "[CV 1/5] END metric=euclidean, n_neighbors=3, weights=uniform;, score=0.546 total time=   0.1s\n",
      "[CV 2/5] END metric=euclidean, n_neighbors=3, weights=uniform;, score=0.529 total time=   0.1s\n",
      "[CV 3/5] END metric=euclidean, n_neighbors=3, weights=uniform;, score=0.563 total time=   0.1s\n",
      "[CV 4/5] END metric=euclidean, n_neighbors=3, weights=uniform;, score=0.524 total time=   0.1s\n",
      "[CV 5/5] END metric=euclidean, n_neighbors=3, weights=uniform;, score=0.543 total time=   0.1s\n",
      "[CV 1/5] END metric=euclidean, n_neighbors=3, weights=distance;, score=0.545 total time=   0.0s\n",
      "[CV 2/5] END metric=euclidean, n_neighbors=3, weights=distance;, score=0.528 total time=   0.0s\n",
      "[CV 3/5] END metric=euclidean, n_neighbors=3, weights=distance;, score=0.563 total time=   0.0s\n",
      "[CV 4/5] END metric=euclidean, n_neighbors=3, weights=distance;, score=0.525 total time=   0.0s\n",
      "[CV 5/5] END metric=euclidean, n_neighbors=3, weights=distance;, score=0.542 total time=   0.0s\n",
      "[CV 1/5] END metric=euclidean, n_neighbors=7, weights=uniform;, score=0.556 total time=   0.1s\n",
      "[CV 2/5] END metric=euclidean, n_neighbors=7, weights=uniform;, score=0.554 total time=   0.1s\n",
      "[CV 3/5] END metric=euclidean, n_neighbors=7, weights=uniform;, score=0.576 total time=   0.1s\n",
      "[CV 4/5] END metric=euclidean, n_neighbors=7, weights=uniform;, score=0.553 total time=   0.1s\n",
      "[CV 5/5] END metric=euclidean, n_neighbors=7, weights=uniform;, score=0.582 total time=   0.1s\n",
      "[CV 1/5] END metric=euclidean, n_neighbors=7, weights=distance;, score=0.556 total time=   0.0s\n",
      "[CV 2/5] END metric=euclidean, n_neighbors=7, weights=distance;, score=0.555 total time=   0.0s\n",
      "[CV 3/5] END metric=euclidean, n_neighbors=7, weights=distance;, score=0.577 total time=   0.0s\n",
      "[CV 4/5] END metric=euclidean, n_neighbors=7, weights=distance;, score=0.554 total time=   0.0s\n",
      "[CV 5/5] END metric=euclidean, n_neighbors=7, weights=distance;, score=0.582 total time=   0.0s\n",
      "[CV 1/5] END metric=manhattan, n_neighbors=3, weights=uniform;, score=0.527 total time=   0.1s\n",
      "[CV 2/5] END metric=manhattan, n_neighbors=3, weights=uniform;, score=0.521 total time=   0.1s\n",
      "[CV 3/5] END metric=manhattan, n_neighbors=3, weights=uniform;, score=0.562 total time=   0.1s\n",
      "[CV 4/5] END metric=manhattan, n_neighbors=3, weights=uniform;, score=0.546 total time=   0.1s\n",
      "[CV 5/5] END metric=manhattan, n_neighbors=3, weights=uniform;, score=0.515 total time=   0.1s\n",
      "[CV 1/5] END metric=manhattan, n_neighbors=3, weights=distance;, score=0.525 total time=   0.0s\n",
      "[CV 2/5] END metric=manhattan, n_neighbors=3, weights=distance;, score=0.521 total time=   0.0s\n",
      "[CV 3/5] END metric=manhattan, n_neighbors=3, weights=distance;, score=0.565 total time=   0.0s\n",
      "[CV 4/5] END metric=manhattan, n_neighbors=3, weights=distance;, score=0.546 total time=   0.0s\n",
      "[CV 5/5] END metric=manhattan, n_neighbors=3, weights=distance;, score=0.513 total time=   0.0s\n",
      "[CV 1/5] END metric=manhattan, n_neighbors=7, weights=uniform;, score=0.544 total time=   0.1s\n",
      "[CV 2/5] END metric=manhattan, n_neighbors=7, weights=uniform;, score=0.542 total time=   0.1s\n",
      "[CV 3/5] END metric=manhattan, n_neighbors=7, weights=uniform;, score=0.561 total time=   0.1s\n",
      "[CV 4/5] END metric=manhattan, n_neighbors=7, weights=uniform;, score=0.542 total time=   0.1s\n",
      "[CV 5/5] END metric=manhattan, n_neighbors=7, weights=uniform;, score=0.529 total time=   0.1s\n",
      "[CV 1/5] END metric=manhattan, n_neighbors=7, weights=distance;, score=0.544 total time=   0.0s\n",
      "[CV 2/5] END metric=manhattan, n_neighbors=7, weights=distance;, score=0.543 total time=   0.0s\n",
      "[CV 3/5] END metric=manhattan, n_neighbors=7, weights=distance;, score=0.563 total time=   0.0s\n",
      "[CV 4/5] END metric=manhattan, n_neighbors=7, weights=distance;, score=0.545 total time=   0.0s\n",
      "[CV 5/5] END metric=manhattan, n_neighbors=7, weights=distance;, score=0.527 total time=   0.0s\n"
     ]
    },
    {
     "name": "stderr",
     "output_type": "stream",
     "text": [
      "INFO:root:[K-Nearest Neighbors] 🔍 Best Score: 0.5650\n",
      "[K-Nearest Neighbors] 🔍 Best Params: {'metric': 'euclidean', 'n_neighbors': 7, 'weights': 'distance'}\n"
     ]
    }
   ],
   "source": [
    "model_name = 'K-Nearest Neighbors'\n",
    "knn_model = model_factory(model_name, ufc_train, model_params)"
   ]
  },
  {
   "cell_type": "markdown",
   "id": "49256938-9b41-494a-8b66-7a4663eb0147",
   "metadata": {},
   "source": [
    "#### KNN Metrics"
   ]
  },
  {
   "cell_type": "code",
   "execution_count": 6,
   "id": "70e199a0-883a-4db8-a0f9-ad93364a3120",
   "metadata": {},
   "outputs": [
    {
     "name": "stdout",
     "output_type": "stream",
     "text": [
      "\u001b[92m╔══════════════════════════════════════════════════╗\n",
      "║  Starting Evaluation for: [K-Nearest Neighbors]  ║\n",
      "╚══════════════════════════════════════════════════╝\u001b[0m\n",
      "\u001b[95m╔═══════════════════════════════════════════════════════════════════════════════════════════════════════════╗\n",
      "║  Best Parameters Found with GridSearch: {'metric': 'euclidean', 'n_neighbors': 7, 'weights': 'distance'}  ║\n",
      "╚═══════════════════════════════════════════════════════════════════════════════════════════════════════════╝\u001b[0m\n",
      "🔍 Model Evaluation Metrics 🔍:\n",
      "Accuracy: 0.5462\n",
      "Precision: 0.4522\n",
      "Recall: 0.3782\n",
      "F1 score: 0.4119\n",
      "\n",
      "\u001b[96m╔════════════════════╗\n",
      "║  Confusion Matrix  ║\n",
      "╚════════════════════╝\u001b[0m\n"
     ]
    },
    {
     "data": {
      "image/png": "[encoded data removed]",
      "text/plain": [
       "<Figure size 640x480 with 2 Axes>"
      ]
     },
     "metadata": {},
     "output_type": "display_data"
    }
   ],
   "source": [
    "knn_metrics = evaluate_model(knn_model, ufc_test)"
   ]
  },
  {
   "cell_type": "markdown",
   "id": "8a89ba7d",
   "metadata": {},
   "source": [
    "### 3.3 SVM Model "
   ]
  },
  {
   "cell_type": "markdown",
   "id": "90c60acc-9fa6-47dd-9e2f-dfa89dc3a74b",
   "metadata": {},
   "source": [
    "#### 🚀 SVM Training "
   ]
  },
  {
   "cell_type": "code",
   "execution_count": null,
   "id": "6f3ab386",
   "metadata": {
    "scrolled": true
   },
   "outputs": [],
   "source": [
    "model_name = 'svm'\n",
    "svm_model = model_factory(model_name, ufc_train, model_params)"
   ]
  },
  {
   "cell_type": "markdown",
   "id": "effac092-0e21-4b2b-aa53-9121d942fa2e",
   "metadata": {},
   "source": [
    "#### SVM Metrics"
   ]
  },
  {
   "cell_type": "code",
   "execution_count": null,
   "id": "5ea4ee92-a5a7-480f-8c25-634fb16827e4",
   "metadata": {
    "scrolled": true
   },
   "outputs": [],
   "source": [
    "svm_metrics = evaluate_model(svm_model, ufc_test)"
   ]
  },
  {
   "cell_type": "markdown",
   "id": "03b7bf14",
   "metadata": {},
   "source": [
    "### 3.4 Logistic Regression Model"
   ]
  },
  {
   "cell_type": "markdown",
   "id": "26c55350-bfcf-4457-8462-a4daf948ff27",
   "metadata": {},
   "source": [
    "#### 🚀 Logistic Regression Training"
   ]
  },
  {
   "cell_type": "code",
   "execution_count": null,
   "id": "87b0b4ad-caad-4c7e-aad6-a6c5772f30c3",
   "metadata": {},
   "outputs": [],
   "source": [
    "model_name = 'Logistic Regression'\n",
    "lr_model = model_factory(model_name, ufc_train, model_params)"
   ]
  },
  {
   "cell_type": "markdown",
   "id": "180bfb98-cc03-450e-8189-acb93b33edbc",
   "metadata": {},
   "source": [
    "#### Logistic Regression Metrics"
   ]
  },
  {
   "cell_type": "code",
   "execution_count": null,
   "id": "50d31e94-d6b8-4348-91e4-f36888b29f36",
   "metadata": {},
   "outputs": [],
   "source": [
    "lr_metrics = evaluate_model(lr_model, ufc_test)"
   ]
  },
  {
   "cell_type": "markdown",
   "id": "a9e4e2e3",
   "metadata": {},
   "source": [
    "### 3.5 Random Forest Model"
   ]
  },
  {
   "cell_type": "markdown",
   "id": "b3ecd028-62af-4a56-badd-57f299aac14e",
   "metadata": {},
   "source": [
    "#### 🚀 Random Forest Training"
   ]
  },
  {
   "cell_type": "code",
   "execution_count": null,
   "id": "054947b3",
   "metadata": {},
   "outputs": [],
   "source": [
    "model_name = 'Random Forest'\n",
    "rf_model = model_factory(model_name, ufc_train)"
   ]
  },
  {
   "cell_type": "markdown",
   "id": "653e37f0-da84-4b55-82b7-5d4c4920587d",
   "metadata": {},
   "source": [
    "#### Random Forest Metrics"
   ]
  },
  {
   "cell_type": "code",
   "execution_count": null,
   "id": "5e0783b7-2a4c-4bc8-a275-04ffb42752c4",
   "metadata": {},
   "outputs": [],
   "source": [
    "rf_metrics = evaluate_model(rf_model, ufc_test)"
   ]
  },
  {
   "cell_type": "markdown",
   "id": "c64482a9",
   "metadata": {},
   "source": [
    "### 3.6 AdaBoost Model"
   ]
  },
  {
   "cell_type": "markdown",
   "id": "1d5f617e-560d-4847-bc2a-8661f8e9fa67",
   "metadata": {},
   "source": [
    "#### 🚀 AdaBoost Training"
   ]
  },
  {
   "cell_type": "code",
   "execution_count": null,
   "id": "44a936b9",
   "metadata": {},
   "outputs": [],
   "source": [
    "model_name = 'adaboost'\n",
    "adaboost_model = model_factory(model_name, ufc_train)"
   ]
  },
  {
   "cell_type": "markdown",
   "id": "81d48c7a-6d82-4b28-91ec-7f8b61c1bdc8",
   "metadata": {},
   "source": [
    "#### AdaBoost Metrics"
   ]
  },
  {
   "cell_type": "code",
   "execution_count": null,
   "id": "f185bc1b-2540-4cc6-abaf-e2f711c494ad",
   "metadata": {},
   "outputs": [],
   "source": [
    "adaboost_metrics = evaluate_model(adaboost_model, ufc_test)"
   ]
  },
  {
   "cell_type": "markdown",
   "id": "0f506d2e",
   "metadata": {},
   "source": [
    "### 3.7 Naive Bayes Model"
   ]
  },
  {
   "cell_type": "markdown",
   "id": "05b60712-0ef6-4ce5-b64d-7039ac1240bc",
   "metadata": {},
   "source": [
    "#### 🚀 Naive Bayes Training"
   ]
  },
  {
   "cell_type": "code",
   "execution_count": null,
   "id": "309d3291",
   "metadata": {},
   "outputs": [],
   "source": [
    "model_name = 'Naive Bayes'\n",
    "nb_model = model_factory(model_name, ufc_train)"
   ]
  },
  {
   "cell_type": "markdown",
   "id": "ece1e78a-d149-4790-ac78-96eaffdcff69",
   "metadata": {},
   "source": [
    "#### Naive Bayes Metrics"
   ]
  },
  {
   "cell_type": "code",
   "execution_count": null,
   "id": "df22375c-77c9-4410-b0e0-fb93c6e67f07",
   "metadata": {},
   "outputs": [],
   "source": [
    "nb_metrics = evaluate_model(nb_model, ufc_test)"
   ]
  },
  {
   "cell_type": "markdown",
   "id": "ee77f580-059a-4da4-be89-96c1aec97a92",
   "metadata": {},
   "source": [
    "### 3.8 Gradient Boosting"
   ]
  },
  {
   "cell_type": "code",
   "execution_count": 7,
   "id": "15d4266e-a34b-4621-afcc-719601c66aa8",
   "metadata": {},
   "outputs": [
    {
     "name": "stdout",
     "output_type": "stream",
     "text": [
      "\u001b[95m╔═════════════════════════════════════════════════╗\n",
      "║  [Gradient Boosting] UFC GridSearchCV Training  ║\n",
      "╚═════════════════════════════════════════════════╝\u001b[0m\n"
     ]
    },
    {
     "name": "stderr",
     "output_type": "stream",
     "text": [
      "INFO:root:[Gradient Boosting] 🤖 Training...\n"
     ]
    },
    {
     "name": "stdout",
     "output_type": "stream",
     "text": [
      "Fitting 5 folds for each of 12 candidates, totalling 60 fits\n",
      "[CV 1/5] END learning_rate=0.01, max_depth=3, n_estimators=50;, score=0.578 total time=   1.1s\n",
      "[CV 2/5] END learning_rate=0.01, max_depth=3, n_estimators=50;, score=0.585 total time=   1.1s\n",
      "[CV 3/5] END learning_rate=0.01, max_depth=3, n_estimators=50;, score=0.588 total time=   1.1s\n",
      "[CV 4/5] END learning_rate=0.01, max_depth=3, n_estimators=50;, score=0.582 total time=   1.1s\n",
      "[CV 5/5] END learning_rate=0.01, max_depth=3, n_estimators=50;, score=0.581 total time=   1.1s\n",
      "[CV 1/5] END learning_rate=0.01, max_depth=3, n_estimators=100;, score=0.593 total time=   2.1s\n",
      "[CV 2/5] END learning_rate=0.01, max_depth=3, n_estimators=100;, score=0.587 total time=   2.1s\n",
      "[CV 3/5] END learning_rate=0.01, max_depth=3, n_estimators=100;, score=0.592 total time=   2.1s\n",
      "[CV 4/5] END learning_rate=0.01, max_depth=3, n_estimators=100;, score=0.587 total time=   2.1s\n",
      "[CV 5/5] END learning_rate=0.01, max_depth=3, n_estimators=100;, score=0.596 total time=   2.1s\n",
      "[CV 1/5] END learning_rate=0.01, max_depth=5, n_estimators=50;, score=0.591 total time=   1.8s\n",
      "[CV 2/5] END learning_rate=0.01, max_depth=5, n_estimators=50;, score=0.585 total time=   1.8s\n",
      "[CV 3/5] END learning_rate=0.01, max_depth=5, n_estimators=50;, score=0.592 total time=   1.8s\n",
      "[CV 4/5] END learning_rate=0.01, max_depth=5, n_estimators=50;, score=0.585 total time=   1.8s\n",
      "[CV 5/5] END learning_rate=0.01, max_depth=5, n_estimators=50;, score=0.587 total time=   1.8s\n",
      "[CV 1/5] END learning_rate=0.01, max_depth=5, n_estimators=100;, score=0.610 total time=   3.6s\n",
      "[CV 2/5] END learning_rate=0.01, max_depth=5, n_estimators=100;, score=0.605 total time=   3.6s\n",
      "[CV 3/5] END learning_rate=0.01, max_depth=5, n_estimators=100;, score=0.593 total time=   3.6s\n",
      "[CV 4/5] END learning_rate=0.01, max_depth=5, n_estimators=100;, score=0.572 total time=   3.6s\n",
      "[CV 5/5] END learning_rate=0.01, max_depth=5, n_estimators=100;, score=0.599 total time=   3.6s\n",
      "[CV 1/5] END learning_rate=0.1, max_depth=3, n_estimators=50;, score=0.606 total time=   1.0s\n",
      "[CV 2/5] END learning_rate=0.1, max_depth=3, n_estimators=50;, score=0.607 total time=   1.0s\n",
      "[CV 3/5] END learning_rate=0.1, max_depth=3, n_estimators=50;, score=0.609 total time=   1.0s\n",
      "[CV 4/5] END learning_rate=0.1, max_depth=3, n_estimators=50;, score=0.601 total time=   1.0s\n",
      "[CV 5/5] END learning_rate=0.1, max_depth=3, n_estimators=50;, score=0.607 total time=   1.0s\n",
      "[CV 1/5] END learning_rate=0.1, max_depth=3, n_estimators=100;, score=0.617 total time=   2.0s\n",
      "[CV 2/5] END learning_rate=0.1, max_depth=3, n_estimators=100;, score=0.596 total time=   2.0s\n",
      "[CV 3/5] END learning_rate=0.1, max_depth=3, n_estimators=100;, score=0.609 total time=   2.0s\n",
      "[CV 4/5] END learning_rate=0.1, max_depth=3, n_estimators=100;, score=0.589 total time=   2.0s\n",
      "[CV 5/5] END learning_rate=0.1, max_depth=3, n_estimators=100;, score=0.601 total time=   2.0s\n",
      "[CV 1/5] END learning_rate=0.1, max_depth=5, n_estimators=50;, score=0.608 total time=   1.7s\n",
      "[CV 2/5] END learning_rate=0.1, max_depth=5, n_estimators=50;, score=0.591 total time=   1.7s\n",
      "[CV 3/5] END learning_rate=0.1, max_depth=5, n_estimators=50;, score=0.606 total time=   1.7s\n",
      "[CV 4/5] END learning_rate=0.1, max_depth=5, n_estimators=50;, score=0.586 total time=   1.8s\n",
      "[CV 5/5] END learning_rate=0.1, max_depth=5, n_estimators=50;, score=0.608 total time=   1.7s\n",
      "[CV 1/5] END learning_rate=0.1, max_depth=5, n_estimators=100;, score=0.607 total time=   3.5s\n",
      "[CV 2/5] END learning_rate=0.1, max_depth=5, n_estimators=100;, score=0.576 total time=   3.4s\n",
      "[CV 3/5] END learning_rate=0.1, max_depth=5, n_estimators=100;, score=0.608 total time=   3.4s\n",
      "[CV 4/5] END learning_rate=0.1, max_depth=5, n_estimators=100;, score=0.576 total time=   3.5s\n",
      "[CV 5/5] END learning_rate=0.1, max_depth=5, n_estimators=100;, score=0.610 total time=   3.5s\n",
      "[CV 1/5] END learning_rate=1.0, max_depth=3, n_estimators=50;, score=0.571 total time=   1.0s\n",
      "[CV 2/5] END learning_rate=1.0, max_depth=3, n_estimators=50;, score=0.555 total time=   1.0s\n",
      "[CV 3/5] END learning_rate=1.0, max_depth=3, n_estimators=50;, score=0.566 total time=   1.0s\n",
      "[CV 4/5] END learning_rate=1.0, max_depth=3, n_estimators=50;, score=0.553 total time=   1.0s\n",
      "[CV 5/5] END learning_rate=1.0, max_depth=3, n_estimators=50;, score=0.580 total time=   1.0s\n",
      "[CV 1/5] END learning_rate=1.0, max_depth=3, n_estimators=100;, score=0.570 total time=   2.0s\n",
      "[CV 2/5] END learning_rate=1.0, max_depth=3, n_estimators=100;, score=0.547 total time=   2.0s\n",
      "[CV 3/5] END learning_rate=1.0, max_depth=3, n_estimators=100;, score=0.544 total time=   2.0s\n",
      "[CV 4/5] END learning_rate=1.0, max_depth=3, n_estimators=100;, score=0.567 total time=   2.1s\n",
      "[CV 5/5] END learning_rate=1.0, max_depth=3, n_estimators=100;, score=0.566 total time=   2.0s\n",
      "[CV 1/5] END learning_rate=1.0, max_depth=5, n_estimators=50;, score=0.567 total time=   1.8s\n",
      "[CV 2/5] END learning_rate=1.0, max_depth=5, n_estimators=50;, score=0.559 total time=   1.8s\n",
      "[CV 3/5] END learning_rate=1.0, max_depth=5, n_estimators=50;, score=0.568 total time=   1.7s\n",
      "[CV 4/5] END learning_rate=1.0, max_depth=5, n_estimators=50;, score=0.555 total time=   1.7s\n",
      "[CV 5/5] END learning_rate=1.0, max_depth=5, n_estimators=50;, score=0.556 total time=   1.8s\n",
      "[CV 1/5] END learning_rate=1.0, max_depth=5, n_estimators=100;, score=0.551 total time=   3.5s\n",
      "[CV 2/5] END learning_rate=1.0, max_depth=5, n_estimators=100;, score=0.559 total time=   3.5s\n",
      "[CV 3/5] END learning_rate=1.0, max_depth=5, n_estimators=100;, score=0.575 total time=   3.5s\n",
      "[CV 4/5] END learning_rate=1.0, max_depth=5, n_estimators=100;, score=0.573 total time=   3.5s\n",
      "[CV 5/5] END learning_rate=1.0, max_depth=5, n_estimators=100;, score=0.562 total time=   3.5s\n"
     ]
    },
    {
     "name": "stderr",
     "output_type": "stream",
     "text": [
      "INFO:root:[Gradient Boosting] 🔍 Best Score: 0.6061\n",
      "[Gradient Boosting] 🔍 Best Params: {'learning_rate': 0.1, 'max_depth': 3, 'n_estimators': 50}\n"
     ]
    }
   ],
   "source": [
    "model_name = \"Gradient Boosting\"\n",
    "gradientboosting_model = model_factory(model_name, ufc_train)"
   ]
  },
  {
   "cell_type": "code",
   "execution_count": 8,
   "id": "155f383b-5da4-4b93-9259-7f34ca850a4a",
   "metadata": {},
   "outputs": [
    {
     "name": "stdout",
     "output_type": "stream",
     "text": [
      "\u001b[92m╔════════════════════════════════════════════════╗\n",
      "║  Starting Evaluation for: [Gradient Boosting]  ║\n",
      "╚════════════════════════════════════════════════╝\u001b[0m\n",
      "\u001b[95m╔═════════════════════════════════════════════════════════════════════════════════════════════════════╗\n",
      "║  Best Parameters Found with GridSearch: {'learning_rate': 0.1, 'max_depth': 3, 'n_estimators': 50}  ║\n",
      "╚═════════════════════════════════════════════════════════════════════════════════════════════════════╝\u001b[0m\n",
      "🔍 Model Evaluation Metrics 🔍:\n",
      "Accuracy: 0.6165\n",
      "Precision: 0.6121\n",
      "Recall: 0.2382\n",
      "F1 score: 0.3429\n",
      "\n",
      "\u001b[96m╔════════════════════╗\n",
      "║  Confusion Matrix  ║\n",
      "╚════════════════════╝\u001b[0m\n"
     ]
    },
    {
     "data": {
      "image/png": "[encoded data removed]",
      "text/plain": [
       "<Figure size 640x480 with 2 Axes>"
      ]
     },
     "metadata": {},
     "output_type": "display_data"
    }
   ],
   "source": [
    "gb_metrics = evaluate_model(gradientboosting_model, ufc_test)"
   ]
  },
  {
   "cell_type": "markdown",
   "id": "6c98cf48-aef2-4c71-8eb4-e322a367701b",
   "metadata": {},
   "source": [
    "## 4. Save"
   ]
  },
  {
   "cell_type": "code",
   "execution_count": null,
   "id": "45203ea2-9911-4204-b33b-fce3bfac1839",
   "metadata": {},
   "outputs": [],
   "source": [
    "save_model(knn_model, name='knn_best')"
   ]
  },
  {
   "cell_type": "code",
   "execution_count": null,
   "id": "32cac345-1f0e-40f1-8f84-765535c040e0",
   "metadata": {},
   "outputs": [],
   "source": [
    "save_model(svm_model, name='svm_best')"
   ]
  },
  {
   "cell_type": "code",
   "execution_count": null,
   "id": "a1ecfa01-1d2e-4c1e-9650-9c55e1af159f",
   "metadata": {},
   "outputs": [],
   "source": [
    "save_model(lr_model, name='lr_best')"
   ]
  },
  {
   "cell_type": "code",
   "execution_count": null,
   "id": "77cdf2a0-80ca-447a-8696-fbab8ab6edc0",
   "metadata": {},
   "outputs": [],
   "source": [
    "save_model(rf_model, name='rf_best')"
   ]
  },
  {
   "cell_type": "code",
   "execution_count": null,
   "id": "745a3062-5c89-4b9b-9232-27b78266c2a6",
   "metadata": {},
   "outputs": [],
   "source": [
    "save_model(adaboost_model, name='adaboost_best')"
   ]
  },
  {
   "cell_type": "code",
   "execution_count": null,
   "id": "fb1ff12a-177e-4d17-9c77-11ad70e860b3",
   "metadata": {},
   "outputs": [],
   "source": [
    "save_model(nb_model, name='nb_best')"
   ]
  },
  {
   "cell_type": "code",
   "execution_count": null,
   "id": "b9f9d4c8-9454-4553-9c20-af1b95daad28",
   "metadata": {},
   "outputs": [],
   "source": []
  }
 ],
 "metadata": {
  "kernelspec": {
   "display_name": "Python 3 (ipykernel)",
   "language": "python",
   "name": "python3"
  },
  "language_info": {
   "codemirror_mode": {
    "name": "ipython",
    "version": 3
   },
   "file_extension": ".py",
   "mimetype": "text/x-python",
   "name": "python",
   "nbconvert_exporter": "python",
   "pygments_lexer": "ipython3",
   "version": "3.13.2"
  }
 },
 "nbformat": 4,
 "nbformat_minor": 5
}
