{
 "cells": [
  {
   "cell_type": "markdown",
   "id": "12d664c2-e116-4152-8c17-0d57d0fa4a59",
   "metadata": {},
   "source": [
    "# 🔹UFC Feature Engineering"
   ]
  },
  {
   "cell_type": "markdown",
   "id": "b4951719",
   "metadata": {},
   "source": [
    "## 1. Import Libraries and Setup Environment"
   ]
  },
  {
   "cell_type": "code",
   "execution_count": 1,
   "id": "ad176599-6b5f-47f6-aee0-86243f1f5085",
   "metadata": {},
   "outputs": [],
   "source": [
    "import os\n",
    "import sys\n",
    "import pandas as pd\n",
    "import numpy as np\n",
    "import matplotlib.pyplot as plt\n",
    "import seaborn as sns\n",
    "\n",
    "# Get the current working directory\n",
    "current_dir = os.getcwd()\n",
    "\n",
    "# Navigate to the project root\n",
    "project_root = os.path.abspath(os.path.join(current_dir, '..'))\n",
    "\n",
    "# Import from /src\n",
    "sys.path.append(os.path.join(project_root, 'src'))\n",
    "from utils.helpers import *"
   ]
  },
  {
   "cell_type": "markdown",
   "id": "9bbeecbe",
   "metadata": {},
   "source": [
    "## 2. Load Data"
   ]
  },
  {
   "cell_type": "code",
   "execution_count": 2,
   "id": "63616235",
   "metadata": {},
   "outputs": [
    {
     "name": "stdout",
     "output_type": "stream",
     "text": [
      "Data successfully loaded: 6541 rows, 55 columns.\n"
     ]
    }
   ],
   "source": [
    "# Define the path to the CSV file\n",
    "file_path = os.path.join(project_root, 'data', 'processed', 'ufc_etl.csv')\n",
    "\n",
    "# Load the CSV into a DataFrame\n",
    "ufc_data = pd.read_csv(file_path)\n",
    "print(f\"Data successfully loaded: {ufc_data.shape[0]} rows, {ufc_data.shape[1]} columns.\")"
   ]
  },
  {
   "cell_type": "markdown",
   "id": "9c122018-1956-407e-bb1b-cb0ae2974ac9",
   "metadata": {},
   "source": [
    "## 3. Feature Engineering\n",
    "\n",
    "- **Feature Vector Construction**: The feature vector for each fight is represented as:\n",
    "  $$x = \\text{features-fighter-blue} - \\text{features-fighter-red}$$\n",
    "- The task is framed as a binary classification problem, where the model predicts either **0** (Fighter Red wins) or **1** (Fighter Blue wins)."
   ]
  },
  {
   "cell_type": "markdown",
   "id": "9a6b55c5-30c6-4756-a67a-a2673135b221",
   "metadata": {},
   "source": [
    "#### Create the target value: **0** (Fighter Red wins) or **1** (Fighter Blue wins)"
   ]
  },
  {
   "cell_type": "code",
   "execution_count": null,
   "id": "da5e0b7b-87a1-422a-afbc-0ad571bc57e2",
   "metadata": {},
   "outputs": [],
   "source": [
    "ufc_data['label'] = ufc_data['Winner'].apply(lambda x: 1 if x == 'Blue' else 0)\n",
    "ufc_data=ufc_data.drop('Winner', axis=1)\n",
    "ufc_data = pd.get_dummies(ufc_data, columns=['TitleBout', 'Gender'], drop_first=True)"
   ]
  },
  {
   "cell_type": "code",
   "execution_count": null,
   "id": "abca3c4a-c15e-4893-99ba-3b5f91713853",
   "metadata": {},
   "outputs": [],
   "source": [
    "numerical_columns = []"
   ]
  },
  {
   "cell_type": "markdown",
   "id": "fa7b3d87-5863-4a02-a3fa-281925eb3235",
   "metadata": {},
   "source": [
    "## 4. Numerical Data"
   ]
  },
  {
   "cell_type": "markdown",
   "id": "c7f8cf5f-c221-4995-b73d-deefdbfbd09e",
   "metadata": {},
   "source": [
    "### Stance\n",
    "- **Orthodox Stance:** A fighter in orthodox stance leads with their left foot and left hand, making it the natural stance for right-handed individuals. \n",
    "- **Southpaw Stance:** A fighter in southpaw stance leads with their right foot and right hand, making it the natural stance for left-handed individuals. \n",
    "- **Open Stance Matchup:** When one fighter is orthodox and the other is southpaw, it creates an \"open stance\" matchup. This differs from a \"closed stance\" where both fighters are in the same stance (e.g., both orthodox or both southpaw)\n",
    "- **Switch:** When a fighter switches from an orthodox to a southpaw stance or vice versa, it can disrupt their opponent's rhythm, causing them to miss or react incorrectly to strikes. "
   ]
  },
  {
   "cell_type": "code",
   "execution_count": null,
   "id": "d0146ac6-cce0-4248-be9e-2c4b12c40179",
   "metadata": {},
   "outputs": [],
   "source": [
    "ufc_data['BlueStance'].unique()"
   ]
  },
  {
   "cell_type": "code",
   "execution_count": null,
   "id": "28a27934-5d46-43b3-afdc-32ee9d908475",
   "metadata": {
    "tags": []
   },
   "outputs": [],
   "source": [
    "# Para BlueStance\n",
    "ufc_data['BlueStance_Orthodox'] = (ufc_data['BlueStance'] == 'Orthodox').astype(int)\n",
    "ufc_data['BlueStance_Southpaw'] = (ufc_data['BlueStance'] == 'Southpaw').astype(int)\n",
    "ufc_data['BlueStance_Switch'] = (ufc_data['BlueStance'] == 'Switch').astype(int)\n",
    "ufc_data['BlueStance_OpenStance'] = (ufc_data['BlueStance'] == 'Open Stance').astype(int)\n",
    "\n",
    "# Para RedStance (mismo enfoque)\n",
    "ufc_data['RedStance_Orthodox'] = (ufc_data['RedStance'] == 'Orthodox').astype(int)\n",
    "ufc_data['RedStance_Southpaw'] = (ufc_data['RedStance'] == 'Southpaw').astype(int)\n",
    "ufc_data['RedStance_Switch'] = (ufc_data['RedStance'] == 'Switch').astype(int)\n",
    "ufc_data['RedStance_OpenStance'] = (ufc_data['RedStance'] == 'Open Stance').astype(int)\n",
    "\n",
    "#Borramos las columnas\n",
    "ufc_data=ufc_data.drop(['BlueStance','RedStance'], axis=1)\n"
   ]
  },
  {
   "cell_type": "markdown",
   "id": "541455fc-0077-47da-911b-ab260b568705",
   "metadata": {},
   "source": [
    "### Better Rank"
   ]
  },
  {
   "cell_type": "code",
   "execution_count": null,
   "id": "7fc4cc43-2c6e-4229-b956-5f8023457545",
   "metadata": {},
   "outputs": [],
   "source": [
    "display(ufc_data['BetterRank'].unique())"
   ]
  },
  {
   "cell_type": "code",
   "execution_count": null,
   "id": "a195feaf-7b14-4394-b0be-7cba8b94aaab",
   "metadata": {},
   "outputs": [],
   "source": [
    "# Para BlueStance\n",
    "ufc_data['BetterRank_Red'] = (ufc_data['BetterRank'] == 'Red').astype(int)\n",
    "ufc_data['BetterRank_Blue'] = (ufc_data['BetterRank'] == 'Blue').astype(int)\n",
    "ufc_data['BetterRank_neither'] = (ufc_data['BetterRank'] == 'neither').astype(int)\n",
    "#Borramos las columnas\n",
    "ufc_data=ufc_data.drop(['BetterRank'], axis=1)"
   ]
  },
  {
   "cell_type": "markdown",
   "id": "b230dc59-a50c-4bad-bddc-a274b4782698",
   "metadata": {},
   "source": [
    "## Creación de features"
   ]
  },
  {
   "cell_type": "code",
   "execution_count": null,
   "id": "27f19431-89b5-425e-a873-66c48cfbb9c6",
   "metadata": {},
   "outputs": [],
   "source": [
    "#Tasa de Finalización (Red y Blue):\n",
    "RedFinishRate = (ufc_data['RedWinsByKO'] + ufc_data['RedWinsBySubmission'] + ufc_data['RedWinsByTKODoctorStoppage']) / ufc_data['RedWins'].replace(0, 1)\n",
    "BlueFinishRate = (ufc_data['BlueWinsByKO'] + ufc_data['BlueWinsBySubmission'] + ufc_data['BlueWinsByTKODoctorStoppage']) / ufc_data['BlueWins'].replace(0, 1)\n",
    "ufc_data['FinishRate'] = BlueFinishRate - RedFinishRate\n",
    "#numerical_columns.append('FinishRate')"
   ]
  },
  {
   "cell_type": "code",
   "execution_count": null,
   "id": "09515075-d147-4860-8323-849f34cdc95e",
   "metadata": {},
   "outputs": [],
   "source": [
    "#Win Ratio (Red y Blue)\n",
    "RedWinRatio = ufc_data['RedWins'] / (ufc_data['RedWins'] + ufc_data['RedLosses']).replace(0, 1)\n",
    "BlueWinRatio = ufc_data['BlueWins'] / (ufc_data['BlueWins'] + ufc_data['BlueLosses']).replace(0, 1)\n",
    "ufc_data['WinRatio']= BlueWinRatio - RedWinRatio "
   ]
  },
  {
   "cell_type": "code",
   "execution_count": null,
   "id": "6c2bc098-7b2f-476d-87c7-2bc29c5cc462",
   "metadata": {},
   "outputs": [],
   "source": [
    "#Edad vs. Experiencia\n",
    "RedExpPerYear = ufc_data['RedTotalRoundsFought'] / ufc_data['RedAge']\n",
    "BlueExpPerYear = ufc_data['BlueTotalRoundsFought'] / ufc_data['BlueAge']\n",
    "ufc_data['ExpPerYear']=BlueExpPerYear - RedExpPerYear "
   ]
  },
  {
   "cell_type": "code",
   "execution_count": null,
   "id": "2a910cde-0290-405e-a94c-7c67d0fe41b3",
   "metadata": {},
   "outputs": [],
   "source": [
    "#Reach Advantage Ratio\n",
    "ufc_data['ReachAdvantageRatio'] = ufc_data['RedReachCms'] / ufc_data['BlueReachCms']"
   ]
  },
  {
   "cell_type": "code",
   "execution_count": null,
   "id": "ed687485-b069-40b8-b2d9-1c1b9a2ee839",
   "metadata": {},
   "outputs": [],
   "source": [
    "#Height/Reach Ratio (para cada peleador)\n",
    "RedHeightReachRatio = ufc_data['RedHeightCms'] / ufc_data['RedReachCms']\n",
    "BlueHeightReachRatio = ufc_data['BlueHeightCms'] / ufc_data['BlueReachCms']\n",
    "ufc_data['HeightReachRatio']= BlueHeightReachRatio - RedHeightReachRatio"
   ]
  },
  {
   "cell_type": "code",
   "execution_count": null,
   "id": "4885419d-d5b6-487a-b06a-b17433b86894",
   "metadata": {},
   "outputs": [],
   "source": [
    "BlueWinsByDecision = ufc_data[['BlueWinsByDecisionMajority', 'BlueWinsByDecisionSplit', 'BlueWinsByDecisionUnanimous']].sum(axis=1)\n",
    "RedWinsByDecision = ufc_data[['RedWinsByDecisionMajority', 'RedWinsByDecisionSplit', 'RedWinsByDecisionUnanimous']].sum(axis=1)\n",
    "ufc_data['WinsByDecision']=BlueWinsByDecision- RedWinsByDecision"
   ]
  },
  {
   "cell_type": "code",
   "execution_count": null,
   "id": "0d2174e0-01dd-4fbf-a693-b1c2bd3c3709",
   "metadata": {},
   "outputs": [],
   "source": [
    "BlueDecisionRate = BlueWinsByDecision / ufc_data['BlueWins'].replace(0, 1)  # Evitar división por cero\n",
    "RedDecisionRate = RedWinsByDecision  / ufc_data['RedWins'].replace(0, 1)  # Evitar división por cero\n",
    "ufc_data['DecisionRate']= BlueDecisionRate - RedDecisionRate\n",
    "\n"
   ]
  },
  {
   "cell_type": "code",
   "execution_count": null,
   "id": "00607660-c326-4957-94cb-eca526356cee",
   "metadata": {},
   "outputs": [],
   "source": [
    "ufc_data['Gender_MALE'] = ufc_data['Gender_MALE'].astype(int)  # True → 1, False → 0"
   ]
  },
  {
   "cell_type": "markdown",
   "id": "ab277c48-3f13-45fb-aff6-b9d8bdbc68c0",
   "metadata": {},
   "source": [
    "## Selección de features"
   ]
  },
  {
   "cell_type": "markdown",
   "id": "9599ceb5-11f5-46b4-beab-d0f7f40d4919",
   "metadata": {},
   "source": [
    "Dado lo siguiente:\n",
    "-  LoseStreakDif: BlueCurrentLoseStreak - RedCurrentLoseStreak\n",
    "-  WinStreakDif: BlueCurrentWinStreak - RedCurrentWinStreak\n",
    "-  LongestWinStreakDif: BlueLongestWinStreak - 'RedLongestWinStreak\n",
    "-  WinDif: BlueWins - RedWins\n",
    "-  LossDif: BlueLosses - RedLosses\n",
    "-  TotalRoundDif: BlueTotalRoundsFought - RedTotalRoundsFought\n",
    "-  TotalTitleBoutDif: BlueTotalTitleBouts - RedTotalTitleBouts\n",
    "-  KODif: BlueWinsByKO - RedWinsByKO\n",
    "-  SubDif: BlueWinsBySubmission - RedWinsBySubmission\n",
    "-  HeightDif: BlueHeightCms - RedHeightCms\n",
    "-  ReachDif: BlueReachCms - RedReachCms\n",
    "-  AgeDif: BlueAge - RedAge\n",
    "  \n",
    "Se eliminan ciertas columnas que pueden ser redundantes."
   ]
  },
  {
   "cell_type": "code",
   "execution_count": null,
   "id": "c1040ba8-a8bf-40cb-9aa3-e73e0d531b22",
   "metadata": {},
   "outputs": [],
   "source": [
    "ufc_data=ufc_data.drop(['BlueCurrentLoseStreak', 'RedCurrentLoseStreak','BlueCurrentWinStreak',\n",
    "                      'RedCurrentWinStreak','BlueLongestWinStreak', 'RedLongestWinStreak', 'BlueWins',\n",
    "                      'RedWins','BlueLosses','RedLosses', 'BlueTotalRoundsFought','RedTotalRoundsFought',\n",
    "                      'BlueTotalTitleBouts', 'RedTotalTitleBouts', 'BlueWinsByKO', 'RedWinsByKO', 'BlueWinsBySubmission',\n",
    "                      'RedWinsBySubmission','BlueHeightCms','RedHeightCms','BlueReachCms','RedReachCms',\n",
    "                      'BlueAge', 'RedAge'], axis=1)"
   ]
  },
  {
   "cell_type": "markdown",
   "id": "c3edfa73-b150-475f-b621-d28a12e94de4",
   "metadata": {},
   "source": [
    "También aquellas relacionadas con los features construidos:\n",
    "- WinsByDecision\n",
    "- DecisionRate\n",
    "- FinishRate\n"
   ]
  },
  {
   "cell_type": "code",
   "execution_count": null,
   "id": "9e1bb8f4-49e0-4f15-bf55-47d67e3ca6d2",
   "metadata": {},
   "outputs": [],
   "source": [
    "ufc_data=ufc_data.drop(['BlueWinsByDecisionSplit', 'BlueWinsByDecisionUnanimous',\n",
    "       'BlueWinsByTKODoctorStoppage', 'RedWinsByDecisionMajority',\n",
    "       'RedWinsByDecisionSplit', 'RedWinsByDecisionUnanimous',\n",
    "       'RedWinsByTKODoctorStoppage','BlueWinsByDecisionMajority'], axis=1)"
   ]
  },
  {
   "cell_type": "markdown",
   "id": "6521ee34-a077-4f13-87b3-58fc1821f950",
   "metadata": {},
   "source": [
    "### Columnas de baja varianza\n",
    "- BlueDraws\n",
    "- RedDraws\n",
    "- BlueWeightLbs\n",
    "- RedWeightLbs\n",
    "- TitleBout_True "
   ]
  },
  {
   "cell_type": "code",
   "execution_count": null,
   "id": "c59f4f85-e5b8-4e9b-8422-4881cae28bed",
   "metadata": {},
   "outputs": [],
   "source": [
    "ufc_data=ufc_data.drop(['BlueDraws','RedDraws','BlueWeightLbs','RedWeightLbs','TitleBout_True'], axis=1)"
   ]
  },
  {
   "cell_type": "code",
   "execution_count": null,
   "id": "7bfe03c2-47d8-4527-b563-bb331d653950",
   "metadata": {},
   "outputs": [],
   "source": [
    "# Preview the first few records\n",
    "display(ufc_data.head())\n",
    "display(ufc_data.columns)\n",
    "# Para ver los tipos de dato de cada columna:\n",
    "display(ufc_data.dtypes)"
   ]
  },
  {
   "cell_type": "code",
   "execution_count": null,
   "id": "ff2b74c6-229b-408b-9ef9-1e5b53430e9e",
   "metadata": {},
   "outputs": [],
   "source": [
    "display(ufc_data.head())"
   ]
  },
  {
   "cell_type": "markdown",
   "id": "9d11bbe6-952c-456f-b419-62f31590de67",
   "metadata": {},
   "source": [
    "## 5. Split Dataset and Standarize"
   ]
  },
  {
   "cell_type": "code",
   "execution_count": null,
   "id": "65e3053c-e782-4174-b67a-d61b622ed457",
   "metadata": {},
   "outputs": [],
   "source": [
    "#ufc_train, ufc_test = split_and_standardize(ufc_data, numerical_columns)"
   ]
  },
  {
   "cell_type": "markdown",
   "id": "8f7edeb9-244d-4f34-b187-10d379721c46",
   "metadata": {},
   "source": [
    "## 6. Save"
   ]
  },
  {
   "cell_type": "code",
   "execution_count": null,
   "id": "9819c9a9-6a9b-4351-b4b4-9983add08cf8",
   "metadata": {},
   "outputs": [],
   "source": [
    "# Save the cleaned file\n",
    "ufc_data.to_csv(f'{project_root}/data/processed/ufc_processed.csv', index=False)\n",
    "print(\"\\nFeature Engineering file saved as 'ufc_processed.csv'.\")"
   ]
  },
  {
   "cell_type": "code",
   "execution_count": null,
   "id": "c013d867-07df-4895-9617-180e155b0665",
   "metadata": {},
   "outputs": [],
   "source": []
  }
 ],
 "metadata": {
  "kernelspec": {
   "display_name": "Python 3 (ipykernel)",
   "language": "python",
   "name": "python3"
  },
  "language_info": {
   "codemirror_mode": {
    "name": "ipython",
    "version": 3
   },
   "file_extension": ".py",
   "mimetype": "text/x-python",
   "name": "python",
   "nbconvert_exporter": "python",
   "pygments_lexer": "ipython3",
   "version": "3.13.2"
  }
 },
 "nbformat": 4,
 "nbformat_minor": 5
}
