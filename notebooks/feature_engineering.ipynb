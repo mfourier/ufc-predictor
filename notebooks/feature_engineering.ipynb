{
 "cells": [
  {
   "cell_type": "markdown",
   "id": "12d664c2-e116-4152-8c17-0d57d0fa4a59",
   "metadata": {},
   "source": [
    "# 🔹UFC Feature Engineering"
   ]
  },
  {
   "cell_type": "markdown",
   "id": "b4951719",
   "metadata": {},
   "source": [
    "## 1. Import Libraries and Setup Environment"
   ]
  },
  {
   "cell_type": "code",
   "execution_count": 25,
   "id": "ad176599-6b5f-47f6-aee0-86243f1f5085",
   "metadata": {},
   "outputs": [],
   "source": [
    "import os\n",
    "import sys\n",
    "import pandas as pd\n",
    "import numpy as np\n",
    "import matplotlib.pyplot as plt\n",
    "import seaborn as sns\n",
    "\n",
    "# Get the current working directory\n",
    "current_dir = os.getcwd()\n",
    "\n",
    "# Navigate to the project root\n",
    "project_root = os.path.abspath(os.path.join(current_dir, '..'))\n",
    "\n",
    "# Import from /src\n",
    "sys.path.append(os.path.join(project_root, 'src'))\n",
    "from utils.helpers import get_predictions, split_and_standardize"
   ]
  },
  {
   "cell_type": "markdown",
   "id": "9bbeecbe",
   "metadata": {},
   "source": [
    "## 2. Load Data"
   ]
  },
  {
   "cell_type": "code",
   "execution_count": 26,
   "id": "63616235",
   "metadata": {},
   "outputs": [
    {
     "name": "stdout",
     "output_type": "stream",
     "text": [
      "Data successfully loaded: 6541 rows, 55 columns.\n"
     ]
    }
   ],
   "source": [
    "# Define the path to the CSV file\n",
    "file_path = os.path.join(project_root, 'data', 'processed', 'ufc_etl.csv')\n",
    "\n",
    "# Load the CSV into a DataFrame\n",
    "ufc_data = pd.read_csv(file_path)\n",
    "print(f\"Data successfully loaded: {ufc_data.shape[0]} rows, {ufc_data.shape[1]} columns.\")"
   ]
  },
  {
   "cell_type": "markdown",
   "id": "9c122018-1956-407e-bb1b-cb0ae2974ac9",
   "metadata": {},
   "source": [
    "## 3. Feature Engineering\n",
    "\n",
    "- **Feature Vector Construction**: The feature vector for each fight is represented as:\n",
    "  $$x = \\text{features-fighter-blue} - \\text{features-fighter-red}$$\n",
    "- The task is framed as a binary classification problem, where the model predicts either **0** (Fighter Red wins) or **1** (Fighter Blue wins)."
   ]
  },
  {
   "cell_type": "markdown",
   "id": "9a6b55c5-30c6-4756-a67a-a2673135b221",
   "metadata": {},
   "source": [
    "#### Create the target value: **0** (Fighter Red wins) or **1** (Fighter Blue wins)"
   ]
  },
  {
   "cell_type": "code",
   "execution_count": 27,
   "id": "da5e0b7b-87a1-422a-afbc-0ad571bc57e2",
   "metadata": {},
   "outputs": [],
   "source": [
    "ufc_data['label'] = ufc_data['Winner'].apply(lambda x: 1 if x == 'Blue' else 0)\n",
    "ufc_data=ufc_data.drop('Winner', axis=1)\n",
    "ufc_data = pd.get_dummies(ufc_data, columns=['TitleBout', 'Gender'], drop_first=True)"
   ]
  },
  {
   "cell_type": "markdown",
   "id": "fa7b3d87-5863-4a02-a3fa-281925eb3235",
   "metadata": {},
   "source": [
    "## 4. Numerical Data"
   ]
  },
  {
   "cell_type": "markdown",
   "id": "56a6f46b-174a-4b0b-b9b6-4db2dc7fce5b",
   "metadata": {},
   "source": [
    "### Data Split and Standarization "
   ]
  },
  {
   "cell_type": "code",
   "execution_count": null,
   "id": "a6e51dd5-c1fa-4ed0-9555-da4c5739279a",
   "metadata": {},
   "outputs": [],
   "source": [
    "ufc_train, ufc_test = split_and_standardize(ufc_data)"
   ]
  },
  {
   "cell_type": "markdown",
   "id": "86949761-ff7a-4fc3-90cd-bb976683b646",
   "metadata": {},
   "source": [
    "### Final Numerical Training Data"
   ]
  },
  {
   "cell_type": "code",
   "execution_count": null,
   "id": "f62f4dc5-1d65-40c0-bc39-2f537a4921ec",
   "metadata": {},
   "outputs": [],
   "source": [
    "display(ufc_train.head())"
   ]
  },
  {
   "cell_type": "markdown",
   "id": "f736a98b-55bd-4959-9e56-2cb0b0aa1f6a",
   "metadata": {},
   "source": [
    "### Final Numerical Testing Data"
   ]
  },
  {
   "cell_type": "code",
   "execution_count": null,
   "id": "74c05b99-2da4-4079-9373-8a075df11ce8",
   "metadata": {},
   "outputs": [],
   "source": [
    "display(ufc_test.head())"
   ]
  },
  {
   "cell_type": "markdown",
   "id": "53fd0006-d2ca-409f-bb03-67baf731cdad",
   "metadata": {},
   "source": [
    "## 5. Categorical Data"
   ]
  },
  {
   "cell_type": "markdown",
   "id": "c7f8cf5f-c221-4995-b73d-deefdbfbd09e",
   "metadata": {},
   "source": [
    "### Stance\n",
    "- **Orthodox Stance:** A fighter in orthodox stance leads with their left foot and left hand, making it the natural stance for right-handed individuals. \n",
    "- **Southpaw Stance:** A fighter in southpaw stance leads with their right foot and right hand, making it the natural stance for left-handed individuals. \n",
    "- **Open Stance Matchup:** When one fighter is orthodox and the other is southpaw, it creates an \"open stance\" matchup. This differs from a \"closed stance\" where both fighters are in the same stance (e.g., both orthodox or both southpaw)\n",
    "- **Switch:** When a fighter switches from an orthodox to a southpaw stance or vice versa, it can disrupt their opponent's rhythm, causing them to miss or react incorrectly to strikes. "
   ]
  },
  {
   "cell_type": "code",
   "execution_count": 28,
   "id": "d0146ac6-cce0-4248-be9e-2c4b12c40179",
   "metadata": {},
   "outputs": [
    {
     "data": {
      "text/plain": [
       "array(['Southpaw', 'Orthodox', 'Switch', 'Open Stance'], dtype=object)"
      ]
     },
     "execution_count": 28,
     "metadata": {},
     "output_type": "execute_result"
    }
   ],
   "source": [
    "ufc_data['BlueStance'].unique()"
   ]
  },
  {
   "cell_type": "code",
   "execution_count": 29,
   "id": "28a27934-5d46-43b3-afdc-32ee9d908475",
   "metadata": {
    "tags": []
   },
   "outputs": [],
   "source": [
    "# Para BlueStance\n",
    "ufc_data['BlueStance_Orthodox'] = (ufc_data['BlueStance'] == 'Orthodox').astype(int)\n",
    "ufc_data['BlueStance_Southpaw'] = (ufc_data['BlueStance'] == 'Southpaw').astype(int)\n",
    "ufc_data['BlueStance_Switch'] = (ufc_data['BlueStance'] == 'Switch').astype(int)\n",
    "ufc_data['BlueStance_OpenStance'] = (ufc_data['BlueStance'] == 'Open Stance').astype(int)\n",
    "\n",
    "# Para RedStance (mismo enfoque)\n",
    "ufc_data['RedStance_Orthodox'] = (ufc_data['RedStance'] == 'Orthodox').astype(int)\n",
    "ufc_data['RedStance_Southpaw'] = (ufc_data['RedStance'] == 'Southpaw').astype(int)\n",
    "ufc_data['RedStance_Switch'] = (ufc_data['RedStance'] == 'Switch').astype(int)\n",
    "ufc_data['RedStance_OpenStance'] = (ufc_data['RedStance'] == 'Open Stance').astype(int)\n",
    "\n",
    "#Borramos las columnas\n",
    "ufc_data=ufc_data.drop(['BlueStance','RedStance'], axis=1)\n"
   ]
  },
  {
   "cell_type": "markdown",
   "id": "541455fc-0077-47da-911b-ab260b568705",
   "metadata": {},
   "source": [
    "### Better Rank"
   ]
  },
  {
   "cell_type": "code",
   "execution_count": 30,
   "id": "7fc4cc43-2c6e-4229-b956-5f8023457545",
   "metadata": {},
   "outputs": [
    {
     "data": {
      "text/plain": [
       "array(['Red', 'neither', 'Blue'], dtype=object)"
      ]
     },
     "metadata": {},
     "output_type": "display_data"
    }
   ],
   "source": [
    "display(ufc_data['BetterRank'].unique())"
   ]
  },
  {
   "cell_type": "code",
   "execution_count": 31,
   "id": "a195feaf-7b14-4394-b0be-7cba8b94aaab",
   "metadata": {},
   "outputs": [],
   "source": [
    "# Para BlueStance\n",
    "ufc_data['BetterRank_Red'] = (ufc_data['BetterRank'] == 'Red').astype(int)\n",
    "ufc_data['BetterRank_Blue'] = (ufc_data['BetterRank'] == 'Blue').astype(int)\n",
    "ufc_data['BetterRank_neither'] = (ufc_data['BetterRank'] == 'neither').astype(int)\n",
    "#Borramos las columnas\n",
    "ufc_data=ufc_data.drop(['BetterRank'], axis=1)"
   ]
  },
  {
   "cell_type": "markdown",
   "id": "b230dc59-a50c-4bad-bddc-a274b4782698",
   "metadata": {},
   "source": [
    "## Creación de features"
   ]
  },
  {
   "cell_type": "code",
   "execution_count": 32,
   "id": "27f19431-89b5-425e-a873-66c48cfbb9c6",
   "metadata": {},
   "outputs": [],
   "source": [
    "#Tasa de Finalización (Red y Blue):\n",
    "RedFinishRate = (ufc_data['RedWinsByKO'] + ufc_data['RedWinsBySubmission'] + ufc_data['RedWinsByTKODoctorStoppage']) / ufc_data['RedWins'].replace(0, 1)\n",
    "BlueFinishRate = (ufc_data['BlueWinsByKO'] + ufc_data['BlueWinsBySubmission'] + ufc_data['BlueWinsByTKODoctorStoppage']) / ufc_data['BlueWins'].replace(0, 1)\n",
    "ufc_data['FinishRate'] = BlueFinishRate - RedFinishRate "
   ]
  },
  {
   "cell_type": "code",
   "execution_count": 33,
   "id": "09515075-d147-4860-8323-849f34cdc95e",
   "metadata": {},
   "outputs": [],
   "source": [
    "#Win Ratio (Red y Blue)\n",
    "RedWinRatio = ufc_data['RedWins'] / (ufc_data['RedWins'] + ufc_data['RedLosses']).replace(0, 1)\n",
    "BlueWinRatio = ufc_data['BlueWins'] / (ufc_data['BlueWins'] + ufc_data['BlueLosses']).replace(0, 1)\n",
    "ufc_data['WinRatio']= BlueWinRatio - RedWinRatio "
   ]
  },
  {
   "cell_type": "code",
   "execution_count": 34,
   "id": "6c2bc098-7b2f-476d-87c7-2bc29c5cc462",
   "metadata": {},
   "outputs": [],
   "source": [
    "#Edad vs. Experiencia\n",
    "RedExpPerYear = ufc_data['RedTotalRoundsFought'] / ufc_data['RedAge']\n",
    "BlueExpPerYear = ufc_data['BlueTotalRoundsFought'] / ufc_data['BlueAge']\n",
    "ufc_data['ExpPerYear']=BlueExpPerYear - RedExpPerYear "
   ]
  },
  {
   "cell_type": "code",
   "execution_count": 35,
   "id": "2a910cde-0290-405e-a94c-7c67d0fe41b3",
   "metadata": {},
   "outputs": [],
   "source": [
    "#Reach Advantage Ratio\n",
    "ufc_data['ReachAdvantageRatio'] = ufc_data['RedReachCms'] / ufc_data['BlueReachCms']"
   ]
  },
  {
   "cell_type": "code",
   "execution_count": 36,
   "id": "ed687485-b069-40b8-b2d9-1c1b9a2ee839",
   "metadata": {},
   "outputs": [],
   "source": [
    "#Height/Reach Ratio (para cada peleador)\n",
    "RedHeightReachRatio = ufc_data['RedHeightCms'] / ufc_data['RedReachCms']\n",
    "BlueHeightReachRatio = ufc_data['BlueHeightCms'] / ufc_data['BlueReachCms']\n",
    "ufc_data['HeightReachRatio']= BlueHeightReachRatio - RedHeightReachRatio"
   ]
  },
  {
   "cell_type": "code",
   "execution_count": 37,
   "id": "4885419d-d5b6-487a-b06a-b17433b86894",
   "metadata": {},
   "outputs": [],
   "source": [
    "BlueWinsByDecision = ufc_data[['BlueWinsByDecisionMajority', 'BlueWinsByDecisionSplit', 'BlueWinsByDecisionUnanimous']].sum(axis=1)\n",
    "RedWinsByDecision = ufc_data[['RedWinsByDecisionMajority', 'RedWinsByDecisionSplit', 'RedWinsByDecisionUnanimous']].sum(axis=1)\n",
    "ufc_data['WinsByDecision']=BlueWinsByDecision- RedWinsByDecision"
   ]
  },
  {
   "cell_type": "code",
   "execution_count": 38,
   "id": "0d2174e0-01dd-4fbf-a693-b1c2bd3c3709",
   "metadata": {},
   "outputs": [],
   "source": [
    "\n",
    "BlueDecisionRate = BlueWinsByDecision / ufc_data['BlueWins'].replace(0, 1)  # Evitar división por cero\n",
    "RedDecisionRate = RedWinsByDecision  / ufc_data['RedWins'].replace(0, 1)  # Evitar división por cero\n",
    "ufc_data['DecisionRate']= BlueDecisionRate - RedDecisionRate\n",
    "\n"
   ]
  },
  {
   "cell_type": "code",
   "execution_count": 39,
   "id": "00607660-c326-4957-94cb-eca526356cee",
   "metadata": {},
   "outputs": [],
   "source": [
    "ufc_data['Gender_MALE'] = ufc_data['Gender_MALE'].astype(int)  # True → 1, False → 0"
   ]
  },
  {
   "cell_type": "markdown",
   "id": "ab277c48-3f13-45fb-aff6-b9d8bdbc68c0",
   "metadata": {},
   "source": [
    "## Selección de features"
   ]
  },
  {
   "cell_type": "markdown",
   "id": "9599ceb5-11f5-46b4-beab-d0f7f40d4919",
   "metadata": {},
   "source": [
    "Dado lo siguiente:\n",
    "-  LoseStreakDif: BlueCurrentLoseStreak - RedCurrentLoseStreak\n",
    "-  WinStreakDif: BlueCurrentWinStreak - RedCurrentWinStreak\n",
    "-  LongestWinStreakDif: BlueLongestWinStreak - 'RedLongestWinStreak\n",
    "-  WinDif: BlueWins - RedWins\n",
    "-  LossDif: BlueLosses - RedLosses\n",
    "-  TotalRoundDif: BlueTotalRoundsFought - RedTotalRoundsFought\n",
    "-  TotalTitleBoutDif: BlueTotalTitleBouts - RedTotalTitleBouts\n",
    "-  KODif: BlueWinsByKO - RedWinsByKO\n",
    "-  SubDif: BlueWinsBySubmission - RedWinsBySubmission\n",
    "-  HeightDif: BlueHeightCms - RedHeightCms\n",
    "-  ReachDif: BlueReachCms - RedReachCms\n",
    "-  AgeDif: BlueAge - RedAge\n",
    "  \n",
    "Se eliminan ciertas columnas que pueden ser redundantes."
   ]
  },
  {
   "cell_type": "code",
   "execution_count": 40,
   "id": "c1040ba8-a8bf-40cb-9aa3-e73e0d531b22",
   "metadata": {},
   "outputs": [],
   "source": [
    "ufc_data=ufc_data.drop(['BlueCurrentLoseStreak', 'RedCurrentLoseStreak','BlueCurrentWinStreak',\n",
    "                      'RedCurrentWinStreak','BlueLongestWinStreak', 'RedLongestWinStreak', 'BlueWins',\n",
    "                      'RedWins','BlueLosses','RedLosses', 'BlueTotalRoundsFought','RedTotalRoundsFought',\n",
    "                      'BlueTotalTitleBouts', 'RedTotalTitleBouts', 'BlueWinsByKO', 'RedWinsByKO', 'BlueWinsBySubmission',\n",
    "                      'RedWinsBySubmission','BlueHeightCms','RedHeightCms','BlueReachCms','RedReachCms',\n",
    "                      'BlueAge', 'RedAge'], axis=1)"
   ]
  },
  {
   "cell_type": "markdown",
   "id": "c3edfa73-b150-475f-b621-d28a12e94de4",
   "metadata": {},
   "source": [
    "También aquellas relacionadas con los features construidos:\n",
    "- WinsByDecision\n",
    "- DecisionRate\n",
    "- FinishRate\n"
   ]
  },
  {
   "cell_type": "code",
   "execution_count": 41,
   "id": "9e1bb8f4-49e0-4f15-bf55-47d67e3ca6d2",
   "metadata": {},
   "outputs": [],
   "source": [
    "ufc_data=ufc_data.drop(['BlueWinsByDecisionSplit', 'BlueWinsByDecisionUnanimous',\n",
    "       'BlueWinsByTKODoctorStoppage', 'RedWinsByDecisionMajority',\n",
    "       'RedWinsByDecisionSplit', 'RedWinsByDecisionUnanimous',\n",
    "       'RedWinsByTKODoctorStoppage','BlueWinsByDecisionMajority'], axis=1)"
   ]
  },
  {
   "cell_type": "markdown",
   "id": "6521ee34-a077-4f13-87b3-58fc1821f950",
   "metadata": {},
   "source": [
    "### Columnas de baja varianza\n",
    "- BlueDraws\n",
    "- RedDraws\n",
    "- BlueWeightLbs\n",
    "- RedWeightLbs\n",
    "- TitleBout_True "
   ]
  },
  {
   "cell_type": "code",
   "execution_count": 42,
   "id": "c59f4f85-e5b8-4e9b-8422-4881cae28bed",
   "metadata": {},
   "outputs": [],
   "source": [
    "ufc_data=ufc_data.drop(['BlueDraws','RedDraws','BlueWeightLbs','RedWeightLbs','TitleBout_True'], axis=1)"
   ]
  },
  {
   "cell_type": "code",
   "execution_count": 43,
   "id": "7bfe03c2-47d8-4527-b563-bb331d653950",
   "metadata": {},
   "outputs": [
    {
     "data": {
      "text/html": [
       "<div>\n",
       "<style scoped>\n",
       "    .dataframe tbody tr th:only-of-type {\n",
       "        vertical-align: middle;\n",
       "    }\n",
       "\n",
       "    .dataframe tbody tr th {\n",
       "        vertical-align: top;\n",
       "    }\n",
       "\n",
       "    .dataframe thead th {\n",
       "        text-align: right;\n",
       "    }\n",
       "</style>\n",
       "<table border=\"1\" class=\"dataframe\">\n",
       "  <thead>\n",
       "    <tr style=\"text-align: right;\">\n",
       "      <th></th>\n",
       "      <th>NumberOfRounds</th>\n",
       "      <th>LoseStreakDif</th>\n",
       "      <th>WinStreakDif</th>\n",
       "      <th>LongestWinStreakDif</th>\n",
       "      <th>WinDif</th>\n",
       "      <th>LossDif</th>\n",
       "      <th>TotalRoundDif</th>\n",
       "      <th>TotalTitleBoutDif</th>\n",
       "      <th>KODif</th>\n",
       "      <th>SubDif</th>\n",
       "      <th>...</th>\n",
       "      <th>BetterRank_Red</th>\n",
       "      <th>BetterRank_Blue</th>\n",
       "      <th>BetterRank_neither</th>\n",
       "      <th>FinishRate</th>\n",
       "      <th>WinRatio</th>\n",
       "      <th>ExpPerYear</th>\n",
       "      <th>ReachAdvantageRatio</th>\n",
       "      <th>HeightReachRatio</th>\n",
       "      <th>WinsByDecision</th>\n",
       "      <th>DecisionRate</th>\n",
       "    </tr>\n",
       "  </thead>\n",
       "  <tbody>\n",
       "    <tr>\n",
       "      <th>0</th>\n",
       "      <td>5</td>\n",
       "      <td>-1</td>\n",
       "      <td>5</td>\n",
       "      <td>-2</td>\n",
       "      <td>-2</td>\n",
       "      <td>0</td>\n",
       "      <td>-24</td>\n",
       "      <td>-4</td>\n",
       "      <td>4</td>\n",
       "      <td>-2</td>\n",
       "      <td>...</td>\n",
       "      <td>1</td>\n",
       "      <td>0</td>\n",
       "      <td>0</td>\n",
       "      <td>0.283333</td>\n",
       "      <td>-0.035714</td>\n",
       "      <td>-0.477778</td>\n",
       "      <td>0.947368</td>\n",
       "      <td>-0.065058</td>\n",
       "      <td>-4</td>\n",
       "      <td>-0.283333</td>\n",
       "    </tr>\n",
       "    <tr>\n",
       "      <th>1</th>\n",
       "      <td>3</td>\n",
       "      <td>0</td>\n",
       "      <td>0</td>\n",
       "      <td>-2</td>\n",
       "      <td>-12</td>\n",
       "      <td>-9</td>\n",
       "      <td>-54</td>\n",
       "      <td>0</td>\n",
       "      <td>-2</td>\n",
       "      <td>-1</td>\n",
       "      <td>...</td>\n",
       "      <td>0</td>\n",
       "      <td>0</td>\n",
       "      <td>1</td>\n",
       "      <td>0.293233</td>\n",
       "      <td>0.042614</td>\n",
       "      <td>-1.222222</td>\n",
       "      <td>1.000000</td>\n",
       "      <td>0.028571</td>\n",
       "      <td>-9</td>\n",
       "      <td>-0.293233</td>\n",
       "    </tr>\n",
       "    <tr>\n",
       "      <th>2</th>\n",
       "      <td>3</td>\n",
       "      <td>-1</td>\n",
       "      <td>4</td>\n",
       "      <td>0</td>\n",
       "      <td>0</td>\n",
       "      <td>-1</td>\n",
       "      <td>-1</td>\n",
       "      <td>0</td>\n",
       "      <td>1</td>\n",
       "      <td>1</td>\n",
       "      <td>...</td>\n",
       "      <td>1</td>\n",
       "      <td>0</td>\n",
       "      <td>0</td>\n",
       "      <td>0.500000</td>\n",
       "      <td>0.095238</td>\n",
       "      <td>-0.077799</td>\n",
       "      <td>1.046154</td>\n",
       "      <td>0.028733</td>\n",
       "      <td>-2</td>\n",
       "      <td>-0.500000</td>\n",
       "    </tr>\n",
       "    <tr>\n",
       "      <th>3</th>\n",
       "      <td>3</td>\n",
       "      <td>1</td>\n",
       "      <td>0</td>\n",
       "      <td>-1</td>\n",
       "      <td>3</td>\n",
       "      <td>5</td>\n",
       "      <td>21</td>\n",
       "      <td>0</td>\n",
       "      <td>2</td>\n",
       "      <td>-1</td>\n",
       "      <td>...</td>\n",
       "      <td>0</td>\n",
       "      <td>0</td>\n",
       "      <td>1</td>\n",
       "      <td>-0.100000</td>\n",
       "      <td>-0.261905</td>\n",
       "      <td>0.453704</td>\n",
       "      <td>1.013158</td>\n",
       "      <td>0.025803</td>\n",
       "      <td>2</td>\n",
       "      <td>0.100000</td>\n",
       "    </tr>\n",
       "    <tr>\n",
       "      <th>4</th>\n",
       "      <td>3</td>\n",
       "      <td>0</td>\n",
       "      <td>3</td>\n",
       "      <td>-2</td>\n",
       "      <td>-3</td>\n",
       "      <td>-2</td>\n",
       "      <td>-2</td>\n",
       "      <td>0</td>\n",
       "      <td>-5</td>\n",
       "      <td>0</td>\n",
       "      <td>...</td>\n",
       "      <td>0</td>\n",
       "      <td>0</td>\n",
       "      <td>1</td>\n",
       "      <td>-0.607143</td>\n",
       "      <td>0.222222</td>\n",
       "      <td>-0.064516</td>\n",
       "      <td>1.014493</td>\n",
       "      <td>0.013872</td>\n",
       "      <td>2</td>\n",
       "      <td>0.607143</td>\n",
       "    </tr>\n",
       "  </tbody>\n",
       "</table>\n",
       "<p>5 rows × 33 columns</p>\n",
       "</div>"
      ],
      "text/plain": [
       "   NumberOfRounds  LoseStreakDif  WinStreakDif  LongestWinStreakDif  WinDif  \\\n",
       "0               5             -1             5                   -2      -2   \n",
       "1               3              0             0                   -2     -12   \n",
       "2               3             -1             4                    0       0   \n",
       "3               3              1             0                   -1       3   \n",
       "4               3              0             3                   -2      -3   \n",
       "\n",
       "   LossDif  TotalRoundDif  TotalTitleBoutDif  KODif  SubDif  ...  \\\n",
       "0        0            -24                 -4      4      -2  ...   \n",
       "1       -9            -54                  0     -2      -1  ...   \n",
       "2       -1             -1                  0      1       1  ...   \n",
       "3        5             21                  0      2      -1  ...   \n",
       "4       -2             -2                  0     -5       0  ...   \n",
       "\n",
       "   BetterRank_Red  BetterRank_Blue  BetterRank_neither  FinishRate  WinRatio  \\\n",
       "0               1                0                   0    0.283333 -0.035714   \n",
       "1               0                0                   1    0.293233  0.042614   \n",
       "2               1                0                   0    0.500000  0.095238   \n",
       "3               0                0                   1   -0.100000 -0.261905   \n",
       "4               0                0                   1   -0.607143  0.222222   \n",
       "\n",
       "   ExpPerYear  ReachAdvantageRatio  HeightReachRatio  WinsByDecision  \\\n",
       "0   -0.477778             0.947368         -0.065058              -4   \n",
       "1   -1.222222             1.000000          0.028571              -9   \n",
       "2   -0.077799             1.046154          0.028733              -2   \n",
       "3    0.453704             1.013158          0.025803               2   \n",
       "4   -0.064516             1.014493          0.013872               2   \n",
       "\n",
       "   DecisionRate  \n",
       "0     -0.283333  \n",
       "1     -0.293233  \n",
       "2     -0.500000  \n",
       "3      0.100000  \n",
       "4      0.607143  \n",
       "\n",
       "[5 rows x 33 columns]"
      ]
     },
     "metadata": {},
     "output_type": "display_data"
    },
    {
     "data": {
      "text/plain": [
       "Index(['NumberOfRounds', 'LoseStreakDif', 'WinStreakDif',\n",
       "       'LongestWinStreakDif', 'WinDif', 'LossDif', 'TotalRoundDif',\n",
       "       'TotalTitleBoutDif', 'KODif', 'SubDif', 'HeightDif', 'ReachDif',\n",
       "       'AgeDif', 'label', 'Gender_MALE', 'BlueStance_Orthodox',\n",
       "       'BlueStance_Southpaw', 'BlueStance_Switch', 'BlueStance_OpenStance',\n",
       "       'RedStance_Orthodox', 'RedStance_Southpaw', 'RedStance_Switch',\n",
       "       'RedStance_OpenStance', 'BetterRank_Red', 'BetterRank_Blue',\n",
       "       'BetterRank_neither', 'FinishRate', 'WinRatio', 'ExpPerYear',\n",
       "       'ReachAdvantageRatio', 'HeightReachRatio', 'WinsByDecision',\n",
       "       'DecisionRate'],\n",
       "      dtype='object')"
      ]
     },
     "metadata": {},
     "output_type": "display_data"
    },
    {
     "data": {
      "text/plain": [
       "NumberOfRounds             int64\n",
       "LoseStreakDif              int64\n",
       "WinStreakDif               int64\n",
       "LongestWinStreakDif        int64\n",
       "WinDif                     int64\n",
       "LossDif                    int64\n",
       "TotalRoundDif              int64\n",
       "TotalTitleBoutDif          int64\n",
       "KODif                      int64\n",
       "SubDif                     int64\n",
       "HeightDif                float64\n",
       "ReachDif                 float64\n",
       "AgeDif                     int64\n",
       "label                      int64\n",
       "Gender_MALE                int64\n",
       "BlueStance_Orthodox        int64\n",
       "BlueStance_Southpaw        int64\n",
       "BlueStance_Switch          int64\n",
       "BlueStance_OpenStance      int64\n",
       "RedStance_Orthodox         int64\n",
       "RedStance_Southpaw         int64\n",
       "RedStance_Switch           int64\n",
       "RedStance_OpenStance       int64\n",
       "BetterRank_Red             int64\n",
       "BetterRank_Blue            int64\n",
       "BetterRank_neither         int64\n",
       "FinishRate               float64\n",
       "WinRatio                 float64\n",
       "ExpPerYear               float64\n",
       "ReachAdvantageRatio      float64\n",
       "HeightReachRatio         float64\n",
       "WinsByDecision             int64\n",
       "DecisionRate             float64\n",
       "dtype: object"
      ]
     },
     "metadata": {},
     "output_type": "display_data"
    }
   ],
   "source": [
    "# Preview the first few records\n",
    "display(ufc_data.head())\n",
    "display(ufc_data.columns)\n",
    "# Para ver los tipos de dato de cada columna:\n",
    "display(ufc_data.dtypes)"
   ]
  },
  {
   "cell_type": "code",
   "execution_count": 44,
   "id": "ff2b74c6-229b-408b-9ef9-1e5b53430e9e",
   "metadata": {},
   "outputs": [
    {
     "data": {
      "text/html": [
       "<div>\n",
       "<style scoped>\n",
       "    .dataframe tbody tr th:only-of-type {\n",
       "        vertical-align: middle;\n",
       "    }\n",
       "\n",
       "    .dataframe tbody tr th {\n",
       "        vertical-align: top;\n",
       "    }\n",
       "\n",
       "    .dataframe thead th {\n",
       "        text-align: right;\n",
       "    }\n",
       "</style>\n",
       "<table border=\"1\" class=\"dataframe\">\n",
       "  <thead>\n",
       "    <tr style=\"text-align: right;\">\n",
       "      <th></th>\n",
       "      <th>NumberOfRounds</th>\n",
       "      <th>LoseStreakDif</th>\n",
       "      <th>WinStreakDif</th>\n",
       "      <th>LongestWinStreakDif</th>\n",
       "      <th>WinDif</th>\n",
       "      <th>LossDif</th>\n",
       "      <th>TotalRoundDif</th>\n",
       "      <th>TotalTitleBoutDif</th>\n",
       "      <th>KODif</th>\n",
       "      <th>SubDif</th>\n",
       "      <th>...</th>\n",
       "      <th>BetterRank_Red</th>\n",
       "      <th>BetterRank_Blue</th>\n",
       "      <th>BetterRank_neither</th>\n",
       "      <th>FinishRate</th>\n",
       "      <th>WinRatio</th>\n",
       "      <th>ExpPerYear</th>\n",
       "      <th>ReachAdvantageRatio</th>\n",
       "      <th>HeightReachRatio</th>\n",
       "      <th>WinsByDecision</th>\n",
       "      <th>DecisionRate</th>\n",
       "    </tr>\n",
       "  </thead>\n",
       "  <tbody>\n",
       "    <tr>\n",
       "      <th>0</th>\n",
       "      <td>5</td>\n",
       "      <td>-1</td>\n",
       "      <td>5</td>\n",
       "      <td>-2</td>\n",
       "      <td>-2</td>\n",
       "      <td>0</td>\n",
       "      <td>-24</td>\n",
       "      <td>-4</td>\n",
       "      <td>4</td>\n",
       "      <td>-2</td>\n",
       "      <td>...</td>\n",
       "      <td>1</td>\n",
       "      <td>0</td>\n",
       "      <td>0</td>\n",
       "      <td>0.283333</td>\n",
       "      <td>-0.035714</td>\n",
       "      <td>-0.477778</td>\n",
       "      <td>0.947368</td>\n",
       "      <td>-0.065058</td>\n",
       "      <td>-4</td>\n",
       "      <td>-0.283333</td>\n",
       "    </tr>\n",
       "    <tr>\n",
       "      <th>1</th>\n",
       "      <td>3</td>\n",
       "      <td>0</td>\n",
       "      <td>0</td>\n",
       "      <td>-2</td>\n",
       "      <td>-12</td>\n",
       "      <td>-9</td>\n",
       "      <td>-54</td>\n",
       "      <td>0</td>\n",
       "      <td>-2</td>\n",
       "      <td>-1</td>\n",
       "      <td>...</td>\n",
       "      <td>0</td>\n",
       "      <td>0</td>\n",
       "      <td>1</td>\n",
       "      <td>0.293233</td>\n",
       "      <td>0.042614</td>\n",
       "      <td>-1.222222</td>\n",
       "      <td>1.000000</td>\n",
       "      <td>0.028571</td>\n",
       "      <td>-9</td>\n",
       "      <td>-0.293233</td>\n",
       "    </tr>\n",
       "    <tr>\n",
       "      <th>2</th>\n",
       "      <td>3</td>\n",
       "      <td>-1</td>\n",
       "      <td>4</td>\n",
       "      <td>0</td>\n",
       "      <td>0</td>\n",
       "      <td>-1</td>\n",
       "      <td>-1</td>\n",
       "      <td>0</td>\n",
       "      <td>1</td>\n",
       "      <td>1</td>\n",
       "      <td>...</td>\n",
       "      <td>1</td>\n",
       "      <td>0</td>\n",
       "      <td>0</td>\n",
       "      <td>0.500000</td>\n",
       "      <td>0.095238</td>\n",
       "      <td>-0.077799</td>\n",
       "      <td>1.046154</td>\n",
       "      <td>0.028733</td>\n",
       "      <td>-2</td>\n",
       "      <td>-0.500000</td>\n",
       "    </tr>\n",
       "    <tr>\n",
       "      <th>3</th>\n",
       "      <td>3</td>\n",
       "      <td>1</td>\n",
       "      <td>0</td>\n",
       "      <td>-1</td>\n",
       "      <td>3</td>\n",
       "      <td>5</td>\n",
       "      <td>21</td>\n",
       "      <td>0</td>\n",
       "      <td>2</td>\n",
       "      <td>-1</td>\n",
       "      <td>...</td>\n",
       "      <td>0</td>\n",
       "      <td>0</td>\n",
       "      <td>1</td>\n",
       "      <td>-0.100000</td>\n",
       "      <td>-0.261905</td>\n",
       "      <td>0.453704</td>\n",
       "      <td>1.013158</td>\n",
       "      <td>0.025803</td>\n",
       "      <td>2</td>\n",
       "      <td>0.100000</td>\n",
       "    </tr>\n",
       "    <tr>\n",
       "      <th>4</th>\n",
       "      <td>3</td>\n",
       "      <td>0</td>\n",
       "      <td>3</td>\n",
       "      <td>-2</td>\n",
       "      <td>-3</td>\n",
       "      <td>-2</td>\n",
       "      <td>-2</td>\n",
       "      <td>0</td>\n",
       "      <td>-5</td>\n",
       "      <td>0</td>\n",
       "      <td>...</td>\n",
       "      <td>0</td>\n",
       "      <td>0</td>\n",
       "      <td>1</td>\n",
       "      <td>-0.607143</td>\n",
       "      <td>0.222222</td>\n",
       "      <td>-0.064516</td>\n",
       "      <td>1.014493</td>\n",
       "      <td>0.013872</td>\n",
       "      <td>2</td>\n",
       "      <td>0.607143</td>\n",
       "    </tr>\n",
       "  </tbody>\n",
       "</table>\n",
       "<p>5 rows × 33 columns</p>\n",
       "</div>"
      ],
      "text/plain": [
       "   NumberOfRounds  LoseStreakDif  WinStreakDif  LongestWinStreakDif  WinDif  \\\n",
       "0               5             -1             5                   -2      -2   \n",
       "1               3              0             0                   -2     -12   \n",
       "2               3             -1             4                    0       0   \n",
       "3               3              1             0                   -1       3   \n",
       "4               3              0             3                   -2      -3   \n",
       "\n",
       "   LossDif  TotalRoundDif  TotalTitleBoutDif  KODif  SubDif  ...  \\\n",
       "0        0            -24                 -4      4      -2  ...   \n",
       "1       -9            -54                  0     -2      -1  ...   \n",
       "2       -1             -1                  0      1       1  ...   \n",
       "3        5             21                  0      2      -1  ...   \n",
       "4       -2             -2                  0     -5       0  ...   \n",
       "\n",
       "   BetterRank_Red  BetterRank_Blue  BetterRank_neither  FinishRate  WinRatio  \\\n",
       "0               1                0                   0    0.283333 -0.035714   \n",
       "1               0                0                   1    0.293233  0.042614   \n",
       "2               1                0                   0    0.500000  0.095238   \n",
       "3               0                0                   1   -0.100000 -0.261905   \n",
       "4               0                0                   1   -0.607143  0.222222   \n",
       "\n",
       "   ExpPerYear  ReachAdvantageRatio  HeightReachRatio  WinsByDecision  \\\n",
       "0   -0.477778             0.947368         -0.065058              -4   \n",
       "1   -1.222222             1.000000          0.028571              -9   \n",
       "2   -0.077799             1.046154          0.028733              -2   \n",
       "3    0.453704             1.013158          0.025803               2   \n",
       "4   -0.064516             1.014493          0.013872               2   \n",
       "\n",
       "   DecisionRate  \n",
       "0     -0.283333  \n",
       "1     -0.293233  \n",
       "2     -0.500000  \n",
       "3      0.100000  \n",
       "4      0.607143  \n",
       "\n",
       "[5 rows x 33 columns]"
      ]
     },
     "metadata": {},
     "output_type": "display_data"
    }
   ],
   "source": [
    "display(ufc_data.head())"
   ]
  },
  {
   "cell_type": "markdown",
   "id": "8f7edeb9-244d-4f34-b187-10d379721c46",
   "metadata": {},
   "source": [
    "## 6. Save"
   ]
  },
  {
   "cell_type": "code",
   "execution_count": 48,
   "id": "9819c9a9-6a9b-4351-b4b4-9983add08cf8",
   "metadata": {},
   "outputs": [
    {
     "name": "stdout",
     "output_type": "stream",
     "text": [
      "\n",
      "Feature Engineering file saved as 'ufc_processed.csv'.\n"
     ]
    }
   ],
   "source": [
    "# Save the cleaned file\n",
    "ufc_data.to_csv(f'{project_root}/data/processed/ufc_processed.csv', index=False)\n",
    "print(\"\\nFeature Engineering file saved as 'ufc_processed.csv'.\")"
   ]
  },
  {
   "cell_type": "code",
   "execution_count": null,
   "id": "c013d867-07df-4895-9617-180e155b0665",
   "metadata": {},
   "outputs": [],
   "source": []
  }
 ],
 "metadata": {
  "kernelspec": {
   "display_name": "Python 3 (ipykernel)",
   "language": "python",
   "name": "python3"
  },
  "language_info": {
   "codemirror_mode": {
    "name": "ipython",
    "version": 3
   },
   "file_extension": ".py",
   "mimetype": "text/x-python",
   "name": "python",
   "nbconvert_exporter": "python",
   "pygments_lexer": "ipython3",
   "version": "3.13.2"
  }
 },
 "nbformat": 4,
 "nbformat_minor": 5
}
